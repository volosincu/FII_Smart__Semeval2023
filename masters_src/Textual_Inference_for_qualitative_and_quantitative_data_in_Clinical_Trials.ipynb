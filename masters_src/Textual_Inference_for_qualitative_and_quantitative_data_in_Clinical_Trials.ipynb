{
  "cells": [
    {
      "cell_type": "markdown",
      "metadata": {
        "id": "GvkD3ffs3-PW"
      },
      "source": [
        "## FII_SMART Multi-evidence Natural Language Inference for Clinical Trial Data\n"
      ]
    },
    {
      "cell_type": "code",
      "execution_count": null,
      "metadata": {
        "colab": {
          "base_uri": "https://localhost:8080/"
        },
        "id": "hg7GZI26hqWN",
        "outputId": "1bad40cf-3826-419a-91a3-989fcac66737"
      },
      "outputs": [
        {
          "output_type": "stream",
          "name": "stdout",
          "text": [
            "Your runtime has 54.8 gigabytes of available RAM\n",
            "\n",
            "You are using a high-RAM runtime!\n"
          ]
        }
      ],
      "source": [
        "from psutil import virtual_memory\n",
        "ram_gb = virtual_memory().total / 1e9\n",
        "print('Your runtime has {:.1f} gigabytes of available RAM\\n'.format(ram_gb))\n",
        "\n",
        "if ram_gb < 20:\n",
        "  print('Not using a high-RAM runtime')\n",
        "else:\n",
        "  print('You are using a high-RAM runtime!')"
      ]
    },
    {
      "cell_type": "code",
      "execution_count": null,
      "metadata": {
        "colab": {
          "base_uri": "https://localhost:8080/"
        },
        "id": "jeql8aTspVrN",
        "outputId": "999fb8cc-f669-480f-d307-093d1734cc0b"
      },
      "outputs": [
        {
          "output_type": "stream",
          "name": "stdout",
          "text": [
            "Thu Jun 15 18:12:11 2023       \n",
            "+-----------------------------------------------------------------------------+\n",
            "| NVIDIA-SMI 525.85.12    Driver Version: 525.85.12    CUDA Version: 12.0     |\n",
            "|-------------------------------+----------------------+----------------------+\n",
            "| GPU  Name        Persistence-M| Bus-Id        Disp.A | Volatile Uncorr. ECC |\n",
            "| Fan  Temp  Perf  Pwr:Usage/Cap|         Memory-Usage | GPU-Util  Compute M. |\n",
            "|                               |                      |               MIG M. |\n",
            "|===============================+======================+======================|\n",
            "|   0  Tesla V100-SXM2...  Off  | 00000000:00:04.0 Off |                    0 |\n",
            "| N/A   33C    P0    24W / 300W |      0MiB / 16384MiB |      0%      Default |\n",
            "|                               |                      |                  N/A |\n",
            "+-------------------------------+----------------------+----------------------+\n",
            "                                                                               \n",
            "+-----------------------------------------------------------------------------+\n",
            "| Processes:                                                                  |\n",
            "|  GPU   GI   CI        PID   Type   Process name                  GPU Memory |\n",
            "|        ID   ID                                                   Usage      |\n",
            "|=============================================================================|\n",
            "|  No running processes found                                                 |\n",
            "+-----------------------------------------------------------------------------+\n"
          ]
        }
      ],
      "source": [
        "gpu_info = !nvidia-smi\n",
        "gpu_info = '\\n'.join(gpu_info)\n",
        "if gpu_info.find('failed') >= 0:\n",
        "  print('Not connected to a GPU')\n",
        "else:\n",
        "  print(gpu_info)"
      ]
    },
    {
      "cell_type": "code",
      "execution_count": null,
      "metadata": {
        "id": "tGM45GtI4AGM"
      },
      "outputs": [],
      "source": [
        "import sys\n",
        "import os\n",
        "\n",
        "DEBUG1=False\n",
        "DEBUG2=False\n",
        "\n",
        "PREFIXG=\"/content/\"\n",
        "PREFIX=\"/content/\"\n",
        "\n",
        "TRAIN_DATA=PREFIXG+\"train.csv\"\n",
        "TEST_DATA=PREFIXG+\"dev.csv\"\n",
        "#TEST_DATA2=PREFIXG+\"test.csv\""
      ]
    },
    {
      "cell_type": "code",
      "execution_count": null,
      "metadata": {
        "colab": {
          "base_uri": "https://localhost:8080/"
        },
        "id": "CJY7jkIisZ-P",
        "outputId": "0fb539ed-22a5-40ff-ef52-9cc680a6532e"
      },
      "outputs": [
        {
          "output_type": "stream",
          "name": "stdout",
          "text": [
            "GET saved state\n",
            "--2023-06-15 18:12:11--  https://github.com/volosincu/FII_Smart__Semeval2023/raw/main/masters_src/state_before_encoded-200_n4.zip\n",
            "Resolving github.com (github.com)... 140.82.121.4\n",
            "Connecting to github.com (github.com)|140.82.121.4|:443... connected.\n",
            "HTTP request sent, awaiting response... 302 Found\n",
            "Location: https://raw.githubusercontent.com/volosincu/FII_Smart__Semeval2023/main/masters_src/state_before_encoded-200_n4.zip [following]\n",
            "--2023-06-15 18:12:12--  https://raw.githubusercontent.com/volosincu/FII_Smart__Semeval2023/main/masters_src/state_before_encoded-200_n4.zip\n",
            "Resolving raw.githubusercontent.com (raw.githubusercontent.com)... 185.199.108.133, 185.199.109.133, 185.199.110.133, ...\n",
            "Connecting to raw.githubusercontent.com (raw.githubusercontent.com)|185.199.108.133|:443... connected.\n",
            "HTTP request sent, awaiting response... 200 OK\n",
            "Length: 2495304 (2.4M) [application/zip]\n",
            "Saving to: ‘state_before_encoded-200_n4.zip’\n",
            "\n",
            "state_before_encode 100%[===================>]   2.38M  --.-KB/s    in 0.03s   \n",
            "\n",
            "2023-06-15 18:12:12 (77.7 MB/s) - ‘state_before_encoded-200_n4.zip’ saved [2495304/2495304]\n",
            "\n",
            "--2023-06-15 18:12:13--  https://github.com/volosincu/FII_Smart__Semeval2023/raw/main/masters_src/state_before_extra.zip\n",
            "Resolving github.com (github.com)... 140.82.121.4\n",
            "Connecting to github.com (github.com)|140.82.121.4|:443... connected.\n",
            "HTTP request sent, awaiting response... 302 Found\n",
            "Location: https://raw.githubusercontent.com/volosincu/FII_Smart__Semeval2023/main/masters_src/state_before_extra.zip [following]\n",
            "--2023-06-15 18:12:13--  https://raw.githubusercontent.com/volosincu/FII_Smart__Semeval2023/main/masters_src/state_before_extra.zip\n",
            "Resolving raw.githubusercontent.com (raw.githubusercontent.com)... 185.199.108.133, 185.199.109.133, 185.199.110.133, ...\n",
            "Connecting to raw.githubusercontent.com (raw.githubusercontent.com)|185.199.108.133|:443... connected.\n",
            "HTTP request sent, awaiting response... 200 OK\n",
            "Length: 4958038 (4.7M) [application/zip]\n",
            "Saving to: ‘state_before_extra.zip’\n",
            "\n",
            "state_before_extra. 100%[===================>]   4.73M  --.-KB/s    in 0.04s   \n",
            "\n",
            "2023-06-15 18:12:14 (121 MB/s) - ‘state_before_extra.zip’ saved [4958038/4958038]\n",
            "\n",
            "Archive:  /content/state_before_encoded-200_n4.zip\n",
            "  inflating: evidences.json          \n",
            "  inflating: labels.json             \n",
            "  inflating: NLI4CT_numerical_instances_dataset.json  \n",
            "  inflating: NLI4CT_numerical_instances_dev.json  \n",
            "  inflating: pairs_NLI4CT_numerical_instances_dataset.json  \n",
            "  inflating: pairs_NLI4CT_numerical_instances_dev.json  \n",
            "  inflating: statements.json         \n",
            "Archive:  /content/state_before_extra.zip\n",
            "  inflating: corpora_NLI4CT_numerical_instances_dataset.json  \n",
            "  inflating: evidences_q.json        \n",
            "  inflating: labels_q.json           \n",
            "  inflating: statements_q.json       \n"
          ]
        },
        {
          "output_type": "execute_result",
          "data": {
            "text/plain": [
              "True"
            ]
          },
          "metadata": {},
          "execution_count": 4
        }
      ],
      "source": [
        "# use state to reduce waiting time in trainig\n",
        "WITH_STATE_SAVED = False\n",
        "def checkif_state(path):\n",
        "    \"\"\"Test whether a path exists.\"\"\"\n",
        "    try:\n",
        "        st = os.stat(path)\n",
        "    except os.error:\n",
        "        return False\n",
        "    return True\n",
        "WITH_STATE_SAVED = False\n",
        "if not checkif_state('/content/state_before_encoded-200_n4.zip'):\n",
        "  print('GET saved state')\n",
        "  !wget https://github.com/volosincu/FII_Smart__Semeval2023/raw/main/masters_src/state_before_encoded-200_n4.zip\n",
        "  !wget https://github.com/volosincu/FII_Smart__Semeval2023/raw/main/masters_src/state_before_extra.zip\n",
        "\n",
        "if checkif_state('/content/state_before_encoded-200_n4.zip'):\n",
        "  !unzip -oj /content/state_before_encoded-200_n4.zip\n",
        "  !unzip -oj /content/state_before_extra.zip\n",
        "  WITH_STATE_SAVED = True\n",
        "\n",
        "\n",
        "\n",
        "WITH_STATE_SAVED"
      ]
    },
    {
      "cell_type": "markdown",
      "metadata": {
        "id": "jsUgNFza-k1s"
      },
      "source": [
        "Clean files for new run"
      ]
    },
    {
      "cell_type": "code",
      "execution_count": null,
      "metadata": {
        "id": "azNO3tL0656f",
        "colab": {
          "base_uri": "https://localhost:8080/"
        },
        "outputId": "ce8f2941-7505-4c7d-a470-e21fbac8f8e9"
      },
      "outputs": [
        {
          "output_type": "stream",
          "name": "stdout",
          "text": [
            "corpora_NLI4CT_numerical_instances_dataset.json\n",
            "evidences.json\n",
            "evidences_q.json\n",
            "labels.json\n",
            "labels_q.json\n",
            "NLI4CT_numerical_instances_dataset.json\n",
            "NLI4CT_numerical_instances_dev.json\n",
            "pairs_NLI4CT_numerical_instances_dataset.json\n",
            "pairs_NLI4CT_numerical_instances_dev.json\n",
            "sample_data\n",
            "state_before_encoded-200_n4.zip\n",
            "state_before_extra.zip\n",
            "statements.json\n",
            "statements_q.json\n",
            "rm: cannot remove 'test.*': No such file or directory\n",
            "rm: cannot remove 'train.*': No such file or directory\n",
            "rm: cannot remove 'dev.*': No such file or directory\n",
            "rm: cannot remove 'subm*.*': No such file or directory\n",
            "rm: cannot remove 'test-*.*': No such file or directory\n",
            "rm: cannot remove 'results-*.*': No such file or directory\n",
            "rm: cannot remove 'CT_data.zip': No such file or directory\n",
            "rm: cannot remove 'dataset.zip': No such file or directory\n"
          ]
        }
      ],
      "source": [
        "from google.colab import files\n",
        "\n",
        "if not checkif_state('/content/CT_data/NCT00001832.json'):\n",
        "  !ls\n",
        "  !rm test.*\n",
        "  !rm train.*\n",
        "  !rm dev.*\n",
        "  !rm subm*.*\n",
        "  !rm test-*.*\n",
        "  !rm results-*.*\n",
        "  !rm -rf CT_data\n",
        "  !rm CT_data.zip\n",
        "  !rm dataset.zip"
      ]
    },
    {
      "cell_type": "markdown",
      "metadata": {
        "id": "M03kb3b9OqGm"
      },
      "source": [
        "1. NLI4CT dataset - Multi-evidence Natural Language Inference for Clinical Trial Data (NLI4CT) at Semeval 2023\n",
        "\n",
        " - https://github.com/ai-systems/nli4ct\n",
        " - https://sites.google.com/view/nli4ct/home\n",
        " - https://codalab.lisn.upsaclay.fr/competitions/8937\n",
        "\n",
        "\n",
        "2. Paper\n",
        "  - https://arxiv.org/abs/2305.02993\n",
        "\n",
        "\n",
        "3. Other Natural Language Inference Datasets\n",
        "\n",
        " - https://en.wikipedia.org/wiki/Textual_entailment\n"
      ]
    },
    {
      "cell_type": "code",
      "execution_count": null,
      "metadata": {
        "colab": {
          "base_uri": "https://localhost:8080/"
        },
        "id": "U0whZ5i_5sPF",
        "outputId": "fe4c300d-9d45-4597-de3d-dfa9473dd67b"
      },
      "outputs": [
        {
          "output_type": "stream",
          "name": "stdout",
          "text": [
            "--2023-06-15 18:12:28--  https://github.com/volosincu/FII_Smart__Semeval2023/raw/main/dataset.zip\n",
            "Resolving github.com (github.com)... 140.82.121.4\n",
            "Connecting to github.com (github.com)|140.82.121.4|:443... connected.\n",
            "HTTP request sent, awaiting response... 302 Found\n",
            "Location: https://raw.githubusercontent.com/volosincu/FII_Smart__Semeval2023/main/dataset.zip [following]\n",
            "--2023-06-15 18:12:29--  https://raw.githubusercontent.com/volosincu/FII_Smart__Semeval2023/main/dataset.zip\n",
            "Resolving raw.githubusercontent.com (raw.githubusercontent.com)... 185.199.108.133, 185.199.109.133, 185.199.110.133, ...\n",
            "Connecting to raw.githubusercontent.com (raw.githubusercontent.com)|185.199.108.133|:443... connected.\n",
            "HTTP request sent, awaiting response... 200 OK\n",
            "Length: 2479891 (2.4M) [application/zip]\n",
            "Saving to: ‘dataset.zip’\n",
            "\n",
            "dataset.zip         100%[===================>]   2.36M  --.-KB/s    in 0.02s   \n",
            "\n",
            "2023-06-15 18:12:29 (104 MB/s) - ‘dataset.zip’ saved [2479891/2479891]\n",
            "\n",
            "Archive:  /content/dataset.zip\n",
            "  inflating: dev.csv                 \n",
            "  inflating: test.csv                \n",
            "  inflating: test.json               \n",
            "  inflating: train.csv               \n",
            "  inflating: train.json              \n",
            "  inflating: dev.json                \n",
            "  inflating: CT_data.zip             \n"
          ]
        }
      ],
      "source": [
        "if not checkif_state('/content/CT_data/NCT00001832.json'):\n",
        "  !pip install transformers > /dev/null 2>&1\n",
        "  !wget https://github.com/volosincu/FII_Smart__Semeval2023/raw/main/dataset.zip\n",
        "  !unzip /content/dataset.zip\n",
        "  !unzip /content/CT_data.zip  > /dev/null 2>&1\n",
        "else:\n",
        "  print(\"Data exists, skip fetch and unzip dataset\")"
      ]
    },
    {
      "cell_type": "code",
      "execution_count": null,
      "metadata": {
        "id": "lm_BUE7xJO8l"
      },
      "outputs": [],
      "source": [
        "# import nltk\n",
        "# from nltk.corpus import stopwords\n",
        "# nltk.download('stopwords')\n",
        "# print(stopwords.words('english'))\n",
        "\n",
        "STOP_WORDS_RO = [ ]"
      ]
    },
    {
      "cell_type": "code",
      "execution_count": null,
      "metadata": {
        "id": "JpP6H_jN5ZRs"
      },
      "outputs": [],
      "source": [
        "VECTOR_MAX=170\n",
        "NVM = (VECTOR_MAX * 2)\n",
        "N_CTX = 3\n",
        "STMSZ = 40\n",
        "\n",
        "TTEST_COL = False\n",
        "\n",
        "EPOCHS = 2\n",
        "LAYER_1_NODES=256\n",
        "LAYER_2_NODES=2\n",
        "LAYER_1_ACTIVATION='relu'\n",
        "LAYER_2_ACTIVATION='softmax'\n",
        "LOSS_FN='sparse_categorical_crossentropy'\n",
        "#LOSS_FN='binary_crossentropy'\n",
        "METRIC='accuracy'\n",
        "FIT_BATCH_SIZE=16"
      ]
    },
    {
      "cell_type": "code",
      "execution_count": null,
      "metadata": {
        "id": "tJz5Cxt_9VB7",
        "colab": {
          "base_uri": "https://localhost:8080/",
          "height": 113,
          "referenced_widgets": [
            "c1db520e2f0349639ac80f8caf0df698",
            "b7ed0e5715334a84add724185c872c17",
            "6101d6ecd4e94a6dbe72084b5ed8acfc",
            "157727e9aff94a9888fdcafd06dedf10",
            "5459aa25ee994b1aa51f8a2d13037e16",
            "f02c2e2d98e449cba9150683f0bf3d1a",
            "d3cde9d7240f425a9d3d13ef2b34c813",
            "cf54c9fadb094859811d2aecdbb876b1",
            "e72b7d7b1c2b414b8b523f96b16875b5",
            "79280defc7e54d0e85447fab34bf989f",
            "e1c085901a6c4f088635d666d00155f3",
            "2a8a771cc41e4a8894925025b5f6a1ce",
            "00d218e5899b4463ab432b156ec2733f",
            "6386841ecafb4125bca42358acb505f7",
            "144bb61f12764d5f8b583430f575fc19",
            "2ff92951e3d2471d814e566787f85c33",
            "5708a1dc23494737b74c8da713acc3de",
            "0eb02648aa7b40cc9de00147c1fc412b",
            "c38fc95f9a6c41369afa69c31adef78d",
            "5b962684ce69441c98d822685dfaccc8",
            "6cf8f08cbf914c52a076162be986a880",
            "7b2a0afabe444bb79b5606d8cb658b22",
            "245a3b2544774902a62eff3feed8ade1",
            "beb809d1ecdd4153a22200738c4d3f6d",
            "86ce2bea137e41c5b47239825616df9b",
            "80e2c5396e2041d3beb3e9d99a923499",
            "eab3a992e02b486eaef3202b23234042",
            "252596cd482143209cae906db3a3ad26",
            "0e16fbec36ec471b9a47df691a59e114",
            "6e32136dcb5444d788788725eb20ba33",
            "427669a934dc47779bcb340d94a33e24",
            "851ce779e12941099f790b191a0e68d2",
            "360b08c3a8ac49ef98f45c51f7747e4d"
          ]
        },
        "outputId": "f73f0540-fe9b-4c7c-dedf-5859afca8962"
      },
      "outputs": [
        {
          "output_type": "display_data",
          "data": {
            "text/plain": [
              "Downloading (…)solve/main/vocab.txt:   0%|          | 0.00/213k [00:00<?, ?B/s]"
            ],
            "application/vnd.jupyter.widget-view+json": {
              "version_major": 2,
              "version_minor": 0,
              "model_id": "c1db520e2f0349639ac80f8caf0df698"
            }
          },
          "metadata": {}
        },
        {
          "output_type": "display_data",
          "data": {
            "text/plain": [
              "Downloading (…)cial_tokens_map.json:   0%|          | 0.00/112 [00:00<?, ?B/s]"
            ],
            "application/vnd.jupyter.widget-view+json": {
              "version_major": 2,
              "version_minor": 0,
              "model_id": "2a8a771cc41e4a8894925025b5f6a1ce"
            }
          },
          "metadata": {}
        },
        {
          "output_type": "display_data",
          "data": {
            "text/plain": [
              "Downloading (…)lve/main/config.json:   0%|          | 0.00/462 [00:00<?, ?B/s]"
            ],
            "application/vnd.jupyter.widget-view+json": {
              "version_major": 2,
              "version_minor": 0,
              "model_id": "245a3b2544774902a62eff3feed8ade1"
            }
          },
          "metadata": {}
        }
      ],
      "source": [
        "from transformers import BertTokenizer, BertModel, BertForMaskedLM\n",
        "# from transformers import RobertaTokenizer, TFRobertaModel\n",
        "model_name = 'giacomomiolo/biobert_reupload'\n",
        "# model_name = 'emilyalsentzer/Bio_ClinicalBERT'\n",
        "# model_name = 'giacomomiolo/scibert_reupload'\n",
        "# model_name = 'bert-base-multilingual-cased'\n",
        "# model_name = \"roberta-large\"\n",
        "\n",
        "# tokenizer = AutoTokenizer.from_pretrained(model_name)\n",
        "tokenizer = BertTokenizer.from_pretrained(model_name)\n",
        "# tokenizer = RobertaTokenizer.from_pretrained(model_name)"
      ]
    },
    {
      "cell_type": "markdown",
      "metadata": {
        "id": "zAjXPnpImrUV"
      },
      "source": [
        "Tests for numerical regex"
      ]
    },
    {
      "cell_type": "code",
      "execution_count": null,
      "metadata": {
        "colab": {
          "base_uri": "https://localhost:8080/",
          "height": 53
        },
        "id": "-rAgjOWUHXAP",
        "outputId": "d646386d-5de2-4372-f833-ee6cf70c998a"
      },
      "outputs": [
        {
          "output_type": "stream",
          "name": "stdout",
          "text": [
            "'䔀'\n"
          ]
        },
        {
          "output_type": "execute_result",
          "data": {
            "text/plain": [
              "'Patients with Platelet count over 100,000/mm¬ ̈‚â•, ANC '"
            ],
            "application/vnd.google.colaboratory.intrinsic+json": {
              "type": "string"
            }
          },
          "metadata": {},
          "execution_count": 10
        }
      ],
      "source": [
        "with open('test', encoding='utf-8', mode='w+') as f:\n",
        "    f.write('\\u4500 blah blah blah\\n')\n",
        "    f.seek(0)\n",
        "    print(repr(f.readline()[:1]))\n",
        "\n",
        "import unicodedata\n",
        "raw_text = \"Patients with Platelet count over 100,000/mm\\u00ac\\u00a8\\u201a\\u00e2\\u2022, ANC \"\n",
        "convert_text = unicodedata.normalize('NFKD', raw_text)\n",
        "convert_text"
      ]
    },
    {
      "cell_type": "code",
      "execution_count": null,
      "metadata": {
        "id": "Tho0k-ChLjG0"
      },
      "outputs": [],
      "source": [
        "n7sample =  [\"Inclusion Criteria: The following criteria are to be checked at the time of study entry  The patients may only be included in the study if ALL of the following statements are FULLFILLED: The patient (male or female) is at least 18 years old at the time of signature of the informed consent form  Written informed consent has been obtained from the patient prior to the performance of any protocol-specific procedure  The patient is diagnosed with confirmed invasive breast cancer with stage IV disease  Note: If the metastatic disease is restricted to a solitary lesion  its neoplastic nature should be confirmed by cytology or histology  The patient has documented disease progression or relapse following at least one prior standard therapy with trastuzumab (alone or in combination with chemotherapy)  Patients with prior lapatinib use are eligible  Furthermore  The administration of the chemotherapeutic agent(s) should have been stopped for at least 28 days by the time of the first ASCI administration  The administration of trastuzumab alone could be maintained after chemotherapy  but the last dose of trastuzumab should not have been given less than three weeks before the first ASCI administration  The patient will not be given trastuzumab during the trial  For metastatic patients whose disease is ER+ and/or PR+ the following criteria should be met: Patients with visceral disease that requires chemotherapy (eg.  patients with liver or lung metastases)  Rapidly progressing or life threatening disease  as determined by the investigator  Patients who received hormonal therapy and are no longer benefiting from this therapy  A tumor lesion from the patient biopsied before or during screening shows either: \",\n",
        "            \"Overexpression of the HER2 protein  as determined by immunohistochemistry (IHC  with result IHC 3+) orAmplification of the HER2 gene as determined by FISH (at least 4 fold i.e  at least 8 copies)  Note: Overexpression/amplification measurements must be performed on a metastatic lesion in all cases where such a lesion is sufficiently easily accessible  If however such a biopsy is not possible  then these measurements can be performed on the primary tumor  Use of the primary tumor is to be documented and justified  Ten FFPE tissue sections of the tumor on which the HER2 overexpression/amplification has been done -if available-may be requested  These may be used to retrospectively carry out part of the translational research (i.e  analysis of EGF receptor activity and of the presence of immune effector cells  refer to Section 7). The patient has at least one measurable lesion according to RECIST criteria  The patient has ECOG status of 0 or 1. The patient has adequate bone marrow reserve as indicated by: White blood cell count greater than /= 3,000/mm3. Neutrophil count greater than /= 1,500/mm3. Platelet count greater than /= 100,000/mm3. Hemoglobin levels greater than /= 10.0 g/dl  The patient has adequate renal function as shown by the creatinine levels (i.e  within the normal range)  The patient has adequate hepatic function as shown by serum bilirubin levels i.e: Serum bilirubin levels within the normal limits  \",\n",
        "            \"Both AST and ALT levels smaller than 1.5 times the ULN  Note: However  for patients with liver metastasis  a serum bilirubin level smaller than 1.5 times the ULN and both AST and ALT levels smaller than 3 times the ULN will be accepted The patient has a baseline Left Ventricular Ejection Fraction (LVEF) measured by MUGA scan equal to or greater than the LLN for the radiology facility  If the patient is female  she must be of non-childbearing potential  i.e  have a current tubal ligation  hysterectomy  ovariectomy or be post-menopausal  or if she is of childbearing potential  she must practice adequate contraception for 30 days prior to treatment  have a negative pregnancy test and continue such precautions for two months after completion of the study treatment  Adequate contraception is defined as a contraceptive method with failure rate of less than 1% per year when used consistently and correctly (when applicable  as mentioned in the product label) for example abstinence  combined or progestogen oral contraceptives  injectable progestogen  implants of levonorgestrel  oestrogenic vaginal ring  percutaneous contraceptive patches or intrauterine device (IUD) or intrauterine system (IUS)  vasectomy with documented azoospermia of the sole male partner or double barrier method (condom or occlusive cap plus spermicidal agent)  \",\n",
        "            \"For azoospermia  \\\"documented\\\" refers to the outcome of the investigator's/ designee's medical examination of the subject or review of the subject's medical history for study eligibility  as obtained via a verbal interview with the subject or from the subject's medical records Post-menopause: Menopause is the age associated with complete cessation of menstrual cycles  menses  and implies the loss of reproductive potential by ovarian failure  A practical definition accepts menopause after 1 year without menses with an appropriate clinical profile at the appropriate age e.g  greater than 45 years  Able to swallow and retain oral medication  In the view of the investigator  the patient can and will comply with the requirements of the protocol  Exclusion Criteria: The following criteria should be checked at the time of study entry  If any apply  the patient must not be included in the study: The patient has received greater than 300 mg/m2 doxorubicin (cumulative dose) or greater than 600 mg/m2 epirubicin (cumulative dose)  The patient is receiving treatment with bisphosphonate UNLESS the biphosphonate treatment was initiated more than three weeks before the first ASCI administration  (See also section 5.3.2.). The patient has received any investigational or non-registered product (drug or vaccine) other than the study treatment(s) within 30 days preceding the first dose of study treatment  or planned use during the study period  The patient is currently receiving amiodarone or has received amiodarone in the 6 months prior to screening  \",\n",
        "            \"The patient requires concomitant treatment with systemic corticosteroids or any immunosuppressive agents  The use of prednisone  or equivalent  smaller than 0.5 mg/kg/day (absolute maximum 40 mg/day)  or inhaled corticosteroids or topical steroids is permitted The patient has a malabsorption syndrome  disease significantly affecting gastrointestinal function  or resection of the stomach or small bowel  Patients with ulcerative colitis  The patient has known coronary artery disease  arrhythmia requiring treatment  clinically significant valvular disease  cardiomegaly on chest X-ray  ventricular hypertrophy (found by ECG) or previous myocardial infarction  The patient has any acute or chronic  clinically significant pulmonary  cardiovascular  hepatic or renal functional abnormality  as determined by physical examination or laboratory screening tests  The patient has current active hepatic or biliary's disease (with exception of patients with Gilbert's syndrome  asymptomatic gallstones  liver metastases or stable chronic liver disease per investigator assessment)  The patient presents with autoimmune disease (vitiligo and autoimmune thyroid disease is not an exclusion criterion)  The patient has a known family history of congenital or hereditary immunodeficiency  The patient has any uncontrolled bleeding disorder or coagulation disorder or thrombocytopenia or pro-thrombotic disorder  The patient has a history of anaphylaxis or severe allergic reaction to vaccines or unknown allergens  \",\n",
        "            \"The patient has a known immediate or delayed hypersensitivity reaction or idiosyncrasy to drugs chemically related to Lapatinib  These include other anilinoquinazolines  such as gefitinib (Iressa)  erlotinib (Tarceva)  or other chemically related compounds or excipients The patient is known to be positive for the Human Immunodeficiency Virus (HIV)  The patient has (or has had) previous or concomitant malignancies at other sites except effectively treated: Non-melanoma skin cancers or carcinoma in situ of the cervix Malignancy that has been in remission for greater than 2 years and is considered highly likely to have been cured  The patient has any psychiatric or addictive disorder that may compromise her ability to give informed consent  or to comply with the trial procedures  The patient has any other condition that in the opinion of the investigator might jeopardize the patient's safety or ability to comply with the requirements of the study  The patient is pregnant or lactating  \"]\n",
        "\n",
        "n6sample = \"Inclusion Criteria: Subjects who were confirmed to have a response after receiving at least two courses of weekly paclitaxel therapy and considered to need to continue the therapy by the investigator/subinvestigator among the patients with advanced or recurrent breast cancer who had met the selection criteria and participated in the preceding phase II clinical study Inclusion Criteria: The patient must consent to be in the study and must have signed an approved consent form conforming to institutional guidelines The patient must be 18 years or older  Core biopsy should definitively demonstrate invasive carcinoma  Invasive carcinoma should be ER-apha receptor positive The tumor should be approximately at least 1 cm  to account for variability in imaging and imaging occult disease (physical exam  mammography  ultrasound)  We recognize that from time to time because of this variation  there might not be enough tissue available for analysis after surgical excision but this will allow the greatest opportunity to capture as many eligible patients as possible  Patients in whom surgical excision of the tumor is part of standard of care management ECOG score of 0 or 1 Negative serum or urine beta-hCG pregnancy test at screening for patients of child-bearing potential (this is routinely done if the patient is premenopausal and having surgery) Consent to participate in DBBR (RPCI only) Exclusion Criteria: Male patients are not eligible for this study Female patients with inoperable tumors or women with stage 4 disease diagnosed on CT  PET  PET/CT or bone scan  Patients with diagnosis by FNA cytology only Pregnant or lactating women Prior therapy for breast cancer  including irradiation  chemo- immuno- and/or hormonal therapy Patients receiving any hormonal therapy  e.g  ovarian hormonal replacement therapy  infertility medications etc.  are not eligible \"\n",
        "\n",
        "n5sample = 'flaxseed or soy products or black cohosh  Patients with a known mutation in p53 (Li Fraumeni Syndrome) '\n",
        "\n",
        "n4sample =  \"Inclusion Criteria: Clinical stage I or II (T1 or T2, N0 or N1) invasive mammary carcinoma Exclusion Criteria: Fixed axillary lymph node metastases (N2) \"\n",
        "\n",
        "n3sample = \"II-IV\""
      ]
    },
    {
      "cell_type": "code",
      "execution_count": null,
      "metadata": {
        "colab": {
          "base_uri": "https://localhost:8080/"
        },
        "id": "_CkS5c2xn8FN",
        "outputId": "7645ab08-1957-4dc4-d5de-1420a5702e60"
      },
      "outputs": [
        {
          "output_type": "stream",
          "name": "stdout",
          "text": [
            "['7/9 (77.78%)', '1/9 (11.11%)', '8/29 (27.59%)', 'Breast Abscess 1/', '1/29 (3.45%)', 'Adverse Events 1:']\n",
            "['4/9 (44.44%)', '1/9 (11.11%)Pneumonia1/9', 'all']\n"
          ]
        }
      ],
      "source": [
        "import re\n",
        "\n",
        "def uninorm(w):\n",
        "  return unicodedata.normalize('NFKD', w)\n",
        "\n",
        "def remove_partitions(numInstances, skip=False):\n",
        "  if skip:\n",
        "    return numInstances\n",
        "  b1 = []\n",
        "  for w in numInstances:\n",
        "    a0 = numInstances[0:]\n",
        "    a0.remove(w)\n",
        "    contained = False\n",
        "    for x in a0:\n",
        "      if w.strip() in x.strip():\n",
        "        contained = True\n",
        "    if not contained:\n",
        "      b1.append(w.strip())\n",
        "  return b1\n",
        "\n",
        "def getCohorts(sentence):\n",
        "  sa02 = re.findall(r'Adverse[\\s]{0,3}Events[\\s1]+\\:.+Adverse[\\s]{0,3}Events[\\s2]+\\:', sentence, re.UNICODE)\n",
        "  sa03 = re.findall(r'Adverse[\\s]{0,3}Events[\\s2]+\\:.+(?:Adverse[\\s]{0,3}Events[\\s3]+\\:)', sentence, re.UNICODE)\n",
        "  return sa02 + sa03\n",
        "\n",
        "def containsNumericalInstances(sentence, skip=False):\n",
        "  # '2,0 mg/dl', '9,7 mg'\n",
        "  s00 = re.findall(r'[0-9]+,[0-9]+\\s{1}[a-zA-Z\\/\\^\\-\\:\\+\\*\\=,0-9]+', sentence, re.UNICODE) # ['9,7 mg']  # ['9,7 test']\n",
        "  # s01 = re.findall(r'^[0-9]+\\s{0,1}[a-zA-Z0-9]+[\\^\\/\\-_]{1}[a-zA-Z0-9]+|(?:\\s)[0-9]+\\s{0,1}[a-zA-Z0-9]+[\\^\\/\\-_]{1}[a-zA-Z0-9]+', sentence, re.UNICODE)  # 50 mg/min\n",
        "  s010 = re.findall(r'^[0-9]+\\s{0,1}[a-zA-Z0-9]+[\\^\\/\\-_]{1}[a-zA-Z0-9]+|(?:\\s)[0-9]+\\s{0,1}[a-zA-Z0-9]+[\\^\\/\\-_]{1}[a-zA-Z0-9]+(?:\\s{1}[a-zA-Z]+)', sentence, re.UNICODE)  # 50 mg/min\n",
        "  s02 = re.findall(r'[^a-zA-Z][0-9]+[\\.\\,]{1}[0-9%]+\\s{0,1}[a-zA-Z]+[\\^\\/\\-_]{1}[a-zA-Z]+', sentence, re.UNICODE)  # 2.0 mg/dl, ' 9.0 g/dL'\n",
        "  s020 = re.findall(r'[^a-zA-Z\\S][0-9]+\\s{0,1}[a-zA-Z]+[\\^\\/\\-_]{1}[a-zA-Z\\S]+', sentence, re.UNICODE)  # 2.0 mg/dl, ' 300 mg/m2'\n",
        "  # the ALT 2.5 times , 'Hemoglobin 9.0 g/dL'\n",
        "  s021 = re.findall(r'\\w+\\s[0-9]+[\\.\\,]{1}[0-9%]+\\s{0,1}[a-zA-Z]+[\\^\\/\\-_\\s]{1}[a-zA-Z0-9]+', sentence, re.UNICODE)\n",
        "\n",
        "  # 'T1N1-3M0'\n",
        "  s022 = re.findall(r'\\w+[0-9]+\\S{1}\\s{0,1}[a-zA-Z0-9]+[a-zA-Z0-9]+', sentence, re.UNICODE)\n",
        "  s023 = re.findall(r'\\w+\\s\\w+\\s[0-9\\:]+\\S{0,1}', sentence, re.UNICODE)\n",
        "  # '1-21. Inclusion', ['9,7 test'], '9,7 test', '88888888/55 9/8' , '52-75 years', '9/8 mg', '1/50 mg', '2/neu positive', '0-1 ANC', '1,500/mm³ Platelet', '100,000/mm³ Hemoglobin'\n",
        "  s03 = re.findall(r'[\\(\\[\\{\\<]*[0-9]+[,\\-\\:\\+\\=\\@\\#\\/][0-9%\\.\\S]+[\\)\\]\\}\\>]{0,1}\\s{1}[a-zA-Z\\/\\^\\-\\:\\+\\*\\=,0-9]+', sentence, re.UNICODE)\n",
        "  # '(300%) than'\n",
        "  s030 = re.findall(r'[\\(\\[\\{\\<]{1}\\w*[0-9]+\\w*[,\\-\\:\\+\\=\\@\\#\\/]*[0-9%]*[\\)\\]\\}\\>]{1}\\s{0,1}(?:\\s{1}[a-zA-Z]+)', sentence, re.UNICODE)\n",
        "  # '8,88888888/55 mg', '9/8 mg', '1/50 mg', '5.5/5.0 11', '3.74/9.45666 11'\n",
        "  s1 = re.findall(r'[0-9]+[\\.\\,\\-\\:\\+\\=\\@\\#\\/]{0,1}[0-9]*[\\/][0-9]+[\\.\\,\\-\\:\\+\\=\\@\\#\\/]{0,1}[0-9]*\\s{1}[a-zA-Z\\S]+[\\^\\/\\-_]{0,1}[a-zA-Z0-9\\S]+', sentence, re.UNICODE)\n",
        "  # 'y3.222 mg', 'f3.566 mg/kg', 'Ki67 staining'\n",
        "  s10 = re.findall(r'[a-zA-Z]+[0-9]+[\\.\\,\\-\\:\\+\\=\\@\\#\\/]{0,1}[0-9%]+\\s{1}[a-zA-Z]+[\\^\\/\\-_]{0,1}[a-zA-Z]+', sentence, re.UNICODE)\n",
        "  # '61.1% mg', '65.5 % mg'\n",
        "  s2 = re.findall(r'[0-9]+[\\.\\,\\-\\:\\+\\=\\@\\#\\/]{0,1}[0-9]*\\s{0,1}%\\s{1}[a-zA-Z]+[\\^\\/\\-_]{0,1}[a-zA-Z]+', sentence, re.UNICODE)\n",
        "  # s21 = re.findall(r'([0-9]+[\\.]{0,1}[0-9]*)[\\s]{0,1}%[\\s]{0,1}[a-zA-z]+', sentence)  # '5.5/5.0', '3.7/9.0', '3.74/9.45666',\n",
        "  # '5.5/5.0 11 mg ', '3.7/9.0 11 mg ', '3.74/9.45666 11 mg '\n",
        "  s3 = re.findall(r'[0-9%]+[\\.\\,\\-\\:\\+\\=\\@\\#\\/]{0,1}[0-9%]*[\\/][0-9%]+[\\.\\,\\-\\:\\+\\=\\@\\#\\/]{0,1}[0-9%]+(?!\\s{1}[a-zA-Z0-9])', sentence, re.UNICODE)\n",
        "  #'5.5/5.0 11 mg ', '3.7/9.0 11 mg ', '3.74/9.45666 11 mg ',  '8,88888888/55 9/8 ', '3.7/9.0 11  '\n",
        "  s41 = re.findall(r'[0-9]+[\\.\\,\\-\\:\\+\\=\\@\\#\\/]{0,1}[0-9]*[\\/][0-9]+[\\.\\,\\-\\:\\+\\=\\@\\#\\/]{0,1}[0-9]*\\s{1}[\\s\\d\\^\\/\\-_]+[a-zA-Z]{,4}\\s{1}', sentence, re.UNICODE)\n",
        "  #s3 = re.findall(r'[0-9]+[\\.]{0,1}[0-9]*\\s{0,1}%', sentence) # '61.1%', '65.5 %'\n",
        "  # ' 2 months of', ' 12 weeks ECOG', ' 200 mg test'\n",
        "  s50 = re.findall(r'\\s[0-9]+\\s{1}[a-zA-Z]+(?:\\s[a-zA-Z0-9;]+)', sentence, re.UNICODE)\n",
        "  s51 = re.findall(r'\\s{0,1}[0-9]+\\s{1}[a-zA-Z]+(?:\\s[0-9a-zA-Z;\\.\\,\\:\\?\\[\\(\\{\\}\\]\\)\\=]+\\s)', sentence, re.UNICODE)\n",
        "  s60 = re.findall(r'[0-9]+[\\.\\,\\-\\:\\+\\=\\@\\#\\/]{1}[0-9]+[\\.\\,\\-\\:\\+\\=\\@\\#\\/]{1}[a-zA-Z][\\S]*', sentence, re.UNICODE) #'100,000/mm³'\n",
        "  s61 = re.findall(r'[0-9]+[\\.\\,\\-\\:\\+\\=\\@\\#\\/]{1}[0-9]+[\\.\\,\\-\\:\\+\\=\\@\\#\\/]{1}[a-zA-Z][\\S]*(?:\\s[a-zA-Z]+)', sentence, re.UNICODE) #'100,000/mm³'\n",
        "  # s70 = re.findall(r'[0-9]+[\\.,]{1}[0-9]+[\\^\\/\\-_]{1}[a-z][\\S]*', sentence) #'100,000/mm³'\n",
        "  s80 = re.findall(r'[0-9]+[\\.\\,\\-\\:\\+\\=\\@\\#\\/]{1}[0-9]+[\\.\\,\\-\\:\\+\\=\\@\\#\\/]{1}[a-zA-Z][\\S]*(?:\\s[a-zA-Z]+)', sentence, re.UNICODE) #'100,000/mm³'\n",
        "  s90 = re.findall(r'[0-9]+[\\.\\,\\-\\:\\+\\=\\@\\#\\/]{1}[0-9]+[\\.\\,\\-\\:\\+\\=\\@\\#\\/]{1}[a-zA-Z][\\S]*', sentence, re.UNICODE) #'100,000/mm³'\n",
        "  sa01 = re.findall(r'primary|secondary|first|second|last|full|half|singular|negative|positive|statistic|distribution|distibuted', sentence, re.UNICODE)\n",
        "  sa02 = re.findall(r'one|two|three|four|five|six|seven|eight|nine|ten|percent|a\\sthird|all|overall|at\\sleast|as many|within|daily|partial', sentence, re.UNICODE)\n",
        "  #return sa03;\n",
        "  strs = s010 + s02 + s020 + s021 + s022 + s023 + s03 + s030 + s00 + s10 + s1 + s2 + s41 + s50 + s51 + s60 + s61 + s90 + sa01 + sa02\n",
        "  insts = set([s.strip() for s in strs])\n",
        "  return remove_partitions(list(insts), skip)\n",
        "\n",
        "\n",
        "# Appendinx A2\n",
        "# entry id: 41cf791e-ed7a-48e5-af84-eefc9fa41ba7\n",
        "a97 = containsNumericalInstances(\"Adverse Events 1: Total: 8/29 (27.59%) Leukopenia [1]1/29 (3.45%) Thrombocytopenia [1]1/29 (3.45%) Abscess [1]1/29 (3.45%) Breast Abscess 1/29 (3.45%) Fever/Sepsis [1]1/29 (3.45%) Neutropenic Fever [2]1/29 (3.45%) Peripheral Neuropathy [1]1/29 (3.45%) Seizure/Syncope [1]1/29 (3.45%) Hematuria [1]1/29 (3.45%) UTI [1]1/29 (3.45%) Shortness of breath [1]1/29 (3.45%) Adverse Events 1: Total: 7/9 (77.78%) Febrile Neutropenia1/9 (11.11%) Neutropenia1/9 (11.11%) Tachycardia1/9 (11.11%) Hematemesis1/9 (11.11%) \")\n",
        "print(a97)\n",
        "a97 = containsNumericalInstances(\"Small Bowel Obstruction1/9 (11.11%)Pneumonia1/9 (11.11%) Hypokalemia1/9 (11.11%) Alcohol Poisoning1/9 (11.11%) Progressive Disease4/9 (44.44%) \")\n",
        "print(a97)\n",
        "\n",
        "\n",
        "# a95 = getCohorts(\"Adverse Events 1: Total: 4/26 (15.38%) Febrile neutropenia * 1/26 (3.85%) Gastric volvulus * 20/26 (0.00%) General Malaise * 21/26 (3.85%) Hospitalisation for intrapleuric chemotherapy and thoracentesis * 21/26 (3.85%) Acute renal failure * 21/26 (3.85%) Adverse Events 2: Total: 1/28 (3.57%) cases of CHF in the primary trial  were in secondary and third Febrile neutropenia more adverse events in cohort 1 of the primary trial  than in cohort 2. \")\n",
        "# print(a95)\n",
        "# a96 = getCohorts(\"Adverse Events 1: Cardiac failure congestive 1/32 (3.13%) Adverse Events 2: Cardiac failure congestive 0/20 (0.00%) Adverse Events 3: Cardiac failure congestive 8/32 (33.13%)\")\n",
        "# print(a96)\n",
        "\n",
        "# a97 = containsNumericalInstances(\"Adverse Events 1: Total: 4/26 (15.38%) Febrile neutropenia * 1/26 (3.85%) Gastric volvulus * 20/26 (0.00%) General Malaise * 21/26 (3.85%) Hospitalisation for intrapleuric chemotherapy and thoracentesis * 21/26 (3.85%) Acute renal failure * 21/26 (3.85%) Adverse Events 2: Total: 1/28 (3.57%) cases of CHF in the primary trial  were in secondary and third Febrile neutropenia more adverse events in cohort 1 of the primary trial  than in cohort 2. \")\n",
        "# print(a97)\n",
        "# a99 = containsNumericalInstances(' Patients should have T1N1-3M0 or T2-4 N0-3M0. Patients with Platelet count over 100,000/mm\\u00ac\\u00a8\\u201a\\u00e2\\u2022, ANC smaller than 1,700/mm\\u00ac\\u00a8\\u201a\\u00e2\\u2022 and Hemoglobin between 4 to 5 grams per deciliter to 28 days; are eligible for the primary trial ', True)\n",
        "# print(a99)\n",
        "# print(str(a99)==str(['2-4 N0-3M0', '1-3M0 or', '100,000/mm¬¨‚â•, ANC', '1,700/mm¬¨‚â•', '100,000/mm¬¨‚â•,', '5 grams per', '1,700/mm¬¨‚â• and']))\n",
        "# a98 = containsNumericalInstances(\"Patients with HER-2/neu positive tumors asymptomatic for 2 months of progression status not  expectancy 12 weeks ECOG performance status 0-1 ANC 1,500/mm³ Platelet count 100,000/mm³ Hemoglobin 9.0 g/dL \", True)\n",
        "# print(a98)\n",
        "# print(str(a98)==str(['100,000/mm³ Hemoglobin', '0-1 ANC', '100,000/mm³', '2/neu positive', '12 weeks ECOG', '9.0 g/dL', '2 months of', '1,500/mm³ Platelet', '1,500/mm³']))\n",
        "# a0 = containsNumericalInstances(\" Ki67 staining (cumulative dose) and the ALT 2.5 times daily on days 1-21. Inclusion Criteria: Age 52-75 years old; IdentificationPatients also receive cixutumumab IV over 1-1\\u00bd hours on days 1, 8, and 15. Courses repeat \", True)\n",
        "# print(a0)\n",
        "# print(str(a0)==str(['1-21. Inclusion', '52-75 years', '1-1½ hours', 'Ki67 staining']))\n",
        "# a1 = containsNumericalInstances(\"Moni dict (300%) than 300 mg/m2 doxorubicin (cumulative dose) or greater than 600 mg/m2 epirubicin sdfsdf  fff  fdfsd\", True)\n",
        "# print(a1)\n",
        "# print(str(a1)==str(['(300%) than', '600 mg/m2 epirubicin', '300 mg/m2 doxorubicin', '300 mg/m2', '600 mg/m2']))\n",
        "# test2 = containsNumericalInstances(\"e {5.7%} mg Age 52-75 years old; 100,000/mm³ 200 mg test 50 mg/min 2.0 mg/dl i f3.566 mg 66|8 t/8 9,7 test 8,88888888/55 9/8 3.7/9.0 11  61.1% 65.5 % [2]1/50\", True)\n",
        "# print(test2)\n",
        "# print(str(test2)==str(['9,7 test', 'f3.566 mg', '3.7/9.0 11', '200 mg test', '8,88888888/55 9/8', '100,000/mm³ 200', '100,000/mm³', '2.0 mg/dl', '7/9.0 11', '50 mg/min', '52-75 years']))\n",
        "# test3 = containsNumericalInstances(\"Age 52-75 years old;  100,000/mm³ vals 200 mg 50 mg/min 2,0 mg/dl y3.222 mg i f3.566 mg/kg 66|8 mg t/8 mg 9,7 mg test 8,88888888/55 mg 9/8 mg 5.5/5.0 11 mg 3.7/9.0 11 mg 3.74/9.45666 11 mg 61.1% mg 65.5 % mg [2]1/50 mg\", True)\n",
        "# print(test3)\n",
        "# print(str(test3)==str(['9/8 mg', '3.74/9.45666 11', '3.74/9.45666 11 mg', '5.5/5.0 11', '3.7/9.0 11 mg', '61.1% mg', 'y3.222 mg', '100,000/mm³ vals', 'f3.566 mg/kg', '9,7 mg', '5.5/5.0 11 mg', '100,000/mm³', '8,88888888/55 mg', '1/50 mg', '3.7/9.0 11', '65.5 % mg', '2,0 mg/dl', '74/9.45666 11', '7/9.0 11', '50 mg/min', '52-75 years', '5/5.0 11']))\n",
        "# test4 = containsNumericalInstances(\"a {5.7} mg Age 52-75 years old; 100,000/mm³ vals 200 mg (200 mg) 50 mg/min 2.0 mg/dl y3.222 mg i f3.566 mg/kg 66|8 mg t/8 mg (9,7%) [9,7%] 9,7 mg test 8,88888888/55 mg 9/8 mg 5.5/5.0 11 mg 3.7/9.0 11 mg 3.74/9.45666 11 mg 61.1% mg 65.5 % mg [2]1/50 mg\", True)\n",
        "# print(test4)\n",
        "# print(str(test4)==str(['9/8 mg', '3.74/9.45666 11', '3.74/9.45666 11 mg', '5.5/5.0 11', '3.7/9.0 11 mg', '61.1% mg', 'y3.222 mg', '100,000/mm³ vals', 'f3.566 mg/kg', '9,7 mg', '[9,7%] 9,7', '5.5/5.0 11 mg', '100,000/mm³', '8,88888888/55 mg', '1/50 mg', '3.7/9.0 11', '65.5 % mg', '74/9.45666 11', '2.0 mg/dl', '7/9.0 11', '50 mg/min', '52-75 years', '5/5.0 11']))\n",
        "# print(['                                  8,88888888/55 mg', '9/8 mg', '1/50 mg', '61.1% mg', '65.5 % mg', '5.5/5.0', '3.7/9.0', '3.74/9.45666', '5.5/5.0 11 mg ', '3.7/9.0 11 mg ', '3.74/9.45666 11 mg '])"
      ]
    },
    {
      "cell_type": "code",
      "execution_count": null,
      "metadata": {
        "colab": {
          "base_uri": "https://localhost:8080/"
        },
        "id": "7eBkqmGSCrp9",
        "outputId": "6bdd3f7a-2148-471a-d8df-45ea98688a62"
      },
      "outputs": [
        {
          "output_type": "stream",
          "name": "stdout",
          "text": [
            "['3.5', 'mg ', 'casa,Stage', 'IV ']\n",
            "['3.5', 'mg ', 'casa,Stage', 'IV']\n",
            "['3', 'casa,Stage', 'IV']\n",
            "['3casa.Stage', 'IV']\n"
          ]
        },
        {
          "output_type": "execute_result",
          "data": {
            "text/plain": [
              "['3casa.Stage']"
            ]
          },
          "metadata": {},
          "execution_count": 13
        }
      ],
      "source": [
        "def containsNr(word):\n",
        "  return re.findall(r'\\d', word)\n",
        "\n",
        "def nnChunk(chunk):\n",
        "  _word = chunk\n",
        "  word = None\n",
        "  withSeparator = False;\n",
        "  if _word.startswith(';'):\n",
        "     word = _word[1:]\n",
        "  # elif _word.endswith(')'):\n",
        "  #   word = _word[:len(_word)-1]\n",
        "  if _word.endswith(','):\n",
        "    if not containsNr(_word):\n",
        "      word = _word[:len(_word)-1]+\" \"\n",
        "    else:\n",
        "      word = _word\n",
        "  elif _word.endswith('.'):\n",
        "    if not containsNr(_word):\n",
        "      word = _word[:len(_word)-1]+\" \"\n",
        "    else:\n",
        "      word = _word\n",
        "  else:\n",
        "    word = _word\n",
        "  return word\n",
        "\n",
        "# punctuation = ['„', '”', '(', ')', ';', '{', '}','[',']', '/', '\\\\',\"\\\"\", \"'\", ',']\n",
        "punctuation = ['„', '”', ';', '\\\\',\"\\\"\", \"'\"]\n",
        "\n",
        "def normalizeChunk(chunk):\n",
        "  concats=[]\n",
        "  # for sign in punctuation:\n",
        "  #   if(word.__contains__(sign)):\n",
        "  c = chunk.split(\" \")\n",
        "  for w in c:\n",
        "    sw = nnChunk(w)\n",
        "    concats.append(sw)\n",
        "  if(len(concats) == 0):\n",
        "    concats.append(chunk)\n",
        "  return list(filter(None, dict.fromkeys(concats)))\n",
        "\n",
        "print(normalizeChunk(\"3.5 mg, casa,Stage IV.\"))\n",
        "print(normalizeChunk(\"3.5 mg. casa,Stage IV\"))\n",
        "print(normalizeChunk(\"3 casa,Stage IV\"))\n",
        "print(normalizeChunk(\"3casa.Stage IV\"))\n",
        "normalizeChunk(normalizeChunk(\"3casa.Stage IV\")[0])"
      ]
    },
    {
      "cell_type": "code",
      "execution_count": null,
      "metadata": {
        "colab": {
          "base_uri": "https://localhost:8080/"
        },
        "id": "Fd78BJDepSA_",
        "outputId": "45da743b-9c13-44ef-be52-e94fb101f8f0"
      },
      "outputs": [
        {
          "output_type": "stream",
          "name": "stdout",
          "text": [
            "1\n",
            "The surgery follows 1-7 days after the second FLT PET scan at baseline and 1-6 weeks after the start\n"
          ]
        }
      ],
      "source": [
        "b = \"FLT PET scan at baseline and 1-6 weeks after the start\"\n",
        "# b = \"than patients in the\"\n",
        "a = 'The surgery follows 1-7 days after the second FLT PET'\n",
        "\n",
        "\n",
        "def concat(*args):\n",
        "    result = ''\n",
        "    for arg in args:\n",
        "        result = _concat(result, arg)\n",
        "    return result\n",
        "\n",
        "def _concat(a, b):\n",
        "    la = len(a)\n",
        "    lb = len(b)\n",
        "    for i in range(la):\n",
        "        j = i\n",
        "        k = 0\n",
        "        while j < la and k < lb and a[j] == b[k]:\n",
        "            j += 1\n",
        "            k += 1\n",
        "        if j == la:\n",
        "            n = k\n",
        "            break\n",
        "    else:\n",
        "        n = 0\n",
        "    return a + b[n:]\n",
        "\n",
        "\n",
        "def can_concat(a, b):\n",
        "    la = len(a)\n",
        "    lb = len(b)\n",
        "    for i in range(la):\n",
        "        j = i\n",
        "        k = 0\n",
        "        while j < la and k < lb and a[j] == b[k]:\n",
        "            j += 1\n",
        "            k += 1\n",
        "        if j == la:\n",
        "            n = k\n",
        "            break\n",
        "    else:\n",
        "        n = 0\n",
        "\n",
        "    if (n>3):\n",
        "      return True\n",
        "    if (n==0):\n",
        "      return False\n",
        "    return False\n",
        "\n",
        "\n",
        "if (can_concat(a, b)):\n",
        "  print('1')\n",
        "  print(_concat(a, b))\n",
        "\n",
        "if (can_concat(b, a)):\n",
        "  print('2')\n",
        "  print(_concat(b, a))"
      ]
    },
    {
      "cell_type": "code",
      "execution_count": null,
      "metadata": {
        "id": "EB-g4ce6i7sK"
      },
      "outputs": [],
      "source": []
    },
    {
      "cell_type": "markdown",
      "metadata": {
        "id": "nVXmGEKbNnt9"
      },
      "source": [
        "Measuring Semantic Relatedness using the Distance and the Shortest Common Ancestor and Outcast Detection with Wordnet Digraph\n",
        "https://sandipanweb.wordpress.com/2017/10/13/measuring-semantic-relatedness-with-wordnet-in-python/\n",
        "\n",
        "ratio() - a measure of the sequences’ similarity as a float in the range [0, 1].\n",
        "https://docs.python.org/3/library/difflib.html#difflib.SequenceMatcher.ratio"
      ]
    },
    {
      "cell_type": "code",
      "execution_count": null,
      "metadata": {
        "colab": {
          "base_uri": "https://localhost:8080/"
        },
        "id": "pcVnIO4lltJX",
        "outputId": "bf1fe5f7-317e-4efc-b58c-1e936206c577"
      },
      "outputs": [
        {
          "output_type": "stream",
          "name": "stdout",
          "text": [
            "236\n",
            "0.9392712550607287\n",
            "0.8266666666666667\n",
            "0.8223350253807107\n",
            "107\n"
          ]
        },
        {
          "output_type": "execute_result",
          "data": {
            "text/plain": [
              "['scan at baseline and 1-6 weeks after the start of standard endocrine treatment  The surgery follows 1-7 days after the second',\n",
              " 'Patients also receive cixutumumab IV over 1-1½ hours on days 1, 8, and 15. Courses repeat every 21 days in',\n",
              " 'PO and capecitabine: Given PO INTERVENTION 2: Arm B Patients receive capecitabine',\n",
              " 'endocrine treatment  The surgery follows 1-7 days after the second FLT PET scan',\n",
              " 'once daily on days 1-21. Courses repeat every 21 days in the absence of disease progression',\n",
              " 'Analysis: Correlative studies - Ki67 staining of the tumor tissue in the',\n",
              " 'oral capecitabine twice daily on days 1-14 and oral lapatinib ditosylate once daily on',\n",
              " 'stage  ER positive primary breast cancer undergo FLT PET scan at baseline and 1-6 weeks after the start',\n",
              " 'emission tomography) scanning procedure: [F18] fluorothymidine  Positron Emission Tomography: Undergo']"
            ]
          },
          "metadata": {},
          "execution_count": 15
        }
      ],
      "source": [
        "from difflib import SequenceMatcher\n",
        "a = \"FLT PET scan at baseline and 1-6 weeks after the start\"\n",
        "# b = \"than patients in the\"\n",
        "b = 'The surgery follows 1-7 days after the second FLT PET'\n",
        "\n",
        "def mxrint(ttx, tx=''):\n",
        "  if 1==2:\n",
        "    print(ttx, tx)\n",
        "\n",
        "def merge_num_instances(a, b):\n",
        "  s = SequenceMatcher(lambda x: x==\" \", a, b)\n",
        "  mtch = s.find_longest_match(0, len(a), 0, len(b))\n",
        "  mst = mtch[0]\n",
        "  mnd = mtch[1]\n",
        "  msz = mtch[2]\n",
        "  if (a in b):\n",
        "    return b\n",
        "  if (b in a):\n",
        "    return a\n",
        "\n",
        "  if (can_concat(a, b)):\n",
        "    return _concat(a, b)\n",
        "\n",
        "  if (can_concat(b, a)):\n",
        "    return _concat(b, a)\n",
        "\n",
        "  if (mst > mnd):\n",
        "    if (mnd>0):\n",
        "      mxrint('Not from same sentence. exit')\n",
        "      return a\n",
        "    na = a[:mst]+b\n",
        "    if (msz+mst == len(a)):\n",
        "      mxrint(len(na), msz+mst == len(a))\n",
        "    else:\n",
        "      mxrint('Not continous')\n",
        "      return a\n",
        "    return na\n",
        "  else:\n",
        "    nb = b[:mnd]+a\n",
        "    if (mst>0):\n",
        "      mxrint('Not from same sentence. exit')\n",
        "      return a\n",
        "    if (msz+mnd == len(b)):\n",
        "      mxrint('continous')\n",
        "    else:\n",
        "      mxrint('Not from same sentence. exit')\n",
        "      return a\n",
        "    return nb\n",
        "# merge_num_instances(b, a)\n",
        "\n",
        "array = ['than 1/4 patients in the primary',\n",
        "         'the primary trial experienced',\n",
        "         'than 1/4 patients in the',\n",
        "         'Less than 1/4 patients',\n",
        "         '8/24 (33.33%)',\n",
        "         'Adverse Events 1:']\n",
        "\n",
        "array = ['PATIENT CHARACTERISTICS: ANC 1,500/mm³ Platelet count 100,000/mm³ Hemoglobin 9.0 g/dL', 'ANC 1,500/mm³ Platelet count 100,000/mm³ Hemoglobin 9.0 g/dL', 'PATIENT CHARACTERISTICS: ANC 1,500/mm³ Platelet count 100,000/mm³ Hemoglobin 9.0 g/dL', '1,500/mm³ Platelet count 100,000/mm³ Hemoglobin 9.0 g/dL', 'ANC 1,500/mm³ Platelet count 100,000/mm³ Hemoglobin 9.0 g/dL']\n",
        "\n",
        "# array = ['PATIENT', 'yhsy', 'abc', 'PATIENT', 'PAtIENT']\n",
        "\n",
        "# 5bc844fc-e852-4270-bfaf-36ea9eface3d\n",
        "array = [\n",
        "            \"Patients also receive cixutumumab IV over 1-1½ hours on days 1,\",\n",
        "            \"endocrine treatment  The surgery follows 1-7 days after the second\",\n",
        "            \"scan at baseline and 1-6 weeks after the start of standard endocrine\",\n",
        "            \"twice daily on days 1-14 and oral lapatinib ditosylate once daily on\",\n",
        "            \"stage  ER positive primary breast cancer undergo FLT PET\",\n",
        "            \"IV over 1-1½ hours on days 1, 8, and 15. Courses repeat\",\n",
        "            \"PO and capecitabine: Given PO INTERVENTION 2: Arm B Patients receive capecitabine\",\n",
        "            \"emission tomography) scanning procedure: [F18] fluorothymidine  Positron Emission Tomography: Undergo\",\n",
        "            \"days 1, 8, and 15. Courses repeat every 21 days in\",\n",
        "            \"twice daily on days 1-14 and oral lapatinib ditosylate once daily\",\n",
        "            \"FLT PET scan at baseline and 1-6 weeks after the start\",\n",
        "            \"scan at baseline and 1-6 weeks after the start of standard\",\n",
        "            \"oral capecitabine twice daily on days 1-14 and oral lapatinib ditosylate\",\n",
        "            \"receive cixutumumab IV over 1-1½ hours on days 1, 8, and\",\n",
        "            \"1-21. Courses repeat every 21 days in the absence of disease progression\",\n",
        "            \"The surgery follows 1-7 days after the second FLT PET\",\n",
        "            \"Analysis: Correlative studies - Ki67 staining of the tumor tissue in the\",\n",
        "            \"The surgery follows 1-7 days after the second FLT PET scan\",\n",
        "            \"Analysis: Correlative studies - Ki67 staining of the tumor tissue in\",\n",
        "            \"once daily on days 1-21. Courses repeat every 21 days in\",\n",
        "            \"on days 1-21. Courses repeat every 21 days in the absence of\"\n",
        "        ]\n",
        "\n",
        "\n",
        "def continue_overlaping(array, debug=False):\n",
        "  if(len(array) == 1):\n",
        "    return array\n",
        "\n",
        "  arm = []\n",
        "  for i in range(len(array)):\n",
        "      for j in range(i + 1, len(array)):\n",
        "        if (array[j] != array[i]):\n",
        "          arm.append(merge_num_instances(array[j], array[i]))\n",
        "  arm = list(set(arm))\n",
        "  for i in range(len(array)):\n",
        "    for j in range(i + 1, len(array)):\n",
        "      if (array[i] != array[j]):\n",
        "        arm.append(merge_num_instances(array[i], array[j]))\n",
        "\n",
        "  rezultat = remove_partitions(list(set(arm)))\n",
        "\n",
        "  if (len(rezultat)>1):\n",
        "    for a in rezultat:\n",
        "      for b in rezultat:\n",
        "        if (a != b):\n",
        "          s = SequenceMatcher(None, a, b)\n",
        "          ratio=s.quick_ratio()\n",
        "          # if debug:\n",
        "          #   print(\"\" + str(s.quick_ratio()))\n",
        "          if (ratio>0.81):\n",
        "            try:\n",
        "              if debug:\n",
        "                print(\"\" + str(s.quick_ratio()))\n",
        "              rezultat.remove(a)\n",
        "            except:\n",
        "              pass # do nothing\n",
        "\n",
        "  return rezultat\n",
        "\n",
        "\n",
        "print(len(\" \".join(array).split(\" \")))\n",
        "ra = continue_overlaping(array, True)\n",
        "print(len(\" \".join(continue_overlaping(ra)).split(\" \")))\n",
        "ra\n",
        "# #merge_num_instances(a, b)\n"
      ]
    },
    {
      "cell_type": "code",
      "execution_count": null,
      "metadata": {
        "colab": {
          "base_uri": "https://localhost:8080/"
        },
        "id": "WDwspzgEbMLm",
        "outputId": "702eb7cc-e826-4247-8e6c-ae5abcf9fd94"
      },
      "outputs": [
        {
          "output_type": "stream",
          "name": "stdout",
          "text": [
            "['than 1/4 patients in the primary', 'the primary trial experienced', 'than 1/4 patients in the', 'Less than 1/4 patients', '8/24 (33.33%)', 'Adverse Events 1:']\n",
            "Less than 1/4 patients in\n",
            "Less than 1/4 patients in the primary\n"
          ]
        }
      ],
      "source": [
        "def overlap_and_concatenate(array):\n",
        "    concatenated = []\n",
        "    overlap_found = False\n",
        "\n",
        "    for i in range(len(array)):\n",
        "        for j in range(i + 1, len(array)):\n",
        "            if array[i] in array[j]:\n",
        "                concatenated.append(array[j])\n",
        "                overlap_found = True\n",
        "                break\n",
        "\n",
        "        if not overlap_found:\n",
        "            concatenated.append(array[i])\n",
        "\n",
        "    return concatenated\n",
        "\n",
        "# Example usage:\n",
        "array = ['than 1/4 patients in the primary',\n",
        "         'the primary trial experienced',\n",
        "         'than 1/4 patients in the',\n",
        "         'Less than 1/4 patients',\n",
        "         '8/24 (33.33%)',\n",
        "         'Adverse Events 1:']\n",
        "\n",
        "result = overlap_and_concatenate(array)\n",
        "print(result)\n",
        "\n",
        "#\n",
        "# extinde contextul din jurul unei secvente dintr-o propozitie\n",
        "#\n",
        "def readSeqToSpace(sentence, seq):\n",
        "    upToNSpaces = N_CTX\n",
        "    start = sentence.find(seq)\n",
        "    newstartindex = start\n",
        "    space_count_start = 0\n",
        "    for i in range(start - 1, -1, -1):\n",
        "        newstartindex = i + 1\n",
        "        if sentence[i] == ' ':\n",
        "            space_count_start += 1\n",
        "            if space_count_start >= upToNSpaces:\n",
        "                newstartindex = i + 1\n",
        "                break\n",
        "    end = start + len(seq)\n",
        "    newendindex = end\n",
        "    space_count_end = 0\n",
        "    for i in range(end + 1, len(sentence)):\n",
        "        if sentence[i] == ' ':\n",
        "            newendindex = i\n",
        "            space_count_end += 1\n",
        "            if space_count_end >= upToNSpaces:\n",
        "                newendindex = i\n",
        "                break\n",
        "\n",
        "    return (sentence[newstartindex-1:start] + sentence[start: newendindex]).strip()\n",
        "\n",
        "xtz = \"Less than 1/4 patients in the primary trial experienced adverse events \"\n",
        "\n",
        "print(readSeqToSpace(xtz, \"than 1/\"))\n",
        "print(readSeqToSpace(xtz, \"/4 patients\"))"
      ]
    },
    {
      "cell_type": "markdown",
      "metadata": {
        "id": "JYSDjIIH09p9"
      },
      "source": [
        "[POS abv](https://www.ling.upenn.edu/courses/Fall_2003/ling001/penn_treebank_pos.html)\n",
        "Number\n",
        "Tag\n",
        "Description\n",
        "1.\tCC\tCoordinating conjunction\n",
        "2.\tCD\tCardinal number\n",
        "3.\tDT\tDeterminer\n",
        "4.\tEX\tExistential there\n",
        "5.\tFW\tForeign word\n",
        "6.\tIN\tPreposition or subordinating conjunction\n",
        "7.\tJJ\tAdjective\n",
        "8.\tJJR\tAdjective, comparative\n",
        "9.\tJJS\tAdjective, superlative\n",
        "10.\tLS\tList item marker\n",
        "11.\tMD\tModal\n",
        "12.\tNN\tNoun, singular or mass\n",
        "13.\tNNS\tNoun, plural\n",
        "14.\tNNP\tProper noun, singular\n",
        "15.\tNNPS\tProper noun, plural\n",
        "16.\tPDT\tPredeterminer\n",
        "17.\tPOS\tPossessive ending\n",
        "18.\tPRP\tPersonal pronoun\n",
        "19.\tPRP\tPossessive pronoun\n",
        "20.\tRB\tAdverb\n",
        "21.\tRBR\tAdverb, comparative\n",
        "22.\tRBS\tAdverb, superlative\n",
        "23.\tRP\tParticle\n",
        "24.\tSYM\tSymbol\n",
        "25.\tTO\tto\n",
        "26.\tUH\tInterjection\n",
        "27.\tVB\tVerb, base form\n",
        "28.\tVBD\tVerb, past tense\n",
        "29.\tVBG\tVerb, gerund or present participle\n",
        "30.\tVBN\tVerb, past participle\n",
        "31.\tVBP\tVerb, non-3rd person singular present\n",
        "32.\tVBZ\tVerb, 3rd person singular present\n",
        "33.\tWDT\tWh-determiner\n",
        "34.\tWP\tWh-pronoun\n",
        "35.\tWP$\tPossessive wh-pronoun\n",
        "36.\tWRB\tWh-adverb"
      ]
    },
    {
      "cell_type": "code",
      "execution_count": null,
      "metadata": {
        "id": "mJ2iF2LTmJln"
      },
      "outputs": [],
      "source": [
        "# import spacy\n",
        "\n",
        "# def extract_information(sentence):\n",
        "#     nlp = spacy.load(\"en_core_web_sm\")\n",
        "#     doc = nlp(sentence)\n",
        "\n",
        "#     action = None\n",
        "#     subject = []\n",
        "#     verb = []\n",
        "#     obj = []\n",
        "\n",
        "#     for token in doc:\n",
        "#         if token.dep_ == \"ROOT\" or token.pos_ == \"VERB\":\n",
        "#             action = token.lemma_\n",
        "#             verb.append(token.text)\n",
        "#             break\n",
        "\n",
        "#     for token in doc:\n",
        "#         if token.dep_ == \"nsubj\":\n",
        "#             subject.append(token.text)\n",
        "#         elif token.dep_ == \"dobj\" or token.dep_ == \"attr\":\n",
        "#             obj.append(token.text)\n",
        "\n",
        "#     return {\n",
        "#         \"action\": action,\n",
        "#         \"subject\": subject,\n",
        "#         \"verb\": verb,\n",
        "#         \"object\": obj\n",
        "#     }\n",
        "\n",
        "# extract_information(\"Less than 1/4 patients in the primary trial experienced adverse events \")"
      ]
    },
    {
      "cell_type": "code",
      "execution_count": null,
      "metadata": {
        "id": "wOEt0DSv0km7"
      },
      "outputs": [],
      "source": [
        "#extract_information(\"cohort 1 of the primary trial does not receive any Eribulin Mesylate With Prophylactic Filgrastim. whereas both cohorts in the secondary trial receive some \")"
      ]
    },
    {
      "cell_type": "code",
      "execution_count": null,
      "metadata": {
        "colab": {
          "base_uri": "https://localhost:8080/"
        },
        "id": "P8Duy6J4WJfb",
        "outputId": "f4f52001-0544-4317-cad6-f102967beae7"
      },
      "outputs": [
        {
          "output_type": "execute_result",
          "data": {
            "text/plain": [
              "['Less than 1/4 patients in the primary trial',\n",
              " 'in the primary trial experienced adverse',\n",
              " 'Less than 1/4 patients in the primary',\n",
              " 'Less than 1/4 patients in']"
            ]
          },
          "metadata": {},
          "execution_count": 19
        }
      ],
      "source": [
        "\n",
        "nnsx = [\n",
        "            \"4 patients in\",\n",
        "            \"primary\",\n",
        "            \"1/4 patients\",\n",
        "            \"Less than 1/\"\n",
        "        ]\n",
        "[readSeqToSpace(xtz, nn) for nn in nnsx]"
      ]
    },
    {
      "cell_type": "code",
      "execution_count": null,
      "metadata": {
        "colab": {
          "base_uri": "https://localhost:8080/",
          "height": 35
        },
        "id": "pNrSXOm6JdU2",
        "outputId": "54ff6391-2be5-4655-8026-821fffcf8916"
      },
      "outputs": [
        {
          "output_type": "execute_result",
          "data": {
            "text/plain": [
              "'Renal function: Creatinine smaller than or equal 2.0 mg/dl or a creatinine clearance greater than or equal 50 mg/min'"
            ],
            "application/vnd.google.colaboratory.intrinsic+json": {
              "type": "string"
            }
          },
          "metadata": {},
          "execution_count": 20
        }
      ],
      "source": [
        "def normalizeDocument(text, removeStopWords):\n",
        "  NORMALIZED_CORPUS = []\n",
        "  for _word in text.split():\n",
        "    if(_word.__contains__('>=')):\n",
        "      _word = _word.replace(\">=\", \"greater than or equal \")\n",
        "      #print(_word)\n",
        "    if(_word.__contains__('=<')):\n",
        "      _word = _word.replace(\"=<\", \"smaller than or equal \")\n",
        "      #print(_word)\n",
        "    if(_word.__contains__('<')):\n",
        "      _word = _word.replace(\"<\", \"smaller than \")\n",
        "      #print(_word)\n",
        "    if(_word.__contains__('>')):\n",
        "      _word = _word.replace(\">\", \"greater than \")\n",
        "      #print(_word)\n",
        "    normalized = normalizeChunk(_word)\n",
        "    for word in normalized:\n",
        "      if(removeStopWords):\n",
        "        if(not STOP_WORDS_RO.__contains__(word)):\n",
        "          NORMALIZED_CORPUS.append(word)\n",
        "      else:\n",
        "        NORMALIZED_CORPUS.append(word)\n",
        "  return \" \".join(NORMALIZED_CORPUS)\n",
        "\n",
        "normalizat = normalizeDocument(\"Renal function: Creatinine =< 2.0 mg/dl or a creatinine clearance >= 50 mg/min\", True)\n",
        "normalizat"
      ]
    },
    {
      "cell_type": "code",
      "execution_count": null,
      "metadata": {
        "colab": {
          "base_uri": "https://localhost:8080/"
        },
        "id": "O3DCPnMdqUeB",
        "outputId": "f8b17c47-6b2f-454c-e889-7418c4d3c02e"
      },
      "outputs": [
        {
          "output_type": "execute_result",
          "data": {
            "text/plain": [
              "['equal 2.0 mg/dl', 'or equal 50', 'or equal 2.', 'nine', '50 mg/min', 'all']"
            ]
          },
          "metadata": {},
          "execution_count": 21
        }
      ],
      "source": [
        "containsNumericalInstances(normalizat)"
      ]
    },
    {
      "cell_type": "code",
      "execution_count": null,
      "metadata": {
        "id": "HulYrUTP43o3"
      },
      "outputs": [],
      "source": [
        "import uuid\n",
        "import json\n",
        "from transformers import BertTokenizer, TFBertModel\n",
        "import matplotlib.pyplot as plt\n",
        "import tensorflow as tf\n",
        "import gc\n",
        "import numpy as np\n",
        "import pandas as pd\n",
        "\n",
        "c_counter = 0\n",
        "from datetime import datetime\n",
        "current_dateTime = datetime.now()"
      ]
    },
    {
      "cell_type": "code",
      "execution_count": null,
      "metadata": {
        "id": "3oZDAf436o1B"
      },
      "outputs": [],
      "source": [
        "def stamp_time():\n",
        "    current_dateTime = datetime.now()\n",
        "    return \"\".join(\"\".join(\"\".join(str(current_dateTime).split(\".\")[0].split(\":\")).split(\"-\")).split(\" \"))\n"
      ]
    },
    {
      "cell_type": "code",
      "execution_count": null,
      "metadata": {
        "id": "7xteHkh8KD2Q"
      },
      "outputs": [],
      "source": [
        "OVF=0\n",
        "OVF_V=[]"
      ]
    },
    {
      "cell_type": "code",
      "execution_count": null,
      "metadata": {
        "id": "hPYCtUB-C4Zf"
      },
      "outputs": [],
      "source": []
    },
    {
      "cell_type": "markdown",
      "metadata": {
        "id": "kN_oXg-XLOUd"
      },
      "source": []
    },
    {
      "cell_type": "code",
      "execution_count": null,
      "metadata": {
        "id": "3GNoOVboPrbv"
      },
      "outputs": [],
      "source": [
        "# f = open ('/content/pair.txt', 'r', encoding='utf-8')\n",
        "# text = f.read()\n",
        "# f.close()\n",
        "text = \"the primary trial is testing a novel radiotracer called 89Zr-trastuzumab to evaluate its use for visualization of HER2+ lesions  INTERVENTION 1: HER2-targeted PET/CT Pts with confirmed HER2- breast cancer will undergo HER2-targeted PET/CT  89Zr-trastuzumab is a novel radiotracer which allows excellent visualization of HER2+ lesions  89Zr-pertuzumab is a novel radiotracer which may allow for specific visualization of HER2+ lesions  PET/CT imaging with these novel radiotracers will allow evaluation of all identifiable malignant lesions  rather than evaluation of only single lesions by biopsy \""
      ]
    },
    {
      "cell_type": "code",
      "execution_count": null,
      "metadata": {
        "id": "vBXGS4WVOVhU"
      },
      "outputs": [],
      "source": [
        "# import nltk\n",
        "# from nltk.collocations import *\n",
        "# from nltk.tokenize import word_tokenize\n",
        "\n",
        "# nltk.download('genesis')\n",
        "# nltk.download('punkt')\n",
        "# nltk.download('averaged_perceptron_tagger')\n",
        "\n",
        "\n",
        "# bigram_measures = nltk.collocations.BigramAssocMeasures()\n",
        "# trigram_measures = nltk.collocations.TrigramAssocMeasures()\n",
        "# fourgram_measures = nltk.collocations.QuadgramAssocMeasures()\n",
        "\n",
        "\n",
        "# textTokenized = word_tokenize(text)\n",
        "\n",
        "# finder = QuadgramCollocationFinder.from_words(textTokenized)\n",
        "# #finder.apply_freq_filter(3)\n",
        "# finder.nbest(fourgram_measures.likelihood_ratio, 10)"
      ]
    },
    {
      "cell_type": "markdown",
      "metadata": {
        "id": "BxsfVigTIPf-"
      },
      "source": [
        "Treebank POS [nume complete](https://www.ling.upenn.edu/courses/Fall_2003/ling001/penn_treebank_pos.html)"
      ]
    },
    {
      "cell_type": "code",
      "execution_count": null,
      "metadata": {
        "id": "Ps2LfQlGHm6Z"
      },
      "outputs": [],
      "source": [
        "# nltk.pos_tag(textTokenized)[:5]"
      ]
    },
    {
      "cell_type": "code",
      "execution_count": null,
      "metadata": {
        "id": "5NhPi5_yQb6q"
      },
      "outputs": [],
      "source": [
        "# finder = BigramCollocationFinder.from_words(textTokenized)\n",
        "# scored = finder.score_ngrams(bigram_measures.chi_sq)\n",
        "# sorted(bigram for bigram, score in scored)[:5]"
      ]
    },
    {
      "cell_type": "code",
      "execution_count": null,
      "metadata": {
        "id": "zbnXTNRJUNx1"
      },
      "outputs": [],
      "source": [
        "# finder = TrigramCollocationFinder.from_words(textTokenized)\n",
        "# scored = finder.score_ngrams(trigram_measures.chi_sq)\n",
        "# sorted(trigram for trigram, score in scored)[:5]"
      ]
    },
    {
      "cell_type": "code",
      "execution_count": null,
      "metadata": {
        "id": "7rJ-XBKbWIPU"
      },
      "outputs": [],
      "source": [
        "# romance = nltk.FreqDist(textTokenized)\n",
        "# freq = nltk.FreqDist(w.lower() for w in nltk.corpus.brown.words() if w.isalpha())"
      ]
    },
    {
      "cell_type": "code",
      "execution_count": null,
      "metadata": {
        "id": "Hi-bI0_QcG-c"
      },
      "outputs": [],
      "source": [
        "# from nltk.metrics import *\n",
        "# from nltk import FreqDist, MLEProbDist\n",
        "\n",
        "# fp1 = word_tokenize(\"INTERVENTION 1: HER2-targeted PET/CT Pts with confirmed HER2- breast cancer will undergo HER2-targeted PET/CT  89Zr-trastuzumab is a novel radiotracer which allows excellent visualization of HER2+ lesions  89Zr-pertuzumab is a novel radiotracer which may allow for specific visualization of HER2+ lesions  PET/CT imaging with these novel radiotracers will allow evaluation of all identifiable malignant lesions  rather than evaluation of only single lesions by biopsy \")\n",
        "# fp2 = word_tokenize(\"the primary trial is testing a novel radiotracer called 89Zr-trastuzumab to evaluate its use for visualization of HER2+ lesions \")\n",
        "\n",
        "# pdist1 = MLEProbDist(FreqDist(fp1))\n",
        "# pdist2 = MLEProbDist(FreqDist(fp2))\n",
        "# print(log_likelihood(['HER2+', 'lesions'], [pdist1, pdist2]))"
      ]
    },
    {
      "cell_type": "markdown",
      "metadata": {
        "id": "yTqPZjA7LRio"
      },
      "source": [
        "## Data collection utils\n"
      ]
    },
    {
      "cell_type": "code",
      "execution_count": null,
      "metadata": {
        "id": "bItM4IHa5nfD"
      },
      "outputs": [],
      "source": [
        "import random\n",
        "import uuid\n",
        "\n",
        "RAND_L=[]\n",
        "\n",
        "\n",
        "_EVIDENCES_RR=[]\n",
        "_HYPOTESIS_RR=[]\n",
        "Y_LABELS_RR=np.array([], dtype=\"int32\")\n",
        "\n",
        "\n",
        "def encode_sentence(s):\n",
        "   tokens = list(tokenizer.tokenize(s))\n",
        "   # tokens.append('[SEP]')\n",
        "   return tokenizer.convert_tokens_to_ids(tokens)\n",
        "\n",
        "def collectAll(ddCT, a, b,c,d=None):\n",
        "  dda = []\n",
        "  if b:\n",
        "    dda = ddCT[a] + ddCT[b]\n",
        "  else:\n",
        "    dda = ddCT[a]\n",
        "  if d:\n",
        "    ddprem = ddCT[c] + ddCT[d]\n",
        "  else:\n",
        "    ddprem = ddCT[c]\n",
        "  # print(1, dda)\n",
        "\n",
        "  for i in [1,2,3]:\n",
        "    random.shuffle(dda)\n",
        "    random.shuffle(ddprem)\n",
        "    sart = random.randint(1, len(dda))\n",
        "    rstm = \" \".join(random.sample(dda, random.randint(1,3) if sart>4 else sart))\n",
        "    part = random.randint(1, len(ddprem))\n",
        "    rpre = random.sample(ddprem, random.randint(1,4) if part>5 else part)\n",
        "    id = str(uuid.uuid4())\n",
        "    statementsNums = containsNumericalInstances(rstm)\n",
        "    prem_ex=[]\n",
        "    for evidenceFragment in rpre:\n",
        "      premisesNums = containsNumericalInstances(evidenceFragment)\n",
        "      evd_ex = [readSeqToSpace(evidenceFragment, nn) for nn in premisesNums]\n",
        "      prem_ex = prem_ex + evd_ex\n",
        "    prem_cont = continue_overlaping(prem_ex[0:])\n",
        "\n",
        "    dsNumObject = {}\n",
        "    dsNumObject['id']=id\n",
        "    dsNumObject['primaryId']=ddCT[\"Clinical Trial ID\"]\n",
        "    dsNumObject['statement_text']=rstm\n",
        "    # dsNumObject['statement_deps']=statementDepSchema\n",
        "    dsNumObject['statement_nums']=statementsNums #continue_overlaping([readSeqToSpace(rstm, nn) for nn in statementsNums])\n",
        "    dsNumObject['premise_text']=rpre\n",
        "    dsNumObject['premise_nums']=prem_cont\n",
        "\n",
        "    if len(prem_ex) == 0 or len(statementsNums) == 0:\n",
        "      RAND_L.append(0)\n",
        "      dsNumObject['label']=0\n",
        "    else:\n",
        "      RAND_L.append(1)\n",
        "      dsNumObject['label']=1\n",
        "      #if (len(RAND_L) - np.sum(RAND_L))\n",
        "    if len(prem_ex) == 0:\n",
        "      prem_ex = ' '.join(ax)\n",
        "    else:\n",
        "      prem_ex = ' '.join(prem_cont)\n",
        "    Y_LABELS_RR = np.append(Y_LABELS_RR, [dsNumObject['label']], axis=0)\n",
        "    _EVIDENCES_RR.append(prem_ex)\n",
        "    _HYPOTESIS_RR.append(rstm)\n",
        "    CORPORA.append(dsNumObject)\n",
        "\n",
        "\n",
        "def collectEvidenceData(evidenceSection, evidenceIndexes, clinicalTrialId, evidenceSectionId, DEBUG2):\n",
        "    evidences = []\n",
        "    for evIndex in evidenceIndexes:\n",
        "        try:\n",
        "            i = int(evIndex)\n",
        "            if DEBUG2:\n",
        "                print(evidenceSection[i])\n",
        "            norm_evid = evidenceSection[i].strip()\n",
        "            # norm_evid = normalizeDocument(evidenceSection[i].strip(), True)\n",
        "            evidences.append(norm_evid)\n",
        "        except:\n",
        "            print(evidenceIndexes)\n",
        "            print('\\n!!! Failed to collect evidence on index, trialId, section: ' + str(i) +' '+ clinicalTrialId, evidenceSectionId)\n",
        "    return evidences\n",
        "\n",
        "\n",
        "def parseEvidenceSingle(hypotesis, clinicalTrialId, evidenceSectionId, primaryEvidenceIndexes, PREFIX, DEBUG1, DEBUG2):\n",
        "    evidences = []\n",
        "    if DEBUG1:\n",
        "        print(\"Parse evidence Single: \" + clinicalTrialId + \" \" + evidenceSectionId)\n",
        "    CT_PATH = PREFIX+'CT_data/'+clinicalTrialId+'.json'\n",
        "    try:\n",
        "        with open(CT_PATH, encoding='utf-8') as json_file:\n",
        "            dataCT = json.load(json_file)\n",
        "            if DEBUG2:\n",
        "                print(primaryEvidenceIndexes)\n",
        "        # if (not TTEST_COL):\n",
        "        #   collectAll(dataCT, \"Intervention\", None, \"Results\", \"Adverse Events\")\n",
        "        #   collectAll(dataCT, \"Results\", \"Intervention\", \"Adverse Events\")\n",
        "        #   collectAll(dataCT, \"Results\", \"Adverse Events\", \"Intervention\")\n",
        "        #   collectAll(dataCT, \"Eligibility\", None, \"Intervention\")\n",
        "        evidences = collectEvidenceData(dataCT[evidenceSectionId], primaryEvidenceIndexes, clinicalTrialId, evidenceSectionId, False)\n",
        "        # if DEBUG2:\n",
        "        #     print(evidences)\n",
        "        # tok = encode_sentence(\"[CLS] \"+hypotesis+\" [SEP] \" + \" \".join(evidences))\n",
        "        # print(\"[CLS] \"+hypotesis+\" [SEP] \" + \" \".join(evidences))\n",
        "        # print(\"       aa          \")\n",
        "        # if (len(tok)>300):\n",
        "        #     # OVF=OVF+1\n",
        "        #     OVF_V.append(len(tok))\n",
        "        #     print(\"!!!!!!!!!!!!!!!!\")\n",
        "        #     print(hypotesis)\n",
        "        #     print(clinicalTrialId)\n",
        "\n",
        "    except Exception as err:\n",
        "        print('\\n!!! Error for file: ' + clinicalTrialId)\n",
        "        print(err)\n",
        "    if DEBUG2:\n",
        "        print(\"\\n\")\n",
        "    return evidences"
      ]
    },
    {
      "cell_type": "code",
      "execution_count": null,
      "metadata": {
        "id": "rpEbdX_tNoJJ"
      },
      "outputs": [],
      "source": [
        "def splitEvidence(acc, tmp, hypotesis, evidences, evIndex, DEBUG):\n",
        "  if (len(evidences)==0):\n",
        "    return acc\n",
        "  if (evIndex>len(evidences)-1):\n",
        "    acc.append(tmp)\n",
        "    # print(\"----------1-----------EXIT split evidenta ---------------------\")\n",
        "    return acc;\n",
        "  # print(evidences)\n",
        "  # print(evIndex)\n",
        "  hypTmpl = \"[CLS] \"+hypotesis+\" [SEP] \"\n",
        "  tok = encode_sentence(hypTmpl + tmp + evidences[evIndex]+\" \")\n",
        "  if(len(tok)<VECTOR_MAX):\n",
        "    tmp = tmp + evidences[evIndex]+\" \"\n",
        "    splitEvidence(acc, tmp, hypotesis, evidences, evIndex+1, DEBUG)\n",
        "  else:\n",
        "    acc.append(tmp)\n",
        "    tmp=\"\"\n",
        "    tok = encode_sentence(hypTmpl + tmp + evidences[evIndex]+\" \")\n",
        "    if(len(tok)<VECTOR_MAX):\n",
        "      if (evIndex<len(evidences)):\n",
        "        tmp = tmp + evidences[evIndex]\n",
        "        splitEvidence(acc, tmp, hypotesis, evidences, evIndex+1, DEBUG)\n",
        "      else:\n",
        "        # print(\"----------2-----------EXIT split evidenta ---------------------\")\n",
        "        acc.append(evidences[evIndex])\n",
        "        return acc\n",
        "    else:\n",
        "      if (DEBUG):\n",
        "        print(\"!!!!!!!! hypotesis + evidence > \" + str(VECTOR_MAX) + \"!!!!!!!!!!\")\n",
        "      return acc\n",
        "  return acc\n"
      ]
    },
    {
      "cell_type": "code",
      "execution_count": null,
      "metadata": {
        "id": "GrYucQnIJauP"
      },
      "outputs": [],
      "source": [
        "DS_PATH = PREFIX+ '/NLI4CT_numerical_instances_dataset.json'\n",
        "DS_PATH_PAIRS = PREFIX+ '/pairs_NLI4CT_numerical_instances_dataset.json'\n",
        "DS_PATH_CORP = PREFIX+ '/corpora_NLI4CT_numerical_instances_dataset.json'\n",
        "dsNum = []\n",
        "dsNumPair = [] # contains numerical instances in statement and premises"
      ]
    },
    {
      "cell_type": "code",
      "execution_count": null,
      "metadata": {
        "colab": {
          "base_uri": "https://localhost:8080/"
        },
        "id": "g3FK5kdZ_32z",
        "outputId": "197ccb00-a7dc-4cc0-81e0-26932935b1a9"
      },
      "outputs": [
        {
          "output_type": "execute_result",
          "data": {
            "text/plain": [
              "True"
            ]
          },
          "metadata": {},
          "execution_count": 35
        }
      ],
      "source": [
        "WITH_STATE_SAVED"
      ]
    },
    {
      "cell_type": "code",
      "execution_count": null,
      "metadata": {
        "colab": {
          "base_uri": "https://localhost:8080/"
        },
        "id": "bk4klDdS_5kp",
        "outputId": "bd498a1f-4b4e-4b80-aa1d-167aeabb34c9"
      },
      "outputs": [
        {
          "output_type": "stream",
          "name": "stdout",
          "text": [
            "                                     Id        Type      Section_id  \\\n",
            "0  5bc844fc-e852-4270-bfaf-36ea9eface3d  Comparison    Intervention   \n",
            "1  86b7cb3d-6186-4a04-9aa6-b174ab764eed      Single     Eligibility   \n",
            "2  dbed5471-c2fc-45b5-b26f-430c9fa37a37  Comparison  Adverse Events   \n",
            "3  20c35c89-8d23-4be3-b603-ac0ee0f3b4de      Single     Eligibility   \n",
            "4  f17cb242-419d-4f5d-bfa4-41494ed5ac0e  Comparison    Intervention   \n",
            "\n",
            "    Primary_id Secondary_id  \\\n",
            "0  NCT01928186  NCT00684983   \n",
            "1  NCT00662129          NaN   \n",
            "2  NCT00093145  NCT00703326   \n",
            "3  NCT01097642          NaN   \n",
            "4  NCT00852930  NCT02308020   \n",
            "\n",
            "                                           Statement          Label  \\\n",
            "0  All the primary trial participants do not rece...  Contradiction   \n",
            "1  Patients with Platelet count over 100,000/mm¬¨...  Contradiction   \n",
            "2  Heart-related adverse events were recorded in ...     Entailment   \n",
            "3  Adult Patients with histologic confirmation of...  Contradiction   \n",
            "4  Laser Therapy is in each cohort of the primary...  Contradiction   \n",
            "\n",
            "  Primary_evidence_index Secondary_evidence_index  \n",
            "0            0,1,2,3,4,5              0,1,2,3,4,5  \n",
            "1            18,22,23,24                      NaN  \n",
            "2                    0,3               0,7,8,9,10  \n",
            "3              0,1,3,4,5                      NaN  \n",
            "4        0,1,2,3,4,5,6,7            0,1,2,3,4,5,6  \n",
            "(1700, 9)\n",
            "1570\n",
            "28380\n"
          ]
        },
        {
          "output_type": "execute_result",
          "data": {
            "text/plain": [
              "29950"
            ]
          },
          "metadata": {},
          "execution_count": 36
        }
      ],
      "source": [
        "CORPORA = []\n",
        "\n",
        "\n",
        "def numInPair(numStm, numPrem):\n",
        "  if len(numStm) > 0 and len(numPrem)>0:\n",
        "    return True\n",
        "  return False\n",
        "\n",
        "STM = pd.read_csv(TRAIN_DATA) #, nrows=40\n",
        "print(STM.head(5))\n",
        "print(STM.shape)\n",
        "\n",
        "numericalInsts = 0\n",
        "numericalPairsInsts = 0\n",
        "\n",
        "countPairSingle = 0\n",
        "countPairComparison = 0\n",
        "\n",
        "\n",
        "countPairEntailment = 0\n",
        "countPairContradiction = 0\n",
        "\n",
        "_EVIDENCES=[]\n",
        "_EVIDENCES_EX=[]\n",
        "_HYPOTESIS=[]\n",
        "Y_LABELS=np.array([], dtype=\"int32\")\n",
        "\n",
        "if not WITH_STATE_SAVED:\n",
        "  # exit()\n",
        "  CT_index = -1\n",
        "  for id in STM['Id']:\n",
        "      evidences = []\n",
        "      CT_index = CT_index+1\n",
        "      CTid = STM['Primary_id'][CT_index]\n",
        "      ctIndxLabel = STM['Label'][CT_index]\n",
        "      hypotesis = STM['Statement'][CT_index].strip()# normalizeDocument(STM['Statement'][CT_index], True)\n",
        "      hypotesisLen = len(hypotesis.split(' '))\n",
        "      statementsNums = containsNumericalInstances(hypotesis)\n",
        "      # statementDepSchema = extract_information(hypotesis)\n",
        "\n",
        "      if(hypotesisLen > 90):\n",
        "        print('%%%% Argument mai mare de 90 tokeni')\n",
        "      if (STM['Type'][CT_index] == \"Single\"):\n",
        "        primaryEvidenceIndexes = STM['Primary_evidence_index'][CT_index].split(',')\n",
        "        evidences = parseEvidenceSingle(hypotesis, CTid, STM['Section_id'][CT_index], primaryEvidenceIndexes, PREFIX, DEBUG1, DEBUG2)\n",
        "        ax = splitEvidence([], \"\", hypotesis, evidences, 0, DEBUG2)\n",
        "        # print(\"\\n ....... \" + ctIndxLabel + \"   -   \" + CTid + \"   \" + id)\n",
        "\n",
        "        dsNumObject = {}\n",
        "\n",
        "        prem_ex=[]\n",
        "        for evidenceFragment in ax:\n",
        "          premisesNums = containsNumericalInstances(evidenceFragment)\n",
        "          evd_ex = [readSeqToSpace(evidenceFragment, nn) for nn in premisesNums]\n",
        "          prem_ex = prem_ex + evd_ex\n",
        "        prem_cont = continue_overlaping(prem_ex[0:])\n",
        "\n",
        "        if len(prem_ex) == 0:\n",
        "          prem_ex = ' '.join(ax)\n",
        "        else:\n",
        "          prem_ex = ' '.join(prem_cont)\n",
        "\n",
        "\n",
        "        # cohorts = getCohorts(evidenceFragment)\n",
        "        # dsNumObject['cohort_effect']=cohorts\n",
        "        dsNumObject['id']=id\n",
        "        dsNumObject['primaryId']=CTid\n",
        "        dsNumObject['statement_text']=hypotesis\n",
        "        # dsNumObject['statement_deps']=statementDepSchema\n",
        "        dsNumObject['statement_nums']=continue_overlaping([readSeqToSpace(hypotesis, nn) for nn in statementsNums])\n",
        "        dsNumObject['label']=ctIndxLabel\n",
        "        dsNumObject['premise_text']=ax\n",
        "        dsNumObject['premise_nums']=prem_cont\n",
        "        dsNum.append(dsNumObject)\n",
        "\n",
        "        numericalInsts = numericalInsts + len(prem_cont) + len(statementsNums)\n",
        "\n",
        "        if(numInPair(statementsNums, prem_cont)):\n",
        "          _HYPOTESIS.append(hypotesis)\n",
        "          _EVIDENCES_EX.append(prem_ex)\n",
        "          if(ctIndxLabel == 'Entailment'):\n",
        "            Y_LABELS = np.append(Y_LABELS, [1], axis=0)\n",
        "          else:\n",
        "            Y_LABELS = np.append(Y_LABELS, [0], axis=0)\n",
        "          numericalPairsInsts = numericalPairsInsts + len(prem_cont) + len(statementsNums)\n",
        "          dsNumPair.append(dsNumObject)\n",
        "          countPairSingle = countPairSingle+1\n",
        "          if(ctIndxLabel == 'Entailment'):\n",
        "            countPairEntailment = countPairEntailment+1\n",
        "          else:\n",
        "            countPairContradiction = countPairContradiction+1\n",
        "\n",
        "        #     if (CT_index < 37):\n",
        "        #       print(\"     - \" + evidenceFragment)\n",
        "        #       print(premisesNums)\n",
        "        #   else:\n",
        "        #     print('the premise length is negligible ')\n",
        "\n",
        "        # if (CT_index < 37):\n",
        "        #   print(hypotesis)\n",
        "        #   print(statementsNums)\n",
        "        #   print(prem_ex)\n",
        "        if DEBUG1:\n",
        "            print('Analyzed CT entry: ' + str(CT_index) + \"  -  \"+ CTid+\"\\n\")\n",
        "\n",
        "      if (STM['Type'][CT_index] == \"Comparison\"):\n",
        "        CTidSecondary = STM['Secondary_id'][CT_index]\n",
        "        # print(\"\\n ....... \" + ctIndxLabel + \"   p: \" + CTid + \"   s: \" + CTidSecondary + \"   \"+ id)\n",
        "\n",
        "        primaryEvidenceIndexes = STM['Primary_evidence_index'][CT_index].split(',')\n",
        "        secondaryEvidenceIndexes = STM['Secondary_evidence_index'][CT_index].split(',')\n",
        "        premisesPrimary = parseEvidenceSingle(hypotesis, CTid, STM['Section_id'][CT_index], primaryEvidenceIndexes, PREFIX, DEBUG1, DEBUG2)\n",
        "        premisesSecondary = parseEvidenceSingle(hypotesis, CTidSecondary, STM['Section_id'][CT_index], secondaryEvidenceIndexes, PREFIX, DEBUG1, DEBUG2)\n",
        "        ax = splitEvidence([], \"\", hypotesis, premisesPrimary + premisesSecondary, 0, DEBUG2)\n",
        "\n",
        "        dsNumObject = {}\n",
        "\n",
        "        prem_ex=[]\n",
        "        for evidenceFragment in ax:\n",
        "          premisesNums = containsNumericalInstances(evidenceFragment)\n",
        "          evd_ex = [readSeqToSpace(evidenceFragment, nn) for nn in premisesNums]\n",
        "          prem_ex = prem_ex + evd_ex\n",
        "        prem_cont = continue_overlaping(prem_ex[0:])\n",
        "\n",
        "        if len(prem_ex) == 0:\n",
        "          prem_ex = ' '.join(ax)\n",
        "        else:\n",
        "          prem_ex = ' '.join(prem_cont)\n",
        "\n",
        "        # cohorts = getCohorts(evidenceFragment)\n",
        "        # dsNumObject['cohort_effect']=cohorts\n",
        "        dsNumObject['id']=id\n",
        "        dsNumObject['primaryId']=CTid\n",
        "        dsNumObject['secondaryId']=CTidSecondary\n",
        "        dsNumObject['statement_text']=hypotesis\n",
        "        # dsNumObject['statement_deps']=statementDepSchema\n",
        "        dsNumObject['statement_nums']=continue_overlaping([readSeqToSpace(hypotesis, nn) for nn in statementsNums])\n",
        "        dsNumObject['label']=ctIndxLabel\n",
        "        dsNumObject['premise_text']=ax\n",
        "        dsNumObject['premise_nums']=prem_cont\n",
        "        dsNum.append(dsNumObject)\n",
        "\n",
        "\n",
        "        numericalInsts = numericalInsts + len(prem_cont) + len(statementsNums)\n",
        "\n",
        "        if(numInPair(statementsNums, prem_cont)):\n",
        "          _HYPOTESIS.append(hypotesis)\n",
        "          _EVIDENCES_EX.append(prem_ex)\n",
        "          if(ctIndxLabel == 'Entailment'):\n",
        "            Y_LABELS = np.append(Y_LABELS, [1], axis=0)\n",
        "          else:\n",
        "            Y_LABELS = np.append(Y_LABELS, [0], axis=0)\n",
        "          numericalPairsInsts = numericalPairsInsts + len(prem_cont) + len(statementsNums)\n",
        "          dsNumPair.append(dsNumObject)\n",
        "          countPairComparison = countPairComparison+1\n",
        "          if(ctIndxLabel == 'Entailment'):\n",
        "            countPairEntailment = countPairEntailment+1\n",
        "          else:\n",
        "            countPairContradiction = countPairContradiction+1\n",
        "\n",
        "        # if (CT_index < 37):\n",
        "        #   print(hypotesis)\n",
        "        #   print(prem_ex)\n",
        "\n",
        "        # if (CT_index == 2000):\n",
        "        #     exit()\n",
        "        if DEBUG1:\n",
        "            print('Analyzed CT entry: ' + str(CT_index) + \"  -  \"+ CTid+\"\\n\")\n",
        "\n",
        "  print('.....................................')\n",
        "  print('Total: '+ str(len(dsNum)))\n",
        "  print('pairs: '+ str(len(dsNumPair)))\n",
        "\n",
        "  try:\n",
        "    with open(DS_PATH, 'w', encoding=\"utf-8\") as _file:\n",
        "      _file.write(json.dumps(dsNum, ensure_ascii=False))\n",
        "    with open(DS_PATH_PAIRS, 'w', encoding=\"utf-8\") as _file:\n",
        "      _file.write(json.dumps(dsNumPair, ensure_ascii=False))\n",
        "    # with open(DS_PATH) as json_file:\n",
        "    #     dataCT = json.load(json_file)\n",
        "  except:\n",
        "      print('\\n!!! Error for file: ')\n",
        "else:\n",
        "    try:\n",
        "        _EVIDENCES_EX = pd.read_json('/content/evidences.json')['evidences']\n",
        "        _HYPOTESIS = pd.read_json('/content/statements.json')['hypotesis']\n",
        "        Y_LABELS = pd.read_json('/content/labels.json')['labels']\n",
        "        print(len(_HYPOTESIS))\n",
        "        if checkif_state('/content/statements_q.json'):\n",
        "          _EVIDENCES_RR = pd.read_json('/content/evidences_q.json')['evidences']\n",
        "          _HYPOTESIS_RR = pd.read_json('/content/statements_q.json')['hypotesis']\n",
        "          Y_LABELS_RR = pd.read_json('/content/labels_q.json')['labels']\n",
        "          print(len(_HYPOTESIS_RR))\n",
        "          RAND_L = Y_LABELS_RR\n",
        "\n",
        "          _EVIDENCES_EX = [*_EVIDENCES_EX, *_EVIDENCES_RR]\n",
        "          _HYPOTESIS = [*_HYPOTESIS, *_HYPOTESIS_RR]\n",
        "          Y_LABELS = [*Y_LABELS, *Y_LABELS_RR]\n",
        "          Y_LABELS = np.array(Y_LABELS, dtype=\"int32\")\n",
        "    except Exception as err:\n",
        "        print('\\n! Error for file - reading state')\n",
        "        print(err)\n",
        "\n",
        "len(Y_LABELS)"
      ]
    },
    {
      "cell_type": "code",
      "source": [
        "# try:\n",
        "#     with open(DS_PATH_CORP, 'w', encoding=\"utf-8\") as _file:\n",
        "#       _file.write(json.dumps(CORPORA, ensure_ascii=False))\n",
        "# except:\n",
        "#     print('\\n!!! Error for file: ')\n",
        "\n",
        "CORPORA[:1]\n",
        "print(len(RAND_L), np.sum(RAND_L))"
      ],
      "metadata": {
        "colab": {
          "base_uri": "https://localhost:8080/"
        },
        "id": "Tt6H6stRt03q",
        "outputId": "d03927c2-b554-41ee-ab1a-7b3f305eea11"
      },
      "execution_count": null,
      "outputs": [
        {
          "output_type": "stream",
          "name": "stdout",
          "text": [
            "28380 17162\n"
          ]
        }
      ]
    },
    {
      "cell_type": "code",
      "execution_count": null,
      "metadata": {
        "colab": {
          "base_uri": "https://localhost:8080/"
        },
        "id": "tYavytEyHO6g",
        "outputId": "0cda2571-3e25-44cf-cbc5-005f6f5b6979"
      },
      "outputs": [
        {
          "output_type": "stream",
          "name": "stdout",
          "text": [
            "29950\n",
            "17942\n",
            "0.5990651085141904 0.40093489148580963\n"
          ]
        }
      ],
      "source": [
        "print(len(Y_LABELS))\n",
        "enttl = np.sum(Y_LABELS)\n",
        "print(enttl)\n",
        "print(enttl/len(Y_LABELS), 1-(enttl/len(Y_LABELS)))"
      ]
    },
    {
      "cell_type": "code",
      "execution_count": null,
      "metadata": {
        "colab": {
          "base_uri": "https://localhost:8080/"
        },
        "id": "Iin0nvN1mzBp",
        "outputId": "d76e8434-bbf4-4369-f136-ab483b575a94"
      },
      "outputs": [
        {
          "output_type": "stream",
          "name": "stdout",
          "text": [
            "LOG: with existing state\n",
            "28380 28380 28380 _c\n"
          ]
        }
      ],
      "source": [
        "def save_new_state(a,b,c, q=\"\"):\n",
        "  eevd = {}\n",
        "  eevd['evidences'] = b\n",
        "\n",
        "  hypt = {}\n",
        "  hypt['hypotesis'] = a\n",
        "\n",
        "  yspred = {}\n",
        "  yspred['labels'] = c.tolist()\n",
        "\n",
        "  try:\n",
        "    with open('/content/evidences'+q+'.json', 'w', encoding=\"utf-8\") as _file:\n",
        "      _file.write(json.dumps(eevd, ensure_ascii=False))\n",
        "    with open('/content/statements'+q+'.json', 'w', encoding=\"utf-8\") as _file:\n",
        "      _file.write(json.dumps(hypt, ensure_ascii=False))\n",
        "    with open('/content/labels'+q+'.json', 'w', encoding=\"utf-8\") as _file:\n",
        "      _file.write(json.dumps(yspred, ensure_ascii=False))\n",
        "  except Exception as e:\n",
        "      print('\\n!!! Error for file: ')\n",
        "      print(e)\n",
        "\n",
        "\n",
        "if not WITH_STATE_SAVED:\n",
        "  print(\"LOG: save new state\")\n",
        "  save_new_state(_HYPOTESIS, _EVIDENCES_EX, Y_LABELS)\n",
        "  if len(CORPORA) > 1:\n",
        "    print(\"LOG: save EXTRA new state\")\n",
        "    save_new_state(_HYPOTESIS_RR, _EVIDENCES_RR, Y_LABELS_RR, \"_q\")\n",
        "else:\n",
        "  print(\"LOG: with existing state\")\n",
        "\n",
        "\n",
        "print(len(_HYPOTESIS_RR), len(_EVIDENCES_RR), len(Y_LABELS_RR), \"_c\" )"
      ]
    },
    {
      "cell_type": "code",
      "execution_count": null,
      "metadata": {
        "id": "jBbzxaokxP7a",
        "colab": {
          "base_uri": "https://localhost:8080/"
        },
        "outputId": "3044d459-0129-46fc-c6f6-aa7a5ff174ba"
      },
      "outputs": [
        {
          "output_type": "stream",
          "name": "stdout",
          "text": [
            "PairSingle study: 0\n",
            "PairComparison study: 0\n",
            "Pairs labeled as Entailment: 0\n",
            "Pairs labeled as Contradiction: 0\n",
            "0\n",
            "0\n",
            "Total num instances 0\n",
            "Pair num instances 0\n"
          ]
        }
      ],
      "source": [
        "# pair = numerical instances found in statement and in premises\n",
        "print('PairSingle study: '+str(countPairSingle))\n",
        "print('PairComparison study: '+str(countPairComparison))\n",
        "print('Pairs labeled as Entailment: '+str(countPairEntailment))\n",
        "print('Pairs labeled as Contradiction: '+str(countPairContradiction))\n",
        "\n",
        "print(countPairSingle + countPairComparison)\n",
        "print(countPairEntailment + countPairContradiction)\n",
        "\n",
        "\n",
        "print('Total num instances '+ str(numericalInsts))\n",
        "print('Pair num instances '+ str(numericalPairsInsts))\n"
      ]
    },
    {
      "cell_type": "code",
      "execution_count": null,
      "metadata": {
        "id": "oxh0laHNBP2L",
        "colab": {
          "base_uri": "https://localhost:8080/"
        },
        "outputId": "61473524-fd7f-4316-f21d-b7ff764315f6"
      },
      "outputs": [
        {
          "output_type": "stream",
          "name": "stdout",
          "text": [
            "entriesWithNumInstInStatementAndPremise : 0.9235294117647059\n"
          ]
        }
      ],
      "source": [
        "# _EVIDENCES_EX = [s[:NVM] for s in _EVIDENCES_EX]\n",
        "# len(_EVIDENCES_EX)\n",
        "\n",
        "entriesWithNumInstInStatementAndPremise = (1570/1700)\n",
        "\n",
        "print(\"entriesWithNumInstInStatementAndPremise :\", entriesWithNumInstInStatementAndPremise)"
      ]
    },
    {
      "cell_type": "code",
      "execution_count": null,
      "metadata": {
        "id": "80F9mH8UbtiW",
        "colab": {
          "base_uri": "https://localhost:8080/"
        },
        "outputId": "ba6535c1-eaf2-447d-f0b8-0c9c6a8d878b"
      },
      "outputs": [
        {
          "output_type": "stream",
          "name": "stdout",
          "text": [
            "percentageOfpairsFromNumInst : 0.9814635406574953\n",
            "comparisonNumPairPercentage : 0.410828025477707\n",
            "singleNumPairPercentage : 0.589171974522293\n",
            "numInEntailmentPercentage : 0.4961783439490446\n",
            "numInContradictionPercentage : 0.5038216560509554\n"
          ]
        }
      ],
      "source": [
        "percentageOfpairsFromNumInst = (15196 / 15483)\n",
        "\n",
        "comparisonNumPairPercentage = 645/(925+645)\n",
        "singleNumPairPercentage = 925/(925+645)\n",
        "\n",
        "numInEntailmentPercentage = 779 / (779 + 791)\n",
        "numInContradictionPercentage = 791 / (779 + 791)\n",
        "\n",
        "print(\"percentageOfpairsFromNumInst :\", percentageOfpairsFromNumInst)\n",
        "print(\"comparisonNumPairPercentage :\", comparisonNumPairPercentage)\n",
        "print(\"singleNumPairPercentage :\", singleNumPairPercentage)\n",
        "\n",
        "print(\"numInEntailmentPercentage :\", numInEntailmentPercentage)\n",
        "print(\"numInContradictionPercentage :\", numInContradictionPercentage)"
      ]
    },
    {
      "cell_type": "code",
      "execution_count": null,
      "metadata": {
        "id": "1vqVLL_EKJ2S",
        "colab": {
          "base_uri": "https://localhost:8080/",
          "height": 511
        },
        "outputId": "d3cbbac3-1b9f-4fa5-c108-44a30c2fbd19"
      },
      "outputs": [
        {
          "output_type": "display_data",
          "data": {
            "text/plain": [
              "<Figure size 900x600 with 2 Axes>"
            ],
            "image/png": "[encoded data removed]"
          },
          "metadata": {}
        }
      ],
      "source": [
        "import matplotlib.pyplot as plt\n",
        "from matplotlib.patches import ConnectionPatch\n",
        "import numpy as np\n",
        "\n",
        "overall_ratios = [ 1-percentageOfpairsFromNumInst, percentageOfpairsFromNumInst]\n",
        "labels = ['Only in Statement', 'In both: statement & premises',]\n",
        "# pie chart parameters\n",
        "explode = [0, 0.1]\n",
        "\n",
        "# bar chart parameters\n",
        "age_ratios = [comparisonNumPairPercentage, singleNumPairPercentage]\n",
        "age_labels = [\"Single study\", \"Study comparison\"]\n",
        "\n",
        "def plotNumStats(overall_ratios, labels, explode, titl=\"Title\",age_ratios=None, age_labels=None):\n",
        "  # make figure and assign axis objects\n",
        "\n",
        "  if (age_labels):\n",
        "    fig, (ax1, ax2) = plt.subplots(1, 2, figsize=(9, 6))\n",
        "    fig.subplots_adjust(wspace=0)\n",
        "  else:\n",
        "    fig, (ax1) = plt.subplots(1, 1, figsize=(9, 6))\n",
        "\n",
        "\n",
        "\n",
        "  # rotate so that first wedge is split by the x-axis\n",
        "  angle = -180 * overall_ratios[0]\n",
        "  wedges, *_ = ax1.pie(overall_ratios, autopct='%1.1f%%', startangle=angle,\n",
        "                      labels=labels, explode=explode)\n",
        "\n",
        "  plt.suptitle(titl, size=22, fontweight=\"bold\", y=.99, ha='right');\n",
        "  if (age_ratios):\n",
        "    bottom = 1\n",
        "    width = .2\n",
        "\n",
        "    # Adding from the top matches the legend.\n",
        "    for j, (height, label) in enumerate(reversed([*zip(age_ratios, age_labels)])):\n",
        "        bottom -= height\n",
        "        bc = ax2.bar(0, height, width, bottom=bottom, color='C1', label=label,\n",
        "                    alpha=0.1 + 0.25 * j)\n",
        "        ax2.bar_label(bc, labels=[f\"{height:.0%}\"], label_type='center')\n",
        "\n",
        "    ax2.legend()\n",
        "    ax2.axis('off')\n",
        "    ax2.set_xlim(- 2.5 * width, 2.5 * width)\n",
        "\n",
        "    # use ConnectionPatch to draw lines between the two plots\n",
        "    theta1, theta2 = wedges[0].theta1, wedges[0].theta2\n",
        "    center, r = wedges[0].center, wedges[0].r\n",
        "    bar_height = sum(age_ratios)\n",
        "\n",
        "    # draw top connecting line\n",
        "    x = r * np.cos(np.pi / 180 * theta2) + center[0]\n",
        "    y = r * np.sin(np.pi / 180 * theta2) + center[1]\n",
        "    con = ConnectionPatch(xyB=(-width/2, bar_height), coordsA=ax2.transData,\n",
        "                          xyA=(-y, x), coordsB=ax1.transData)\n",
        "\n",
        "\n",
        "    con.set_color([0.1, 0.2, 0.3])\n",
        "    con.set_linewidth(1)\n",
        "    ax2.add_artist(con)\n",
        "\n",
        "    # draw bottom connecting line\n",
        "    x = r * np.cos(np.pi / 180 * theta1) + center[0]\n",
        "    y = r * np.sin(np.pi / 180 * theta1) + center[1]\n",
        "    con = ConnectionPatch(xyB=(-width / 2, 0), coordsB=ax2.transData,\n",
        "                          xyA=(y, -x), coordsA=ax1.transData)\n",
        "    con.set_color([0.1, 0.2, 0.3])\n",
        "    ax2.add_artist(con)\n",
        "    con.set_linewidth(1)\n",
        "  plt.show()\n",
        "\n",
        "\n",
        "plotNumStats(overall_ratios, labels, explode, titl='Numerical instances in training dataset:', age_ratios=age_ratios, age_labels=age_labels)"
      ]
    },
    {
      "cell_type": "code",
      "execution_count": null,
      "metadata": {
        "id": "6sADxhBwp4sS",
        "colab": {
          "base_uri": "https://localhost:8080/",
          "height": 525
        },
        "outputId": "b276eee7-980b-47dd-a99a-24ac471ee3ea"
      },
      "outputs": [
        {
          "output_type": "display_data",
          "data": {
            "text/plain": [
              "<Figure size 900x600 with 1 Axes>"
            ],
            "image/png": "[encoded data removed]"
          },
          "metadata": {}
        }
      ],
      "source": [
        "overall_ratios = [ numInEntailmentPercentage, numInContradictionPercentage]\n",
        "labels = ['Entailment', 'Contradiction',]\n",
        "# pie chart parameters\n",
        "explode = [0, 0.1]\n",
        "plotNumStats(overall_ratios, labels, explode, titl='Numerical instances in entries labeled as :', age_ratios=None, age_labels=None)"
      ]
    },
    {
      "cell_type": "code",
      "execution_count": null,
      "metadata": {
        "id": "HRDB_JoL7r7R",
        "colab": {
          "base_uri": "https://localhost:8080/",
          "height": 316
        },
        "outputId": "f77f64d8-f418-4345-d175-9ebc10cbed32"
      },
      "outputs": [
        {
          "output_type": "display_data",
          "data": {
            "text/plain": [
              "<Figure size 900x600 with 1 Axes>"
            ],
            "image/png": "[encoded data removed]"
          },
          "metadata": {}
        }
      ],
      "source": [
        "overall_ratios = [ entriesWithNumInstInStatementAndPremise, 1-entriesWithNumInstInStatementAndPremise]\n",
        "labels = ['Promts from traing set with Numerical instaces in Statement & Premise', 'Rest of promts',]\n",
        "# pie chart parameters\n",
        "explode = [0, 0.1]\n",
        "plotNumStats(overall_ratios, labels, explode, titl='Promts from traing set with & without Numerical instances :', age_ratios=None, age_labels=None)"
      ]
    },
    {
      "cell_type": "markdown",
      "metadata": {
        "id": "8dS2FKNWLWQT"
      },
      "source": [
        "\n",
        "## Encoding"
      ]
    },
    {
      "cell_type": "code",
      "source": [
        "\n",
        "bbx=tf.ragged.constant([[1],[2],[3],[4],[5]])\n",
        "bbx2=tf.ragged.constant([[10],[20],[30],[40],[50]])\n",
        "bbx[:20]\n",
        "\n",
        "cls = [tokenizer.convert_tokens_to_ids(['[CLS]'])]*bbx.shape[0]\n",
        "sep = [tokenizer.convert_tokens_to_ids(['[SEP]'])]*bbx.shape[0]\n",
        "\n",
        "\"hsh shska aksja\".split(\" \")\n",
        "\n",
        "_word_ids = tf.concat([cls, bbx, sep, bbx2], axis=-1)\n",
        "\n",
        "paddings = tf.constant([[0, 0,], [0, 7-5]])\n",
        "input_word_ids = tf.pad(_word_ids.to_tensor(), paddings, \"CONSTANT\", constant_values=0)\n",
        "\n",
        "rand = tf.random.uniform((input_word_ids.shape.dims[0], 6), minval=0, maxval=1, dtype='float32') # [[0.61032045, 0.4661429 , 0.0563488 , 0.5887629 , 0.31675005, 0.34749603, 0.10030305],\n",
        "rand = tf.reshape(rand, [-1]) # reduce dimension  [0.09289563, 0.38199985, 0.24819589, 0.26912534, 0.8378427 ,\n",
        "wids = tf.reshape(input_word_ids, [-1]) # reduce dimension   [101,   1, 102,  10,   0,   0, 101,   2,\n",
        "#wids = np.array([101,   1, 102,  10,   0,   0, 101,   2, 102,  20,   0,   0, 101, 3, 102,  30,   0,   0, 101,   4, 102,  40,   0,   0, 101,   5, 102,  50,   0,   0], dtype='int32')\n",
        "#wids.shape\n",
        "\n",
        "randw = np.where((wids != 101), rand, 0.1) # set 101 to 0.1 pt switch CLS True\n",
        "randw = tf.where((wids != 102).numpy(), randw, 0.1) # la fel\n",
        "randw = (randw < 0.8) # prad de selectie aleatoare\n",
        "input_mask = tf.where(randw, tf.ones_like(wids), 0)\n",
        "input_mask"
      ],
      "metadata": {
        "colab": {
          "base_uri": "https://localhost:8080/"
        },
        "id": "MOVNtetCrK70",
        "outputId": "ed870def-2301-466b-bd50-23e84119efbb"
      },
      "execution_count": null,
      "outputs": [
        {
          "output_type": "execute_result",
          "data": {
            "text/plain": [
              "<tf.Tensor: shape=(30,), dtype=int32, numpy=\n",
              "array([1, 1, 1, 1, 1, 1, 1, 1, 1, 1, 1, 0, 1, 0, 1, 0, 0, 1, 1, 0, 1, 1,\n",
              "       1, 1, 1, 0, 1, 1, 1, 0], dtype=int32)>"
            ]
          },
          "metadata": {},
          "execution_count": 46
        }
      ]
    },
    {
      "cell_type": "code",
      "execution_count": null,
      "metadata": {
        "id": "YrhRmLyMH_fn"
      },
      "outputs": [],
      "source": [
        "def encode_data_to_tensors(statements, evidences, tokenizer, dim):\n",
        "\n",
        "    tokStm = [encode_sentence(s)[:STMSZ]\n",
        "            for s in statements]\n",
        "\n",
        "    tokPrem = [encode_sentence(s)[:(VECTOR_MAX-STMSZ-3)]\n",
        "        for s in evidences]\n",
        "    # tokZip = list(zip(tokStm, tokPrem))\n",
        "\n",
        "    # tokIntersect = [np.where(np.in1d(xt[0], np.intersect1d(xt[0], xt[1])), np.zeros_like(xt[0]), [1])\n",
        "    #     for xt in tokZip]\n",
        "    # type_s1 = tf.ragged.constant(tokIntersect);\n",
        "\n",
        "    # tokIntersect = [np.where(np.in1d(xt[1], np.intersect1d(xt[0], xt[1])), np.zeros_like(xt[1]), [1])\n",
        "    #     for xt in tokZip]\n",
        "    # type_s2 = tf.ragged.constant(tokIntersect);\n",
        "\n",
        "    statementsTokenizedTensor = tf.ragged.constant(tokStm)\n",
        "    evidencesTokenizedTensor = tf.ragged.constant(tokPrem)\n",
        "\n",
        "\n",
        "    cls = [tokenizer.convert_tokens_to_ids(['[CLS]'])]*statementsTokenizedTensor.shape[0]\n",
        "    sep = [tokenizer.convert_tokens_to_ids(['[SEP]'])]*statementsTokenizedTensor.shape[0]\n",
        "    _word_ids = tf.concat([cls, statementsTokenizedTensor, sep, evidencesTokenizedTensor], axis=-1)\n",
        "    ii = 0\n",
        "    max = 0\n",
        "    for ip in _word_ids:\n",
        "        ii = ii + 1\n",
        "        if (ip.shape[0] >= max):\n",
        "            max = ip.shape[0]\n",
        "            # print(ii)\n",
        "            # print(max)\n",
        "    print(\"Dataset MAX (dim): \")\n",
        "    print(max)\n",
        "\n",
        "    # Padding - adaug 0 sau 1 la tensori pt a avea aceiasi dimensiune\n",
        "    # paggings [ top bottom ] [left right] - adaug doar la final\n",
        "    paddings = tf.constant([[0, 0,], [0, dim-max]])\n",
        "    input_word_ids = tf.pad(_word_ids.to_tensor(), paddings, \"CONSTANT\", constant_values=0)\n",
        "    input_mask2 = tf.ones_like(input_word_ids)\n",
        "\n",
        "    rand = tf.random.uniform((input_word_ids.shape.dims[0], dim), minval=0, maxval=1, dtype='float32')\n",
        "    rand = tf.reshape(rand, [-1])\n",
        "    wids = tf.reshape(input_word_ids, [-1])\n",
        "    randw = tf.where((wids != 101).numpy(), rand, 0.1)\n",
        "    randw = tf.where((wids != 102).numpy(), randw, 0.1)\n",
        "    randw = (randw < 0.70)\n",
        "    input_mask = tf.where(randw, tf.ones_like(wids), 0)\n",
        "    input_mask = tf.reshape(input_mask, [input_word_ids.shape.dims[0], dim])\n",
        "    print(\"-----#----\")\n",
        "    print(input_mask.shape)\n",
        "    print(input_mask)\n",
        "    print(\"-----@----\")\n",
        "\n",
        "    type_cls = tf.zeros_like(cls)\n",
        "    type_s1 = tf.ones_like(statementsTokenizedTensor)\n",
        "    type_s2 = tf.ones_like(evidencesTokenizedTensor)\n",
        "    input_type_ids = tf.pad(tf.concat(\n",
        "        [type_cls, type_s1, type_s2], axis=-1).to_tensor(), paddings, \"CONSTANT\", constant_values=0)\n",
        "\n",
        "\n",
        "    type_cls = tf.zeros_like(cls)\n",
        "    type_sep = tf.zeros_like(sep)\n",
        "    type_s1 = tf.zeros_like(statementsTokenizedTensor)\n",
        "    type_s2 = tf.ones_like(evidencesTokenizedTensor)\n",
        "    input_type_ids = tf.pad(tf.concat(\n",
        "        [type_cls, type_s1, type_sep, type_s2], axis=-1).to_tensor(), paddings, \"CONSTANT\", constant_values=0)\n",
        "    # input_type_ids = tf.pad(input_mask, paddings, \"CONSTANT\", constant_values=0)\n",
        "\n",
        "    inputs = {\n",
        "        'input_word_ids': input_word_ids,\n",
        "        'input_mask': input_mask,\n",
        "        'input_type_ids': input_type_ids\n",
        "        }\n",
        "\n",
        "    return inputs\n"
      ]
    },
    {
      "cell_type": "markdown",
      "metadata": {
        "id": "vkEsGbjHLgwa"
      },
      "source": [
        "## Model declaration"
      ]
    },
    {
      "cell_type": "code",
      "execution_count": null,
      "metadata": {
        "id": "Q9JRWERTgkiJ"
      },
      "outputs": [],
      "source": [
        "def build_cnn_model():\n",
        "    bert_encoder = TFBertModel.from_pretrained(model_name)\n",
        "    # bert_encoder = AutoModel.from_pretrained(model_name)\n",
        "    input_word_ids = tf.keras.Input(shape=(VECTOR_MAX,), dtype=tf.int32, name=\"input_word_ids\")\n",
        "    input_mask = tf.keras.Input(shape=(VECTOR_MAX,), dtype=tf.int32, name=\"input_mask\")\n",
        "    input_type_ids = tf.keras.Input(shape=(VECTOR_MAX,), dtype=tf.int32, name=\"input_type_ids\")\n",
        "    # print(input_word_ids)\n",
        "\n",
        "    #embedding = bert_encoder([input_word_ids, input_mask, input_type_ids])[0]\n",
        "\n",
        "    # print(embedding.shape)\n",
        "    # print(embedding[:,0,:].shape)\n",
        "    # print(input_word_ids.shape)\n",
        "\n",
        "    # lstm = tf.keras.layers.LSTM(10, return_sequences=True, return_state=True)(tf.reshape(input_word_ids, [10, 30]))\n",
        "    # lstm = tf.keras.layers.Bidirectional(tf.keras.layers.LSTM(300, return_sequences=True, input_shape=(0, 300)))(input_word_ids)\n",
        "\n",
        "    # x = tf.keras.layers.Dense(LAYER_1_NODES, kernel_initializer = 'random_uniform', activation=LAYER_1_ACTIVATION)(embedding[:,0,:])\n",
        "    x = tf.keras.layers.Dense(512, activation=LAYER_1_ACTIVATION)(input_word_ids)\n",
        "    x = tf.keras.layers.LeakyReLU(0.9)(x)\n",
        "    x = tf.keras.layers.Dense(2048, activation=LAYER_1_ACTIVATION)(x)\n",
        "    x = tf.keras.layers.LeakyReLU(0.9)(x)\n",
        "    x = tf.keras.layers.Dense(4096, activation=LAYER_1_ACTIVATION)(x)\n",
        "    x = tf.keras.layers.LeakyReLU(0.9)(x)\n",
        "    x = tf.keras.layers.Dense(19048, activation=LAYER_1_ACTIVATION)(x)\n",
        "    x = tf.keras.layers.LeakyReLU(0.9)(x)\n",
        "    x = tf.keras.layers.Dense(16128, activation=LAYER_1_ACTIVATION)(x)\n",
        "    x = tf.keras.layers.LeakyReLU(0.9)(x)\n",
        "    x = tf.keras.layers.Dense(12024, activation=LAYER_1_ACTIVATION)(x)\n",
        "    x = tf.keras.layers.LeakyReLU(0.9)(x)\n",
        "    x = tf.keras.layers.Dense(9096, activation=LAYER_1_ACTIVATION)(x)\n",
        "    x = tf.keras.layers.LeakyReLU(0.9)(x)\n",
        "    x = tf.keras.layers.Dense(4098, activation=LAYER_1_ACTIVATION)(x)\n",
        "    x = tf.keras.layers.LeakyReLU(0.9)(x)\n",
        "    x = tf.keras.layers.Dense(256, activation=LAYER_1_ACTIVATION)(x)\n",
        "    x = tf.keras.layers.LeakyReLU(0.9)(x)\n",
        "    x = tf.keras.layers.Dense(128, activation=LAYER_1_ACTIVATION)(x)\n",
        "    x = tf.keras.layers.LeakyReLU(0.9)(x)\n",
        "    x = tf.keras.layers.Dense(64, activation=LAYER_1_ACTIVATION)(x)\n",
        "    x = tf.keras.layers.LeakyReLU(0.9)(x)\n",
        "    x = tf.keras.layers.Dense(32, activation=LAYER_1_ACTIVATION)(x)\n",
        "    x = tf.keras.layers.LeakyReLU(0.9)(x)\n",
        "    output = tf.keras.layers.Dense(2, activation=LAYER_2_ACTIVATION)(x)\n",
        "\n",
        "    learning_rate = 5e-5\n",
        "\n",
        "\n",
        "    model = tf.keras.Model(inputs=[input_word_ids,input_mask,input_type_ids], outputs=output)\n",
        "    model.compile(tf.keras.optimizers.Adam(learning_rate=learning_rate), loss=LOSS_FN, metrics=[METRIC])  # decay=learning_rate/(epochs*0.5)\n",
        "    # decay=learning_rate/(EPOCHS*0.15)\n",
        "    return model"
      ]
    },
    {
      "cell_type": "code",
      "execution_count": null,
      "metadata": {
        "id": "Rr5cfnAG5kJo"
      },
      "outputs": [],
      "source": [
        "def build_model():\n",
        "    bert_encoder = TFBertModel.from_pretrained(model_name)\n",
        "    # bert_encoder = TFRobertaModel.from_pretrained(model_name)\n",
        "    input_word_ids = tf.keras.Input(shape=(VECTOR_MAX,), dtype=tf.int32, name=\"input_word_ids\")\n",
        "    input_mask = tf.keras.Input(shape=(VECTOR_MAX,), dtype=tf.int32, name=\"input_mask\")\n",
        "    input_type_ids = tf.keras.Input(shape=(VECTOR_MAX,), dtype=tf.int32, name=\"input_type_ids\")\n",
        "    # print(input_word_ids)\n",
        "\n",
        "    embedding = bert_encoder([input_word_ids, input_mask, input_type_ids])[0]\n",
        "\n",
        "    # lstm = tf.keras.layers.LSTM(64, return_sequences=True, return_state=True)(embedding[:,0,:])\n",
        "    x = tf.keras.layers.Dense(32, activation=LAYER_1_ACTIVATION)(embedding[:,0,:])\n",
        "    x = tf.keras.layers.LeakyReLU(0.9)(x)\n",
        "    x = tf.keras.layers.Dense(512, activation=LAYER_1_ACTIVATION)(x)\n",
        "    x = tf.keras.layers.LeakyReLU(0.9)(x)\n",
        "    x = tf.keras.layers.Dense(2048, activation=LAYER_1_ACTIVATION)(x)\n",
        "    x = tf.keras.layers.LeakyReLU(0.9)(x)\n",
        "    x = tf.keras.layers.Dense(18372, activation=LAYER_1_ACTIVATION)(x)\n",
        "    x = tf.keras.layers.LeakyReLU(0.9)(x)\n",
        "    x = tf.keras.layers.Dense(4024, activation=LAYER_1_ACTIVATION)(x)\n",
        "    x = tf.keras.layers.LeakyReLU(0.9)(x)\n",
        "    x = tf.keras.layers.Dense(512, activation=LAYER_1_ACTIVATION)(x)\n",
        "    x = tf.keras.layers.LeakyReLU(0.9)(x)\n",
        "    x = tf.keras.layers.Dense(128, activation=LAYER_1_ACTIVATION)(x)\n",
        "    x = tf.keras.layers.LeakyReLU(0.9)(x)\n",
        "    x = tf.keras.layers.Dense(64, activation=LAYER_1_ACTIVATION)(x)\n",
        "    x = tf.keras.layers.LeakyReLU(0.9)(x)\n",
        "    x = tf.keras.layers.Dense(32, activation=LAYER_1_ACTIVATION)(x)\n",
        "    x = tf.keras.layers.LeakyReLU(0.9)(x)\n",
        "    output = tf.keras.layers.Dense(2, activation=LAYER_2_ACTIVATION)(x)\n",
        "\n",
        "    learning_rate = 2e-5\n",
        "\n",
        "\n",
        "    model = tf.keras.Model(inputs=[input_word_ids, input_mask, input_type_ids], outputs=output)\n",
        "    model.compile(tf.keras.optimizers.Adam(learning_rate=learning_rate), loss=LOSS_FN, metrics=[METRIC])  # decay=learning_rate/(epochs*0.5)\n",
        "\n",
        "    # model.compile(tf.keras.optimizers.Adam(learning_rate=learning_rate), loss=tf.keras.losses.BinaryCrossentropy(\n",
        "    #     label_smoothing=0.0,\n",
        "    #     axis=-1,\n",
        "    #     name=\"binary_crossentropy\",\n",
        "    # ), metrics=[METRIC])  # decay=learning_rate/(epochs*0.5)\n",
        "\n",
        "    return model\n"
      ]
    },
    {
      "cell_type": "code",
      "execution_count": null,
      "metadata": {
        "id": "dw8gC2VARJ3W"
      },
      "outputs": [],
      "source": []
    },
    {
      "cell_type": "markdown",
      "metadata": {
        "id": "ZnJLS7f5LD5D"
      },
      "source": [
        "# Fit and Run model"
      ]
    },
    {
      "cell_type": "markdown",
      "metadata": {
        "id": "efulGwmSuYhv"
      },
      "source": [
        "## Evaluare, test data\n"
      ]
    },
    {
      "cell_type": "code",
      "execution_count": null,
      "metadata": {
        "colab": {
          "base_uri": "https://localhost:8080/"
        },
        "id": "RLgRGfgH5g_M",
        "outputId": "50cb6c39-a994-4ac5-d1a0-92ddf18c3af2"
      },
      "outputs": [
        {
          "output_type": "stream",
          "name": "stdout",
          "text": [
            "Dataset MAX (dim): \n",
            "169\n",
            "-----#----\n",
            "(29950, 170)\n",
            "tf.Tensor(\n",
            "[[1 1 1 ... 1 1 1]\n",
            " [1 0 1 ... 1 1 0]\n",
            " [1 1 1 ... 1 1 1]\n",
            " ...\n",
            " [1 0 1 ... 1 1 0]\n",
            " [1 1 0 ... 1 0 1]\n",
            " [1 1 0 ... 1 1 0]], shape=(29950, 170), dtype=int32)\n",
            "-----@----\n",
            "DEBUG train shapes: \n",
            "(29950, 170)\n"
          ]
        }
      ],
      "source": [
        "train_input = encode_data_to_tensors(_HYPOTESIS, _EVIDENCES_EX, tokenizer, VECTOR_MAX)\n",
        "gc.collect()\n",
        "# check shape data\n",
        "print('DEBUG train shapes: ')\n",
        "print(train_input['input_word_ids'].shape)\n",
        "# print(train_input['input_mask'].shape)\n",
        "#print(train_input['input_type_ids'].shape)"
      ]
    },
    {
      "cell_type": "code",
      "execution_count": null,
      "metadata": {
        "colab": {
          "base_uri": "https://localhost:8080/",
          "height": 448
        },
        "id": "zEzPRbFgdMUU",
        "outputId": "d6787567-25a8-46f0-face-ccdc960649dc"
      },
      "outputs": [
        {
          "output_type": "execute_result",
          "data": {
            "text/plain": [
              "<matplotlib.collections.QuadMesh at 0x7f3cb5a111b0>"
            ]
          },
          "metadata": {},
          "execution_count": 51
        },
        {
          "output_type": "display_data",
          "data": {
            "text/plain": [
              "<Figure size 640x480 with 1 Axes>"
            ],
            "image/png": "[encoded data removed]"
          },
          "metadata": {}
        }
      ],
      "source": [
        "plt.pcolormesh(train_input['input_word_ids'])"
      ]
    },
    {
      "cell_type": "code",
      "execution_count": null,
      "metadata": {
        "colab": {
          "base_uri": "https://localhost:8080/",
          "height": 448
        },
        "id": "yEsFU-YOgpMV",
        "outputId": "ab5c065c-5647-452b-a896-46352d667058"
      },
      "outputs": [
        {
          "output_type": "execute_result",
          "data": {
            "text/plain": [
              "<matplotlib.collections.QuadMesh at 0x7f3ca0454eb0>"
            ]
          },
          "metadata": {},
          "execution_count": 52
        },
        {
          "output_type": "display_data",
          "data": {
            "text/plain": [
              "<Figure size 640x480 with 1 Axes>"
            ],
            "image/png": "[encoded data removed]"
          },
          "metadata": {}
        }
      ],
      "source": [
        "plt.pcolormesh(train_input['input_type_ids'])"
      ]
    },
    {
      "cell_type": "code",
      "execution_count": null,
      "metadata": {
        "colab": {
          "base_uri": "https://localhost:8080/"
        },
        "id": "XtS02ZHPl1M_",
        "outputId": "dff70427-6dc0-4e63-da10-2fab5640db72"
      },
      "outputs": [
        {
          "output_type": "execute_result",
          "data": {
            "text/plain": [
              "['All the primary trial participants do not receive any oral capecitabine  oral lapatinib ditosylate or cixutumumab IV  in conrast all the secondary trial subjects receive these ',\n",
              " 'Patients with Platelet count over 100,000/mm¬¨‚â•, ANC smaller than 1,700/mm¬¨‚â• and Hemoglobin between 4 to 5 grams per deciliter are eligible for the primary trial ',\n",
              " 'Heart-related adverse events were recorded in both the primary trial and the secondary trial ',\n",
              " 'Adult Patients with histologic confirmation of invasive bilateral breast carcinoma (T1 N1 M1) are eligible for the primary trial ',\n",
              " 'Laser Therapy is in each cohort of the primary trial and the secondary trial  along with neoadjuvant chemotherapy ']"
            ]
          },
          "metadata": {},
          "execution_count": 53
        }
      ],
      "source": [
        "_HYPOTESIS[:5]"
      ]
    },
    {
      "cell_type": "code",
      "execution_count": null,
      "metadata": {
        "colab": {
          "base_uri": "https://localhost:8080/",
          "height": 569,
          "referenced_widgets": [
            "0984e7b72875477faab7037907d643f0",
            "8314dba3a62943b494b81a41dad93bac",
            "768bee9b2c6042c8b792ecdd496cdeac",
            "ab98af89ec8d4fc893cc8fcdd1f79872",
            "b8092124a63e47cb9c6e30d6e777a5d5",
            "2a7b41329fbc48a7af216ee031446774",
            "78a8b09ddc76478d9cb02eefbd6d9dde",
            "5d7e3bc2f9714ebda670e2c596a305fb",
            "effbdf82bc414eebbe835ede6f265f1e",
            "61c2945e60ee4937b38aa4cc182e6890",
            "e48db0bec0484f38b5270146c2bb7979"
          ]
        },
        "id": "qwnkYMFBKeMp",
        "outputId": "9563c8f3-fdd2-4296-d0a2-be0da3456e25"
      },
      "outputs": [
        {
          "output_type": "display_data",
          "data": {
            "text/plain": [
              "Downloading tf_model.h5:   0%|          | 0.00/434M [00:00<?, ?B/s]"
            ],
            "application/vnd.jupyter.widget-view+json": {
              "version_major": 2,
              "version_minor": 0,
              "model_id": "0984e7b72875477faab7037907d643f0"
            }
          },
          "metadata": {}
        },
        {
          "output_type": "stream",
          "name": "stderr",
          "text": [
            "All model checkpoint layers were used when initializing TFBertModel.\n",
            "\n",
            "All the layers of TFBertModel were initialized from the model checkpoint at giacomomiolo/biobert_reupload.\n",
            "If your task is similar to the task the model of the checkpoint was trained on, you can already use TFBertModel for predictions without further training.\n"
          ]
        },
        {
          "output_type": "stream",
          "name": "stdout",
          "text": [
            "dim ipoteze:\n",
            "29950\n",
            "dim evidențe:\n",
            "0\n",
            "dim Y:\n",
            "29950\n",
            "Epoch 1/7\n"
          ]
        },
        {
          "output_type": "stream",
          "name": "stderr",
          "text": [
            "WARNING:tensorflow:Gradients do not exist for variables ['tf_bert_model/bert/pooler/dense/kernel:0', 'tf_bert_model/bert/pooler/dense/bias:0'] when minimizing the loss. If you're using `model.compile()`, did you forget to provide a `loss` argument?\n",
            "WARNING:tensorflow:Gradients do not exist for variables ['tf_bert_model/bert/pooler/dense/kernel:0', 'tf_bert_model/bert/pooler/dense/bias:0'] when minimizing the loss. If you're using `model.compile()`, did you forget to provide a `loss` argument?\n",
            "WARNING:tensorflow:Gradients do not exist for variables ['tf_bert_model/bert/pooler/dense/kernel:0', 'tf_bert_model/bert/pooler/dense/bias:0'] when minimizing the loss. If you're using `model.compile()`, did you forget to provide a `loss` argument?\n",
            "WARNING:tensorflow:Gradients do not exist for variables ['tf_bert_model/bert/pooler/dense/kernel:0', 'tf_bert_model/bert/pooler/dense/bias:0'] when minimizing the loss. If you're using `model.compile()`, did you forget to provide a `loss` argument?\n"
          ]
        },
        {
          "output_type": "stream",
          "name": "stdout",
          "text": [
            "599/599 [==============================] - 329s 477ms/step - loss: 0.3802 - accuracy: 0.8258 - val_loss: 0.2604 - val_accuracy: 0.8962\n",
            "Epoch 2/7\n",
            "599/599 [==============================] - 274s 457ms/step - loss: 0.2398 - accuracy: 0.8925 - val_loss: 0.2254 - val_accuracy: 0.9192\n",
            "Epoch 3/7\n",
            "599/599 [==============================] - 273s 456ms/step - loss: 0.1844 - accuracy: 0.9181 - val_loss: 0.1991 - val_accuracy: 0.9255\n",
            "Epoch 4/7\n",
            "599/599 [==============================] - 273s 455ms/step - loss: 0.1418 - accuracy: 0.9345 - val_loss: 0.2217 - val_accuracy: 0.9260\n",
            "Epoch 5/7\n",
            "599/599 [==============================] - 272s 455ms/step - loss: 0.1158 - accuracy: 0.9462 - val_loss: 0.2027 - val_accuracy: 0.9327\n",
            "Epoch 6/7\n",
            "599/599 [==============================] - 273s 455ms/step - loss: 0.0939 - accuracy: 0.9545 - val_loss: 0.2833 - val_accuracy: 0.9279\n",
            "Epoch 7/7\n",
            "599/599 [==============================] - 272s 455ms/step - loss: 0.0798 - accuracy: 0.9609 - val_loss: 0.2362 - val_accuracy: 0.9319\n"
          ]
        }
      ],
      "source": [
        "gc.collect()\n",
        "# model = build_model()\n",
        "model = build_model()\n",
        "# df = pd.DataFrame()\n",
        "# df['Y'] = Y_LABELS\n",
        "\n",
        "\n",
        "print(\"dim ipoteze:\")\n",
        "print(len(_HYPOTESIS))\n",
        "print(\"dim evidențe:\")\n",
        "print(len(_EVIDENCES))\n",
        "print(\"dim Y:\")\n",
        "print(len(Y_LABELS))\n",
        "\n",
        "history = model.fit(x=train_input, y=Y_LABELS, epochs = 7, verbose = 1, batch_size = 40, validation_split = 0.2)"
      ]
    },
    {
      "cell_type": "markdown",
      "metadata": {
        "id": "IKqekTjeXSby"
      },
      "source": [
        "At the point of val_loss getting further than the loss you are over-fitting and need to take adequate measures.\n",
        "\n",
        "The accuracy measure greatly depends on your data as it counts for the percentage of correct classifications. Imbalanced classes in your data splits could lead to different accuracy measures."
      ]
    },
    {
      "cell_type": "code",
      "execution_count": null,
      "metadata": {
        "colab": {
          "base_uri": "https://localhost:8080/",
          "height": 532
        },
        "id": "Y3dy2XI5f2fR",
        "outputId": "4405eba0-5118-4acf-ef2c-2464afa46f4f"
      },
      "outputs": [
        {
          "output_type": "execute_result",
          "data": {
            "text/plain": [
              "(0.0, 0.39525916017591955)"
            ]
          },
          "metadata": {},
          "execution_count": 55
        },
        {
          "output_type": "display_data",
          "data": {
            "text/plain": [
              "<Figure size 1600x800 with 2 Axes>"
            ],
            "image/png": "[encoded data removed]"
          },
          "metadata": {}
        }
      ],
      "source": [
        "def plot_graphs(history, metric):\n",
        "  plt.plot(history.history[metric])\n",
        "  plt.plot(history.history['val_'+metric], '')\n",
        "  plt.xlabel(\"Epochs\")\n",
        "  plt.ylabel(metric)\n",
        "  plt.legend([metric, 'val_'+metric])\n",
        "\n",
        "import matplotlib.pyplot as plt\n",
        "plt.figure(figsize=(16, 8))\n",
        "plt.subplot(1, 2, 1)\n",
        "plot_graphs(history, 'accuracy')\n",
        "plt.ylim(None, 1)\n",
        "plt.subplot(1, 2, 2)\n",
        "plot_graphs(history, 'loss')\n",
        "plt.ylim(0, None)"
      ]
    },
    {
      "cell_type": "code",
      "execution_count": null,
      "metadata": {
        "id": "lRG0xE3rQQsT"
      },
      "outputs": [],
      "source": [
        "DS_PATH_DEV = PREFIX+ '/NLI4CT_numerical_instances_dev.json'\n",
        "DS_PATH_PAIRS_DEV = PREFIX+ '/pairs_NLI4CT_numerical_instances_dev.json'\n",
        "dsNumDev = []\n",
        "dsNumPairDev = []\n",
        "\n",
        "\n",
        "numericalInsts = 0\n",
        "numericalPairsInsts = 0\n",
        "\n",
        "countPairSingle = 0\n",
        "countPairComparison = 0\n",
        "\n",
        "\n",
        "countPairEntailment = 0\n",
        "countPairContradiction = 0"
      ]
    },
    {
      "cell_type": "code",
      "execution_count": null,
      "metadata": {
        "colab": {
          "base_uri": "https://localhost:8080/"
        },
        "id": "ekYVxUf_HRB0",
        "outputId": "6e626361-1c51-4495-f367-52ce22297dd6"
      },
      "outputs": [
        {
          "output_type": "stream",
          "name": "stdout",
          "text": [
            "                                     Id        Type      Section_id  \\\n",
            "0  1adc970c-d433-44d0-aa09-d3834986f7a2      Single         Results   \n",
            "1  6b9162d0-0816-46d4-81af-c60028dcc63b  Comparison     Eligibility   \n",
            "2  0b6cc8e3-69ee-4a91-b93d-2ad3fddce65f  Comparison  Adverse Events   \n",
            "3  cc1f712a-2116-4e40-9810-f315e3fa5ff8      Single         Results   \n",
            "4  904061c0-14fa-4f13-9118-9a41e24fa8eb      Single     Eligibility   \n",
            "\n",
            "    Primary_id Secondary_id  \\\n",
            "0  NCT00066573          NaN   \n",
            "1  NCT00425854  NCT01224678   \n",
            "2  NCT02273973  NCT00281697   \n",
            "3  NCT00593346          NaN   \n",
            "4  NCT02340221          NaN   \n",
            "\n",
            "                                           Statement          Label  \\\n",
            "0  there is a 13.2% difference between the result...  Contradiction   \n",
            "1  Patients with significantly elevated ejection ...  Contradiction   \n",
            "2  a significant number of the participants in th...  Contradiction   \n",
            "3  the primary trial does not report the PFS or o...     Entailment   \n",
            "4  Prior treatment with fulvestrant or with a pho...  Contradiction   \n",
            "\n",
            "                        Primary_evidence_index  \\\n",
            "0  0,1,2,3,4,5,6,7,8,9,10,11,12,13,14,15,16,17   \n",
            "1                                           15   \n",
            "2                                         5,18   \n",
            "3                                      0,1,2,3   \n",
            "4                                           13   \n",
            "\n",
            "                            Secondary_evidence_index  \n",
            "0                                                NaN  \n",
            "1           0,1,2,3,4,5,6,7,8,9,10,11,12,13,14,15,16  \n",
            "2  0,1,2,3,4,5,6,7,8,9,10,11,12,13,14,15,16,17,18...  \n",
            "3                                                NaN  \n",
            "4                                                NaN  \n",
            "(200, 9)\n",
            ".....................................\n",
            "Total: 200\n",
            "pairs: 0\n",
            ".....................................\n",
            "PairSingle study: 119\n",
            "PairComparison study: 60\n",
            "Pairs labeled as Entailment: 90\n",
            "Pairs labeled as Contradiction: 89\n",
            "179\n",
            "179\n",
            "Total num instances 1807\n",
            "Pair num instances 1762\n",
            ".....................................\n",
            "dim ipoteze:\n",
            "0\n",
            "dim evidențe:\n",
            "0\n",
            "dim Y:\n",
            "179\n"
          ]
        }
      ],
      "source": [
        "TEST_STM = pd.read_csv(TEST_DATA) #, nrows=40\n",
        "print(TEST_STM.head(5))\n",
        "print(TEST_STM.shape)\n",
        "\n",
        "TTEST_COL = True\n",
        "\n",
        "# exit()\n",
        "TEST_EVIDENCES=[]\n",
        "TEST_EVIDENCES_EX=[]\n",
        "TEST_HYPOTESIS=[]\n",
        "TEST_UUID=[]\n",
        "TEST_LABEL=[]\n",
        "TEST_Y_LABELS=np.array([], dtype=\"int32\")\n",
        "CT_index = -1\n",
        "for id in TEST_STM['Id']:\n",
        "    evidences = []\n",
        "    CT_index = CT_index+1\n",
        "    CTid = TEST_STM['Primary_id'][CT_index]\n",
        "    hypotesis = TEST_STM['Statement'][CT_index].strip() #normalizeDocument(TEST_STM['Statement'][CT_index], True)\n",
        "    hypotesisLen = len(hypotesis.split(' '))\n",
        "    statementsNums = containsNumericalInstances(hypotesis)\n",
        "    ctIndxLabel = TEST_STM['Label'][CT_index]\n",
        "\n",
        "    if (TEST_STM['Type'][CT_index] == \"Single\"):\n",
        "      primaryEvidenceIndexes = TEST_STM['Primary_evidence_index'][CT_index].split(',')\n",
        "      evidences = parseEvidenceSingle(hypotesis, CTid, TEST_STM['Section_id'][CT_index], primaryEvidenceIndexes, PREFIX, DEBUG1, DEBUG2)\n",
        "      ax = splitEvidence([], \"\", \"[CLS] \"+hypotesis+\" [SEP] \", evidences, 0, DEBUG2)\n",
        "      # print(\"\\n ....... \" + ctIndxLabel + \"   -   \" + CTid + \"   \" + id)\n",
        "\n",
        "      dsNumObject = {}\n",
        "\n",
        "      prem_ex=[]\n",
        "      for evidenceFragment in ax:\n",
        "        premisesNums = containsNumericalInstances(evidenceFragment)\n",
        "        evd_ex = [readSeqToSpace(evidenceFragment, nn) for nn in premisesNums]\n",
        "        prem_ex = prem_ex + evd_ex\n",
        "      prem_cont = continue_overlaping(prem_ex[0:])\n",
        "\n",
        "      if len(prem_ex) == 0:\n",
        "        prem_ex = ' '.join(ax)\n",
        "      else:\n",
        "        prem_ex = ' '.join(prem_cont)\n",
        "\n",
        "      # cohorts = getCohorts(evidenceFragment)\n",
        "      # dsNumObject['cohort_effect']=cohorts\n",
        "      dsNumObject['id']=id\n",
        "      dsNumObject['primaryId']=CTid\n",
        "      dsNumObject['statement_text']=hypotesis\n",
        "      # dsNumObject['statement_deps']=statementDepSchema\n",
        "      dsNumObject['statement_nums']=continue_overlaping([readSeqToSpace(hypotesis, nn) for nn in statementsNums])\n",
        "      dsNumObject['label']=ctIndxLabel\n",
        "      dsNumObject['premise_text']=ax\n",
        "      dsNumObject['premise_nums']=prem_cont\n",
        "      dsNum.append(dsNumObject)\n",
        "\n",
        "      numericalInsts = numericalInsts + len(prem_cont) + len(statementsNums)\n",
        "\n",
        "      if(numInPair(statementsNums, prem_cont)):\n",
        "        TEST_HYPOTESIS.append(hypotesis)\n",
        "        TEST_EVIDENCES_EX.append(prem_ex)\n",
        "        TEST_UUID.append(id)\n",
        "        TEST_LABEL.append(ctIndxLabel)\n",
        "        if(ctIndxLabel == 'Entailment'):\n",
        "          TEST_Y_LABELS = np.append(TEST_Y_LABELS, [1], axis=0)\n",
        "        else:\n",
        "          TEST_Y_LABELS = np.append(TEST_Y_LABELS, [0], axis=0)\n",
        "        numericalPairsInsts = numericalPairsInsts + len(prem_cont) + len(statementsNums)\n",
        "        dsNumPairDev.append(dsNumObject)\n",
        "        countPairSingle = countPairSingle+1\n",
        "        if(ctIndxLabel == 'Entailment'):\n",
        "          countPairEntailment = countPairEntailment+1\n",
        "        else:\n",
        "          countPairContradiction = countPairContradiction+1\n",
        "\n",
        "\n",
        "      # if (CT_index < 37):\n",
        "      #   print(\"     - \" + evidenceFragment)\n",
        "      #   print(prem_cont)\n",
        "\n",
        "      if DEBUG1:\n",
        "          print('Analyzed CT entry: ' + str(CT_index) + \"  -  \"+ CTid+\"\\n\")\n",
        "    if (TEST_STM['Type'][CT_index] == \"Comparison\"):\n",
        "      CTidSecondary = TEST_STM['Secondary_id'][CT_index]\n",
        "      # print(\"\\n ....... \" + ctIndxLabel + \"   p: \" + CTid + \"   s: \" + CTidSecondary + \"   \"+ id)\n",
        "\n",
        "      primaryEvidenceIndexes = TEST_STM['Primary_evidence_index'][CT_index].split(',')\n",
        "      secondaryEvidenceIndexes = TEST_STM['Secondary_evidence_index'][CT_index].split(',')\n",
        "      premisesPrimary = parseEvidenceSingle(hypotesis, CTid, TEST_STM['Section_id'][CT_index], primaryEvidenceIndexes, PREFIX, DEBUG1, DEBUG2)\n",
        "      premisesSecondary = parseEvidenceSingle(hypotesis, CTidSecondary, TEST_STM['Section_id'][CT_index], secondaryEvidenceIndexes, PREFIX, DEBUG1, DEBUG2)\n",
        "      ax = splitEvidence([], \"\", hypotesis, premisesPrimary + premisesSecondary, 0, DEBUG2)\n",
        "\n",
        "      dsNumObject = {}\n",
        "\n",
        "      prem_ex=[]\n",
        "      for evidenceFragment in ax:\n",
        "        premisesNums = containsNumericalInstances(evidenceFragment)\n",
        "        evd_ex = [readSeqToSpace(evidenceFragment, nn) for nn in premisesNums]\n",
        "        prem_ex = prem_ex + evd_ex\n",
        "      prem_cont = continue_overlaping(prem_ex[0:])\n",
        "\n",
        "      if len(prem_ex) == 0:\n",
        "        prem_ex = ' '.join(ax)[:VECTOR_MAX]\n",
        "      else:\n",
        "        prem_ex = ' '.join(prem_cont)\n",
        "\n",
        "      # cohorts = getCohorts(evidenceFragment)\n",
        "      # dsNumObject['cohort_effect']=cohorts\n",
        "      dsNumObject['id']=id\n",
        "      dsNumObject['primaryId']=CTid\n",
        "      dsNumObject['secondaryId']=CTidSecondary\n",
        "      dsNumObject['statement_text']=hypotesis\n",
        "      # dsNumObject['statement_deps']=statementDepSchema\n",
        "      dsNumObject['statement_nums']=continue_overlaping([readSeqToSpace(hypotesis, nn) for nn in statementsNums])\n",
        "      dsNumObject['label']=ctIndxLabel\n",
        "      dsNumObject['premise_text']=ax\n",
        "      dsNumObject['premise_nums']=prem_cont\n",
        "      dsNum.append(dsNumObject)\n",
        "\n",
        "\n",
        "      numericalInsts = numericalInsts + len(prem_cont) + len(statementsNums)\n",
        "\n",
        "      if(numInPair(statementsNums, prem_cont)):\n",
        "        TEST_HYPOTESIS.append(hypotesis)\n",
        "        TEST_EVIDENCES_EX.append(prem_ex)\n",
        "        TEST_UUID.append(id)\n",
        "        TEST_LABEL.append(ctIndxLabel)\n",
        "        if(ctIndxLabel == 'Entailment'):\n",
        "          TEST_Y_LABELS = np.append(TEST_Y_LABELS, [1], axis=0)\n",
        "        else:\n",
        "          TEST_Y_LABELS = np.append(TEST_Y_LABELS, [0], axis=0)\n",
        "        numericalPairsInsts = numericalPairsInsts + len(prem_cont) + len(statementsNums)\n",
        "        dsNumPairDev.append(dsNumObject)\n",
        "        countPairComparison = countPairComparison+1\n",
        "        if(ctIndxLabel == 'Entailment'):\n",
        "          countPairEntailment = countPairEntailment+1\n",
        "        else:\n",
        "          countPairContradiction = countPairContradiction+1\n",
        "\n",
        "\n",
        "        # if (CT_index < 17):\n",
        "        #   print(\"     - \"+ evidenceFragment)\n",
        "      # print(\"-------2--------\")\n",
        "      if DEBUG1:\n",
        "          print('Analyzed CT entry: ' + str(CT_index) + \"  -  \"+ CTid+\"\\n\")\n",
        "\n",
        "\n",
        "print('.....................................')\n",
        "print('Total: '+ str(len(dsNum)))\n",
        "print('pairs: '+ str(len(dsNumPair)))\n",
        "print('.....................................')\n",
        "try:\n",
        "  with open(DS_PATH_DEV, 'w', encoding=\"utf-8\") as _file:\n",
        "    _file.write(json.dumps(dsNum, ensure_ascii=False))\n",
        "  with open(DS_PATH_PAIRS_DEV, 'w', encoding=\"utf-8\") as _file:\n",
        "    _file.write(json.dumps(dsNumPair, ensure_ascii=False))\n",
        "  # with open(DS_PATH) as json_file:\n",
        "  #     dataCT = json.load(json_file)\n",
        "except:\n",
        "    print('\\n!!! Error for file: ')\n",
        "\n",
        "\n",
        "# pair = numerical instances found in statement and in premises\n",
        "print('PairSingle study: '+str(countPairSingle))\n",
        "print('PairComparison study: '+str(countPairComparison))\n",
        "print('Pairs labeled as Entailment: '+str(countPairEntailment))\n",
        "print('Pairs labeled as Contradiction: '+str(countPairContradiction))\n",
        "\n",
        "print(countPairSingle + countPairComparison)\n",
        "print(countPairEntailment + countPairContradiction)\n",
        "\n",
        "\n",
        "print('Total num instances '+ str(numericalInsts))\n",
        "print('Pair num instances '+ str(numericalPairsInsts))\n",
        "\n",
        "print('.....................................')\n",
        "\n",
        "print(\"dim ipoteze:\")\n",
        "print(len(TEST_EVIDENCES))\n",
        "print(\"dim evidențe:\")\n",
        "print(len(TEST_EVIDENCES))\n",
        "print(\"dim Y:\")\n",
        "print(len(TEST_Y_LABELS))"
      ]
    },
    {
      "cell_type": "code",
      "execution_count": null,
      "metadata": {
        "id": "6In1g5eDNEeu"
      },
      "outputs": [],
      "source": [
        "# TEST_EVIDENCES_EX = [s[:NVM] for s in TEST_EVIDENCES_EX]\n",
        "# len(TEST_EVIDENCES_EX)"
      ]
    },
    {
      "cell_type": "code",
      "execution_count": null,
      "metadata": {
        "colab": {
          "base_uri": "https://localhost:8080/"
        },
        "id": "CdgjLkc3NJ4d",
        "outputId": "9c98057a-60f9-4657-9ddc-ede4631b6918"
      },
      "outputs": [
        {
          "output_type": "execute_result",
          "data": {
            "text/plain": [
              "179"
            ]
          },
          "metadata": {},
          "execution_count": 59
        }
      ],
      "source": [
        "len(TEST_HYPOTESIS)"
      ]
    },
    {
      "cell_type": "code",
      "execution_count": null,
      "metadata": {
        "colab": {
          "base_uri": "https://localhost:8080/"
        },
        "id": "QysAGVgr5fW1",
        "outputId": "08d1a812-fc13-467a-fedf-61051d4f816e"
      },
      "outputs": [
        {
          "output_type": "stream",
          "name": "stdout",
          "text": [
            "Dataset MAX (dim): \n",
            "169\n",
            "-----#----\n",
            "(179, 170)\n",
            "tf.Tensor(\n",
            "[[1 1 1 ... 1 1 1]\n",
            " [1 0 1 ... 1 1 1]\n",
            " [1 1 0 ... 0 0 1]\n",
            " ...\n",
            " [1 1 1 ... 0 1 1]\n",
            " [1 1 1 ... 0 0 1]\n",
            " [1 1 1 ... 1 0 0]], shape=(179, 170), dtype=int32)\n",
            "-----@----\n",
            "DEBUG test shapes: \n",
            "(179, 170)\n"
          ]
        }
      ],
      "source": [
        "test_input = encode_data_to_tensors(TEST_HYPOTESIS, TEST_EVIDENCES_EX, tokenizer, VECTOR_MAX)\n",
        "\n",
        "# check shape data\n",
        "print('DEBUG test shapes: ')\n",
        "print(test_input['input_word_ids'].shape)\n",
        "#print(test_input['input_mask'].shape)\n",
        "#print(test_input['input_type_ids'].shape)"
      ]
    },
    {
      "cell_type": "code",
      "execution_count": null,
      "metadata": {
        "colab": {
          "base_uri": "https://localhost:8080/",
          "height": 381
        },
        "id": "kvDscyM33JY6",
        "outputId": "fc8779ff-5281-4553-fe26-14f9b09a5bd9"
      },
      "outputs": [
        {
          "output_type": "stream",
          "name": "stdout",
          "text": [
            "6/6 [==============================] - 4s 120ms/step\n"
          ]
        },
        {
          "output_type": "execute_result",
          "data": {
            "text/plain": [
              "                                   UUID          label  prediction\n",
              "0  1adc970c-d433-44d0-aa09-d3834986f7a2  Contradiction           1\n",
              "1  6b9162d0-0816-46d4-81af-c60028dcc63b  Contradiction           1\n",
              "2  0b6cc8e3-69ee-4a91-b93d-2ad3fddce65f  Contradiction           1\n",
              "3  cc1f712a-2116-4e40-9810-f315e3fa5ff8     Entailment           0\n",
              "4  904061c0-14fa-4f13-9118-9a41e24fa8eb  Contradiction           1\n",
              "5  43ee7645-ce1e-42d5-9a74-3e379f6f367b  Contradiction           1\n",
              "6  0cef8c8e-7986-46c7-a597-c5733a9899c0  Contradiction           1\n",
              "7  43ce26e5-03fa-4e9d-b0eb-6ea356295753     Entailment           1\n",
              "8  9cbc00e9-3a2d-4471-a93e-72c95132fb6a     Entailment           1\n",
              "9  4a75574c-fa86-4e62-a210-81c7b98a3807  Contradiction           1"
            ],
            "text/html": [
              "\n",
              "  <div id=\"df-139bcf0e-b39e-49c5-b4ea-6b0aa9f5a56a\">\n",
              "    <div class=\"colab-df-container\">\n",
              "      <div>\n",
              "<style scoped>\n",
              "    .dataframe tbody tr th:only-of-type {\n",
              "        vertical-align: middle;\n",
              "    }\n",
              "\n",
              "    .dataframe tbody tr th {\n",
              "        vertical-align: top;\n",
              "    }\n",
              "\n",
              "    .dataframe thead th {\n",
              "        text-align: right;\n",
              "    }\n",
              "</style>\n",
              "<table border=\"1\" class=\"dataframe\">\n",
              "  <thead>\n",
              "    <tr style=\"text-align: right;\">\n",
              "      <th></th>\n",
              "      <th>UUID</th>\n",
              "      <th>label</th>\n",
              "      <th>prediction</th>\n",
              "    </tr>\n",
              "  </thead>\n",
              "  <tbody>\n",
              "    <tr>\n",
              "      <th>0</th>\n",
              "      <td>1adc970c-d433-44d0-aa09-d3834986f7a2</td>\n",
              "      <td>Contradiction</td>\n",
              "      <td>1</td>\n",
              "    </tr>\n",
              "    <tr>\n",
              "      <th>1</th>\n",
              "      <td>6b9162d0-0816-46d4-81af-c60028dcc63b</td>\n",
              "      <td>Contradiction</td>\n",
              "      <td>1</td>\n",
              "    </tr>\n",
              "    <tr>\n",
              "      <th>2</th>\n",
              "      <td>0b6cc8e3-69ee-4a91-b93d-2ad3fddce65f</td>\n",
              "      <td>Contradiction</td>\n",
              "      <td>1</td>\n",
              "    </tr>\n",
              "    <tr>\n",
              "      <th>3</th>\n",
              "      <td>cc1f712a-2116-4e40-9810-f315e3fa5ff8</td>\n",
              "      <td>Entailment</td>\n",
              "      <td>0</td>\n",
              "    </tr>\n",
              "    <tr>\n",
              "      <th>4</th>\n",
              "      <td>904061c0-14fa-4f13-9118-9a41e24fa8eb</td>\n",
              "      <td>Contradiction</td>\n",
              "      <td>1</td>\n",
              "    </tr>\n",
              "    <tr>\n",
              "      <th>5</th>\n",
              "      <td>43ee7645-ce1e-42d5-9a74-3e379f6f367b</td>\n",
              "      <td>Contradiction</td>\n",
              "      <td>1</td>\n",
              "    </tr>\n",
              "    <tr>\n",
              "      <th>6</th>\n",
              "      <td>0cef8c8e-7986-46c7-a597-c5733a9899c0</td>\n",
              "      <td>Contradiction</td>\n",
              "      <td>1</td>\n",
              "    </tr>\n",
              "    <tr>\n",
              "      <th>7</th>\n",
              "      <td>43ce26e5-03fa-4e9d-b0eb-6ea356295753</td>\n",
              "      <td>Entailment</td>\n",
              "      <td>1</td>\n",
              "    </tr>\n",
              "    <tr>\n",
              "      <th>8</th>\n",
              "      <td>9cbc00e9-3a2d-4471-a93e-72c95132fb6a</td>\n",
              "      <td>Entailment</td>\n",
              "      <td>1</td>\n",
              "    </tr>\n",
              "    <tr>\n",
              "      <th>9</th>\n",
              "      <td>4a75574c-fa86-4e62-a210-81c7b98a3807</td>\n",
              "      <td>Contradiction</td>\n",
              "      <td>1</td>\n",
              "    </tr>\n",
              "  </tbody>\n",
              "</table>\n",
              "</div>\n",
              "      <button class=\"colab-df-convert\" onclick=\"convertToInteractive('df-139bcf0e-b39e-49c5-b4ea-6b0aa9f5a56a')\"\n",
              "              title=\"Convert this dataframe to an interactive table.\"\n",
              "              style=\"display:none;\">\n",
              "        \n",
              "  <svg xmlns=\"http://www.w3.org/2000/svg\" height=\"24px\"viewBox=\"0 0 24 24\"\n",
              "       width=\"24px\">\n",
              "    <path d=\"M0 0h24v24H0V0z\" fill=\"none\"/>\n",
              "    <path d=\"M18.56 5.44l.94 2.06.94-2.06 2.06-.94-2.06-.94-.94-2.06-.94 2.06-2.06.94zm-11 1L8.5 8.5l.94-2.06 2.06-.94-2.06-.94L8.5 2.5l-.94 2.06-2.06.94zm10 10l.94 2.06.94-2.06 2.06-.94-2.06-.94-.94-2.06-.94 2.06-2.06.94z\"/><path d=\"M17.41 7.96l-1.37-1.37c-.4-.4-.92-.59-1.43-.59-.52 0-1.04.2-1.43.59L10.3 9.45l-7.72 7.72c-.78.78-.78 2.05 0 2.83L4 21.41c.39.39.9.59 1.41.59.51 0 1.02-.2 1.41-.59l7.78-7.78 2.81-2.81c.8-.78.8-2.07 0-2.86zM5.41 20L4 18.59l7.72-7.72 1.47 1.35L5.41 20z\"/>\n",
              "  </svg>\n",
              "      </button>\n",
              "      \n",
              "  <style>\n",
              "    .colab-df-container {\n",
              "      display:flex;\n",
              "      flex-wrap:wrap;\n",
              "      gap: 12px;\n",
              "    }\n",
              "\n",
              "    .colab-df-convert {\n",
              "      background-color: #E8F0FE;\n",
              "      border: none;\n",
              "      border-radius: 50%;\n",
              "      cursor: pointer;\n",
              "      display: none;\n",
              "      fill: #1967D2;\n",
              "      height: 32px;\n",
              "      padding: 0 0 0 0;\n",
              "      width: 32px;\n",
              "    }\n",
              "\n",
              "    .colab-df-convert:hover {\n",
              "      background-color: #E2EBFA;\n",
              "      box-shadow: 0px 1px 2px rgba(60, 64, 67, 0.3), 0px 1px 3px 1px rgba(60, 64, 67, 0.15);\n",
              "      fill: #174EA6;\n",
              "    }\n",
              "\n",
              "    [theme=dark] .colab-df-convert {\n",
              "      background-color: #3B4455;\n",
              "      fill: #D2E3FC;\n",
              "    }\n",
              "\n",
              "    [theme=dark] .colab-df-convert:hover {\n",
              "      background-color: #434B5C;\n",
              "      box-shadow: 0px 1px 3px 1px rgba(0, 0, 0, 0.15);\n",
              "      filter: drop-shadow(0px 1px 2px rgba(0, 0, 0, 0.3));\n",
              "      fill: #FFFFFF;\n",
              "    }\n",
              "  </style>\n",
              "\n",
              "      <script>\n",
              "        const buttonEl =\n",
              "          document.querySelector('#df-139bcf0e-b39e-49c5-b4ea-6b0aa9f5a56a button.colab-df-convert');\n",
              "        buttonEl.style.display =\n",
              "          google.colab.kernel.accessAllowed ? 'block' : 'none';\n",
              "\n",
              "        async function convertToInteractive(key) {\n",
              "          const element = document.querySelector('#df-139bcf0e-b39e-49c5-b4ea-6b0aa9f5a56a');\n",
              "          const dataTable =\n",
              "            await google.colab.kernel.invokeFunction('convertToInteractive',\n",
              "                                                     [key], {});\n",
              "          if (!dataTable) return;\n",
              "\n",
              "          const docLinkHtml = 'Like what you see? Visit the ' +\n",
              "            '<a target=\"_blank\" href=https://colab.research.google.com/notebooks/data_table.ipynb>data table notebook</a>'\n",
              "            + ' to learn more about interactive tables.';\n",
              "          element.innerHTML = '';\n",
              "          dataTable['output_type'] = 'display_data';\n",
              "          await google.colab.output.renderOutput(dataTable, element);\n",
              "          const docLink = document.createElement('div');\n",
              "          docLink.innerHTML = docLinkHtml;\n",
              "          element.appendChild(docLink);\n",
              "        }\n",
              "      </script>\n",
              "    </div>\n",
              "  </div>\n",
              "  "
            ]
          },
          "metadata": {},
          "execution_count": 61
        }
      ],
      "source": [
        "\n",
        "c_counter = c_counter+1\n",
        "gc.collect()\n",
        "predictions = [np.argmax(i) for i in model.predict(test_input)]\n",
        "\n",
        "\n",
        "submission = pd.DataFrame()\n",
        "# print([i for i in model.predict(test_input)])\n",
        "\n",
        "submission['UUID'] = TEST_UUID\n",
        "submission['label'] = TEST_LABEL\n",
        "submission['prediction'] = predictions\n",
        "\n",
        "RESULTS_FILE = PREFIXG+\"submission_\" +str(c_counter)+\"_\"+stamp_time()+\".csv\"\n",
        "RESULTS_FILE_R = PREFIXG+\"results_\" +str(c_counter)+\"_\"+stamp_time()+\".json\"\n",
        "submission.to_csv(RESULTS_FILE, index = False)\n",
        "submission[:10]"
      ]
    },
    {
      "cell_type": "markdown",
      "metadata": {
        "id": "sa4B4jsZ42WN"
      },
      "source": [
        "# Postprocessing"
      ]
    },
    {
      "cell_type": "markdown",
      "metadata": {
        "id": "v5b4LCmWjczl"
      },
      "source": [
        "Conversion from json to csv of training, test and dev files."
      ]
    },
    {
      "cell_type": "code",
      "execution_count": null,
      "metadata": {
        "id": "kUDkwVv744y9"
      },
      "outputs": [],
      "source": [
        "import json\n",
        "import pandas as pd\n",
        "\n",
        "\n",
        "\"\"\"\n",
        "type = train | dev\n",
        "\"\"\"\n",
        "def preprocessing(JSONPATH, type, PREFIX):\n",
        "\n",
        "    with open(JSONPATH) as json_file:\n",
        "        data = json.load(json_file)\n",
        "\n",
        "    columns = ['Type', 'Section_id', 'Primary_id', 'Secondary_id', 'Statement', 'Label', ] #  'Primary_evidence_index', 'Secondary_evidence_index',\n",
        "\n",
        "    ids = []\n",
        "    types = []\n",
        "    sectionId = []\n",
        "    primaryId = []\n",
        "    secondaryId = []\n",
        "    statement = []\n",
        "    label = []\n",
        "    PEI = []\n",
        "    SEI = []\n",
        "    for entry in data:\n",
        "        ids.append(entry)\n",
        "        types.append(data[entry]['Type'])\n",
        "        sectionId.append(data[entry]['Section_id'])\n",
        "        primaryId.append(data[entry]['Primary_id'])\n",
        "        if not (data[entry].get('Secondary_id') is None):\n",
        "            secondaryId.append(data[entry]['Secondary_id'])\n",
        "        else:\n",
        "            secondaryId.append(None)\n",
        "        statement.append(data[entry]['Statement'])\n",
        "        label.append(data[entry]['Label'])\n",
        "        PEI.append(','.join(str(x) for x in data[entry]['Primary_evidence_index']))\n",
        "        if not (data[entry].get('Secondary_evidence_index') is None):\n",
        "            SEI.append(','.join(str(x) for x in data[entry]['Secondary_evidence_index']))\n",
        "        else:\n",
        "            SEI.append(','.join(str(x) for x in []))\n",
        "\n",
        "    df = pd.DataFrame()\n",
        "    df['Id'] = ids\n",
        "    df['Type'] = types\n",
        "    df['Section_id'] = sectionId\n",
        "    df['Primary_id'] = primaryId\n",
        "    df['Secondary_id'] = secondaryId\n",
        "    df['Statement'] = statement\n",
        "    df['Label'] = label\n",
        "    df['Primary_evidence_index'] = PEI\n",
        "    df['Secondary_evidence_index'] = SEI\n",
        "\n",
        "    #print(df.head(20))\n",
        "\n",
        "    compression_opts = dict(method='zip', archive_name='out.csv')\n",
        "    # df.to_csv('out.zip', index=False, compression=compression_opts)\n",
        "    df.to_csv(PREFIX+type+'.csv', index=False)\n",
        "\n",
        "\n",
        "\n",
        "def collectEvidenceData(evidenceSection, evidenceIndexes, clinicalTrialId, evidenceSectionId, DEBUG2):\n",
        "    evidences = []\n",
        "    for evIndex in evidenceIndexes:\n",
        "        try:\n",
        "            i = int(evIndex)\n",
        "            if DEBUG2:\n",
        "                print(evidenceSection[i])\n",
        "            evidences.append(evidenceSection[i].strip())\n",
        "        except:\n",
        "            print(evidenceIndexes)\n",
        "            print('\\n!!! Failed to collect evidence on index, trialId, section: ' + str(i) + clinicalTrialId, evidenceSectionId)\n",
        "    return evidences\n",
        "\n",
        "##\n",
        "# TODO redefined but not used\n",
        "##\n",
        "def parseEvidenceSingleValidation(clinicalTrialId, evidenceSectionId, primaryEvidenceIndexes, PREFIX, DEBUG1, DEBUG2):\n",
        "    if DEBUG1:\n",
        "        print(\"Parse evidence Single: \" + clinicalTrialId + \" \" + evidenceSectionId)\n",
        "    CT_PATH = PREFIX+'/CT_data/'+clinicalTrialId+'.json'\n",
        "    try:\n",
        "        with open(CT_PATH) as json_file:\n",
        "            dataCT = json.load(json_file)\n",
        "            if DEBUG2:\n",
        "                print(primaryEvidenceIndexes)\n",
        "        evidences = collectEvidenceData(dataCT[evidenceSectionId], primaryEvidenceIndexes, clinicalTrialId, evidenceSectionId)\n",
        "        if DEBUG2:\n",
        "            print(evidences)\n",
        "    except:\n",
        "        print('\\n!!! Error for file: ' + clinicalTrialId)\n",
        "    if DEBUG2:\n",
        "        print(\"\\n\")\n",
        "    return evidences\n"
      ]
    },
    {
      "cell_type": "markdown",
      "metadata": {
        "id": "Ju1rgtB8jJq8"
      },
      "source": [
        "## Metrics (F1 score) script"
      ]
    },
    {
      "cell_type": "code",
      "execution_count": null,
      "metadata": {
        "colab": {
          "base_uri": "https://localhost:8080/",
          "height": 35
        },
        "id": "o-xbRn8lpgzl",
        "outputId": "9179f57d-5b8c-4ed7-bb0a-c0e013f2cf23"
      },
      "outputs": [
        {
          "output_type": "execute_result",
          "data": {
            "text/plain": [
              "'/content/submission_1_20230615184818.csv'"
            ],
            "application/vnd.google.colaboratory.intrinsic+json": {
              "type": "string"
            }
          },
          "metadata": {},
          "execution_count": 63
        }
      ],
      "source": [
        "from sklearn.feature_extraction.text import TfidfVectorizer\n",
        "from sklearn.metrics.pairwise import cosine_distances\n",
        "import numpy\n",
        "from sklearn.metrics import f1_score,precision_score,recall_score\n",
        "RESULTS_FILE"
      ]
    },
    {
      "cell_type": "code",
      "execution_count": null,
      "metadata": {
        "colab": {
          "base_uri": "https://localhost:8080/"
        },
        "id": "7NdJZPHXj9jh",
        "outputId": "a075c7e8-6f17-413a-9d15-feb7b3044cf4"
      },
      "outputs": [
        {
          "output_type": "stream",
          "name": "stdout",
          "text": [
            "0    1\n",
            "1    1\n",
            "2    1\n",
            "3    0\n",
            "4    1\n",
            "Name: prediction, dtype: int64\n",
            "[0, 0, 0, 1, 0, 0, 0, 1, 1, 0, 1, 1, 0, 0, 0, 1, 0, 0, 1, 1, 0, 1, 0, 0, 0, 1, 0, 1, 0, 1, 0, 0, 1, 1, 1, 1, 1, 1, 1, 0, 0, 0, 1, 0, 0, 1, 1, 1, 0, 1, 0, 0, 0, 1, 1, 1, 1, 1, 1, 1, 1, 0, 0, 1, 0, 0, 1, 1, 0, 0, 1, 0, 0, 0, 0, 1, 0, 1, 1, 0, 1, 1, 1, 1, 1, 0, 0, 1, 1, 1, 0, 0, 0, 0, 1, 1, 0, 0, 1, 1, 1, 0, 0, 0, 0, 1, 0, 1, 1, 1, 1, 0, 0, 1, 1, 1, 0, 1, 0, 0, 0, 1, 0, 1, 1, 1, 1, 1, 0, 0, 0, 1, 0, 1, 0, 0, 0, 1, 1, 0, 0, 1, 1, 1, 0, 1, 1, 0, 1, 0, 0, 1, 0, 1, 1, 1, 0, 0, 0, 1, 1, 0, 0, 0, 1, 1, 0, 0, 1, 0, 1, 0, 1, 0, 0, 0, 1, 1, 0]\n",
            "[1, 1, 1, 0, 1, 1, 1, 1, 1, 1, 1, 0, 1, 1, 1, 1, 1, 1, 1, 0, 1, 1, 1, 0, 1, 0, 0, 1, 1, 0, 0, 1, 1, 1, 1, 0, 1, 1, 0, 1, 1, 1, 1, 1, 0, 0, 0, 1, 1, 1, 1, 0, 0, 1, 1, 1, 1, 0, 0, 0, 0, 0, 1, 0, 1, 0, 1, 0, 0, 0, 0, 0, 0, 1, 0, 1, 1, 1, 0, 1, 0, 1, 1, 1, 1, 0, 0, 0, 1, 0, 0, 1, 0, 1, 0, 0, 0, 0, 0, 1, 0, 1, 1, 0, 0, 1, 0, 1, 0, 0, 1, 0, 0, 0, 0, 0, 1, 1, 0, 1, 1, 0, 1, 1, 1, 0, 0, 1, 0, 1, 0, 0, 0, 0, 1, 1, 0, 0, 1, 1, 1, 0, 0, 1, 0, 1, 0, 1, 0, 0, 1, 1, 1, 0, 0, 0, 1, 1, 1, 1, 1, 0, 0, 1, 1, 1, 1, 1, 0, 1, 1, 1, 0, 0, 1, 1, 1, 0, 1]\n",
            "F1:0.473684\n",
            "precision_score:0.450000\n",
            "recall_score:0.500000\n"
          ]
        }
      ],
      "source": [
        "import json\n",
        "import pandas as pd\n",
        "from functools import reduce\n",
        "\n",
        "\n",
        "dev_path = PREFIXG+\"dev.json\"\n",
        "with open(dev_path) as json_file:\n",
        "    dev = json.load(json_file)\n",
        "\n",
        "def postProcessing(file):\n",
        "    results2 = {}\n",
        "    results = {}\n",
        "    CT_index = 0\n",
        "    try:\n",
        "        STM = pd.read_csv(file)\n",
        "        print(STM['prediction'].head(5))\n",
        "        for id in STM['UUID']:\n",
        "            prediction = STM['prediction'][CT_index]\n",
        "            # print(prediction)\n",
        "            CT_index = CT_index + 1\n",
        "            if id in results:\n",
        "              print(\"EROARE !!!!!\")\n",
        "              exit()\n",
        "            else:\n",
        "              results[id] = str(prediction)\n",
        "    except Exception as err:\n",
        "        print('\\n! Error for file')\n",
        "        print(err)\n",
        "    return results\n",
        "\n",
        "\n",
        "def run_score_script(Results):\n",
        "    gold = dev\n",
        "    results = Results\n",
        "    uuid_list = list(results.keys())\n",
        "    results_pred = []\n",
        "    gold_labels = []\n",
        "    for i in uuid_list:\n",
        "        if results[i] == \"1\":\n",
        "            results_pred.append(1)\n",
        "        else:\n",
        "            results_pred.append(0)\n",
        "        if gold[i][\"Label\"] == \"Entailment\":\n",
        "            gold_labels.append(1)\n",
        "        else:\n",
        "            gold_labels.append(0)\n",
        "\n",
        "    print(gold_labels)\n",
        "    print(results_pred)\n",
        "\n",
        "\n",
        "    f_score = f1_score(gold_labels,results_pred)\n",
        "    p_score = precision_score(gold_labels,results_pred)\n",
        "    r_score = recall_score(gold_labels,results_pred)\n",
        "    SCORE = \"-\".join(str(f_score).split(\".\"))\n",
        "    SCORE = SCORE[:6]\n",
        "\n",
        "    print('F1:{:f}'.format(f_score))\n",
        "    print('precision_score:{:f}'.format(p_score))\n",
        "    print('recall_score:{:f}'.format(r_score))\n",
        "    return (SCORE, gold_labels)\n",
        "\n",
        "w = postProcessing(RESULTS_FILE)\n",
        "SCORE, yypreds = run_score_script(w)"
      ]
    },
    {
      "cell_type": "markdown",
      "metadata": {
        "id": "Jt3CfgTjkQVJ"
      },
      "source": [
        "Run score script and write results in correct format"
      ]
    },
    {
      "cell_type": "code",
      "execution_count": null,
      "metadata": {
        "id": "lBoNN4eekQuw"
      },
      "outputs": [],
      "source": [
        "with open(RESULTS_FILE_R, 'w') as convert_file:\n",
        "  convert_file.write(json.dumps(w))"
      ]
    },
    {
      "cell_type": "code",
      "source": [
        "import matplotlib.pyplot as plt\n",
        "from sklearn.datasets import make_classification\n",
        "from sklearn.metrics import ConfusionMatrixDisplay\n",
        "\n",
        "ConfusionMatrixDisplay.from_predictions(predictions, yypreds)\n",
        "plt.show()"
      ],
      "metadata": {
        "colab": {
          "base_uri": "https://localhost:8080/",
          "height": 455
        },
        "id": "KwAnVEP5iB2D",
        "outputId": "87fa9a25-d58d-4af4-f7b5-66e4465fc6d4"
      },
      "execution_count": null,
      "outputs": [
        {
          "output_type": "display_data",
          "data": {
            "text/plain": [
              "<Figure size 640x480 with 2 Axes>"
            ],
            "image/png": "[encoded data removed]"
          },
          "metadata": {}
        }
      ]
    },
    {
      "cell_type": "markdown",
      "metadata": {
        "id": "AbD_Zuy9olsL"
      },
      "source": [
        "# Test.json Task 1"
      ]
    },
    {
      "cell_type": "code",
      "execution_count": null,
      "metadata": {
        "id": "vfyy-B4Fou4A"
      },
      "outputs": [],
      "source": [
        "# def parseEvSg(clinicalTrialId, evidenceSectionId, PREFIX, DEBUG1, DEBUG2):\n",
        "#     evidences = []\n",
        "#     if DEBUG1:\n",
        "#         print(\"Load premises: \" + clinicalTrialId + \" \" + evidenceSectionId)\n",
        "#     CT_PATH = PREFIX+'CT_data/'+clinicalTrialId+'.json'\n",
        "#     try:\n",
        "#         with open(CT_PATH) as json_file:\n",
        "#             dataCT = json.load(json_file)\n",
        "#         evidences = dataCT[evidenceSectionId]\n",
        "#         # if (len(premises) > 8):\n",
        "#         #   num = 0\n",
        "#         #   for prem in premises:\n",
        "#         #     if (num % 2) == 0:\n",
        "#         #       evidences.append(prem)\n",
        "#         #       num = num + 1\n",
        "#         #       print(\"PREMISE SELECTIE ----------------------------------\")\n",
        "#         # else:\n",
        "#         #   print(\"PREMISE PUTINE ----------------------------------\")\n",
        "#         #   evidences = premises\n",
        "#     except Exception as err:\n",
        "#         print('\\n!!! Error for file: ' + clinicalTrialId)\n",
        "#         print(err)\n",
        "#     if DEBUG2:\n",
        "#         print(\"\\n\")\n",
        "#     return evidences"
      ]
    },
    {
      "cell_type": "code",
      "execution_count": null,
      "metadata": {
        "id": "NL0CQU7Sok7E"
      },
      "outputs": [],
      "source": [
        "# TEST_STM_VALID = pd.read_csv(TEST_DATA2) #, nrows=40\n",
        "\n",
        "\n",
        "# # exit()\n",
        "# TEST_EVIDENCES_VALID=[]\n",
        "# TEST_HYPOTESIS_VALID=[]\n",
        "# TEST_UUID_VALID=[]\n",
        "# CT_index = -1\n",
        "# for id in TEST_STM_VALID['Id']:\n",
        "#     evidences = []\n",
        "#     CT_index = CT_index+1\n",
        "#     CTid = TEST_STM_VALID['Primary_id'][CT_index]\n",
        "#     hypotesis = normalizeDocument(TEST_STM_VALID['Statement'][CT_index], True)\n",
        "#     hypotesisLen = len(hypotesis.split(' '))\n",
        "#     if (TEST_STM_VALID['Type'][CT_index] == \"Single\"):\n",
        "#       evidences = parseEvSg(CTid, TEST_STM_VALID['Section_id'][CT_index], PREFIX, DEBUG1, DEBUG2)\n",
        "#       ax = splitEvidence([], \"\", \"[CLS] \"+hypotesis+\" [SEP] \", evidences, 0, DEBUG2)\n",
        "#       for evidenceFragment in ax:\n",
        "#         # parse only evidences those that have a minimum of words\n",
        "#         if(hypotesisLen+len(evidenceFragment) > hypotesisLen + 10):\n",
        "#           TEST_EVIDENCES_VALID.append(evidenceFragment)\n",
        "#           TEST_HYPOTESIS_VALID.append(hypotesis)\n",
        "#           TEST_UUID_VALID.append(id)\n",
        "#       if DEBUG1:\n",
        "#           print('Analyzed CT entry: ' + str(CT_index) + \"  -  \"+ CTid+\"\\n\")\n",
        "#     if (TEST_STM_VALID['Type'][CT_index] == \"Comparison\"):\n",
        "#       CTidSecondary = TEST_STM_VALID['Secondary_id'][CT_index]\n",
        "#       premisesPrimary = parseEvSg(CTid, TEST_STM_VALID['Section_id'][CT_index], PREFIX, DEBUG1, DEBUG2)\n",
        "#       premisesSecondary = parseEvSg(CTidSecondary, TEST_STM_VALID['Section_id'][CT_index], PREFIX, DEBUG1, DEBUG2)\n",
        "#       ax = splitEvidence([], \"\", hypotesis, premisesPrimary + premisesSecondary, 0, DEBUG2)\n",
        "#       if (CT_index < 17):\n",
        "#         print(hypotesis)\n",
        "#       for evidenceFragment in ax:\n",
        "#         # parse only evidences those that have a minimum of words\n",
        "#         if(hypotesisLen+len(evidenceFragment) > hypotesisLen + 10):\n",
        "#           TEST_EVIDENCES_VALID.append(evidenceFragment)\n",
        "#           TEST_HYPOTESIS_VALID.append(hypotesis)\n",
        "#           TEST_UUID_VALID.append(id)\n",
        "#         if (CT_index < 17):\n",
        "#           print(\"     - \"+ evidenceFragment)\n",
        "#       # print(\"-------2--------\")\n",
        "#       if DEBUG1:\n",
        "#           print('Analyzed CT entry: ' + str(CT_index) + \"  -  \"+ CTid+\"\\n\")\n"
      ]
    },
    {
      "cell_type": "code",
      "execution_count": null,
      "metadata": {
        "id": "m2xRAmApo32O"
      },
      "outputs": [],
      "source": [
        "# validation_input = encode_data_to_tensors(TEST_HYPOTESIS_VALID, TEST_EVIDENCES_VALID, tokenizer, VECTOR_MAX)\n",
        "\n",
        "# # check shape data\n",
        "# print('DEBUG test shapes: ')\n",
        "# print(validation_input['input_word_ids'].shape)\n",
        "# print(validation_input['input_mask'].shape)\n",
        "# print(validation_input['input_type_ids'].shape)"
      ]
    },
    {
      "cell_type": "code",
      "execution_count": null,
      "metadata": {
        "id": "OGrrBqMGo54Y"
      },
      "outputs": [],
      "source": [
        "# predictions = [np.argmax(i) for i in model.predict(validation_input)]\n",
        "# # print([i for i in model.predict(test_input)])\n",
        "\n",
        "# submission = pd.DataFrame()\n",
        "# submission['UUID'] = TEST_UUID_VALID\n",
        "# submission['prediction'] = predictions\n",
        "\n",
        "# RESULTS_TEST = PREFIXG+\"/test-submission_\" +str(c_counter)+\"_\"+SCORE  +\".csv\"\n",
        "# RESULTS_TEST_R = PREFIXG+\"/test-rez-\"+SCORE+\"__\"+stamp_time()+\".json\"\n",
        "# submission.to_csv(RESULTS_TEST, index = False)\n",
        "# submission.head()"
      ]
    },
    {
      "cell_type": "code",
      "execution_count": null,
      "metadata": {
        "id": "DvC5ebY6pPYm"
      },
      "outputs": [],
      "source": [
        "# submission.to_csv(RESULTS_TEST, index = False)\n",
        "# w = postProcessing(RESULTS_TEST)\n",
        "\n",
        "# with open(RESULTS_TEST_R, 'w') as convert_file:\n",
        "#   convert_file.write(json.dumps(w))"
      ]
    }
  ],
  "metadata": {
    "colab": {
      "provenance": [],
      "gpuClass": "premium",
      "machine_shape": "hm",
      "gpuType": "V100",
      "toc_visible": true
    },
    "gpuClass": "premium",
    "kernelspec": {
      "display_name": "Python 3",
      "name": "python3"
    },
    "language_info": {
      "name": "python"
    },
    "accelerator": "GPU",
    "widgets": {
      "application/vnd.jupyter.widget-state+json": {
        "c1db520e2f0349639ac80f8caf0df698": {
          "model_module": "@jupyter-widgets/controls",
          "model_name": "HBoxModel",
          "model_module_version": "1.5.0",
          "state": {
            "_dom_classes": [],
            "_model_module": "@jupyter-widgets/controls",
            "_model_module_version": "1.5.0",
            "_model_name": "HBoxModel",
            "_view_count": null,
            "_view_module": "@jupyter-widgets/controls",
            "_view_module_version": "1.5.0",
            "_view_name": "HBoxView",
            "box_style": "",
            "children": [
              "IPY_MODEL_b7ed0e5715334a84add724185c872c17",
              "IPY_MODEL_6101d6ecd4e94a6dbe72084b5ed8acfc",
              "IPY_MODEL_157727e9aff94a9888fdcafd06dedf10"
            ],
            "layout": "IPY_MODEL_5459aa25ee994b1aa51f8a2d13037e16"
          }
        },
        "b7ed0e5715334a84add724185c872c17": {
          "model_module": "@jupyter-widgets/controls",
          "model_name": "HTMLModel",
          "model_module_version": "1.5.0",
          "state": {
            "_dom_classes": [],
            "_model_module": "@jupyter-widgets/controls",
            "_model_module_version": "1.5.0",
            "_model_name": "HTMLModel",
            "_view_count": null,
            "_view_module": "@jupyter-widgets/controls",
            "_view_module_version": "1.5.0",
            "_view_name": "HTMLView",
            "description": "",
            "description_tooltip": null,
            "layout": "IPY_MODEL_f02c2e2d98e449cba9150683f0bf3d1a",
            "placeholder": "​",
            "style": "IPY_MODEL_d3cde9d7240f425a9d3d13ef2b34c813",
            "value": "Downloading (…)solve/main/vocab.txt: 100%"
          }
        },
        "6101d6ecd4e94a6dbe72084b5ed8acfc": {
          "model_module": "@jupyter-widgets/controls",
          "model_name": "FloatProgressModel",
          "model_module_version": "1.5.0",
          "state": {
            "_dom_classes": [],
            "_model_module": "@jupyter-widgets/controls",
            "_model_module_version": "1.5.0",
            "_model_name": "FloatProgressModel",
            "_view_count": null,
            "_view_module": "@jupyter-widgets/controls",
            "_view_module_version": "1.5.0",
            "_view_name": "ProgressView",
            "bar_style": "success",
            "description": "",
            "description_tooltip": null,
            "layout": "IPY_MODEL_cf54c9fadb094859811d2aecdbb876b1",
            "max": 213450,
            "min": 0,
            "orientation": "horizontal",
            "style": "IPY_MODEL_e72b7d7b1c2b414b8b523f96b16875b5",
            "value": 213450
          }
        },
        "157727e9aff94a9888fdcafd06dedf10": {
          "model_module": "@jupyter-widgets/controls",
          "model_name": "HTMLModel",
          "model_module_version": "1.5.0",
          "state": {
            "_dom_classes": [],
            "_model_module": "@jupyter-widgets/controls",
            "_model_module_version": "1.5.0",
            "_model_name": "HTMLModel",
            "_view_count": null,
            "_view_module": "@jupyter-widgets/controls",
            "_view_module_version": "1.5.0",
            "_view_name": "HTMLView",
            "description": "",
            "description_tooltip": null,
            "layout": "IPY_MODEL_79280defc7e54d0e85447fab34bf989f",
            "placeholder": "​",
            "style": "IPY_MODEL_e1c085901a6c4f088635d666d00155f3",
            "value": " 213k/213k [00:00&lt;00:00, 8.97MB/s]"
          }
        },
        "5459aa25ee994b1aa51f8a2d13037e16": {
          "model_module": "@jupyter-widgets/base",
          "model_name": "LayoutModel",
          "model_module_version": "1.2.0",
          "state": {
            "_model_module": "@jupyter-widgets/base",
            "_model_module_version": "1.2.0",
            "_model_name": "LayoutModel",
            "_view_count": null,
            "_view_module": "@jupyter-widgets/base",
            "_view_module_version": "1.2.0",
            "_view_name": "LayoutView",
            "align_content": null,
            "align_items": null,
            "align_self": null,
            "border": null,
            "bottom": null,
            "display": null,
            "flex": null,
            "flex_flow": null,
            "grid_area": null,
            "grid_auto_columns": null,
            "grid_auto_flow": null,
            "grid_auto_rows": null,
            "grid_column": null,
            "grid_gap": null,
            "grid_row": null,
            "grid_template_areas": null,
            "grid_template_columns": null,
            "grid_template_rows": null,
            "height": null,
            "justify_content": null,
            "justify_items": null,
            "left": null,
            "margin": null,
            "max_height": null,
            "max_width": null,
            "min_height": null,
            "min_width": null,
            "object_fit": null,
            "object_position": null,
            "order": null,
            "overflow": null,
            "overflow_x": null,
            "overflow_y": null,
            "padding": null,
            "right": null,
            "top": null,
            "visibility": null,
            "width": null
          }
        },
        "f02c2e2d98e449cba9150683f0bf3d1a": {
          "model_module": "@jupyter-widgets/base",
          "model_name": "LayoutModel",
          "model_module_version": "1.2.0",
          "state": {
            "_model_module": "@jupyter-widgets/base",
            "_model_module_version": "1.2.0",
            "_model_name": "LayoutModel",
            "_view_count": null,
            "_view_module": "@jupyter-widgets/base",
            "_view_module_version": "1.2.0",
            "_view_name": "LayoutView",
            "align_content": null,
            "align_items": null,
            "align_self": null,
            "border": null,
            "bottom": null,
            "display": null,
            "flex": null,
            "flex_flow": null,
            "grid_area": null,
            "grid_auto_columns": null,
            "grid_auto_flow": null,
            "grid_auto_rows": null,
            "grid_column": null,
            "grid_gap": null,
            "grid_row": null,
            "grid_template_areas": null,
            "grid_template_columns": null,
            "grid_template_rows": null,
            "height": null,
            "justify_content": null,
            "justify_items": null,
            "left": null,
            "margin": null,
            "max_height": null,
            "max_width": null,
            "min_height": null,
            "min_width": null,
            "object_fit": null,
            "object_position": null,
            "order": null,
            "overflow": null,
            "overflow_x": null,
            "overflow_y": null,
            "padding": null,
            "right": null,
            "top": null,
            "visibility": null,
            "width": null
          }
        },
        "d3cde9d7240f425a9d3d13ef2b34c813": {
          "model_module": "@jupyter-widgets/controls",
          "model_name": "DescriptionStyleModel",
          "model_module_version": "1.5.0",
          "state": {
            "_model_module": "@jupyter-widgets/controls",
            "_model_module_version": "1.5.0",
            "_model_name": "DescriptionStyleModel",
            "_view_count": null,
            "_view_module": "@jupyter-widgets/base",
            "_view_module_version": "1.2.0",
            "_view_name": "StyleView",
            "description_width": ""
          }
        },
        "cf54c9fadb094859811d2aecdbb876b1": {
          "model_module": "@jupyter-widgets/base",
          "model_name": "LayoutModel",
          "model_module_version": "1.2.0",
          "state": {
            "_model_module": "@jupyter-widgets/base",
            "_model_module_version": "1.2.0",
            "_model_name": "LayoutModel",
            "_view_count": null,
            "_view_module": "@jupyter-widgets/base",
            "_view_module_version": "1.2.0",
            "_view_name": "LayoutView",
            "align_content": null,
            "align_items": null,
            "align_self": null,
            "border": null,
            "bottom": null,
            "display": null,
            "flex": null,
            "flex_flow": null,
            "grid_area": null,
            "grid_auto_columns": null,
            "grid_auto_flow": null,
            "grid_auto_rows": null,
            "grid_column": null,
            "grid_gap": null,
            "grid_row": null,
            "grid_template_areas": null,
            "grid_template_columns": null,
            "grid_template_rows": null,
            "height": null,
            "justify_content": null,
            "justify_items": null,
            "left": null,
            "margin": null,
            "max_height": null,
            "max_width": null,
            "min_height": null,
            "min_width": null,
            "object_fit": null,
            "object_position": null,
            "order": null,
            "overflow": null,
            "overflow_x": null,
            "overflow_y": null,
            "padding": null,
            "right": null,
            "top": null,
            "visibility": null,
            "width": null
          }
        },
        "e72b7d7b1c2b414b8b523f96b16875b5": {
          "model_module": "@jupyter-widgets/controls",
          "model_name": "ProgressStyleModel",
          "model_module_version": "1.5.0",
          "state": {
            "_model_module": "@jupyter-widgets/controls",
            "_model_module_version": "1.5.0",
            "_model_name": "ProgressStyleModel",
            "_view_count": null,
            "_view_module": "@jupyter-widgets/base",
            "_view_module_version": "1.2.0",
            "_view_name": "StyleView",
            "bar_color": null,
            "description_width": ""
          }
        },
        "79280defc7e54d0e85447fab34bf989f": {
          "model_module": "@jupyter-widgets/base",
          "model_name": "LayoutModel",
          "model_module_version": "1.2.0",
          "state": {
            "_model_module": "@jupyter-widgets/base",
            "_model_module_version": "1.2.0",
            "_model_name": "LayoutModel",
            "_view_count": null,
            "_view_module": "@jupyter-widgets/base",
            "_view_module_version": "1.2.0",
            "_view_name": "LayoutView",
            "align_content": null,
            "align_items": null,
            "align_self": null,
            "border": null,
            "bottom": null,
            "display": null,
            "flex": null,
            "flex_flow": null,
            "grid_area": null,
            "grid_auto_columns": null,
            "grid_auto_flow": null,
            "grid_auto_rows": null,
            "grid_column": null,
            "grid_gap": null,
            "grid_row": null,
            "grid_template_areas": null,
            "grid_template_columns": null,
            "grid_template_rows": null,
            "height": null,
            "justify_content": null,
            "justify_items": null,
            "left": null,
            "margin": null,
            "max_height": null,
            "max_width": null,
            "min_height": null,
            "min_width": null,
            "object_fit": null,
            "object_position": null,
            "order": null,
            "overflow": null,
            "overflow_x": null,
            "overflow_y": null,
            "padding": null,
            "right": null,
            "top": null,
            "visibility": null,
            "width": null
          }
        },
        "e1c085901a6c4f088635d666d00155f3": {
          "model_module": "@jupyter-widgets/controls",
          "model_name": "DescriptionStyleModel",
          "model_module_version": "1.5.0",
          "state": {
            "_model_module": "@jupyter-widgets/controls",
            "_model_module_version": "1.5.0",
            "_model_name": "DescriptionStyleModel",
            "_view_count": null,
            "_view_module": "@jupyter-widgets/base",
            "_view_module_version": "1.2.0",
            "_view_name": "StyleView",
            "description_width": ""
          }
        },
        "2a8a771cc41e4a8894925025b5f6a1ce": {
          "model_module": "@jupyter-widgets/controls",
          "model_name": "HBoxModel",
          "model_module_version": "1.5.0",
          "state": {
            "_dom_classes": [],
            "_model_module": "@jupyter-widgets/controls",
            "_model_module_version": "1.5.0",
            "_model_name": "HBoxModel",
            "_view_count": null,
            "_view_module": "@jupyter-widgets/controls",
            "_view_module_version": "1.5.0",
            "_view_name": "HBoxView",
            "box_style": "",
            "children": [
              "IPY_MODEL_00d218e5899b4463ab432b156ec2733f",
              "IPY_MODEL_6386841ecafb4125bca42358acb505f7",
              "IPY_MODEL_144bb61f12764d5f8b583430f575fc19"
            ],
            "layout": "IPY_MODEL_2ff92951e3d2471d814e566787f85c33"
          }
        },
        "00d218e5899b4463ab432b156ec2733f": {
          "model_module": "@jupyter-widgets/controls",
          "model_name": "HTMLModel",
          "model_module_version": "1.5.0",
          "state": {
            "_dom_classes": [],
            "_model_module": "@jupyter-widgets/controls",
            "_model_module_version": "1.5.0",
            "_model_name": "HTMLModel",
            "_view_count": null,
            "_view_module": "@jupyter-widgets/controls",
            "_view_module_version": "1.5.0",
            "_view_name": "HTMLView",
            "description": "",
            "description_tooltip": null,
            "layout": "IPY_MODEL_5708a1dc23494737b74c8da713acc3de",
            "placeholder": "​",
            "style": "IPY_MODEL_0eb02648aa7b40cc9de00147c1fc412b",
            "value": "Downloading (…)cial_tokens_map.json: 100%"
          }
        },
        "6386841ecafb4125bca42358acb505f7": {
          "model_module": "@jupyter-widgets/controls",
          "model_name": "FloatProgressModel",
          "model_module_version": "1.5.0",
          "state": {
            "_dom_classes": [],
            "_model_module": "@jupyter-widgets/controls",
            "_model_module_version": "1.5.0",
            "_model_name": "FloatProgressModel",
            "_view_count": null,
            "_view_module": "@jupyter-widgets/controls",
            "_view_module_version": "1.5.0",
            "_view_name": "ProgressView",
            "bar_style": "success",
            "description": "",
            "description_tooltip": null,
            "layout": "IPY_MODEL_c38fc95f9a6c41369afa69c31adef78d",
            "max": 112,
            "min": 0,
            "orientation": "horizontal",
            "style": "IPY_MODEL_5b962684ce69441c98d822685dfaccc8",
            "value": 112
          }
        },
        "144bb61f12764d5f8b583430f575fc19": {
          "model_module": "@jupyter-widgets/controls",
          "model_name": "HTMLModel",
          "model_module_version": "1.5.0",
          "state": {
            "_dom_classes": [],
            "_model_module": "@jupyter-widgets/controls",
            "_model_module_version": "1.5.0",
            "_model_name": "HTMLModel",
            "_view_count": null,
            "_view_module": "@jupyter-widgets/controls",
            "_view_module_version": "1.5.0",
            "_view_name": "HTMLView",
            "description": "",
            "description_tooltip": null,
            "layout": "IPY_MODEL_6cf8f08cbf914c52a076162be986a880",
            "placeholder": "​",
            "style": "IPY_MODEL_7b2a0afabe444bb79b5606d8cb658b22",
            "value": " 112/112 [00:00&lt;00:00, 10.1kB/s]"
          }
        },
        "2ff92951e3d2471d814e566787f85c33": {
          "model_module": "@jupyter-widgets/base",
          "model_name": "LayoutModel",
          "model_module_version": "1.2.0",
          "state": {
            "_model_module": "@jupyter-widgets/base",
            "_model_module_version": "1.2.0",
            "_model_name": "LayoutModel",
            "_view_count": null,
            "_view_module": "@jupyter-widgets/base",
            "_view_module_version": "1.2.0",
            "_view_name": "LayoutView",
            "align_content": null,
            "align_items": null,
            "align_self": null,
            "border": null,
            "bottom": null,
            "display": null,
            "flex": null,
            "flex_flow": null,
            "grid_area": null,
            "grid_auto_columns": null,
            "grid_auto_flow": null,
            "grid_auto_rows": null,
            "grid_column": null,
            "grid_gap": null,
            "grid_row": null,
            "grid_template_areas": null,
            "grid_template_columns": null,
            "grid_template_rows": null,
            "height": null,
            "justify_content": null,
            "justify_items": null,
            "left": null,
            "margin": null,
            "max_height": null,
            "max_width": null,
            "min_height": null,
            "min_width": null,
            "object_fit": null,
            "object_position": null,
            "order": null,
            "overflow": null,
            "overflow_x": null,
            "overflow_y": null,
            "padding": null,
            "right": null,
            "top": null,
            "visibility": null,
            "width": null
          }
        },
        "5708a1dc23494737b74c8da713acc3de": {
          "model_module": "@jupyter-widgets/base",
          "model_name": "LayoutModel",
          "model_module_version": "1.2.0",
          "state": {
            "_model_module": "@jupyter-widgets/base",
            "_model_module_version": "1.2.0",
            "_model_name": "LayoutModel",
            "_view_count": null,
            "_view_module": "@jupyter-widgets/base",
            "_view_module_version": "1.2.0",
            "_view_name": "LayoutView",
            "align_content": null,
            "align_items": null,
            "align_self": null,
            "border": null,
            "bottom": null,
            "display": null,
            "flex": null,
            "flex_flow": null,
            "grid_area": null,
            "grid_auto_columns": null,
            "grid_auto_flow": null,
            "grid_auto_rows": null,
            "grid_column": null,
            "grid_gap": null,
            "grid_row": null,
            "grid_template_areas": null,
            "grid_template_columns": null,
            "grid_template_rows": null,
            "height": null,
            "justify_content": null,
            "justify_items": null,
            "left": null,
            "margin": null,
            "max_height": null,
            "max_width": null,
            "min_height": null,
            "min_width": null,
            "object_fit": null,
            "object_position": null,
            "order": null,
            "overflow": null,
            "overflow_x": null,
            "overflow_y": null,
            "padding": null,
            "right": null,
            "top": null,
            "visibility": null,
            "width": null
          }
        },
        "0eb02648aa7b40cc9de00147c1fc412b": {
          "model_module": "@jupyter-widgets/controls",
          "model_name": "DescriptionStyleModel",
          "model_module_version": "1.5.0",
          "state": {
            "_model_module": "@jupyter-widgets/controls",
            "_model_module_version": "1.5.0",
            "_model_name": "DescriptionStyleModel",
            "_view_count": null,
            "_view_module": "@jupyter-widgets/base",
            "_view_module_version": "1.2.0",
            "_view_name": "StyleView",
            "description_width": ""
          }
        },
        "c38fc95f9a6c41369afa69c31adef78d": {
          "model_module": "@jupyter-widgets/base",
          "model_name": "LayoutModel",
          "model_module_version": "1.2.0",
          "state": {
            "_model_module": "@jupyter-widgets/base",
            "_model_module_version": "1.2.0",
            "_model_name": "LayoutModel",
            "_view_count": null,
            "_view_module": "@jupyter-widgets/base",
            "_view_module_version": "1.2.0",
            "_view_name": "LayoutView",
            "align_content": null,
            "align_items": null,
            "align_self": null,
            "border": null,
            "bottom": null,
            "display": null,
            "flex": null,
            "flex_flow": null,
            "grid_area": null,
            "grid_auto_columns": null,
            "grid_auto_flow": null,
            "grid_auto_rows": null,
            "grid_column": null,
            "grid_gap": null,
            "grid_row": null,
            "grid_template_areas": null,
            "grid_template_columns": null,
            "grid_template_rows": null,
            "height": null,
            "justify_content": null,
            "justify_items": null,
            "left": null,
            "margin": null,
            "max_height": null,
            "max_width": null,
            "min_height": null,
            "min_width": null,
            "object_fit": null,
            "object_position": null,
            "order": null,
            "overflow": null,
            "overflow_x": null,
            "overflow_y": null,
            "padding": null,
            "right": null,
            "top": null,
            "visibility": null,
            "width": null
          }
        },
        "5b962684ce69441c98d822685dfaccc8": {
          "model_module": "@jupyter-widgets/controls",
          "model_name": "ProgressStyleModel",
          "model_module_version": "1.5.0",
          "state": {
            "_model_module": "@jupyter-widgets/controls",
            "_model_module_version": "1.5.0",
            "_model_name": "ProgressStyleModel",
            "_view_count": null,
            "_view_module": "@jupyter-widgets/base",
            "_view_module_version": "1.2.0",
            "_view_name": "StyleView",
            "bar_color": null,
            "description_width": ""
          }
        },
        "6cf8f08cbf914c52a076162be986a880": {
          "model_module": "@jupyter-widgets/base",
          "model_name": "LayoutModel",
          "model_module_version": "1.2.0",
          "state": {
            "_model_module": "@jupyter-widgets/base",
            "_model_module_version": "1.2.0",
            "_model_name": "LayoutModel",
            "_view_count": null,
            "_view_module": "@jupyter-widgets/base",
            "_view_module_version": "1.2.0",
            "_view_name": "LayoutView",
            "align_content": null,
            "align_items": null,
            "align_self": null,
            "border": null,
            "bottom": null,
            "display": null,
            "flex": null,
            "flex_flow": null,
            "grid_area": null,
            "grid_auto_columns": null,
            "grid_auto_flow": null,
            "grid_auto_rows": null,
            "grid_column": null,
            "grid_gap": null,
            "grid_row": null,
            "grid_template_areas": null,
            "grid_template_columns": null,
            "grid_template_rows": null,
            "height": null,
            "justify_content": null,
            "justify_items": null,
            "left": null,
            "margin": null,
            "max_height": null,
            "max_width": null,
            "min_height": null,
            "min_width": null,
            "object_fit": null,
            "object_position": null,
            "order": null,
            "overflow": null,
            "overflow_x": null,
            "overflow_y": null,
            "padding": null,
            "right": null,
            "top": null,
            "visibility": null,
            "width": null
          }
        },
        "7b2a0afabe444bb79b5606d8cb658b22": {
          "model_module": "@jupyter-widgets/controls",
          "model_name": "DescriptionStyleModel",
          "model_module_version": "1.5.0",
          "state": {
            "_model_module": "@jupyter-widgets/controls",
            "_model_module_version": "1.5.0",
            "_model_name": "DescriptionStyleModel",
            "_view_count": null,
            "_view_module": "@jupyter-widgets/base",
            "_view_module_version": "1.2.0",
            "_view_name": "StyleView",
            "description_width": ""
          }
        },
        "245a3b2544774902a62eff3feed8ade1": {
          "model_module": "@jupyter-widgets/controls",
          "model_name": "HBoxModel",
          "model_module_version": "1.5.0",
          "state": {
            "_dom_classes": [],
            "_model_module": "@jupyter-widgets/controls",
            "_model_module_version": "1.5.0",
            "_model_name": "HBoxModel",
            "_view_count": null,
            "_view_module": "@jupyter-widgets/controls",
            "_view_module_version": "1.5.0",
            "_view_name": "HBoxView",
            "box_style": "",
            "children": [
              "IPY_MODEL_beb809d1ecdd4153a22200738c4d3f6d",
              "IPY_MODEL_86ce2bea137e41c5b47239825616df9b",
              "IPY_MODEL_80e2c5396e2041d3beb3e9d99a923499"
            ],
            "layout": "IPY_MODEL_eab3a992e02b486eaef3202b23234042"
          }
        },
        "beb809d1ecdd4153a22200738c4d3f6d": {
          "model_module": "@jupyter-widgets/controls",
          "model_name": "HTMLModel",
          "model_module_version": "1.5.0",
          "state": {
            "_dom_classes": [],
            "_model_module": "@jupyter-widgets/controls",
            "_model_module_version": "1.5.0",
            "_model_name": "HTMLModel",
            "_view_count": null,
            "_view_module": "@jupyter-widgets/controls",
            "_view_module_version": "1.5.0",
            "_view_name": "HTMLView",
            "description": "",
            "description_tooltip": null,
            "layout": "IPY_MODEL_252596cd482143209cae906db3a3ad26",
            "placeholder": "​",
            "style": "IPY_MODEL_0e16fbec36ec471b9a47df691a59e114",
            "value": "Downloading (…)lve/main/config.json: 100%"
          }
        },
        "86ce2bea137e41c5b47239825616df9b": {
          "model_module": "@jupyter-widgets/controls",
          "model_name": "FloatProgressModel",
          "model_module_version": "1.5.0",
          "state": {
            "_dom_classes": [],
            "_model_module": "@jupyter-widgets/controls",
            "_model_module_version": "1.5.0",
            "_model_name": "FloatProgressModel",
            "_view_count": null,
            "_view_module": "@jupyter-widgets/controls",
            "_view_module_version": "1.5.0",
            "_view_name": "ProgressView",
            "bar_style": "success",
            "description": "",
            "description_tooltip": null,
            "layout": "IPY_MODEL_6e32136dcb5444d788788725eb20ba33",
            "max": 462,
            "min": 0,
            "orientation": "horizontal",
            "style": "IPY_MODEL_427669a934dc47779bcb340d94a33e24",
            "value": 462
          }
        },
        "80e2c5396e2041d3beb3e9d99a923499": {
          "model_module": "@jupyter-widgets/controls",
          "model_name": "HTMLModel",
          "model_module_version": "1.5.0",
          "state": {
            "_dom_classes": [],
            "_model_module": "@jupyter-widgets/controls",
            "_model_module_version": "1.5.0",
            "_model_name": "HTMLModel",
            "_view_count": null,
            "_view_module": "@jupyter-widgets/controls",
            "_view_module_version": "1.5.0",
            "_view_name": "HTMLView",
            "description": "",
            "description_tooltip": null,
            "layout": "IPY_MODEL_851ce779e12941099f790b191a0e68d2",
            "placeholder": "​",
            "style": "IPY_MODEL_360b08c3a8ac49ef98f45c51f7747e4d",
            "value": " 462/462 [00:00&lt;00:00, 39.7kB/s]"
          }
        },
        "eab3a992e02b486eaef3202b23234042": {
          "model_module": "@jupyter-widgets/base",
          "model_name": "LayoutModel",
          "model_module_version": "1.2.0",
          "state": {
            "_model_module": "@jupyter-widgets/base",
            "_model_module_version": "1.2.0",
            "_model_name": "LayoutModel",
            "_view_count": null,
            "_view_module": "@jupyter-widgets/base",
            "_view_module_version": "1.2.0",
            "_view_name": "LayoutView",
            "align_content": null,
            "align_items": null,
            "align_self": null,
            "border": null,
            "bottom": null,
            "display": null,
            "flex": null,
            "flex_flow": null,
            "grid_area": null,
            "grid_auto_columns": null,
            "grid_auto_flow": null,
            "grid_auto_rows": null,
            "grid_column": null,
            "grid_gap": null,
            "grid_row": null,
            "grid_template_areas": null,
            "grid_template_columns": null,
            "grid_template_rows": null,
            "height": null,
            "justify_content": null,
            "justify_items": null,
            "left": null,
            "margin": null,
            "max_height": null,
            "max_width": null,
            "min_height": null,
            "min_width": null,
            "object_fit": null,
            "object_position": null,
            "order": null,
            "overflow": null,
            "overflow_x": null,
            "overflow_y": null,
            "padding": null,
            "right": null,
            "top": null,
            "visibility": null,
            "width": null
          }
        },
        "252596cd482143209cae906db3a3ad26": {
          "model_module": "@jupyter-widgets/base",
          "model_name": "LayoutModel",
          "model_module_version": "1.2.0",
          "state": {
            "_model_module": "@jupyter-widgets/base",
            "_model_module_version": "1.2.0",
            "_model_name": "LayoutModel",
            "_view_count": null,
            "_view_module": "@jupyter-widgets/base",
            "_view_module_version": "1.2.0",
            "_view_name": "LayoutView",
            "align_content": null,
            "align_items": null,
            "align_self": null,
            "border": null,
            "bottom": null,
            "display": null,
            "flex": null,
            "flex_flow": null,
            "grid_area": null,
            "grid_auto_columns": null,
            "grid_auto_flow": null,
            "grid_auto_rows": null,
            "grid_column": null,
            "grid_gap": null,
            "grid_row": null,
            "grid_template_areas": null,
            "grid_template_columns": null,
            "grid_template_rows": null,
            "height": null,
            "justify_content": null,
            "justify_items": null,
            "left": null,
            "margin": null,
            "max_height": null,
            "max_width": null,
            "min_height": null,
            "min_width": null,
            "object_fit": null,
            "object_position": null,
            "order": null,
            "overflow": null,
            "overflow_x": null,
            "overflow_y": null,
            "padding": null,
            "right": null,
            "top": null,
            "visibility": null,
            "width": null
          }
        },
        "0e16fbec36ec471b9a47df691a59e114": {
          "model_module": "@jupyter-widgets/controls",
          "model_name": "DescriptionStyleModel",
          "model_module_version": "1.5.0",
          "state": {
            "_model_module": "@jupyter-widgets/controls",
            "_model_module_version": "1.5.0",
            "_model_name": "DescriptionStyleModel",
            "_view_count": null,
            "_view_module": "@jupyter-widgets/base",
            "_view_module_version": "1.2.0",
            "_view_name": "StyleView",
            "description_width": ""
          }
        },
        "6e32136dcb5444d788788725eb20ba33": {
          "model_module": "@jupyter-widgets/base",
          "model_name": "LayoutModel",
          "model_module_version": "1.2.0",
          "state": {
            "_model_module": "@jupyter-widgets/base",
            "_model_module_version": "1.2.0",
            "_model_name": "LayoutModel",
            "_view_count": null,
            "_view_module": "@jupyter-widgets/base",
            "_view_module_version": "1.2.0",
            "_view_name": "LayoutView",
            "align_content": null,
            "align_items": null,
            "align_self": null,
            "border": null,
            "bottom": null,
            "display": null,
            "flex": null,
            "flex_flow": null,
            "grid_area": null,
            "grid_auto_columns": null,
            "grid_auto_flow": null,
            "grid_auto_rows": null,
            "grid_column": null,
            "grid_gap": null,
            "grid_row": null,
            "grid_template_areas": null,
            "grid_template_columns": null,
            "grid_template_rows": null,
            "height": null,
            "justify_content": null,
            "justify_items": null,
            "left": null,
            "margin": null,
            "max_height": null,
            "max_width": null,
            "min_height": null,
            "min_width": null,
            "object_fit": null,
            "object_position": null,
            "order": null,
            "overflow": null,
            "overflow_x": null,
            "overflow_y": null,
            "padding": null,
            "right": null,
            "top": null,
            "visibility": null,
            "width": null
          }
        },
        "427669a934dc47779bcb340d94a33e24": {
          "model_module": "@jupyter-widgets/controls",
          "model_name": "ProgressStyleModel",
          "model_module_version": "1.5.0",
          "state": {
            "_model_module": "@jupyter-widgets/controls",
            "_model_module_version": "1.5.0",
            "_model_name": "ProgressStyleModel",
            "_view_count": null,
            "_view_module": "@jupyter-widgets/base",
            "_view_module_version": "1.2.0",
            "_view_name": "StyleView",
            "bar_color": null,
            "description_width": ""
          }
        },
        "851ce779e12941099f790b191a0e68d2": {
          "model_module": "@jupyter-widgets/base",
          "model_name": "LayoutModel",
          "model_module_version": "1.2.0",
          "state": {
            "_model_module": "@jupyter-widgets/base",
            "_model_module_version": "1.2.0",
            "_model_name": "LayoutModel",
            "_view_count": null,
            "_view_module": "@jupyter-widgets/base",
            "_view_module_version": "1.2.0",
            "_view_name": "LayoutView",
            "align_content": null,
            "align_items": null,
            "align_self": null,
            "border": null,
            "bottom": null,
            "display": null,
            "flex": null,
            "flex_flow": null,
            "grid_area": null,
            "grid_auto_columns": null,
            "grid_auto_flow": null,
            "grid_auto_rows": null,
            "grid_column": null,
            "grid_gap": null,
            "grid_row": null,
            "grid_template_areas": null,
            "grid_template_columns": null,
            "grid_template_rows": null,
            "height": null,
            "justify_content": null,
            "justify_items": null,
            "left": null,
            "margin": null,
            "max_height": null,
            "max_width": null,
            "min_height": null,
            "min_width": null,
            "object_fit": null,
            "object_position": null,
            "order": null,
            "overflow": null,
            "overflow_x": null,
            "overflow_y": null,
            "padding": null,
            "right": null,
            "top": null,
            "visibility": null,
            "width": null
          }
        },
        "360b08c3a8ac49ef98f45c51f7747e4d": {
          "model_module": "@jupyter-widgets/controls",
          "model_name": "DescriptionStyleModel",
          "model_module_version": "1.5.0",
          "state": {
            "_model_module": "@jupyter-widgets/controls",
            "_model_module_version": "1.5.0",
            "_model_name": "DescriptionStyleModel",
            "_view_count": null,
            "_view_module": "@jupyter-widgets/base",
            "_view_module_version": "1.2.0",
            "_view_name": "StyleView",
            "description_width": ""
          }
        },
        "0984e7b72875477faab7037907d643f0": {
          "model_module": "@jupyter-widgets/controls",
          "model_name": "HBoxModel",
          "model_module_version": "1.5.0",
          "state": {
            "_dom_classes": [],
            "_model_module": "@jupyter-widgets/controls",
            "_model_module_version": "1.5.0",
            "_model_name": "HBoxModel",
            "_view_count": null,
            "_view_module": "@jupyter-widgets/controls",
            "_view_module_version": "1.5.0",
            "_view_name": "HBoxView",
            "box_style": "",
            "children": [
              "IPY_MODEL_8314dba3a62943b494b81a41dad93bac",
              "IPY_MODEL_768bee9b2c6042c8b792ecdd496cdeac",
              "IPY_MODEL_ab98af89ec8d4fc893cc8fcdd1f79872"
            ],
            "layout": "IPY_MODEL_b8092124a63e47cb9c6e30d6e777a5d5"
          }
        },
        "8314dba3a62943b494b81a41dad93bac": {
          "model_module": "@jupyter-widgets/controls",
          "model_name": "HTMLModel",
          "model_module_version": "1.5.0",
          "state": {
            "_dom_classes": [],
            "_model_module": "@jupyter-widgets/controls",
            "_model_module_version": "1.5.0",
            "_model_name": "HTMLModel",
            "_view_count": null,
            "_view_module": "@jupyter-widgets/controls",
            "_view_module_version": "1.5.0",
            "_view_name": "HTMLView",
            "description": "",
            "description_tooltip": null,
            "layout": "IPY_MODEL_2a7b41329fbc48a7af216ee031446774",
            "placeholder": "​",
            "style": "IPY_MODEL_78a8b09ddc76478d9cb02eefbd6d9dde",
            "value": "Downloading tf_model.h5: 100%"
          }
        },
        "768bee9b2c6042c8b792ecdd496cdeac": {
          "model_module": "@jupyter-widgets/controls",
          "model_name": "FloatProgressModel",
          "model_module_version": "1.5.0",
          "state": {
            "_dom_classes": [],
            "_model_module": "@jupyter-widgets/controls",
            "_model_module_version": "1.5.0",
            "_model_name": "FloatProgressModel",
            "_view_count": null,
            "_view_module": "@jupyter-widgets/controls",
            "_view_module_version": "1.5.0",
            "_view_name": "ProgressView",
            "bar_style": "success",
            "description": "",
            "description_tooltip": null,
            "layout": "IPY_MODEL_5d7e3bc2f9714ebda670e2c596a305fb",
            "max": 433503400,
            "min": 0,
            "orientation": "horizontal",
            "style": "IPY_MODEL_effbdf82bc414eebbe835ede6f265f1e",
            "value": 433503400
          }
        },
        "ab98af89ec8d4fc893cc8fcdd1f79872": {
          "model_module": "@jupyter-widgets/controls",
          "model_name": "HTMLModel",
          "model_module_version": "1.5.0",
          "state": {
            "_dom_classes": [],
            "_model_module": "@jupyter-widgets/controls",
            "_model_module_version": "1.5.0",
            "_model_name": "HTMLModel",
            "_view_count": null,
            "_view_module": "@jupyter-widgets/controls",
            "_view_module_version": "1.5.0",
            "_view_name": "HTMLView",
            "description": "",
            "description_tooltip": null,
            "layout": "IPY_MODEL_61c2945e60ee4937b38aa4cc182e6890",
            "placeholder": "​",
            "style": "IPY_MODEL_e48db0bec0484f38b5270146c2bb7979",
            "value": " 434M/434M [00:17&lt;00:00, 20.9MB/s]"
          }
        },
        "b8092124a63e47cb9c6e30d6e777a5d5": {
          "model_module": "@jupyter-widgets/base",
          "model_name": "LayoutModel",
          "model_module_version": "1.2.0",
          "state": {
            "_model_module": "@jupyter-widgets/base",
            "_model_module_version": "1.2.0",
            "_model_name": "LayoutModel",
            "_view_count": null,
            "_view_module": "@jupyter-widgets/base",
            "_view_module_version": "1.2.0",
            "_view_name": "LayoutView",
            "align_content": null,
            "align_items": null,
            "align_self": null,
            "border": null,
            "bottom": null,
            "display": null,
            "flex": null,
            "flex_flow": null,
            "grid_area": null,
            "grid_auto_columns": null,
            "grid_auto_flow": null,
            "grid_auto_rows": null,
            "grid_column": null,
            "grid_gap": null,
            "grid_row": null,
            "grid_template_areas": null,
            "grid_template_columns": null,
            "grid_template_rows": null,
            "height": null,
            "justify_content": null,
            "justify_items": null,
            "left": null,
            "margin": null,
            "max_height": null,
            "max_width": null,
            "min_height": null,
            "min_width": null,
            "object_fit": null,
            "object_position": null,
            "order": null,
            "overflow": null,
            "overflow_x": null,
            "overflow_y": null,
            "padding": null,
            "right": null,
            "top": null,
            "visibility": null,
            "width": null
          }
        },
        "2a7b41329fbc48a7af216ee031446774": {
          "model_module": "@jupyter-widgets/base",
          "model_name": "LayoutModel",
          "model_module_version": "1.2.0",
          "state": {
            "_model_module": "@jupyter-widgets/base",
            "_model_module_version": "1.2.0",
            "_model_name": "LayoutModel",
            "_view_count": null,
            "_view_module": "@jupyter-widgets/base",
            "_view_module_version": "1.2.0",
            "_view_name": "LayoutView",
            "align_content": null,
            "align_items": null,
            "align_self": null,
            "border": null,
            "bottom": null,
            "display": null,
            "flex": null,
            "flex_flow": null,
            "grid_area": null,
            "grid_auto_columns": null,
            "grid_auto_flow": null,
            "grid_auto_rows": null,
            "grid_column": null,
            "grid_gap": null,
            "grid_row": null,
            "grid_template_areas": null,
            "grid_template_columns": null,
            "grid_template_rows": null,
            "height": null,
            "justify_content": null,
            "justify_items": null,
            "left": null,
            "margin": null,
            "max_height": null,
            "max_width": null,
            "min_height": null,
            "min_width": null,
            "object_fit": null,
            "object_position": null,
            "order": null,
            "overflow": null,
            "overflow_x": null,
            "overflow_y": null,
            "padding": null,
            "right": null,
            "top": null,
            "visibility": null,
            "width": null
          }
        },
        "78a8b09ddc76478d9cb02eefbd6d9dde": {
          "model_module": "@jupyter-widgets/controls",
          "model_name": "DescriptionStyleModel",
          "model_module_version": "1.5.0",
          "state": {
            "_model_module": "@jupyter-widgets/controls",
            "_model_module_version": "1.5.0",
            "_model_name": "DescriptionStyleModel",
            "_view_count": null,
            "_view_module": "@jupyter-widgets/base",
            "_view_module_version": "1.2.0",
            "_view_name": "StyleView",
            "description_width": ""
          }
        },
        "5d7e3bc2f9714ebda670e2c596a305fb": {
          "model_module": "@jupyter-widgets/base",
          "model_name": "LayoutModel",
          "model_module_version": "1.2.0",
          "state": {
            "_model_module": "@jupyter-widgets/base",
            "_model_module_version": "1.2.0",
            "_model_name": "LayoutModel",
            "_view_count": null,
            "_view_module": "@jupyter-widgets/base",
            "_view_module_version": "1.2.0",
            "_view_name": "LayoutView",
            "align_content": null,
            "align_items": null,
            "align_self": null,
            "border": null,
            "bottom": null,
            "display": null,
            "flex": null,
            "flex_flow": null,
            "grid_area": null,
            "grid_auto_columns": null,
            "grid_auto_flow": null,
            "grid_auto_rows": null,
            "grid_column": null,
            "grid_gap": null,
            "grid_row": null,
            "grid_template_areas": null,
            "grid_template_columns": null,
            "grid_template_rows": null,
            "height": null,
            "justify_content": null,
            "justify_items": null,
            "left": null,
            "margin": null,
            "max_height": null,
            "max_width": null,
            "min_height": null,
            "min_width": null,
            "object_fit": null,
            "object_position": null,
            "order": null,
            "overflow": null,
            "overflow_x": null,
            "overflow_y": null,
            "padding": null,
            "right": null,
            "top": null,
            "visibility": null,
            "width": null
          }
        },
        "effbdf82bc414eebbe835ede6f265f1e": {
          "model_module": "@jupyter-widgets/controls",
          "model_name": "ProgressStyleModel",
          "model_module_version": "1.5.0",
          "state": {
            "_model_module": "@jupyter-widgets/controls",
            "_model_module_version": "1.5.0",
            "_model_name": "ProgressStyleModel",
            "_view_count": null,
            "_view_module": "@jupyter-widgets/base",
            "_view_module_version": "1.2.0",
            "_view_name": "StyleView",
            "bar_color": null,
            "description_width": ""
          }
        },
        "61c2945e60ee4937b38aa4cc182e6890": {
          "model_module": "@jupyter-widgets/base",
          "model_name": "LayoutModel",
          "model_module_version": "1.2.0",
          "state": {
            "_model_module": "@jupyter-widgets/base",
            "_model_module_version": "1.2.0",
            "_model_name": "LayoutModel",
            "_view_count": null,
            "_view_module": "@jupyter-widgets/base",
            "_view_module_version": "1.2.0",
            "_view_name": "LayoutView",
            "align_content": null,
            "align_items": null,
            "align_self": null,
            "border": null,
            "bottom": null,
            "display": null,
            "flex": null,
            "flex_flow": null,
            "grid_area": null,
            "grid_auto_columns": null,
            "grid_auto_flow": null,
            "grid_auto_rows": null,
            "grid_column": null,
            "grid_gap": null,
            "grid_row": null,
            "grid_template_areas": null,
            "grid_template_columns": null,
            "grid_template_rows": null,
            "height": null,
            "justify_content": null,
            "justify_items": null,
            "left": null,
            "margin": null,
            "max_height": null,
            "max_width": null,
            "min_height": null,
            "min_width": null,
            "object_fit": null,
            "object_position": null,
            "order": null,
            "overflow": null,
            "overflow_x": null,
            "overflow_y": null,
            "padding": null,
            "right": null,
            "top": null,
            "visibility": null,
            "width": null
          }
        },
        "e48db0bec0484f38b5270146c2bb7979": {
          "model_module": "@jupyter-widgets/controls",
          "model_name": "DescriptionStyleModel",
          "model_module_version": "1.5.0",
          "state": {
            "_model_module": "@jupyter-widgets/controls",
            "_model_module_version": "1.5.0",
            "_model_name": "DescriptionStyleModel",
            "_view_count": null,
            "_view_module": "@jupyter-widgets/base",
            "_view_module_version": "1.2.0",
            "_view_name": "StyleView",
            "description_width": ""
          }
        }
      }
    }
  },
  "nbformat": 4,
  "nbformat_minor": 0
}