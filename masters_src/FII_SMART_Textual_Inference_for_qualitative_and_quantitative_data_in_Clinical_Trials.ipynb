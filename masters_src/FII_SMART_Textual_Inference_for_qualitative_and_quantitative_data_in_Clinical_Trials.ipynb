{
  "cells": [
    {
      "cell_type": "markdown",
      "metadata": {
        "id": "GvkD3ffs3-PW"
      },
      "source": [
        "## FII_SMART Multi-evidence Natural Language Inference for Clinical Trial Data\n"
      ]
    },
    {
      "cell_type": "code",
      "execution_count": null,
      "metadata": {
        "colab": {
          "base_uri": "https://localhost:8080/"
        },
        "id": "hg7GZI26hqWN",
        "outputId": "ba2f59ab-70b1-4517-8a15-73cd9e672f80"
      },
      "outputs": [
        {
          "output_type": "stream",
          "name": "stdout",
          "text": [
            "Your runtime has 27.3 gigabytes of available RAM\n",
            "\n",
            "You are using a high-RAM runtime!\n"
          ]
        }
      ],
      "source": [
        "from psutil import virtual_memory\n",
        "ram_gb = virtual_memory().total / 1e9\n",
        "print('Your runtime has {:.1f} gigabytes of available RAM\\n'.format(ram_gb))\n",
        "\n",
        "if ram_gb < 20:\n",
        "  print('Not using a high-RAM runtime')\n",
        "else:\n",
        "  print('You are using a high-RAM runtime!')"
      ]
    },
    {
      "cell_type": "code",
      "execution_count": null,
      "metadata": {
        "colab": {
          "base_uri": "https://localhost:8080/"
        },
        "id": "jeql8aTspVrN",
        "outputId": "95516b61-790b-4728-a9fb-03450bd68a63"
      },
      "outputs": [
        {
          "output_type": "stream",
          "name": "stdout",
          "text": [
            "Mon Jun  5 20:34:10 2023       \n",
            "+-----------------------------------------------------------------------------+\n",
            "| NVIDIA-SMI 525.85.12    Driver Version: 525.85.12    CUDA Version: 12.0     |\n",
            "|-------------------------------+----------------------+----------------------+\n",
            "| GPU  Name        Persistence-M| Bus-Id        Disp.A | Volatile Uncorr. ECC |\n",
            "| Fan  Temp  Perf  Pwr:Usage/Cap|         Memory-Usage | GPU-Util  Compute M. |\n",
            "|                               |                      |               MIG M. |\n",
            "|===============================+======================+======================|\n",
            "|   0  Tesla V100-SXM2...  Off  | 00000000:00:04.0 Off |                    0 |\n",
            "| N/A   38C    P0    25W / 300W |      0MiB / 16384MiB |      0%      Default |\n",
            "|                               |                      |                  N/A |\n",
            "+-------------------------------+----------------------+----------------------+\n",
            "                                                                               \n",
            "+-----------------------------------------------------------------------------+\n",
            "| Processes:                                                                  |\n",
            "|  GPU   GI   CI        PID   Type   Process name                  GPU Memory |\n",
            "|        ID   ID                                                   Usage      |\n",
            "|=============================================================================|\n",
            "|  No running processes found                                                 |\n",
            "+-----------------------------------------------------------------------------+\n"
          ]
        }
      ],
      "source": [
        "gpu_info = !nvidia-smi\n",
        "gpu_info = '\\n'.join(gpu_info)\n",
        "if gpu_info.find('failed') >= 0:\n",
        "  print('Not connected to a GPU')\n",
        "else:\n",
        "  print(gpu_info)"
      ]
    },
    {
      "cell_type": "code",
      "execution_count": null,
      "metadata": {
        "id": "tGM45GtI4AGM"
      },
      "outputs": [],
      "source": [
        "import sys\n",
        "import os\n",
        "\n",
        "DEBUG1=False\n",
        "DEBUG2=False\n",
        "\n",
        "PREFIXG=\"/content/\"\n",
        "PREFIX=\"/content/\"\n",
        "\n",
        "TRAIN_DATA=PREFIXG+\"train.csv\"\n",
        "TEST_DATA=PREFIXG+\"dev.csv\"\n",
        "TEST_DATA2=PREFIXG+\"test.csv\""
      ]
    },
    {
      "cell_type": "markdown",
      "metadata": {
        "id": "jsUgNFza-k1s"
      },
      "source": [
        "Clean files for new run"
      ]
    },
    {
      "cell_type": "code",
      "execution_count": null,
      "metadata": {
        "colab": {
          "base_uri": "https://localhost:8080/"
        },
        "id": "azNO3tL0656f",
        "outputId": "50e055c5-0a56-4780-996d-70c154f45dec"
      },
      "outputs": [
        {
          "output_type": "stream",
          "name": "stdout",
          "text": [
            "CT_data\t\t\t\t\t       results_2_20230605202123.json\n",
            "CT_data.zip\t\t\t\t       results_3_20230605202247.json\n",
            "dataset.zip\t\t\t\t       results_4_20230605202548.json\n",
            "dev.csv\t\t\t\t\t       results_5_20230605202714.json\n",
            "dev.json\t\t\t\t       sample_data\n",
            "NLI4CT_numerical_instances_dataset.json        submission_1_20230605201923.csv\n",
            "NLI4CT_numerical_instances_dev.json\t       submission_2_20230605202123.csv\n",
            "pairs_NLI4CT_numerical_instances_dataset.json  submission_3_20230605202247.csv\n",
            "pairs_NLI4CT_numerical_instances_dev.json      submission_4_20230605202548.csv\n",
            "results_1_20230605191003.json\t\t       submission_5_20230605202714.csv\n",
            "results_1_20230605192043.json\t\t       test\n",
            "results_1_20230605194847.json\t\t       test.csv\n",
            "results_1_20230605200336.json\t\t       test.json\n",
            "results_1_20230605201057.json\t\t       train.csv\n",
            "results_1_20230605201923.json\t\t       train.json\n",
            "results_2_20230605193211.json\n",
            "rm: cannot remove 'test-*.*': No such file or directory\n",
            "rm: cannot remove 'results-*.*': No such file or directory\n"
          ]
        }
      ],
      "source": [
        "from google.colab import files\n",
        "\n",
        "!ls\n",
        "!rm test.*\n",
        "!rm train.*\n",
        "!rm dev.*\n",
        "!rm subm*.*\n",
        "!rm test-*.*\n",
        "!rm results-*.*\n",
        "!rm -rf CT_data\n",
        "!rm CT_data.zip\n",
        "!rm dataset.zip"
      ]
    },
    {
      "cell_type": "code",
      "execution_count": null,
      "metadata": {
        "id": "U0whZ5i_5sPF",
        "colab": {
          "base_uri": "https://localhost:8080/"
        },
        "outputId": "ed741b6f-862d-4c9a-d440-9fbc29d24329"
      },
      "outputs": [
        {
          "output_type": "stream",
          "name": "stdout",
          "text": [
            "--2023-06-05 20:34:15--  https://github.com/volosincu/FII_Smart__Semeval2023/raw/main/dataset.zip\n",
            "Resolving github.com (github.com)... 20.27.177.113\n",
            "Connecting to github.com (github.com)|20.27.177.113|:443... connected.\n",
            "HTTP request sent, awaiting response... 302 Found\n",
            "Location: https://raw.githubusercontent.com/volosincu/FII_Smart__Semeval2023/main/dataset.zip [following]\n",
            "--2023-06-05 20:34:15--  https://raw.githubusercontent.com/volosincu/FII_Smart__Semeval2023/main/dataset.zip\n",
            "Resolving raw.githubusercontent.com (raw.githubusercontent.com)... 185.199.108.133, 185.199.109.133, 185.199.110.133, ...\n",
            "Connecting to raw.githubusercontent.com (raw.githubusercontent.com)|185.199.108.133|:443... connected.\n",
            "HTTP request sent, awaiting response... 200 OK\n",
            "Length: 2479891 (2.4M) [application/zip]\n",
            "Saving to: ‘dataset.zip’\n",
            "\n",
            "dataset.zip         100%[===================>]   2.36M  --.-KB/s    in 0.08s   \n",
            "\n",
            "2023-06-05 20:34:16 (31.3 MB/s) - ‘dataset.zip’ saved [2479891/2479891]\n",
            "\n",
            "Archive:  /content/dataset.zip\n",
            "  inflating: dev.csv                 \n",
            "  inflating: test.csv                \n",
            "  inflating: test.json               \n",
            "  inflating: train.csv               \n",
            "  inflating: train.json              \n",
            "  inflating: dev.json                \n",
            "  inflating: CT_data.zip             \n"
          ]
        }
      ],
      "source": [
        "!pip install transformers > /dev/null 2>&1\n",
        "!wget https://github.com/volosincu/FII_Smart__Semeval2023/raw/main/dataset.zip\n",
        "!unzip /content/dataset.zip\n",
        "!unzip /content/CT_data.zip  > /dev/null 2>&1"
      ]
    },
    {
      "cell_type": "code",
      "execution_count": null,
      "metadata": {
        "id": "lm_BUE7xJO8l",
        "colab": {
          "base_uri": "https://localhost:8080/"
        },
        "outputId": "de7e08f3-c9f1-4609-8f2e-48007d443b00"
      },
      "outputs": [
        {
          "output_type": "stream",
          "name": "stdout",
          "text": [
            "['i', 'me', 'my', 'myself', 'we', 'our', 'ours', 'ourselves', 'you', \"you're\", \"you've\", \"you'll\", \"you'd\", 'your', 'yours', 'yourself', 'yourselves', 'he', 'him', 'his', 'himself', 'she', \"she's\", 'her', 'hers', 'herself', 'it', \"it's\", 'its', 'itself', 'they', 'them', 'their', 'theirs', 'themselves', 'what', 'which', 'who', 'whom', 'this', 'that', \"that'll\", 'these', 'those', 'am', 'is', 'are', 'was', 'were', 'be', 'been', 'being', 'have', 'has', 'had', 'having', 'do', 'does', 'did', 'doing', 'a', 'an', 'the', 'and', 'but', 'if', 'or', 'because', 'as', 'until', 'while', 'of', 'at', 'by', 'for', 'with', 'about', 'against', 'between', 'into', 'through', 'during', 'before', 'after', 'above', 'below', 'to', 'from', 'up', 'down', 'in', 'out', 'on', 'off', 'over', 'under', 'again', 'further', 'then', 'once', 'here', 'there', 'when', 'where', 'why', 'how', 'all', 'any', 'both', 'each', 'few', 'more', 'most', 'other', 'some', 'such', 'no', 'nor', 'not', 'only', 'own', 'same', 'so', 'than', 'too', 'very', 's', 't', 'can', 'will', 'just', 'don', \"don't\", 'should', \"should've\", 'now', 'd', 'll', 'm', 'o', 're', 've', 'y', 'ain', 'aren', \"aren't\", 'couldn', \"couldn't\", 'didn', \"didn't\", 'doesn', \"doesn't\", 'hadn', \"hadn't\", 'hasn', \"hasn't\", 'haven', \"haven't\", 'isn', \"isn't\", 'ma', 'mightn', \"mightn't\", 'mustn', \"mustn't\", 'needn', \"needn't\", 'shan', \"shan't\", 'shouldn', \"shouldn't\", 'wasn', \"wasn't\", 'weren', \"weren't\", 'won', \"won't\", 'wouldn', \"wouldn't\"]\n"
          ]
        },
        {
          "output_type": "stream",
          "name": "stderr",
          "text": [
            "[nltk_data] Downloading package stopwords to /root/nltk_data...\n",
            "[nltk_data]   Package stopwords is already up-to-date!\n"
          ]
        }
      ],
      "source": [
        "import nltk\n",
        "from nltk.corpus import stopwords\n",
        "nltk.download('stopwords')\n",
        "print(stopwords.words('english'))\n",
        "\n",
        "STOP_WORDS_RO = [ ]"
      ]
    },
    {
      "cell_type": "markdown",
      "metadata": {
        "id": "zAjXPnpImrUV"
      },
      "source": [
        "Tests for numerical regex  "
      ]
    },
    {
      "cell_type": "code",
      "execution_count": null,
      "metadata": {
        "id": "-rAgjOWUHXAP",
        "colab": {
          "base_uri": "https://localhost:8080/",
          "height": 52
        },
        "outputId": "31c7aa97-ea95-4020-9804-650fb44ce6dc"
      },
      "outputs": [
        {
          "output_type": "stream",
          "name": "stdout",
          "text": [
            "'䔀'\n"
          ]
        },
        {
          "output_type": "execute_result",
          "data": {
            "text/plain": [
              "'Patients with Platelet count over 100,000/mm¬ ̈‚â•, ANC '"
            ],
            "application/vnd.google.colaboratory.intrinsic+json": {
              "type": "string"
            }
          },
          "metadata": {},
          "execution_count": 7
        }
      ],
      "source": [
        "with open('test', encoding='utf-8', mode='w+') as f:\n",
        "    f.write('\\u4500 blah blah blah\\n')\n",
        "    f.seek(0)\n",
        "    print(repr(f.readline()[:1]))\n",
        "\n",
        "import unicodedata    \n",
        "raw_text = \"Patients with Platelet count over 100,000/mm\\u00ac\\u00a8\\u201a\\u00e2\\u2022, ANC \"\n",
        "convert_text = unicodedata.normalize('NFKD', raw_text)\n",
        "convert_text"
      ]
    },
    {
      "cell_type": "code",
      "source": [
        "n7sample =  [\"Inclusion Criteria: The following criteria are to be checked at the time of study entry  The patients may only be included in the study if ALL of the following statements are FULLFILLED: The patient (male or female) is at least 18 years old at the time of signature of the informed consent form  Written informed consent has been obtained from the patient prior to the performance of any protocol-specific procedure  The patient is diagnosed with confirmed invasive breast cancer with stage IV disease  Note: If the metastatic disease is restricted to a solitary lesion  its neoplastic nature should be confirmed by cytology or histology  The patient has documented disease progression or relapse following at least one prior standard therapy with trastuzumab (alone or in combination with chemotherapy)  Patients with prior lapatinib use are eligible  Furthermore  The administration of the chemotherapeutic agent(s) should have been stopped for at least 28 days by the time of the first ASCI administration  The administration of trastuzumab alone could be maintained after chemotherapy  but the last dose of trastuzumab should not have been given less than three weeks before the first ASCI administration  The patient will not be given trastuzumab during the trial  For metastatic patients whose disease is ER+ and/or PR+ the following criteria should be met: Patients with visceral disease that requires chemotherapy (eg.  patients with liver or lung metastases)  Rapidly progressing or life threatening disease  as determined by the investigator  Patients who received hormonal therapy and are no longer benefiting from this therapy  A tumor lesion from the patient biopsied before or during screening shows either: \",\n",
        "            \"Overexpression of the HER2 protein  as determined by immunohistochemistry (IHC  with result IHC 3+) orAmplification of the HER2 gene as determined by FISH (at least 4 fold i.e  at least 8 copies)  Note: Overexpression/amplification measurements must be performed on a metastatic lesion in all cases where such a lesion is sufficiently easily accessible  If however such a biopsy is not possible  then these measurements can be performed on the primary tumor  Use of the primary tumor is to be documented and justified  Ten FFPE tissue sections of the tumor on which the HER2 overexpression/amplification has been done -if available-may be requested  These may be used to retrospectively carry out part of the translational research (i.e  analysis of EGF receptor activity and of the presence of immune effector cells  refer to Section 7). The patient has at least one measurable lesion according to RECIST criteria  The patient has ECOG status of 0 or 1. The patient has adequate bone marrow reserve as indicated by: White blood cell count greater than /= 3,000/mm3. Neutrophil count greater than /= 1,500/mm3. Platelet count greater than /= 100,000/mm3. Hemoglobin levels greater than /= 10.0 g/dl  The patient has adequate renal function as shown by the creatinine levels (i.e  within the normal range)  The patient has adequate hepatic function as shown by serum bilirubin levels i.e: Serum bilirubin levels within the normal limits  \",\n",
        "            \"Both AST and ALT levels smaller than 1.5 times the ULN  Note: However  for patients with liver metastasis  a serum bilirubin level smaller than 1.5 times the ULN and both AST and ALT levels smaller than 3 times the ULN will be accepted The patient has a baseline Left Ventricular Ejection Fraction (LVEF) measured by MUGA scan equal to or greater than the LLN for the radiology facility  If the patient is female  she must be of non-childbearing potential  i.e  have a current tubal ligation  hysterectomy  ovariectomy or be post-menopausal  or if she is of childbearing potential  she must practice adequate contraception for 30 days prior to treatment  have a negative pregnancy test and continue such precautions for two months after completion of the study treatment  Adequate contraception is defined as a contraceptive method with failure rate of less than 1% per year when used consistently and correctly (when applicable  as mentioned in the product label) for example abstinence  combined or progestogen oral contraceptives  injectable progestogen  implants of levonorgestrel  oestrogenic vaginal ring  percutaneous contraceptive patches or intrauterine device (IUD) or intrauterine system (IUS)  vasectomy with documented azoospermia of the sole male partner or double barrier method (condom or occlusive cap plus spermicidal agent)  \",\n",
        "            \"For azoospermia  \\\"documented\\\" refers to the outcome of the investigator's/ designee's medical examination of the subject or review of the subject's medical history for study eligibility  as obtained via a verbal interview with the subject or from the subject's medical records Post-menopause: Menopause is the age associated with complete cessation of menstrual cycles  menses  and implies the loss of reproductive potential by ovarian failure  A practical definition accepts menopause after 1 year without menses with an appropriate clinical profile at the appropriate age e.g  greater than 45 years  Able to swallow and retain oral medication  In the view of the investigator  the patient can and will comply with the requirements of the protocol  Exclusion Criteria: The following criteria should be checked at the time of study entry  If any apply  the patient must not be included in the study: The patient has received greater than 300 mg/m2 doxorubicin (cumulative dose) or greater than 600 mg/m2 epirubicin (cumulative dose)  The patient is receiving treatment with bisphosphonate UNLESS the biphosphonate treatment was initiated more than three weeks before the first ASCI administration  (See also section 5.3.2.). The patient has received any investigational or non-registered product (drug or vaccine) other than the study treatment(s) within 30 days preceding the first dose of study treatment  or planned use during the study period  The patient is currently receiving amiodarone or has received amiodarone in the 6 months prior to screening  \",\n",
        "            \"The patient requires concomitant treatment with systemic corticosteroids or any immunosuppressive agents  The use of prednisone  or equivalent  smaller than 0.5 mg/kg/day (absolute maximum 40 mg/day)  or inhaled corticosteroids or topical steroids is permitted The patient has a malabsorption syndrome  disease significantly affecting gastrointestinal function  or resection of the stomach or small bowel  Patients with ulcerative colitis  The patient has known coronary artery disease  arrhythmia requiring treatment  clinically significant valvular disease  cardiomegaly on chest X-ray  ventricular hypertrophy (found by ECG) or previous myocardial infarction  The patient has any acute or chronic  clinically significant pulmonary  cardiovascular  hepatic or renal functional abnormality  as determined by physical examination or laboratory screening tests  The patient has current active hepatic or biliary's disease (with exception of patients with Gilbert's syndrome  asymptomatic gallstones  liver metastases or stable chronic liver disease per investigator assessment)  The patient presents with autoimmune disease (vitiligo and autoimmune thyroid disease is not an exclusion criterion)  The patient has a known family history of congenital or hereditary immunodeficiency  The patient has any uncontrolled bleeding disorder or coagulation disorder or thrombocytopenia or pro-thrombotic disorder  The patient has a history of anaphylaxis or severe allergic reaction to vaccines or unknown allergens  \",\n",
        "            \"The patient has a known immediate or delayed hypersensitivity reaction or idiosyncrasy to drugs chemically related to Lapatinib  These include other anilinoquinazolines  such as gefitinib (Iressa)  erlotinib (Tarceva)  or other chemically related compounds or excipients The patient is known to be positive for the Human Immunodeficiency Virus (HIV)  The patient has (or has had) previous or concomitant malignancies at other sites except effectively treated: Non-melanoma skin cancers or carcinoma in situ of the cervix Malignancy that has been in remission for greater than 2 years and is considered highly likely to have been cured  The patient has any psychiatric or addictive disorder that may compromise her ability to give informed consent  or to comply with the trial procedures  The patient has any other condition that in the opinion of the investigator might jeopardize the patient's safety or ability to comply with the requirements of the study  The patient is pregnant or lactating  \"]\n",
        "\n",
        "n6sample = \"Inclusion Criteria: Subjects who were confirmed to have a response after receiving at least two courses of weekly paclitaxel therapy and considered to need to continue the therapy by the investigator/subinvestigator among the patients with advanced or recurrent breast cancer who had met the selection criteria and participated in the preceding phase II clinical study Inclusion Criteria: The patient must consent to be in the study and must have signed an approved consent form conforming to institutional guidelines The patient must be 18 years or older  Core biopsy should definitively demonstrate invasive carcinoma  Invasive carcinoma should be ER-apha receptor positive The tumor should be approximately at least 1 cm  to account for variability in imaging and imaging occult disease (physical exam  mammography  ultrasound)  We recognize that from time to time because of this variation  there might not be enough tissue available for analysis after surgical excision but this will allow the greatest opportunity to capture as many eligible patients as possible  Patients in whom surgical excision of the tumor is part of standard of care management ECOG score of 0 or 1 Negative serum or urine beta-hCG pregnancy test at screening for patients of child-bearing potential (this is routinely done if the patient is premenopausal and having surgery) Consent to participate in DBBR (RPCI only) Exclusion Criteria: Male patients are not eligible for this study Female patients with inoperable tumors or women with stage 4 disease diagnosed on CT  PET  PET/CT or bone scan  Patients with diagnosis by FNA cytology only Pregnant or lactating women Prior therapy for breast cancer  including irradiation  chemo- immuno- and/or hormonal therapy Patients receiving any hormonal therapy  e.g  ovarian hormonal replacement therapy  infertility medications etc.  are not eligible \"\n",
        "\n",
        "n5sample = 'flaxseed or soy products or black cohosh  Patients with a known mutation in p53 (Li Fraumeni Syndrome) '\n",
        "\n",
        "n4sample =  \"Inclusion Criteria: Clinical stage I or II (T1 or T2, N0 or N1) invasive mammary carcinoma Exclusion Criteria: Fixed axillary lymph node metastases (N2) \"\n",
        "\n",
        "n3sample = \"II-IV\""
      ],
      "metadata": {
        "id": "Tho0k-ChLjG0"
      },
      "execution_count": null,
      "outputs": []
    },
    {
      "cell_type": "code",
      "execution_count": null,
      "metadata": {
        "id": "_CkS5c2xn8FN",
        "colab": {
          "base_uri": "https://localhost:8080/",
          "height": 174
        },
        "outputId": "372cd402-f3bc-41ba-b4e8-edf28d727a58"
      },
      "outputs": [
        {
          "output_type": "execute_result",
          "data": {
            "text/plain": [
              "'Inclusion Criteria: Subjects who were confirmed to have a response after receiving at least two courses of weekly paclitaxel therapy and considered to need to continue the therapy by the investigator/subinvestigator among the patients with advanced or recurrent breast cancer who had met the selection criteria and participated in the preceding phase II clinical study Inclusion Criteria: The patient must consent to be in the study and must have signed an approved consent form conforming to institutional guidelines The patient must be 18 years or older  Core biopsy should definitively demonstrate invasive carcinoma  Invasive carcinoma should be ER-apha receptor positive The tumor should be approximately at least 1 cm  to account for variability in imaging and imaging occult disease (physical exam  mammography  ultrasound)  We recognize that from time to time because of this variation  there might not be enough tissue available for analysis after surgical excision but this will allow the greatest opportunity to capture as many eligible patients as possible  Patients in whom surgical excision of the tumor is part of standard of care management ECOG score of 0 or 1 Negative serum or urine beta-hCG pregnancy test at screening for patients of child-bearing potential (this is routinely done if the patient is premenopausal and having surgery) Consent to participate in DBBR (RPCI only) Exclusion Criteria: Male patients are not eligible for this study Female patients with inoperable tumors or women with stage 4 disease diagnosed on CT  PET  PET/CT or bone scan  Patients with diagnosis by FNA cytology only Pregnant or lactating women Prior therapy for breast cancer  including irradiation  chemo- immuno- and/or hormonal therapy Patients receiving any hormonal therapy  e.g  ovarian hormonal replacement therapy  infertility medications etc.  are not eligible '"
            ],
            "application/vnd.google.colaboratory.intrinsic+json": {
              "type": "string"
            }
          },
          "metadata": {},
          "execution_count": 9
        }
      ],
      "source": [
        "import re\n",
        "\n",
        "def uninorm(w):\n",
        "  return unicodedata.normalize('NFKD', w)\n",
        "\n",
        "def remove_partitions(numInstances, skip=False):\n",
        "  if skip:\n",
        "    return numInstances\n",
        "  b1 = []\n",
        "  for w in numInstances:\n",
        "    a0 = numInstances[0:]\n",
        "    a0.remove(w)\n",
        "    contained = False\n",
        "    for x in a0:\n",
        "      if w.strip() in x.strip():\n",
        "        contained = True\n",
        "    if not contained:\n",
        "      b1.append(w.strip())\n",
        "  return b1\n",
        "\n",
        "def getCohorts(sentence):\n",
        "  sa02 = re.findall(r'Adverse[\\s]{0,3}Events[\\s1]+\\:.+Adverse[\\s]{0,3}Events[\\s2]+\\:', sentence, re.UNICODE)\n",
        "  sa03 = re.findall(r'Adverse[\\s]{0,3}Events[\\s2]+\\:.+(?:Adverse[\\s]{0,3}Events[\\s3]+\\:)', sentence, re.UNICODE)\n",
        "  return sa02 + sa03\n",
        "\n",
        "def containsNumericalInstances(sentence, skip=False):\n",
        "  # '2,0 mg/dl', '9,7 mg'\n",
        "  s00 = re.findall(r'[0-9]+,[0-9]+\\s{1}[a-zA-Z\\/\\^\\-\\:\\+\\*\\=,0-9]+', sentence, re.UNICODE) # ['9,7 mg']  # ['9,7 test']\n",
        "  # s01 = re.findall(r'^[0-9]+\\s{0,1}[a-zA-Z0-9]+[\\^\\/\\-_]{1}[a-zA-Z0-9]+|(?:\\s)[0-9]+\\s{0,1}[a-zA-Z0-9]+[\\^\\/\\-_]{1}[a-zA-Z0-9]+', sentence, re.UNICODE)  # 50 mg/min\n",
        "  s010 = re.findall(r'^[0-9]+\\s{0,1}[a-zA-Z0-9]+[\\^\\/\\-_]{1}[a-zA-Z0-9]+|(?:\\s)[0-9]+\\s{0,1}[a-zA-Z0-9]+[\\^\\/\\-_]{1}[a-zA-Z0-9]+(?:\\s{1}[a-zA-Z]+)', sentence, re.UNICODE)  # 50 mg/min\n",
        "  s02 = re.findall(r'[^a-zA-Z][0-9]+[\\.\\,]{1}[0-9%]+\\s{0,1}[a-zA-Z]+[\\^\\/\\-_]{1}[a-zA-Z]+', sentence, re.UNICODE)  # 2.0 mg/dl, ' 9.0 g/dL'\n",
        "  s020 = re.findall(r'[^a-zA-Z\\S][0-9]+\\s{0,1}[a-zA-Z]+[\\^\\/\\-_]{1}[a-zA-Z\\S]+', sentence, re.UNICODE)  # 2.0 mg/dl, ' 300 mg/m2'\n",
        "  # the ALT 2.5 times , 'Hemoglobin 9.0 g/dL'\n",
        "  s021 = re.findall(r'\\w+\\s[0-9]+[\\.\\,]{1}[0-9%]+\\s{0,1}[a-zA-Z]+[\\^\\/\\-_\\s]{1}[a-zA-Z0-9]+', sentence, re.UNICODE)\n",
        "\n",
        "  # 'T1N1-3M0'\n",
        "  s022 = re.findall(r'\\w+[0-9]+\\S{1}\\s{0,1}[a-zA-Z0-9]+[a-zA-Z0-9]+', sentence, re.UNICODE)\n",
        "  s023 = re.findall(r'\\w+\\s\\w+\\s[0-9\\:]+\\S{0,1}', sentence, re.UNICODE)\n",
        "  # '1-21. Inclusion', ['9,7 test'], '9,7 test', '88888888/55 9/8' , '52-75 years', '9/8 mg', '1/50 mg', '2/neu positive', '0-1 ANC', '1,500/mm³ Platelet', '100,000/mm³ Hemoglobin'\n",
        "  s03 = re.findall(r'[\\(\\[\\{\\<]*[0-9]+[,\\-\\:\\+\\=\\@\\#\\/][0-9%\\.\\S]+[\\)\\]\\}\\>]{0,1}\\s{1}[a-zA-Z\\/\\^\\-\\:\\+\\*\\=,0-9]+', sentence, re.UNICODE) \n",
        "  # '(300%) than'\n",
        "  s030 = re.findall(r'[\\(\\[\\{\\<]{1}\\w*[0-9]+\\w*[,\\-\\:\\+\\=\\@\\#\\/]*[0-9%]*[\\)\\]\\}\\>]{1}\\s{0,1}(?:\\s{1}[a-zA-Z]+)', sentence, re.UNICODE)\n",
        "  # '8,88888888/55 mg', '9/8 mg', '1/50 mg', '5.5/5.0 11', '3.74/9.45666 11'\n",
        "  s1 = re.findall(r'[0-9]+[\\.\\,\\-\\:\\+\\=\\@\\#\\/]{0,1}[0-9]*[\\/][0-9]+[\\.\\,\\-\\:\\+\\=\\@\\#\\/]{0,1}[0-9]*\\s{1}[a-zA-Z\\S]+[\\^\\/\\-_]{0,1}[a-zA-Z0-9\\S]+', sentence, re.UNICODE) \n",
        "  # 'y3.222 mg', 'f3.566 mg/kg', 'Ki67 staining'\n",
        "  s10 = re.findall(r'[a-zA-Z]+[0-9]+[\\.\\,\\-\\:\\+\\=\\@\\#\\/]{0,1}[0-9%]+\\s{1}[a-zA-Z]+[\\^\\/\\-_]{0,1}[a-zA-Z]+', sentence, re.UNICODE) \n",
        "  # '61.1% mg', '65.5 % mg'\n",
        "  s2 = re.findall(r'[0-9]+[\\.\\,\\-\\:\\+\\=\\@\\#\\/]{0,1}[0-9]*\\s{0,1}%\\s{1}[a-zA-Z]+[\\^\\/\\-_]{0,1}[a-zA-Z]+', sentence, re.UNICODE) \n",
        "  # s21 = re.findall(r'([0-9]+[\\.]{0,1}[0-9]*)[\\s]{0,1}%[\\s]{0,1}[a-zA-z]+', sentence)  # '5.5/5.0', '3.7/9.0', '3.74/9.45666',\n",
        "  # '5.5/5.0 11 mg ', '3.7/9.0 11 mg ', '3.74/9.45666 11 mg '\n",
        "  s3 = re.findall(r'[0-9%]+[\\.\\,\\-\\:\\+\\=\\@\\#\\/]{0,1}[0-9%]*[\\/][0-9%]+[\\.\\,\\-\\:\\+\\=\\@\\#\\/]{0,1}[0-9%]+(?!\\s{1}[a-zA-Z0-9])', sentence, re.UNICODE) \n",
        "  #'5.5/5.0 11 mg ', '3.7/9.0 11 mg ', '3.74/9.45666 11 mg ',  '8,88888888/55 9/8 ', '3.7/9.0 11  '\n",
        "  s41 = re.findall(r'[0-9]+[\\.\\,\\-\\:\\+\\=\\@\\#\\/]{0,1}[0-9]*[\\/][0-9]+[\\.\\,\\-\\:\\+\\=\\@\\#\\/]{0,1}[0-9]*\\s{1}[\\s\\d\\^\\/\\-_]+[a-zA-Z]{,4}\\s{1}', sentence, re.UNICODE)\n",
        "  #s3 = re.findall(r'[0-9]+[\\.]{0,1}[0-9]*\\s{0,1}%', sentence) # '61.1%', '65.5 %'\n",
        "  # ' 2 months of', ' 12 weeks ECOG', ' 200 mg test'\n",
        "  s50 = re.findall(r'\\s[0-9]+\\s{1}[a-zA-Z]+(?:\\s[a-zA-Z0-9;]+)', sentence, re.UNICODE)\n",
        "  s51 = re.findall(r'\\s{0,1}[0-9]+\\s{1}[a-zA-Z]+(?:\\s[0-9a-zA-Z;\\.\\,\\:\\?\\[\\(\\{\\}\\]\\)\\=]+\\s)', sentence, re.UNICODE)\n",
        "  s60 = re.findall(r'[0-9]+[\\.\\,\\-\\:\\+\\=\\@\\#\\/]{1}[0-9]+[\\.\\,\\-\\:\\+\\=\\@\\#\\/]{1}[a-zA-Z][\\S]*', sentence, re.UNICODE) #'100,000/mm³'\n",
        "  s61 = re.findall(r'[0-9]+[\\.\\,\\-\\:\\+\\=\\@\\#\\/]{1}[0-9]+[\\.\\,\\-\\:\\+\\=\\@\\#\\/]{1}[a-zA-Z][\\S]*(?:\\s[a-zA-Z]+)', sentence, re.UNICODE) #'100,000/mm³'\n",
        "  # s70 = re.findall(r'[0-9]+[\\.,]{1}[0-9]+[\\^\\/\\-_]{1}[a-z][\\S]*', sentence) #'100,000/mm³'\n",
        "  s80 = re.findall(r'[0-9]+[\\.\\,\\-\\:\\+\\=\\@\\#\\/]{1}[0-9]+[\\.\\,\\-\\:\\+\\=\\@\\#\\/]{1}[a-zA-Z][\\S]*(?:\\s[a-zA-Z]+)', sentence, re.UNICODE) #'100,000/mm³'\n",
        "  s90 = re.findall(r'[0-9]+[\\.\\,\\-\\:\\+\\=\\@\\#\\/]{1}[0-9]+[\\.\\,\\-\\:\\+\\=\\@\\#\\/]{1}[a-zA-Z][\\S]*', sentence, re.UNICODE) #'100,000/mm³'\n",
        "  sa01 = re.findall(r'primary|secondary|third|first|all|at least|last', sentence, re.UNICODE) \n",
        "  #return sa03;\n",
        "  strs = s010 + s02 + s020 + s021 + s022 + s023 + s03 + s030 + s00 + s10 + s1 + s2 + s41 + s50 + s51 + s60 + s61 + s90 + sa01\n",
        "  insts = set([s.strip() for s in strs])\n",
        "  return remove_partitions(list(insts), skip)\n",
        "\n",
        "\n",
        "n6sample\n",
        "\n",
        "\n",
        "# a95 = getCohorts(\"Adverse Events 1: Total: 4/26 (15.38%) Febrile neutropenia * 1/26 (3.85%) Gastric volvulus * 20/26 (0.00%) General Malaise * 21/26 (3.85%) Hospitalisation for intrapleuric chemotherapy and thoracentesis * 21/26 (3.85%) Acute renal failure * 21/26 (3.85%) Adverse Events 2: Total: 1/28 (3.57%) cases of CHF in the primary trial  were in secondary and third Febrile neutropenia more adverse events in cohort 1 of the primary trial  than in cohort 2. \")\n",
        "# print(a95)\n",
        "# a96 = getCohorts(\"Adverse Events 1: Cardiac failure congestive 1/32 (3.13%) Adverse Events 2: Cardiac failure congestive 0/20 (0.00%) Adverse Events 3: Cardiac failure congestive 8/32 (33.13%)\")\n",
        "# print(a96)\n",
        "\n",
        "# a97 = containsNumericalInstances(\"Adverse Events 1: Total: 4/26 (15.38%) Febrile neutropenia * 1/26 (3.85%) Gastric volvulus * 20/26 (0.00%) General Malaise * 21/26 (3.85%) Hospitalisation for intrapleuric chemotherapy and thoracentesis * 21/26 (3.85%) Acute renal failure * 21/26 (3.85%) Adverse Events 2: Total: 1/28 (3.57%) cases of CHF in the primary trial  were in secondary and third Febrile neutropenia more adverse events in cohort 1 of the primary trial  than in cohort 2. \")\n",
        "# print(a97)\n",
        "# a99 = containsNumericalInstances(' Patients should have T1N1-3M0 or T2-4 N0-3M0. Patients with Platelet count over 100,000/mm\\u00ac\\u00a8\\u201a\\u00e2\\u2022, ANC smaller than 1,700/mm\\u00ac\\u00a8\\u201a\\u00e2\\u2022 and Hemoglobin between 4 to 5 grams per deciliter to 28 days; are eligible for the primary trial ', True)\n",
        "# print(a99)\n",
        "# print(str(a99)==str(['2-4 N0-3M0', '1-3M0 or', '100,000/mm¬¨‚â•, ANC', '1,700/mm¬¨‚â•', '100,000/mm¬¨‚â•,', '5 grams per', '1,700/mm¬¨‚â• and']))\n",
        "# a98 = containsNumericalInstances(\"Patients with HER-2/neu positive tumors asymptomatic for 2 months of progression status not  expectancy 12 weeks ECOG performance status 0-1 ANC 1,500/mm³ Platelet count 100,000/mm³ Hemoglobin 9.0 g/dL \", True)\n",
        "# print(a98)\n",
        "# print(str(a98)==str(['100,000/mm³ Hemoglobin', '0-1 ANC', '100,000/mm³', '2/neu positive', '12 weeks ECOG', '9.0 g/dL', '2 months of', '1,500/mm³ Platelet', '1,500/mm³']))\n",
        "# a0 = containsNumericalInstances(\" Ki67 staining (cumulative dose) and the ALT 2.5 times daily on days 1-21. Inclusion Criteria: Age 52-75 years old; IdentificationPatients also receive cixutumumab IV over 1-1\\u00bd hours on days 1, 8, and 15. Courses repeat \", True)\n",
        "# print(a0)\n",
        "# print(str(a0)==str(['1-21. Inclusion', '52-75 years', '1-1½ hours', 'Ki67 staining']))\n",
        "# a1 = containsNumericalInstances(\"Moni dict (300%) than 300 mg/m2 doxorubicin (cumulative dose) or greater than 600 mg/m2 epirubicin sdfsdf  fff  fdfsd\", True)\n",
        "# print(a1)\n",
        "# print(str(a1)==str(['(300%) than', '600 mg/m2 epirubicin', '300 mg/m2 doxorubicin', '300 mg/m2', '600 mg/m2']))\n",
        "# test2 = containsNumericalInstances(\"e {5.7%} mg Age 52-75 years old; 100,000/mm³ 200 mg test 50 mg/min 2.0 mg/dl i f3.566 mg 66|8 t/8 9,7 test 8,88888888/55 9/8 3.7/9.0 11  61.1% 65.5 % [2]1/50\", True)\n",
        "# print(test2)\n",
        "# print(str(test2)==str(['9,7 test', 'f3.566 mg', '3.7/9.0 11', '200 mg test', '8,88888888/55 9/8', '100,000/mm³ 200', '100,000/mm³', '2.0 mg/dl', '7/9.0 11', '50 mg/min', '52-75 years']))\n",
        "# test3 = containsNumericalInstances(\"Age 52-75 years old;  100,000/mm³ vals 200 mg 50 mg/min 2,0 mg/dl y3.222 mg i f3.566 mg/kg 66|8 mg t/8 mg 9,7 mg test 8,88888888/55 mg 9/8 mg 5.5/5.0 11 mg 3.7/9.0 11 mg 3.74/9.45666 11 mg 61.1% mg 65.5 % mg [2]1/50 mg\", True)\n",
        "# print(test3)\n",
        "# print(str(test3)==str(['9/8 mg', '3.74/9.45666 11', '3.74/9.45666 11 mg', '5.5/5.0 11', '3.7/9.0 11 mg', '61.1% mg', 'y3.222 mg', '100,000/mm³ vals', 'f3.566 mg/kg', '9,7 mg', '5.5/5.0 11 mg', '100,000/mm³', '8,88888888/55 mg', '1/50 mg', '3.7/9.0 11', '65.5 % mg', '2,0 mg/dl', '74/9.45666 11', '7/9.0 11', '50 mg/min', '52-75 years', '5/5.0 11']))\n",
        "# test4 = containsNumericalInstances(\"a {5.7} mg Age 52-75 years old; 100,000/mm³ vals 200 mg (200 mg) 50 mg/min 2.0 mg/dl y3.222 mg i f3.566 mg/kg 66|8 mg t/8 mg (9,7%) [9,7%] 9,7 mg test 8,88888888/55 mg 9/8 mg 5.5/5.0 11 mg 3.7/9.0 11 mg 3.74/9.45666 11 mg 61.1% mg 65.5 % mg [2]1/50 mg\", True)\n",
        "# print(test4)\n",
        "# print(str(test4)==str(['9/8 mg', '3.74/9.45666 11', '3.74/9.45666 11 mg', '5.5/5.0 11', '3.7/9.0 11 mg', '61.1% mg', 'y3.222 mg', '100,000/mm³ vals', 'f3.566 mg/kg', '9,7 mg', '[9,7%] 9,7', '5.5/5.0 11 mg', '100,000/mm³', '8,88888888/55 mg', '1/50 mg', '3.7/9.0 11', '65.5 % mg', '74/9.45666 11', '2.0 mg/dl', '7/9.0 11', '50 mg/min', '52-75 years', '5/5.0 11']))\n",
        "# print(['                                  8,88888888/55 mg', '9/8 mg', '1/50 mg', '61.1% mg', '65.5 % mg', '5.5/5.0', '3.7/9.0', '3.74/9.45666', '5.5/5.0 11 mg ', '3.7/9.0 11 mg ', '3.74/9.45666 11 mg '])"
      ]
    },
    {
      "cell_type": "code",
      "execution_count": null,
      "metadata": {
        "id": "7eBkqmGSCrp9",
        "colab": {
          "base_uri": "https://localhost:8080/"
        },
        "outputId": "f53ed2e3-86ae-454b-b93e-832637ffa6b1"
      },
      "outputs": [
        {
          "output_type": "stream",
          "name": "stdout",
          "text": [
            "['3.5', 'mg ', 'casa,Stage', 'IV ']\n",
            "['3.5', 'mg ', 'casa,Stage', 'IV']\n",
            "['3', 'casa,Stage', 'IV']\n",
            "['3casa.Stage', 'IV']\n"
          ]
        },
        {
          "output_type": "execute_result",
          "data": {
            "text/plain": [
              "['3casa.Stage']"
            ]
          },
          "metadata": {},
          "execution_count": 10
        }
      ],
      "source": [
        "def containsNr(word):\n",
        "  return re.findall(r'\\d', word)\n",
        "\n",
        "def nnChunk(chunk):\n",
        "  _word = chunk\n",
        "  word = None\n",
        "  withSeparator = False;\n",
        "  if _word.startswith(';'):\n",
        "     word = _word[1:]\n",
        "  # elif _word.endswith(')'):\n",
        "  #   word = _word[:len(_word)-1]\n",
        "  if _word.endswith(','):\n",
        "    if not containsNr(_word):\n",
        "      word = _word[:len(_word)-1]+\" \"\n",
        "    else:\n",
        "      word = _word\n",
        "  elif _word.endswith('.'):\n",
        "    if not containsNr(_word):\n",
        "      word = _word[:len(_word)-1]+\" \"\n",
        "    else:\n",
        "      word = _word\n",
        "  else:\n",
        "    word = _word\n",
        "  return word\n",
        "\n",
        "# punctuation = ['„', '”', '(', ')', ';', '{', '}','[',']', '/', '\\\\',\"\\\"\", \"'\", ','] \n",
        "punctuation = ['„', '”', ';', '\\\\',\"\\\"\", \"'\"] \n",
        "\n",
        "def normalizeChunk(chunk):\n",
        "  concats=[]\n",
        "  # for sign in punctuation:\n",
        "  #   if(word.__contains__(sign)):\n",
        "  c = chunk.split(\" \")\n",
        "  for w in c:\n",
        "    sw = nnChunk(w)\n",
        "    concats.append(sw)\n",
        "  if(len(concats) == 0):\n",
        "    concats.append(chunk)\n",
        "  return list(filter(None, dict.fromkeys(concats)))\n",
        "\n",
        "print(normalizeChunk(\"3.5 mg, casa,Stage IV.\"))\n",
        "print(normalizeChunk(\"3.5 mg. casa,Stage IV\"))\n",
        "print(normalizeChunk(\"3 casa,Stage IV\"))\n",
        "print(normalizeChunk(\"3casa.Stage IV\"))\n",
        "normalizeChunk(normalizeChunk(\"3casa.Stage IV\")[0])"
      ]
    },
    {
      "cell_type": "code",
      "source": [
        "b = \"FLT PET scan at baseline and 1-6 weeks after the start\"\n",
        "# b = \"than patients in the\"\n",
        "a = 'The surgery follows 1-7 days after the second FLT PET'\n",
        "\n",
        "\n",
        "def concat(*args):\n",
        "    result = ''\n",
        "    for arg in args:\n",
        "        result = _concat(result, arg)\n",
        "    return result\n",
        "\n",
        "def _concat(a, b):\n",
        "    la = len(a)\n",
        "    lb = len(b)\n",
        "    for i in range(la):\n",
        "        j = i\n",
        "        k = 0\n",
        "        while j < la and k < lb and a[j] == b[k]:\n",
        "            j += 1\n",
        "            k += 1\n",
        "        if j == la:\n",
        "            n = k\n",
        "            break\n",
        "    else:\n",
        "        n = 0\n",
        "    return a + b[n:]\n",
        "\n",
        "\n",
        "def can_concat(a, b):\n",
        "    la = len(a)\n",
        "    lb = len(b)\n",
        "    for i in range(la):\n",
        "        j = i\n",
        "        k = 0\n",
        "        while j < la and k < lb and a[j] == b[k]:\n",
        "            j += 1\n",
        "            k += 1\n",
        "        if j == la:\n",
        "            n = k\n",
        "            break\n",
        "    else:\n",
        "        n = 0\n",
        "\n",
        "    if (n>3):\n",
        "      return True\n",
        "    if (n==0):\n",
        "      return False\n",
        "    return False\n",
        "\n",
        "concat(b, a)"
      ],
      "metadata": {
        "colab": {
          "base_uri": "https://localhost:8080/",
          "height": 35
        },
        "id": "Fd78BJDepSA_",
        "outputId": "e4d11f9c-33e9-4948-9d27-1849ba5a8184"
      },
      "execution_count": null,
      "outputs": [
        {
          "output_type": "execute_result",
          "data": {
            "text/plain": [
              "'FLT PET scan at baseline and 1-6 weeks after the startThe surgery follows 1-7 days after the second FLT PET'"
            ],
            "application/vnd.google.colaboratory.intrinsic+json": {
              "type": "string"
            }
          },
          "metadata": {},
          "execution_count": 11
        }
      ]
    },
    {
      "cell_type": "code",
      "source": [],
      "metadata": {
        "id": "EB-g4ce6i7sK"
      },
      "execution_count": null,
      "outputs": []
    },
    {
      "cell_type": "code",
      "source": [
        "from difflib import SequenceMatcher\n",
        "a = \"FLT PET scan at baseline and 1-6 weeks after the start\"\n",
        "# b = \"than patients in the\"\n",
        "b = 'The surgery follows 1-7 days after the second FLT PET'\n",
        "\n",
        "def mxrint(ttx, tx=''):\n",
        "  if 1==2:\n",
        "    print(ttx, tx)\n",
        "\n",
        "def merge_num_instances(a, b):\n",
        "  s = SequenceMatcher(lambda x: x==\" \", a, b)\n",
        "  mtch = s.find_longest_match(0, len(a), 0, len(b))\n",
        "  mst = mtch[0]\n",
        "  mnd = mtch[1]\n",
        "  msz = mtch[2]\n",
        "  if (a in b):\n",
        "    return b\n",
        "  if (b in a):\n",
        "    return a\n",
        "\n",
        "  if (can_concat(a, b)):\n",
        "    return _concat(a, b)\n",
        "  \n",
        "  if (can_concat(b, a)):\n",
        "    return _concat(b, a)\n",
        "\n",
        "  if (mst > mnd):\n",
        "    if (mnd>0):\n",
        "      mxrint('Not from same sentence. exit')\n",
        "      return a\n",
        "    na = a[:mst]+b\n",
        "    if (msz+mst == len(a)):\n",
        "      mxrint(len(na), msz+mst == len(a))\n",
        "    else:\n",
        "      mxrint('Not continous')\n",
        "      return a\n",
        "    return na\n",
        "  else:\n",
        "    nb = b[:mnd]+a\n",
        "    if (mst>0):\n",
        "      mxrint('Not from same sentence. exit')\n",
        "      return a\n",
        "    if (msz+mnd == len(b)):\n",
        "      mxrint('continous')\n",
        "    else:\n",
        "      mxrint('Not from same sentence. exit')\n",
        "      return a\n",
        "    return nb\n",
        "# merge_num_instances(b, a)\n",
        "\n",
        "array = ['than 1/4 patients in the primary',\n",
        "         'the primary trial experienced',\n",
        "         'than 1/4 patients in the',\n",
        "         'Less than 1/4 patients',\n",
        "         '8/24 (33.33%)',\n",
        "         'Adverse Events 1:']\n",
        "\n",
        "array = ['PATIENT CHARACTERISTICS: ANC 1,500/mm³ Platelet count 100,000/mm³ Hemoglobin 9.0 g/dL', 'ANC 1,500/mm³ Platelet count 100,000/mm³ Hemoglobin 9.0 g/dL', 'PATIENT CHARACTERISTICS: ANC 1,500/mm³ Platelet count 100,000/mm³ Hemoglobin 9.0 g/dL', '1,500/mm³ Platelet count 100,000/mm³ Hemoglobin 9.0 g/dL', 'ANC 1,500/mm³ Platelet count 100,000/mm³ Hemoglobin 9.0 g/dL']\n",
        "\n",
        "array = ['PATIENT', 'yhsy', 'abc', 'PATIENT', 'PAtIENT']\n",
        "\n",
        "# 5bc844fc-e852-4270-bfaf-36ea9eface3d\n",
        "array = [\n",
        "            \"Patients also receive cixutumumab IV over 1-1½ hours on days 1,\",\n",
        "            \"endocrine treatment  The surgery follows 1-7 days after the second\",\n",
        "            \"scan at baseline and 1-6 weeks after the start of standard endocrine\",\n",
        "            \"twice daily on days 1-14 and oral lapatinib ditosylate once daily on\",\n",
        "            \"stage  ER positive primary breast cancer undergo FLT PET\",\n",
        "            \"IV over 1-1½ hours on days 1, 8, and 15. Courses repeat\",\n",
        "            \"PO and capecitabine: Given PO INTERVENTION 2: Arm B Patients receive capecitabine\",\n",
        "            \"emission tomography) scanning procedure: [F18] fluorothymidine  Positron Emission Tomography: Undergo\",\n",
        "            \"days 1, 8, and 15. Courses repeat every 21 days in\",\n",
        "            \"twice daily on days 1-14 and oral lapatinib ditosylate once daily\",\n",
        "            \"FLT PET scan at baseline and 1-6 weeks after the start\",\n",
        "            \"scan at baseline and 1-6 weeks after the start of standard\",\n",
        "            \"oral capecitabine twice daily on days 1-14 and oral lapatinib ditosylate\",\n",
        "            \"receive cixutumumab IV over 1-1½ hours on days 1, 8, and\",\n",
        "            \"1-21. Courses repeat every 21 days in the absence of disease progression\",\n",
        "            \"The surgery follows 1-7 days after the second FLT PET\",\n",
        "            \"Analysis: Correlative studies - Ki67 staining of the tumor tissue in the\",\n",
        "            \"The surgery follows 1-7 days after the second FLT PET scan\",\n",
        "            \"Analysis: Correlative studies - Ki67 staining of the tumor tissue in\",\n",
        "            \"once daily on days 1-21. Courses repeat every 21 days in\",\n",
        "            \"on days 1-21. Courses repeat every 21 days in the absence of\"\n",
        "        ]\n",
        "\n",
        "\n",
        "def continue_overlaping(array):\n",
        "  if(len(array) == 1):\n",
        "    return array\n",
        "\n",
        "  arm = []\n",
        "  for i in range(len(array)):\n",
        "      for j in range(i + 1, len(array)):\n",
        "        arm.append(merge_num_instances(array[j], array[i]))\n",
        "  arm = list(set(arm))\n",
        "  for i in range(len(array)):\n",
        "    for j in range(i + 1, len(array)):\n",
        "      arm.append(merge_num_instances(array[i], array[j]))\n",
        "\n",
        "  rezultat = remove_partitions(list(set(arm)))\n",
        "\n",
        "  for a in rezultat:\n",
        "    for b in rezultat:\n",
        "      s = SequenceMatcher(lambda x: x==\" \", a, b)\n",
        "      mtch = s.find_longest_match(0, len(a), 0, len(b))\n",
        "      if (s.quick_ratio()>0.9):\n",
        "        try:\n",
        "          rezultat.remove(a)\n",
        "        except:\n",
        "          pass # do nothing\n",
        "\n",
        "  return rezultat\n",
        "\n",
        "\n",
        "\n",
        "continue_overlaping(array)\n",
        "#len(\" \".join(continue_overlaping(array)).split(\" \"))\n",
        "# #merge_num_instances(a, b)\n"
      ],
      "metadata": {
        "colab": {
          "base_uri": "https://localhost:8080/"
        },
        "id": "pcVnIO4lltJX",
        "outputId": "e2e6cef6-985d-4a90-a4e3-97f819eb82a4"
      },
      "execution_count": null,
      "outputs": [
        {
          "output_type": "execute_result",
          "data": {
            "text/plain": [
              "['Patients also receive cixutumumab IV over 1-1½ hours on days 1, 8, and 15. Courses repeat every 21 days in',\n",
              " 'endocrine treatment  The surgery follows 1-7 days after the second FLT PET scan',\n",
              " 'PO and capecitabine: Given PO INTERVENTION 2: Arm B Patients receive capecitabine',\n",
              " 'stage  ER positive primary breast cancer undergo FLT PET scan at baseline and 1-6 weeks after the start',\n",
              " 'oral capecitabine twice daily on days 1-14 and oral lapatinib ditosylate once daily on']"
            ]
          },
          "metadata": {},
          "execution_count": 12
        }
      ]
    },
    {
      "cell_type": "code",
      "execution_count": null,
      "metadata": {
        "id": "WDwspzgEbMLm",
        "colab": {
          "base_uri": "https://localhost:8080/"
        },
        "outputId": "027ded66-ad11-4dd9-bf21-ff0a120afaff"
      },
      "outputs": [
        {
          "output_type": "stream",
          "name": "stdout",
          "text": [
            "['than 1/4 patients in the primary', 'the primary trial experienced', 'than 1/4 patients in the', 'Less than 1/4 patients', '8/24 (33.33%)', 'Adverse Events 1:']\n",
            "Less than 1/4 patients in the primary\n",
            "Less than 1/4 patients in the primary trial experienced\n"
          ]
        }
      ],
      "source": [
        "def overlap_and_concatenate(array):\n",
        "    concatenated = []\n",
        "    overlap_found = False\n",
        "\n",
        "    for i in range(len(array)):\n",
        "        for j in range(i + 1, len(array)):\n",
        "            if array[i] in array[j]:\n",
        "                concatenated.append(array[j])\n",
        "                overlap_found = True\n",
        "                break\n",
        "\n",
        "        if not overlap_found:\n",
        "            concatenated.append(array[i])\n",
        "\n",
        "    return concatenated\n",
        "\n",
        "# Example usage:\n",
        "array = ['than 1/4 patients in the primary',\n",
        "         'the primary trial experienced',\n",
        "         'than 1/4 patients in the',\n",
        "         'Less than 1/4 patients',\n",
        "         '8/24 (33.33%)',\n",
        "         'Adverse Events 1:']\n",
        "\n",
        "result = overlap_and_concatenate(array)\n",
        "print(result)\n",
        "\n",
        "#\n",
        "# extinde contextul din jurul unei secvente dintr-o propozitie\n",
        "#\n",
        "def readSeqToSpace(sentence, seq):\n",
        "    upToNSpaces = 5\n",
        "    start = sentence.find(seq)\n",
        "    newstartindex = start\n",
        "    space_count_start = 0\n",
        "    for i in range(start - 1, -1, -1):\n",
        "        newstartindex = i + 1\n",
        "        if sentence[i] == ' ':\n",
        "            space_count_start += 1\n",
        "            if space_count_start >= upToNSpaces:\n",
        "                newstartindex = i + 1\n",
        "                break\n",
        "    end = start + len(seq)\n",
        "    newendindex = end\n",
        "    space_count_end = 0\n",
        "    for i in range(end + 1, len(sentence)):\n",
        "        if sentence[i] == ' ':\n",
        "            newendindex = i\n",
        "            space_count_end += 1\n",
        "            if space_count_end >= upToNSpaces:\n",
        "                newendindex = i\n",
        "                break\n",
        "\n",
        "    return (sentence[newstartindex-1:start] + sentence[start: newendindex]).strip()\n",
        "\n",
        "xtz = \"Less than 1/4 patients in the primary trial experienced adverse events \"\n",
        "\n",
        "print(readSeqToSpace(xtz, \"than 1/\"))\n",
        "print(readSeqToSpace(xtz, \"/4 patients\"))"
      ]
    },
    {
      "cell_type": "code",
      "execution_count": null,
      "metadata": {
        "id": "mJ2iF2LTmJln"
      },
      "outputs": [],
      "source": [
        "import spacy\n",
        "\n",
        "def extract_information(sentence):\n",
        "    nlp = spacy.load(\"en_core_web_sm\")\n",
        "    doc = nlp(sentence)\n",
        "\n",
        "    action = None\n",
        "    subject = None\n",
        "    verb = None\n",
        "    obj = None\n",
        "\n",
        "    for token in doc:\n",
        "        if token.dep_ == \"ROOT\" and token.pos_ == \"VERB\":\n",
        "            action = token.lemma_\n",
        "            verb = token.text\n",
        "            break\n",
        "\n",
        "    for token in doc:\n",
        "        if token.dep_ == \"nsubj\":\n",
        "            subject = token.text\n",
        "        elif token.dep_ == \"dobj\" or token.dep_ == \"attr\":\n",
        "            obj = token.text\n",
        "\n",
        "    return {\n",
        "        \"action\": action,\n",
        "        \"subject\": subject,\n",
        "        \"verb\": verb,\n",
        "        \"object\": obj\n",
        "    }"
      ]
    },
    {
      "cell_type": "code",
      "execution_count": null,
      "metadata": {
        "colab": {
          "base_uri": "https://localhost:8080/"
        },
        "id": "P8Duy6J4WJfb",
        "outputId": "ba37f639-6058-45d8-e592-b61dd1a3ca1d"
      },
      "outputs": [
        {
          "output_type": "execute_result",
          "data": {
            "text/plain": [
              "['Less than 1/4 patients in the primary trial experienced adverse',\n",
              " '1/4 patients in the primary trial experienced adverse events',\n",
              " 'Less than 1/4 patients in the primary trial experienced',\n",
              " 'Less than 1/4 patients in the primary']"
            ]
          },
          "metadata": {},
          "execution_count": 15
        }
      ],
      "source": [
        "\n",
        "nnsx = [\n",
        "            \"4 patients in\",\n",
        "            \"primary\",\n",
        "            \"1/4 patients\",\n",
        "            \"Less than 1/\"\n",
        "        ]\n",
        "[readSeqToSpace(xtz, nn) for nn in nnsx]"
      ]
    },
    {
      "cell_type": "code",
      "execution_count": null,
      "metadata": {
        "colab": {
          "base_uri": "https://localhost:8080/",
          "height": 35
        },
        "id": "pNrSXOm6JdU2",
        "outputId": "edd77db8-f673-47eb-92b0-8ba2ba2aba57"
      },
      "outputs": [
        {
          "output_type": "execute_result",
          "data": {
            "text/plain": [
              "'Renal function: Creatinine smaller than or equal 2.0 mg/dl or a creatinine clearance greater than or equal 50 mg/min'"
            ],
            "application/vnd.google.colaboratory.intrinsic+json": {
              "type": "string"
            }
          },
          "metadata": {},
          "execution_count": 16
        }
      ],
      "source": [
        "def normalizeDocument(text, removeStopWords):\n",
        "  NORMALIZED_CORPUS = []\n",
        "  for _word in text.split():\n",
        "    if(_word.__contains__('>=')):\n",
        "      _word = _word.replace(\">=\", \"greater than or equal \")\n",
        "      #print(_word)\n",
        "    if(_word.__contains__('=<')):\n",
        "      _word = _word.replace(\"=<\", \"smaller than or equal \")\n",
        "      #print(_word)\n",
        "    if(_word.__contains__('<')):\n",
        "      _word = _word.replace(\"<\", \"smaller than \")\n",
        "      #print(_word)\n",
        "    if(_word.__contains__('>')):\n",
        "      _word = _word.replace(\">\", \"greater than \")\n",
        "      #print(_word)\n",
        "    normalized = normalizeChunk(_word)\n",
        "    for word in normalized:\n",
        "      if(removeStopWords):\n",
        "        if(not STOP_WORDS_RO.__contains__(word)):\n",
        "          NORMALIZED_CORPUS.append(word)\n",
        "      else:\n",
        "        NORMALIZED_CORPUS.append(word)\n",
        "  return \" \".join(NORMALIZED_CORPUS)\n",
        "\n",
        "normalizat = normalizeDocument(\"Renal function: Creatinine =< 2.0 mg/dl or a creatinine clearance >= 50 mg/min\", True)\n",
        "normalizat"
      ]
    },
    {
      "cell_type": "code",
      "execution_count": null,
      "metadata": {
        "colab": {
          "base_uri": "https://localhost:8080/"
        },
        "id": "O3DCPnMdqUeB",
        "outputId": "e75efdbb-c079-43ea-d8a9-b7ae7fef729f"
      },
      "outputs": [
        {
          "output_type": "execute_result",
          "data": {
            "text/plain": [
              "['all', 'or equal 50', '50 mg/min', 'equal 2.0 mg/dl', 'or equal 2.']"
            ]
          },
          "metadata": {},
          "execution_count": 17
        }
      ],
      "source": [
        "containsNumericalInstances(normalizat)"
      ]
    },
    {
      "cell_type": "code",
      "execution_count": null,
      "metadata": {
        "id": "HulYrUTP43o3"
      },
      "outputs": [],
      "source": [
        "import uuid\n",
        "import json\n",
        "from transformers import BertTokenizer, TFBertModel\n",
        "import matplotlib.pyplot as plt\n",
        "import tensorflow as tf\n",
        "import gc\n",
        "import numpy as np\n",
        "import pandas as pd\n",
        "\n",
        "\n",
        "from transformers import AutoTokenizer, AutoModel\n",
        "\n",
        "c_counter = 0\n",
        "from datetime import datetime\n",
        "current_dateTime = datetime.now()"
      ]
    },
    {
      "cell_type": "code",
      "execution_count": null,
      "metadata": {
        "id": "3oZDAf436o1B"
      },
      "outputs": [],
      "source": [
        "def stamp_time():\n",
        "    current_dateTime = datetime.now()\n",
        "    return \"\".join(\"\".join(\"\".join(str(current_dateTime).split(\".\")[0].split(\":\")).split(\"-\")).split(\" \"))\n"
      ]
    },
    {
      "cell_type": "code",
      "execution_count": null,
      "metadata": {
        "id": "7xteHkh8KD2Q"
      },
      "outputs": [],
      "source": [
        "OVF=0\n",
        "OVF_V=[]"
      ]
    },
    {
      "cell_type": "code",
      "execution_count": null,
      "metadata": {
        "id": "JpP6H_jN5ZRs"
      },
      "outputs": [],
      "source": [
        "VECTOR_MAX=300\n",
        "\n",
        "EPOCHS = 2\n",
        "LAYER_1_NODES=256\n",
        "LAYER_2_NODES=2\n",
        "LAYER_1_ACTIVATION='relu'\n",
        "LAYER_2_ACTIVATION='softmax'\n",
        "LOSS_FN='sparse_categorical_crossentropy'\n",
        "#LOSS_FN='binary_crossentropy'\n",
        "METRIC='accuracy'\n",
        "FIT_BATCH_SIZE=16"
      ]
    },
    {
      "cell_type": "code",
      "execution_count": null,
      "metadata": {
        "id": "tJz5Cxt_9VB7"
      },
      "outputs": [],
      "source": [
        "from transformers import BertTokenizer, BertModel, BertForMaskedLM\n",
        "model_name = 'giacomomiolo/biobert_reupload'\n",
        "# model_name = 'dmis-lab/biobert-base-cased-v1.1'\n",
        "# model_name = 'bert-base-multilingual-cased'\n",
        "# model_name = \"allenai/scibert_scivocab_uncased\"\n",
        "\n",
        "# tokenizer = AutoTokenizer.from_pretrained(model_name)\n",
        "tokenizer = BertTokenizer.from_pretrained(model_name)"
      ]
    },
    {
      "cell_type": "markdown",
      "metadata": {
        "id": "kN_oXg-XLOUd"
      },
      "source": []
    },
    {
      "cell_type": "code",
      "execution_count": null,
      "metadata": {
        "id": "3GNoOVboPrbv"
      },
      "outputs": [],
      "source": [
        "# f = open ('/content/pair.txt', 'r', encoding='utf-8')\n",
        "# text = f.read()\n",
        "# f.close()\n",
        "text = \"the primary trial is testing a novel radiotracer called 89Zr-trastuzumab to evaluate its use for visualization of HER2+ lesions  INTERVENTION 1: HER2-targeted PET/CT Pts with confirmed HER2- breast cancer will undergo HER2-targeted PET/CT  89Zr-trastuzumab is a novel radiotracer which allows excellent visualization of HER2+ lesions  89Zr-pertuzumab is a novel radiotracer which may allow for specific visualization of HER2+ lesions  PET/CT imaging with these novel radiotracers will allow evaluation of all identifiable malignant lesions  rather than evaluation of only single lesions by biopsy \""
      ]
    },
    {
      "cell_type": "code",
      "execution_count": null,
      "metadata": {
        "colab": {
          "base_uri": "https://localhost:8080/"
        },
        "id": "vBXGS4WVOVhU",
        "outputId": "fec9748f-9255-4138-f2dc-afbee52fb0d3"
      },
      "outputs": [
        {
          "output_type": "stream",
          "name": "stderr",
          "text": [
            "[nltk_data] Downloading package genesis to /root/nltk_data...\n",
            "[nltk_data]   Package genesis is already up-to-date!\n",
            "[nltk_data] Downloading package punkt to /root/nltk_data...\n",
            "[nltk_data]   Package punkt is already up-to-date!\n",
            "[nltk_data] Downloading package averaged_perceptron_tagger to\n",
            "[nltk_data]     /root/nltk_data...\n",
            "[nltk_data]   Package averaged_perceptron_tagger is already up-to-\n",
            "[nltk_data]       date!\n"
          ]
        },
        {
          "output_type": "execute_result",
          "data": {
            "text/plain": [
              "[('visualization', 'of', 'HER2+', 'lesions'),\n",
              " ('a', 'novel', 'radiotracer', 'which'),\n",
              " ('is', 'a', 'novel', 'radiotracer'),\n",
              " ('a', 'novel', 'radiotracer', 'called'),\n",
              " ('testing', 'a', 'novel', 'radiotracer'),\n",
              " ('excellent', 'visualization', 'of', 'HER2+'),\n",
              " ('specific', 'visualization', 'of', 'HER2+'),\n",
              " ('for', 'visualization', 'of', 'HER2+'),\n",
              " ('of', 'HER2+', 'lesions', '89Zr-pertuzumab'),\n",
              " ('of', 'HER2+', 'lesions', 'INTERVENTION')]"
            ]
          },
          "metadata": {},
          "execution_count": 24
        }
      ],
      "source": [
        "import nltk\n",
        "from nltk.collocations import *\n",
        "from nltk.tokenize import word_tokenize\n",
        "\n",
        "nltk.download('genesis')\n",
        "nltk.download('punkt')\n",
        "nltk.download('averaged_perceptron_tagger')\n",
        "\n",
        "\n",
        "bigram_measures = nltk.collocations.BigramAssocMeasures()\n",
        "trigram_measures = nltk.collocations.TrigramAssocMeasures()\n",
        "fourgram_measures = nltk.collocations.QuadgramAssocMeasures()\n",
        "\n",
        "\n",
        "textTokenized = word_tokenize(text)\n",
        "\n",
        "finder = QuadgramCollocationFinder.from_words(textTokenized)\n",
        "#finder.apply_freq_filter(3)\n",
        "finder.nbest(fourgram_measures.likelihood_ratio, 10)"
      ]
    },
    {
      "cell_type": "markdown",
      "metadata": {
        "id": "BxsfVigTIPf-"
      },
      "source": [
        "Treebank POS [nume complete](https://www.ling.upenn.edu/courses/Fall_2003/ling001/penn_treebank_pos.html) "
      ]
    },
    {
      "cell_type": "code",
      "execution_count": null,
      "metadata": {
        "colab": {
          "base_uri": "https://localhost:8080/"
        },
        "id": "Ps2LfQlGHm6Z",
        "outputId": "1da4bc00-20c1-45fb-a328-1ce2bde9813a"
      },
      "outputs": [
        {
          "output_type": "execute_result",
          "data": {
            "text/plain": [
              "[('the', 'DT'),\n",
              " ('primary', 'JJ'),\n",
              " ('trial', 'NN'),\n",
              " ('is', 'VBZ'),\n",
              " ('testing', 'VBG')]"
            ]
          },
          "metadata": {},
          "execution_count": 25
        }
      ],
      "source": [
        "nltk.pos_tag(textTokenized)[:5]"
      ]
    },
    {
      "cell_type": "code",
      "execution_count": null,
      "metadata": {
        "colab": {
          "base_uri": "https://localhost:8080/"
        },
        "id": "5NhPi5_yQb6q",
        "outputId": "d9d65ae6-3e5d-40f1-e172-dfe70aad0440"
      },
      "outputs": [
        {
          "output_type": "execute_result",
          "data": {
            "text/plain": [
              "[('1', ':'),\n",
              " ('89Zr-pertuzumab', 'is'),\n",
              " ('89Zr-trastuzumab', 'is'),\n",
              " ('89Zr-trastuzumab', 'to'),\n",
              " (':', 'HER2-targeted')]"
            ]
          },
          "metadata": {},
          "execution_count": 26
        }
      ],
      "source": [
        "finder = BigramCollocationFinder.from_words(textTokenized)\n",
        "scored = finder.score_ngrams(bigram_measures.chi_sq)\n",
        "sorted(bigram for bigram, score in scored)[:5]"
      ]
    },
    {
      "cell_type": "code",
      "execution_count": null,
      "metadata": {
        "colab": {
          "base_uri": "https://localhost:8080/"
        },
        "id": "zbnXTNRJUNx1",
        "outputId": "6652e815-1f0f-4882-db41-6fbbf406db2f"
      },
      "outputs": [
        {
          "output_type": "execute_result",
          "data": {
            "text/plain": [
              "[('1', ':', 'HER2-targeted'),\n",
              " ('89Zr-pertuzumab', 'is', 'a'),\n",
              " ('89Zr-trastuzumab', 'is', 'a'),\n",
              " ('89Zr-trastuzumab', 'to', 'evaluate'),\n",
              " (':', 'HER2-targeted', 'PET/CT')]"
            ]
          },
          "metadata": {},
          "execution_count": 27
        }
      ],
      "source": [
        "finder = TrigramCollocationFinder.from_words(textTokenized)\n",
        "scored = finder.score_ngrams(trigram_measures.chi_sq)\n",
        "sorted(trigram for trigram, score in scored)[:5]"
      ]
    },
    {
      "cell_type": "code",
      "execution_count": null,
      "metadata": {
        "id": "7rJ-XBKbWIPU"
      },
      "outputs": [],
      "source": [
        "# romance = nltk.FreqDist(textTokenized)\n",
        "# freq = nltk.FreqDist(w.lower() for w in nltk.corpus.brown.words() if w.isalpha())"
      ]
    },
    {
      "cell_type": "code",
      "execution_count": null,
      "metadata": {
        "colab": {
          "base_uri": "https://localhost:8080/"
        },
        "id": "Hi-bI0_QcG-c",
        "outputId": "b255446c-4dcd-488d-d807-89c93b265331"
      },
      "outputs": [
        {
          "output_type": "stream",
          "name": "stdout",
          "text": [
            "-4.623963756721793\n"
          ]
        }
      ],
      "source": [
        "from nltk.metrics import *\n",
        "from nltk import FreqDist, MLEProbDist\n",
        "\n",
        "fp1 = word_tokenize(\"INTERVENTION 1: HER2-targeted PET/CT Pts with confirmed HER2- breast cancer will undergo HER2-targeted PET/CT  89Zr-trastuzumab is a novel radiotracer which allows excellent visualization of HER2+ lesions  89Zr-pertuzumab is a novel radiotracer which may allow for specific visualization of HER2+ lesions  PET/CT imaging with these novel radiotracers will allow evaluation of all identifiable malignant lesions  rather than evaluation of only single lesions by biopsy \")\n",
        "fp2 = word_tokenize(\"the primary trial is testing a novel radiotracer called 89Zr-trastuzumab to evaluate its use for visualization of HER2+ lesions \")\n",
        "\n",
        "pdist1 = MLEProbDist(FreqDist(fp1))\n",
        "pdist2 = MLEProbDist(FreqDist(fp2))\n",
        "print(log_likelihood(['HER2+', 'lesions'], [pdist1, pdist2]))"
      ]
    },
    {
      "cell_type": "markdown",
      "metadata": {
        "id": "yTqPZjA7LRio"
      },
      "source": [
        "## Data collection utils\n"
      ]
    },
    {
      "cell_type": "code",
      "execution_count": null,
      "metadata": {
        "id": "bItM4IHa5nfD"
      },
      "outputs": [],
      "source": [
        "def encode_sentence(s):\n",
        "   tokens = list(tokenizer.tokenize(s))\n",
        "   tokens.append('[SEP]')\n",
        "   return tokenizer.convert_tokens_to_ids(tokens)\n",
        "\n",
        "\n",
        "def collectEvidenceData(evidenceSection, evidenceIndexes, clinicalTrialId, evidenceSectionId, DEBUG2):\n",
        "    evidences = []\n",
        "    for evIndex in evidenceIndexes:\n",
        "        try:\n",
        "            i = int(evIndex)\n",
        "            if DEBUG2:\n",
        "                print(evidenceSection[i])\n",
        "            norm_evid = normalizeDocument(evidenceSection[i].strip(), True)\n",
        "            evidences.append(norm_evid)\n",
        "        except:\n",
        "            print(evidenceIndexes)\n",
        "            print('\\n!!! Failed to collect evidence on index, trialId, section: ' + str(i) +' '+ clinicalTrialId, evidenceSectionId)\n",
        "    return evidences\n",
        "\n",
        "\n",
        "def parseEvidenceSingle(hypotesis, clinicalTrialId, evidenceSectionId, primaryEvidenceIndexes, PREFIX, DEBUG1, DEBUG2):\n",
        "    evidences = []\n",
        "    if DEBUG1:\n",
        "        print(\"Parse evidence Single: \" + clinicalTrialId + \" \" + evidenceSectionId)\n",
        "    CT_PATH = PREFIX+'CT_data/'+clinicalTrialId+'.json'\n",
        "    try:\n",
        "        with open(CT_PATH, encoding='utf-8') as json_file:\n",
        "            dataCT = json.load(json_file)\n",
        "            if DEBUG2:\n",
        "                print(primaryEvidenceIndexes)\n",
        "        evidences = collectEvidenceData(dataCT[evidenceSectionId], primaryEvidenceIndexes, clinicalTrialId, evidenceSectionId, False)\n",
        "        if DEBUG2:\n",
        "            print(evidences)\n",
        "        tok = encode_sentence(\"[CLS] \"+hypotesis+\" [SEP] \" + \" \".join(evidences))\n",
        "        # print(\"[CLS] \"+hypotesis+\" [SEP] \" + \" \".join(evidences))\n",
        "        # print(\"       aa          \")\n",
        "        # if (len(tok)>300):\n",
        "        #     # OVF=OVF+1\n",
        "        #     OVF_V.append(len(tok))\n",
        "        #     print(\"!!!!!!!!!!!!!!!!\")\n",
        "        #     print(hypotesis)\n",
        "        #     print(clinicalTrialId)\n",
        "\n",
        "    except Exception as err:\n",
        "        print('\\n!!! Error for file: ' + clinicalTrialId)\n",
        "        print(err)\n",
        "    if DEBUG2:\n",
        "        print(\"\\n\")\n",
        "    return evidences"
      ]
    },
    {
      "cell_type": "code",
      "execution_count": null,
      "metadata": {
        "id": "rpEbdX_tNoJJ"
      },
      "outputs": [],
      "source": [
        "def splitEvidence(acc, tmp, hypotesis, evidences, evIndex, DEBUG):\n",
        "  if (len(evidences)==0):\n",
        "    return acc\n",
        "  if (evIndex>len(evidences)-1):\n",
        "    acc.append(tmp)\n",
        "    # print(\"----------1-----------EXIT split evidenta ---------------------\")\n",
        "    return acc;\n",
        "  # print(evidences)\n",
        "  # print(evIndex)\n",
        "  hypTmpl = \"[CLS] \"+hypotesis+\" [SEP] \"\n",
        "  tok = encode_sentence(hypTmpl + tmp + evidences[evIndex]+\" \")\n",
        "  if(len(tok)<VECTOR_MAX):\n",
        "    tmp = tmp + evidences[evIndex]+\" \"\n",
        "    splitEvidence(acc, tmp, hypotesis, evidences, evIndex+1, DEBUG)\n",
        "  else:\n",
        "    acc.append(tmp)\n",
        "    tmp=\"\"\n",
        "    tok = encode_sentence(hypTmpl + tmp + evidences[evIndex]+\" \")\n",
        "    if(len(tok)<VECTOR_MAX):\n",
        "      if (evIndex<len(evidences)):\n",
        "        tmp = tmp + evidences[evIndex]\n",
        "        splitEvidence(acc, tmp, hypotesis, evidences, evIndex+1, DEBUG)\n",
        "      else:\n",
        "        # print(\"----------2-----------EXIT split evidenta ---------------------\")\n",
        "        acc.append(evidences[evIndex])\n",
        "        return acc\n",
        "    else:\n",
        "      if (DEBUG):\n",
        "        print(\"!!!!!!!! hypotesis + evidence > \" + str(VECTOR_MAX) + \"!!!!!!!!!!\")\n",
        "      return acc\n",
        "  return acc\n"
      ]
    },
    {
      "cell_type": "code",
      "execution_count": null,
      "metadata": {
        "id": "GrYucQnIJauP"
      },
      "outputs": [],
      "source": [
        "DS_PATH = PREFIX+ '/NLI4CT_numerical_instances_dataset.json'\n",
        "DS_PATH_PAIRS = PREFIX+ '/pairs_NLI4CT_numerical_instances_dataset.json'\n",
        "dsNum = []\n",
        "dsNumPair = [] # contains numerical instances in statement and premises"
      ]
    },
    {
      "cell_type": "code",
      "execution_count": null,
      "metadata": {
        "colab": {
          "base_uri": "https://localhost:8080/"
        },
        "id": "LN2zlc3n5cRA",
        "outputId": "4a7bcf7b-62c6-409b-ba6e-83bf6259b381"
      },
      "outputs": [
        {
          "output_type": "stream",
          "name": "stdout",
          "text": [
            "                                     Id        Type      Section_id  \\\n",
            "0  5bc844fc-e852-4270-bfaf-36ea9eface3d  Comparison    Intervention   \n",
            "1  86b7cb3d-6186-4a04-9aa6-b174ab764eed      Single     Eligibility   \n",
            "2  dbed5471-c2fc-45b5-b26f-430c9fa37a37  Comparison  Adverse Events   \n",
            "3  20c35c89-8d23-4be3-b603-ac0ee0f3b4de      Single     Eligibility   \n",
            "4  f17cb242-419d-4f5d-bfa4-41494ed5ac0e  Comparison    Intervention   \n",
            "\n",
            "    Primary_id Secondary_id  \\\n",
            "0  NCT01928186  NCT00684983   \n",
            "1  NCT00662129          NaN   \n",
            "2  NCT00093145  NCT00703326   \n",
            "3  NCT01097642          NaN   \n",
            "4  NCT00852930  NCT02308020   \n",
            "\n",
            "                                           Statement          Label  \\\n",
            "0  All the primary trial participants do not rece...  Contradiction   \n",
            "1  Patients with Platelet count over 100,000/mm¬¨...  Contradiction   \n",
            "2  Heart-related adverse events were recorded in ...     Entailment   \n",
            "3  Adult Patients with histologic confirmation of...  Contradiction   \n",
            "4  Laser Therapy is in each cohort of the primary...  Contradiction   \n",
            "\n",
            "  Primary_evidence_index Secondary_evidence_index  \n",
            "0            0,1,2,3,4,5              0,1,2,3,4,5  \n",
            "1            18,22,23,24                      NaN  \n",
            "2                    0,3               0,7,8,9,10  \n",
            "3              0,1,3,4,5                      NaN  \n",
            "4        0,1,2,3,4,5,6,7            0,1,2,3,4,5,6  \n",
            "(1700, 9)\n",
            ".....................................\n",
            "Total: 1700\n",
            "pairs: 1297\n"
          ]
        },
        {
          "output_type": "execute_result",
          "data": {
            "text/plain": [
              "array([0, 0, 1, ..., 1, 1, 1])"
            ]
          },
          "metadata": {},
          "execution_count": 33
        }
      ],
      "source": [
        "def numInPair(numStm, numPrem):\n",
        "  if len(numStm) > 0 and len(numPrem)>0:\n",
        "    return True\n",
        "  return False\n",
        "\n",
        "\n",
        "STM = pd.read_csv(TRAIN_DATA) #, nrows=40\n",
        "print(STM.head(5))\n",
        "print(STM.shape)\n",
        "\n",
        "numericalInsts = 0\n",
        "numericalPairsInsts = 0\n",
        "\n",
        "countPairSingle = 0\n",
        "countPairComparison = 0\n",
        "\n",
        "\n",
        "countPairEntailment = 0\n",
        "countPairContradiction = 0\n",
        "\n",
        "# exit()\n",
        "_EVIDENCES=[]\n",
        "_EVIDENCES_EX=[]\n",
        "_HYPOTESIS=[]\n",
        "Y_LABELS=np.array([], dtype=\"int32\")\n",
        "CT_index = -1\n",
        "for id in STM['Id']:\n",
        "    evidences = []\n",
        "    CT_index = CT_index+1\n",
        "    CTid = STM['Primary_id'][CT_index]\n",
        "    ctIndxLabel = STM['Label'][CT_index]\n",
        "    hypotesis = normalizeDocument(STM['Statement'][CT_index], True)\n",
        "    hypotesisLen = len(hypotesis.split(' '))\n",
        "    statementsNums = containsNumericalInstances(hypotesis)\n",
        "    #statementDepSchema = extract_information(hypotesis)\n",
        "    \n",
        "    if(hypotesisLen > 90):\n",
        "      print('%%%% Argument mai mare de 90 tokeni')\n",
        "    if (STM['Type'][CT_index] == \"Single\"):\n",
        "      primaryEvidenceIndexes = STM['Primary_evidence_index'][CT_index].split(',')\n",
        "      evidences = parseEvidenceSingle(hypotesis, CTid, STM['Section_id'][CT_index], primaryEvidenceIndexes, PREFIX, DEBUG1, DEBUG2)\n",
        "      ax = splitEvidence([], \"\", hypotesis, evidences, 0, DEBUG2)\n",
        "      # print(\"\\n ....... \" + ctIndxLabel + \"   -   \" + CTid + \"   \" + id)\n",
        "\n",
        "      dsNumObject = {}\n",
        "\n",
        "      prem_ex=[]\n",
        "      for evidenceFragment in ax:\n",
        "        premisesNums = containsNumericalInstances(evidenceFragment)\n",
        "        evd_ex = [readSeqToSpace(evidenceFragment, nn) for nn in premisesNums]\n",
        "        prem_ex = prem_ex + evd_ex\n",
        "      prem_cont = continue_overlaping(prem_ex[0:])\n",
        "      \n",
        "      if len(prem_ex) == 0:\n",
        "        prem_ex = ' '.join(ax)[:VECTOR_MAX]\n",
        "      else:\n",
        "        prem_ex = ' '.join(prem_cont)\n",
        "\n",
        "\n",
        "      # cohorts = getCohorts(evidenceFragment)\n",
        "      # dsNumObject['cohort_effect']=cohorts\n",
        "      dsNumObject['id']=id\n",
        "      dsNumObject['primaryId']=CTid\n",
        "      dsNumObject['statement_text']=hypotesis\n",
        "      # dsNumObject['statement_deps']=statementDepSchema\n",
        "      dsNumObject['statement_nums']=continue_overlaping([readSeqToSpace(hypotesis, nn) for nn in statementsNums])\n",
        "      dsNumObject['label']=ctIndxLabel\n",
        "      dsNumObject['premise_text']=ax\n",
        "      dsNumObject['premise_nums']=prem_cont\n",
        "      dsNum.append(dsNumObject)\n",
        "\n",
        "      numericalInsts = numericalInsts + len(prem_cont) + len(statementsNums)\n",
        "\n",
        "      if(numInPair(statementsNums, prem_cont)):\n",
        "        _HYPOTESIS.append(hypotesis)\n",
        "        _EVIDENCES_EX.append(prem_ex)\n",
        "        if(ctIndxLabel == 'Entailment'):\n",
        "          Y_LABELS = np.append(Y_LABELS, [1], axis=0)\n",
        "        else:\n",
        "          Y_LABELS = np.append(Y_LABELS, [0], axis=0)\n",
        "        numericalPairsInsts = numericalPairsInsts + len(prem_cont) + len(statementsNums)\n",
        "        dsNumPair.append(dsNumObject)\n",
        "        countPairSingle = countPairSingle+1\n",
        "        if(ctIndxLabel == 'Entailment'):\n",
        "          countPairEntailment = countPairEntailment+1\n",
        "        else:\n",
        "          countPairContradiction = countPairContradiction+1\n",
        "\n",
        "      if(ctIndxLabel == 'Entailment'):\n",
        "        Y_LABELS = np.append(Y_LABELS, [1], axis=0)\n",
        "      else:\n",
        "        Y_LABELS = np.append(Y_LABELS, [0], axis=0)\n",
        "          \n",
        "      #     if (CT_index < 37):\n",
        "      #       print(\"     - \" + evidenceFragment)\n",
        "      #       print(premisesNums)\n",
        "      #   else:\n",
        "      #     print('the premise length is negligible ')\n",
        "\n",
        "      # if (CT_index < 37):\n",
        "      #   print(hypotesis)\n",
        "      #   print(statementsNums)\n",
        "      #   print(prem_ex)\n",
        "      if DEBUG1:\n",
        "          print('Analyzed CT entry: ' + str(CT_index) + \"  -  \"+ CTid+\"\\n\")\n",
        "\n",
        "    if (STM['Type'][CT_index] == \"Comparison\"):\n",
        "      CTidSecondary = STM['Secondary_id'][CT_index]\n",
        "      # print(\"\\n ....... \" + ctIndxLabel + \"   p: \" + CTid + \"   s: \" + CTidSecondary + \"   \"+ id)\n",
        "\n",
        "      primaryEvidenceIndexes = STM['Primary_evidence_index'][CT_index].split(',')\n",
        "      secondaryEvidenceIndexes = STM['Secondary_evidence_index'][CT_index].split(',')\n",
        "      premisesPrimary = parseEvidenceSingle(hypotesis, CTid, STM['Section_id'][CT_index], primaryEvidenceIndexes, PREFIX, DEBUG1, DEBUG2)\n",
        "      premisesSecondary = parseEvidenceSingle(hypotesis, CTidSecondary, STM['Section_id'][CT_index], secondaryEvidenceIndexes, PREFIX, DEBUG1, DEBUG2)\n",
        "      ax = splitEvidence([], \"\", hypotesis, premisesPrimary + premisesSecondary, 0, DEBUG2)\n",
        "\n",
        "      dsNumObject = {}\n",
        "\n",
        "      prem_ex=[]\n",
        "      for evidenceFragment in ax:\n",
        "        premisesNums = containsNumericalInstances(evidenceFragment)\n",
        "        evd_ex = [readSeqToSpace(evidenceFragment, nn) for nn in premisesNums]\n",
        "        prem_ex = prem_ex + evd_ex\n",
        "      prem_cont = continue_overlaping(prem_ex[0:])\n",
        "      \n",
        "      if len(prem_ex) == 0:\n",
        "        prem_ex = ' '.join(ax)[:VECTOR_MAX]\n",
        "      else:\n",
        "        prem_ex = ' '.join(prem_cont)\n",
        "\n",
        "      # cohorts = getCohorts(evidenceFragment)\n",
        "      # dsNumObject['cohort_effect']=cohorts\n",
        "      dsNumObject['id']=id\n",
        "      dsNumObject['primaryId']=CTid\n",
        "      dsNumObject['secondaryId']=CTidSecondary\n",
        "      dsNumObject['statement_text']=hypotesis\n",
        "      # dsNumObject['statement_deps']=statementDepSchema\n",
        "      dsNumObject['statement_nums']=continue_overlaping([readSeqToSpace(hypotesis, nn) for nn in statementsNums])\n",
        "      dsNumObject['label']=ctIndxLabel\n",
        "      dsNumObject['premise_text']=ax\n",
        "      dsNumObject['premise_nums']=prem_cont\n",
        "      dsNum.append(dsNumObject)\n",
        "\n",
        "\n",
        "      numericalInsts = numericalInsts + len(prem_cont) + len(statementsNums)\n",
        "\n",
        "      if(numInPair(statementsNums, prem_cont)):\n",
        "        _HYPOTESIS.append(hypotesis)\n",
        "        _EVIDENCES_EX.append(prem_ex)\n",
        "        if(ctIndxLabel == 'Entailment'):\n",
        "          Y_LABELS = np.append(Y_LABELS, [1], axis=0)\n",
        "        else:\n",
        "          Y_LABELS = np.append(Y_LABELS, [0], axis=0)\n",
        "        numericalPairsInsts = numericalPairsInsts + len(prem_cont) + len(statementsNums)\n",
        "        dsNumPair.append(dsNumObject)\n",
        "        countPairComparison = countPairComparison+1\n",
        "        if(ctIndxLabel == 'Entailment'):\n",
        "          countPairEntailment = countPairEntailment+1\n",
        "        else:\n",
        "          countPairContradiction = countPairContradiction+1\n",
        "      \n",
        "      # if (CT_index < 37):\n",
        "      #   print(hypotesis)\n",
        "      #   print(prem_ex)\n",
        "        \n",
        "      # if (CT_index == 2000):\n",
        "      #     exit()\n",
        "      if DEBUG1:\n",
        "          print('Analyzed CT entry: ' + str(CT_index) + \"  -  \"+ CTid+\"\\n\")\n",
        "\n",
        "print('.....................................')\n",
        "print('Total: '+ str(len(dsNum)))\n",
        "print('pairs: '+ str(len(dsNumPair)))\n",
        "\n",
        "try:\n",
        "  with open(DS_PATH, 'w', encoding=\"utf-8\") as _file:\n",
        "    _file.write(json.dumps(dsNum, ensure_ascii=False))\n",
        "  with open(DS_PATH_PAIRS, 'w', encoding=\"utf-8\") as _file:\n",
        "    _file.write(json.dumps(dsNumPair, ensure_ascii=False))\n",
        "  # with open(DS_PATH) as json_file:\n",
        "  #     dataCT = json.load(json_file)\n",
        "except:\n",
        "    print('\\n!!! Error for file: ')\n",
        "\n",
        "\n",
        "Y_LABELS"
      ]
    },
    {
      "cell_type": "code",
      "execution_count": null,
      "metadata": {
        "colab": {
          "base_uri": "https://localhost:8080/"
        },
        "id": "jBbzxaokxP7a",
        "outputId": "dd77c05e-a6b6-4de0-fe1c-8dfe5052bb3f"
      },
      "outputs": [
        {
          "output_type": "stream",
          "name": "stdout",
          "text": [
            "PairSingle study: 711\n",
            "PairComparison study: 586\n",
            "Pairs labeled as Entailment: 634\n",
            "Pairs labeled as Contradiction: 663\n",
            "1297\n",
            "1297\n",
            "Total num instances 12840\n",
            "Pair num instances 11821\n"
          ]
        }
      ],
      "source": [
        "# pair = numerical instances found in statement and in premises\n",
        "print('PairSingle study: '+str(countPairSingle))\n",
        "print('PairComparison study: '+str(countPairComparison))\n",
        "print('Pairs labeled as Entailment: '+str(countPairEntailment))\n",
        "print('Pairs labeled as Contradiction: '+str(countPairContradiction))\n",
        "\n",
        "print(countPairSingle + countPairComparison)\n",
        "print(countPairEntailment + countPairContradiction)\n",
        "\n",
        "\n",
        "print('Total num instances '+ str(numericalInsts))\n",
        "print('Pair num instances '+ str(numericalPairsInsts))\n"
      ]
    },
    {
      "cell_type": "code",
      "execution_count": null,
      "metadata": {
        "colab": {
          "base_uri": "https://localhost:8080/"
        },
        "id": "oxh0laHNBP2L",
        "outputId": "89e06215-61f4-4a36-b628-f344a4948893"
      },
      "outputs": [
        {
          "output_type": "execute_result",
          "data": {
            "text/plain": [
              "1297"
            ]
          },
          "metadata": {},
          "execution_count": 35
        }
      ],
      "source": [
        "_EVIDENCES_EX = [s[:VECTOR_MAX] for s in _EVIDENCES_EX]\n",
        "len(_EVIDENCES_EX)"
      ]
    },
    {
      "cell_type": "code",
      "execution_count": null,
      "metadata": {
        "colab": {
          "base_uri": "https://localhost:8080/"
        },
        "id": "1vqVLL_EKJ2S",
        "outputId": "f6da3dca-1214-4af0-94f0-48f8003b0bd6"
      },
      "outputs": [
        {
          "output_type": "execute_result",
          "data": {
            "text/plain": [
              "1297"
            ]
          },
          "metadata": {},
          "execution_count": 36
        }
      ],
      "source": [
        "len(_HYPOTESIS)"
      ]
    },
    {
      "cell_type": "markdown",
      "metadata": {
        "id": "8dS2FKNWLWQT"
      },
      "source": [
        "## Encoding"
      ]
    },
    {
      "cell_type": "code",
      "execution_count": null,
      "metadata": {
        "id": "YrhRmLyMH_fn"
      },
      "outputs": [],
      "source": [
        "def encode_data_to_tensors(statements, evidences, tokenizer, dim):\n",
        "    \n",
        "    tokStm = [encode_sentence(s)\n",
        "        for s in statements]\n",
        "\n",
        "    tokPrem = [encode_sentence(s)\n",
        "        for s in evidences]\n",
        "    tokZip = list(zip(tokStm, tokPrem))\n",
        "\n",
        "    # tokIntersect = [np.where(np.in1d(xt[0], np.intersect1d(xt[0], xt[1])), np.zeros_like(xt[0]), [1])\n",
        "    #     for xt in tokZip]\n",
        "    # type_s1 = tf.ragged.constant(tokIntersect);\n",
        "\n",
        "    # tokIntersect = [np.where(np.in1d(xt[1], np.intersect1d(xt[0], xt[1])), np.zeros_like(xt[1]), [1])\n",
        "    #     for xt in tokZip]\n",
        "    # type_s2 = tf.ragged.constant(tokIntersect);\n",
        "\n",
        "    statementsTokenizedTensor = tf.ragged.constant(tokStm)\n",
        "    evidencesTokenizedTensor = tf.ragged.constant(tokPrem)\n",
        "\n",
        "\n",
        "    cls = [tokenizer.convert_tokens_to_ids(['[CLS]'])]*statementsTokenizedTensor.shape[0]\n",
        "    _word_ids = tf.concat([cls, statementsTokenizedTensor, evidencesTokenizedTensor], axis=-1)\n",
        "    ii = 0\n",
        "    max = 0\n",
        "    for ip in _word_ids:\n",
        "        ii = ii + 1\n",
        "        if (ip.shape[0] >= max):\n",
        "            max = ip.shape[0]\n",
        "            # print(ii)\n",
        "            # print(max)\n",
        "    print(\"Dataset MAX (dim): \")\n",
        "    print(max)\n",
        "\n",
        "    # Padding - adaug 0 sau 1 la tensori pt a avea aceiasi dimensiune \n",
        "    # paggings [ top bottom ] [left right] - adaug doar la final\n",
        "    paddings = tf.constant([[0, 0,], [0, dim-max]])\n",
        "    input_word_ids = tf.pad(_word_ids.to_tensor(), paddings, \"CONSTANT\", constant_values=0)\n",
        "    input_mask = tf.ones_like(input_word_ids)\n",
        "\n",
        "    type_cls = tf.zeros_like(cls)\n",
        "    type_s1 = tf.zeros_like(statementsTokenizedTensor)\n",
        "    type_s2 = tf.ones_like(evidencesTokenizedTensor)\n",
        "    input_type_ids = tf.pad(tf.concat(\n",
        "        [type_cls, type_s1, type_s2], axis=-1).to_tensor(), paddings, \"CONSTANT\", constant_values=0)\n",
        "\n",
        "    inputs = {\n",
        "        'input_word_ids': input_word_ids,\n",
        "        # 'input_mask': input_mask,\n",
        "        # 'input_type_ids': input_type_ids\n",
        "        }\n",
        "\n",
        "    return inputs\n"
      ]
    },
    {
      "cell_type": "markdown",
      "metadata": {
        "id": "vkEsGbjHLgwa"
      },
      "source": [
        "## Model declaration"
      ]
    },
    {
      "cell_type": "code",
      "execution_count": null,
      "metadata": {
        "id": "Q9JRWERTgkiJ"
      },
      "outputs": [],
      "source": [
        "def build_cnn_model():\n",
        "    bert_encoder = TFBertModel.from_pretrained(model_name)\n",
        "    # bert_encoder = AutoModel.from_pretrained(model_name)\n",
        "    input_word_ids = tf.keras.Input(shape=(VECTOR_MAX,), dtype=tf.int32, name=\"input_word_ids\")\n",
        "    input_mask = tf.keras.Input(shape=(VECTOR_MAX,), dtype=tf.int32, name=\"input_mask\")\n",
        "    input_type_ids = tf.keras.Input(shape=(VECTOR_MAX,), dtype=tf.int32, name=\"input_type_ids\")\n",
        "    # print(input_word_ids)\n",
        "\n",
        "    #embedding = bert_encoder([input_word_ids, input_mask, input_type_ids])[0]\n",
        "\n",
        "    # print(embedding.shape)\n",
        "    # print(embedding[:,0,:].shape)\n",
        "    # print(input_word_ids.shape)\n",
        "\n",
        "    # lstm = tf.keras.layers.LSTM(10, return_sequences=True, return_state=True)(tf.reshape(input_word_ids, [10, 30]))\n",
        "    # lstm = tf.keras.layers.Bidirectional(tf.keras.layers.LSTM(300, return_sequences=True, input_shape=(0, 300)))(input_word_ids)\n",
        "\n",
        "    # x = tf.keras.layers.Dense(LAYER_1_NODES, kernel_initializer = 'random_uniform', activation=LAYER_1_ACTIVATION)(embedding[:,0,:])\n",
        "    x = tf.keras.layers.Dense(512, activation=LAYER_1_ACTIVATION)(input_word_ids)\n",
        "    x = tf.keras.layers.LeakyReLU(0.9)(x)\n",
        "    x = tf.keras.layers.Dense(2048, activation=LAYER_1_ACTIVATION)(x)\n",
        "    x = tf.keras.layers.LeakyReLU(0.9)(x)\n",
        "    x = tf.keras.layers.Dense(4096, activation=LAYER_1_ACTIVATION)(x)\n",
        "    x = tf.keras.layers.LeakyReLU(0.9)(x)\n",
        "    x = tf.keras.layers.Dense(19048, activation=LAYER_1_ACTIVATION)(x)\n",
        "    x = tf.keras.layers.LeakyReLU(0.9)(x)\n",
        "    x = tf.keras.layers.Dense(16128, activation=LAYER_1_ACTIVATION)(x)\n",
        "    x = tf.keras.layers.LeakyReLU(0.9)(x)\n",
        "    x = tf.keras.layers.Dense(12024, activation=LAYER_1_ACTIVATION)(x)\n",
        "    x = tf.keras.layers.LeakyReLU(0.9)(x)\n",
        "    x = tf.keras.layers.Dense(9096, activation=LAYER_1_ACTIVATION)(x)\n",
        "    x = tf.keras.layers.LeakyReLU(0.9)(x)\n",
        "    x = tf.keras.layers.Dense(4098, activation=LAYER_1_ACTIVATION)(x)\n",
        "    x = tf.keras.layers.LeakyReLU(0.9)(x)\n",
        "    x = tf.keras.layers.Dense(256, activation=LAYER_1_ACTIVATION)(x)\n",
        "    x = tf.keras.layers.LeakyReLU(0.9)(x)\n",
        "    x = tf.keras.layers.Dense(128, activation=LAYER_1_ACTIVATION)(x)\n",
        "    x = tf.keras.layers.LeakyReLU(0.9)(x)\n",
        "    x = tf.keras.layers.Dense(64, activation=LAYER_1_ACTIVATION)(x)\n",
        "    x = tf.keras.layers.LeakyReLU(0.9)(x)\n",
        "    x = tf.keras.layers.Dense(32, activation=LAYER_1_ACTIVATION)(x)\n",
        "    x = tf.keras.layers.LeakyReLU(0.9)(x)\n",
        "    output = tf.keras.layers.Dense(2, activation=LAYER_2_ACTIVATION)(x)\n",
        "\n",
        "    learning_rate = 5e-5\n",
        "\n",
        "\n",
        "    model = tf.keras.Model(inputs=[input_word_ids], outputs=output)\n",
        "    model.compile(tf.keras.optimizers.Adam(learning_rate=learning_rate), loss=LOSS_FN, metrics=[METRIC])  # decay=learning_rate/(epochs*0.5)\n",
        "    # decay=learning_rate/(EPOCHS*0.15)\n",
        "    return model"
      ]
    },
    {
      "cell_type": "code",
      "execution_count": null,
      "metadata": {
        "id": "Rr5cfnAG5kJo"
      },
      "outputs": [],
      "source": [
        "def build_model():\n",
        "    bert_encoder = TFBertModel.from_pretrained(model_name)\n",
        "    # bert_encoder = AutoModel.from_pretrained(model_name)\n",
        "    input_word_ids = tf.keras.Input(shape=(VECTOR_MAX,), dtype=tf.int32, name=\"input_word_ids\")\n",
        "    input_mask = tf.keras.Input(shape=(VECTOR_MAX,), dtype=tf.int32, name=\"input_mask\")\n",
        "    input_type_ids = tf.keras.Input(shape=(VECTOR_MAX,), dtype=tf.int32, name=\"input_type_ids\")\n",
        "    # print(input_word_ids)\n",
        "\n",
        "    embedding = bert_encoder([input_word_ids])[0]\n",
        "\n",
        "    # lstm = tf.keras.layers.LSTM(256, return_sequences=True, return_state=True)(embedding[:,0,:])\n",
        "    x = tf.keras.layers.Dense(256, activation=LAYER_1_ACTIVATION)(embedding[:,0,:])\n",
        "    x = tf.keras.layers.LeakyReLU(0.9)(x)\n",
        "    x = tf.keras.layers.Dense(1024, activation=LAYER_1_ACTIVATION)(x)\n",
        "    x = tf.keras.layers.LeakyReLU(0.9)(x)\n",
        "    x = tf.keras.layers.Dense(2048, activation=LAYER_1_ACTIVATION)(x)\n",
        "    x = tf.keras.layers.LeakyReLU(0.9)(x)\n",
        "    x = tf.keras.layers.Dense(256, activation=LAYER_1_ACTIVATION)(x)\n",
        "    x = tf.keras.layers.LeakyReLU(0.9)(x)\n",
        "    x = tf.keras.layers.Dense(128, activation=LAYER_1_ACTIVATION)(x)\n",
        "    x = tf.keras.layers.LeakyReLU(0.9)(x)\n",
        "    x = tf.keras.layers.Dense(64, activation=LAYER_1_ACTIVATION)(x)\n",
        "    x = tf.keras.layers.LeakyReLU(0.9)(x)\n",
        "    x = tf.keras.layers.Dense(32, activation=LAYER_1_ACTIVATION)(x)\n",
        "    x = tf.keras.layers.LeakyReLU(0.9)(x)\n",
        "    output = tf.keras.layers.Dense(2, activation=LAYER_2_ACTIVATION)(x)\n",
        "\n",
        "    learning_rate = 5e-5\n",
        "\n",
        "\n",
        "    model = tf.keras.Model(inputs=[input_word_ids], outputs=output)\n",
        "    model.compile(tf.keras.optimizers.Adam(learning_rate=learning_rate), loss=LOSS_FN, metrics=[METRIC])  # decay=learning_rate/(epochs*0.5)\n",
        "\n",
        "    return model\n"
      ]
    },
    {
      "cell_type": "code",
      "source": [],
      "metadata": {
        "id": "dw8gC2VARJ3W"
      },
      "execution_count": null,
      "outputs": []
    },
    {
      "cell_type": "markdown",
      "metadata": {
        "id": "ZnJLS7f5LD5D"
      },
      "source": [
        "# Fit and Run model"
      ]
    },
    {
      "cell_type": "markdown",
      "metadata": {
        "id": "efulGwmSuYhv"
      },
      "source": [
        "## Evaluare, test data\n"
      ]
    },
    {
      "cell_type": "code",
      "execution_count": null,
      "metadata": {
        "id": "lRG0xE3rQQsT"
      },
      "outputs": [],
      "source": [
        "DS_PATH_DEV = PREFIX+ '/NLI4CT_numerical_instances_dev.json'\n",
        "DS_PATH_PAIRS_DEV = PREFIX+ '/pairs_NLI4CT_numerical_instances_dev.json'\n",
        "dsNumDev = []\n",
        "dsNumPairDev = []\n",
        "\n",
        "\n",
        "numericalInsts = 0\n",
        "numericalPairsInsts = 0\n",
        "\n",
        "countPairSingle = 0\n",
        "countPairComparison = 0\n",
        "\n",
        "\n",
        "countPairEntailment = 0\n",
        "countPairContradiction = 0"
      ]
    },
    {
      "cell_type": "code",
      "execution_count": null,
      "metadata": {
        "id": "ekYVxUf_HRB0",
        "colab": {
          "base_uri": "https://localhost:8080/"
        },
        "outputId": "e3283709-3ff1-46da-f8f8-b0d53c5a32dc"
      },
      "outputs": [
        {
          "output_type": "stream",
          "name": "stdout",
          "text": [
            "                                     Id        Type      Section_id  \\\n",
            "0  1adc970c-d433-44d0-aa09-d3834986f7a2      Single         Results   \n",
            "1  6b9162d0-0816-46d4-81af-c60028dcc63b  Comparison     Eligibility   \n",
            "2  0b6cc8e3-69ee-4a91-b93d-2ad3fddce65f  Comparison  Adverse Events   \n",
            "3  cc1f712a-2116-4e40-9810-f315e3fa5ff8      Single         Results   \n",
            "4  904061c0-14fa-4f13-9118-9a41e24fa8eb      Single     Eligibility   \n",
            "\n",
            "    Primary_id Secondary_id  \\\n",
            "0  NCT00066573          NaN   \n",
            "1  NCT00425854  NCT01224678   \n",
            "2  NCT02273973  NCT00281697   \n",
            "3  NCT00593346          NaN   \n",
            "4  NCT02340221          NaN   \n",
            "\n",
            "                                           Statement          Label  \\\n",
            "0  there is a 13.2% difference between the result...  Contradiction   \n",
            "1  Patients with significantly elevated ejection ...  Contradiction   \n",
            "2  a significant number of the participants in th...  Contradiction   \n",
            "3  the primary trial does not report the PFS or o...     Entailment   \n",
            "4  Prior treatment with fulvestrant or with a pho...  Contradiction   \n",
            "\n",
            "                        Primary_evidence_index  \\\n",
            "0  0,1,2,3,4,5,6,7,8,9,10,11,12,13,14,15,16,17   \n",
            "1                                           15   \n",
            "2                                         5,18   \n",
            "3                                      0,1,2,3   \n",
            "4                                           13   \n",
            "\n",
            "                            Secondary_evidence_index  \n",
            "0                                                NaN  \n",
            "1           0,1,2,3,4,5,6,7,8,9,10,11,12,13,14,15,16  \n",
            "2  0,1,2,3,4,5,6,7,8,9,10,11,12,13,14,15,16,17,18...  \n",
            "3                                                NaN  \n",
            "4                                                NaN  \n",
            "(200, 9)\n",
            ".....................................\n",
            "Total: 1900\n",
            "pairs: 1297\n",
            ".....................................\n",
            "PairSingle study: 99\n",
            "PairComparison study: 54\n",
            "Pairs labeled as Entailment: 76\n",
            "Pairs labeled as Contradiction: 77\n",
            "153\n",
            "153\n",
            "Total num instances 1300\n",
            "Pair num instances 1192\n",
            ".....................................\n",
            "dim ipoteze:\n",
            "0\n",
            "dim evidențe:\n",
            "0\n",
            "dim Y:\n",
            "153\n"
          ]
        }
      ],
      "source": [
        "TEST_STM = pd.read_csv(TEST_DATA) #, nrows=40\n",
        "print(TEST_STM.head(5))\n",
        "print(TEST_STM.shape)\n",
        "\n",
        "\n",
        "# exit()\n",
        "TEST_EVIDENCES=[]\n",
        "TEST_EVIDENCES_EX=[]\n",
        "TEST_HYPOTESIS=[]\n",
        "TEST_UUID=[]\n",
        "TEST_LABEL=[]\n",
        "TEST_Y_LABELS=np.array([], dtype=\"int32\")\n",
        "CT_index = -1\n",
        "for id in TEST_STM['Id']:\n",
        "    evidences = []\n",
        "    CT_index = CT_index+1\n",
        "    CTid = TEST_STM['Primary_id'][CT_index]\n",
        "    hypotesis = normalizeDocument(TEST_STM['Statement'][CT_index], True)\n",
        "    hypotesisLen = len(hypotesis.split(' '))\n",
        "    statementsNums = containsNumericalInstances(hypotesis)\n",
        "    ctIndxLabel = TEST_STM['Label'][CT_index]\n",
        "\n",
        "    if (TEST_STM['Type'][CT_index] == \"Single\"):\n",
        "      primaryEvidenceIndexes = TEST_STM['Primary_evidence_index'][CT_index].split(',')\n",
        "      evidences = parseEvidenceSingle(hypotesis, CTid, TEST_STM['Section_id'][CT_index], primaryEvidenceIndexes, PREFIX, DEBUG1, DEBUG2)\n",
        "      ax = splitEvidence([], \"\", \"[CLS] \"+hypotesis+\" [SEP] \", evidences, 0, DEBUG2)\n",
        "      # print(\"\\n ....... \" + ctIndxLabel + \"   -   \" + CTid + \"   \" + id)\n",
        "\n",
        "      dsNumObject = {}\n",
        "\n",
        "      prem_ex=[]\n",
        "      for evidenceFragment in ax:\n",
        "        premisesNums = containsNumericalInstances(evidenceFragment)\n",
        "        evd_ex = [readSeqToSpace(evidenceFragment, nn) for nn in premisesNums]\n",
        "        prem_ex = prem_ex + evd_ex\n",
        "      prem_cont = continue_overlaping(prem_ex[0:])\n",
        "      \n",
        "      if len(prem_ex) == 0:\n",
        "        prem_ex = ' '.join(ax)[:VECTOR_MAX]\n",
        "      else:\n",
        "        prem_ex = ' '.join(prem_cont)\n",
        "\n",
        "      # cohorts = getCohorts(evidenceFragment)\n",
        "      # dsNumObject['cohort_effect']=cohorts\n",
        "      dsNumObject['id']=id\n",
        "      dsNumObject['primaryId']=CTid\n",
        "      dsNumObject['statement_text']=hypotesis\n",
        "      # dsNumObject['statement_deps']=statementDepSchema\n",
        "      dsNumObject['statement_nums']=continue_overlaping([readSeqToSpace(hypotesis, nn) for nn in statementsNums])\n",
        "      dsNumObject['label']=ctIndxLabel\n",
        "      dsNumObject['premise_text']=ax\n",
        "      dsNumObject['premise_nums']=prem_cont\n",
        "      dsNum.append(dsNumObject)\n",
        "\n",
        "      numericalInsts = numericalInsts + len(prem_cont) + len(statementsNums)\n",
        "\n",
        "      if(numInPair(statementsNums, prem_cont)):\n",
        "        TEST_HYPOTESIS.append(hypotesis)\n",
        "        TEST_EVIDENCES_EX.append(prem_ex)\n",
        "        TEST_UUID.append(id)\n",
        "        TEST_LABEL.append(ctIndxLabel)\n",
        "        if(ctIndxLabel == 'Entailment'):\n",
        "          TEST_Y_LABELS = np.append(TEST_Y_LABELS, [1], axis=0)\n",
        "        else:\n",
        "          TEST_Y_LABELS = np.append(TEST_Y_LABELS, [0], axis=0)\n",
        "        numericalPairsInsts = numericalPairsInsts + len(prem_cont) + len(statementsNums)\n",
        "        dsNumPairDev.append(dsNumObject)\n",
        "        countPairSingle = countPairSingle+1\n",
        "        if(ctIndxLabel == 'Entailment'):\n",
        "          countPairEntailment = countPairEntailment+1\n",
        "        else:\n",
        "          countPairContradiction = countPairContradiction+1\n",
        "\n",
        "\n",
        "      # if (CT_index < 37):\n",
        "      #   print(\"     - \" + evidenceFragment)\n",
        "      #   print(prem_cont)\n",
        "\n",
        "      if DEBUG1:\n",
        "          print('Analyzed CT entry: ' + str(CT_index) + \"  -  \"+ CTid+\"\\n\")\n",
        "    if (TEST_STM['Type'][CT_index] == \"Comparison\"):\n",
        "      CTidSecondary = TEST_STM['Secondary_id'][CT_index]\n",
        "      # print(\"\\n ....... \" + ctIndxLabel + \"   p: \" + CTid + \"   s: \" + CTidSecondary + \"   \"+ id)\n",
        "\n",
        "      primaryEvidenceIndexes = TEST_STM['Primary_evidence_index'][CT_index].split(',')\n",
        "      secondaryEvidenceIndexes = TEST_STM['Secondary_evidence_index'][CT_index].split(',')\n",
        "      premisesPrimary = parseEvidenceSingle(hypotesis, CTid, TEST_STM['Section_id'][CT_index], primaryEvidenceIndexes, PREFIX, DEBUG1, DEBUG2)\n",
        "      premisesSecondary = parseEvidenceSingle(hypotesis, CTidSecondary, TEST_STM['Section_id'][CT_index], secondaryEvidenceIndexes, PREFIX, DEBUG1, DEBUG2)\n",
        "      ax = splitEvidence([], \"\", hypotesis, premisesPrimary + premisesSecondary, 0, DEBUG2)\n",
        "\n",
        "      dsNumObject = {}\n",
        "\n",
        "      prem_ex=[]\n",
        "      for evidenceFragment in ax:\n",
        "        premisesNums = containsNumericalInstances(evidenceFragment)\n",
        "        evd_ex = [readSeqToSpace(evidenceFragment, nn) for nn in premisesNums]\n",
        "        prem_ex = prem_ex + evd_ex\n",
        "      prem_cont = continue_overlaping(prem_ex[0:])\n",
        "      \n",
        "      if len(prem_ex) == 0:\n",
        "        prem_ex = ' '.join(ax)[:VECTOR_MAX]\n",
        "      else:\n",
        "        prem_ex = ' '.join(prem_cont)\n",
        "\n",
        "      # cohorts = getCohorts(evidenceFragment)\n",
        "      # dsNumObject['cohort_effect']=cohorts\n",
        "      dsNumObject['id']=id\n",
        "      dsNumObject['primaryId']=CTid\n",
        "      dsNumObject['secondaryId']=CTidSecondary\n",
        "      dsNumObject['statement_text']=hypotesis\n",
        "      # dsNumObject['statement_deps']=statementDepSchema\n",
        "      dsNumObject['statement_nums']=continue_overlaping([readSeqToSpace(hypotesis, nn) for nn in statementsNums])\n",
        "      dsNumObject['label']=ctIndxLabel\n",
        "      dsNumObject['premise_text']=ax\n",
        "      dsNumObject['premise_nums']=prem_cont\n",
        "      dsNum.append(dsNumObject)\n",
        "\n",
        "\n",
        "      numericalInsts = numericalInsts + len(prem_cont) + len(statementsNums)\n",
        "\n",
        "      if(numInPair(statementsNums, prem_cont)):\n",
        "        TEST_HYPOTESIS.append(hypotesis)\n",
        "        TEST_EVIDENCES_EX.append(prem_ex)\n",
        "        TEST_UUID.append(id)\n",
        "        TEST_LABEL.append(ctIndxLabel)\n",
        "        if(ctIndxLabel == 'Entailment'):\n",
        "          TEST_Y_LABELS = np.append(TEST_Y_LABELS, [1], axis=0)\n",
        "        else:\n",
        "          TEST_Y_LABELS = np.append(TEST_Y_LABELS, [0], axis=0)\n",
        "        numericalPairsInsts = numericalPairsInsts + len(prem_cont) + len(statementsNums)\n",
        "        dsNumPairDev.append(dsNumObject)\n",
        "        countPairComparison = countPairComparison+1\n",
        "        if(ctIndxLabel == 'Entailment'):\n",
        "          countPairEntailment = countPairEntailment+1\n",
        "        else:\n",
        "          countPairContradiction = countPairContradiction+1\n",
        "\n",
        "        \n",
        "        # if (CT_index < 17):\n",
        "        #   print(\"     - \"+ evidenceFragment)\n",
        "      # print(\"-------2--------\")\n",
        "      if DEBUG1:\n",
        "          print('Analyzed CT entry: ' + str(CT_index) + \"  -  \"+ CTid+\"\\n\")\n",
        "\n",
        "\n",
        "print('.....................................')\n",
        "print('Total: '+ str(len(dsNum)))\n",
        "print('pairs: '+ str(len(dsNumPair)))\n",
        "print('.....................................')\n",
        "try:\n",
        "  with open(DS_PATH_DEV, 'w', encoding=\"utf-8\") as _file:\n",
        "    _file.write(json.dumps(dsNum, ensure_ascii=False))\n",
        "  with open(DS_PATH_PAIRS_DEV, 'w', encoding=\"utf-8\") as _file:\n",
        "    _file.write(json.dumps(dsNumPair, ensure_ascii=False))\n",
        "  # with open(DS_PATH) as json_file:\n",
        "  #     dataCT = json.load(json_file)\n",
        "except:\n",
        "    print('\\n!!! Error for file: ')\n",
        "\n",
        "\n",
        "# pair = numerical instances found in statement and in premises\n",
        "print('PairSingle study: '+str(countPairSingle))\n",
        "print('PairComparison study: '+str(countPairComparison))\n",
        "print('Pairs labeled as Entailment: '+str(countPairEntailment))\n",
        "print('Pairs labeled as Contradiction: '+str(countPairContradiction))\n",
        "\n",
        "print(countPairSingle + countPairComparison)\n",
        "print(countPairEntailment + countPairContradiction)\n",
        "\n",
        "\n",
        "print('Total num instances '+ str(numericalInsts))\n",
        "print('Pair num instances '+ str(numericalPairsInsts))\n",
        "\n",
        "print('.....................................')\n",
        "\n",
        "print(\"dim ipoteze:\")\n",
        "print(len(TEST_EVIDENCES))\n",
        "print(\"dim evidențe:\")\n",
        "print(len(TEST_EVIDENCES))\n",
        "print(\"dim Y:\")\n",
        "print(len(TEST_Y_LABELS))"
      ]
    },
    {
      "cell_type": "code",
      "execution_count": null,
      "metadata": {
        "colab": {
          "base_uri": "https://localhost:8080/"
        },
        "id": "RLgRGfgH5g_M",
        "outputId": "1746df7b-b13c-45fa-ae42-4dbb94c3e983"
      },
      "outputs": [
        {
          "output_type": "stream",
          "name": "stdout",
          "text": [
            "Dataset MAX (dim): \n",
            "201\n",
            "DEBUG train shapes: \n",
            "(1297, 300)\n"
          ]
        }
      ],
      "source": [
        "train_input = encode_data_to_tensors(_HYPOTESIS, _EVIDENCES_EX, tokenizer, VECTOR_MAX)\n",
        "gc.collect()\n",
        "# check shape data \n",
        "print('DEBUG train shapes: ')\n",
        "print(train_input['input_word_ids'].shape)\n",
        "# print(train_input['input_mask'].shape)\n",
        "#print(train_input['input_type_ids'].shape)"
      ]
    },
    {
      "cell_type": "code",
      "source": [],
      "metadata": {
        "id": "XtS02ZHPl1M_"
      },
      "execution_count": null,
      "outputs": []
    },
    {
      "cell_type": "code",
      "execution_count": null,
      "metadata": {
        "id": "qwnkYMFBKeMp",
        "colab": {
          "base_uri": "https://localhost:8080/"
        },
        "outputId": "6e306d6f-545a-444a-ed13-11d41a4a8774"
      },
      "outputs": [
        {
          "output_type": "stream",
          "name": "stderr",
          "text": [
            "All model checkpoint layers were used when initializing TFBertModel.\n",
            "\n",
            "All the layers of TFBertModel were initialized from the model checkpoint at giacomomiolo/biobert_reupload.\n",
            "If your task is similar to the task the model of the checkpoint was trained on, you can already use TFBertModel for predictions without further training.\n"
          ]
        },
        {
          "output_type": "stream",
          "name": "stdout",
          "text": [
            "dim ipoteze:\n",
            "1297\n",
            "dim evidențe:\n",
            "0\n",
            "dim Y:\n",
            "2332\n",
            "Epoch 1/7\n"
          ]
        },
        {
          "output_type": "stream",
          "name": "stderr",
          "text": [
            "WARNING:tensorflow:Gradients do not exist for variables ['tf_bert_model_2/bert/pooler/dense/kernel:0', 'tf_bert_model_2/bert/pooler/dense/bias:0'] when minimizing the loss. If you're using `model.compile()`, did you forget to provide a `loss` argument?\n",
            "WARNING:tensorflow:Gradients do not exist for variables ['tf_bert_model_2/bert/pooler/dense/kernel:0', 'tf_bert_model_2/bert/pooler/dense/bias:0'] when minimizing the loss. If you're using `model.compile()`, did you forget to provide a `loss` argument?\n",
            "WARNING:tensorflow:Gradients do not exist for variables ['tf_bert_model_2/bert/pooler/dense/kernel:0', 'tf_bert_model_2/bert/pooler/dense/bias:0'] when minimizing the loss. If you're using `model.compile()`, did you forget to provide a `loss` argument?\n",
            "WARNING:tensorflow:Gradients do not exist for variables ['tf_bert_model_2/bert/pooler/dense/kernel:0', 'tf_bert_model_2/bert/pooler/dense/bias:0'] when minimizing the loss. If you're using `model.compile()`, did you forget to provide a `loss` argument?\n"
          ]
        },
        {
          "output_type": "stream",
          "name": "stdout",
          "text": [
            "65/65 [==============================] - 75s 445ms/step - loss: 0.6955 - accuracy: 0.5053 - val_loss: 0.6929 - val_accuracy: 0.5077\n",
            "Epoch 2/7\n",
            "65/65 [==============================] - 25s 386ms/step - loss: 0.6937 - accuracy: 0.5082 - val_loss: 0.6946 - val_accuracy: 0.4923\n",
            "Epoch 3/7\n",
            "65/65 [==============================] - 24s 373ms/step - loss: 0.6952 - accuracy: 0.4812 - val_loss: 0.6933 - val_accuracy: 0.5077\n",
            "Epoch 4/7\n",
            "65/65 [==============================] - 24s 369ms/step - loss: 0.6944 - accuracy: 0.4937 - val_loss: 0.6959 - val_accuracy: 0.4923\n",
            "Epoch 5/7\n",
            "65/65 [==============================] - 24s 369ms/step - loss: 0.6974 - accuracy: 0.4947 - val_loss: 0.6954 - val_accuracy: 0.4923\n",
            "Epoch 6/7\n",
            "65/65 [==============================] - 24s 370ms/step - loss: 0.6952 - accuracy: 0.5082 - val_loss: 0.7059 - val_accuracy: 0.4923\n",
            "Epoch 7/7\n",
            "65/65 [==============================] - 24s 367ms/step - loss: 0.6954 - accuracy: 0.5005 - val_loss: 0.7025 - val_accuracy: 0.4923\n"
          ]
        }
      ],
      "source": [
        "gc.collect()\n",
        "# model = build_model()\n",
        "model = build_model()\n",
        "# df = pd.DataFrame()\n",
        "# df['Y'] = Y_LABELS\n",
        "\n",
        "\n",
        "print(\"dim ipoteze:\")\n",
        "print(len(_HYPOTESIS))\n",
        "print(\"dim evidențe:\")\n",
        "print(len(_EVIDENCES))\n",
        "print(\"dim Y:\")\n",
        "print(len(Y_LABELS))\n",
        "\n",
        "history = model.fit(x=train_input, y=Y_LABELS, epochs = 7, verbose = 1, batch_size = 16, validation_split = 0.2)"
      ]
    },
    {
      "cell_type": "markdown",
      "source": [
        "At the point of val_loss getting further than the loss you are over-fitting and need to take adequate measures.\n",
        "\n",
        "The accuracy measure greatly depends on your data as it counts for the percentage of correct classifications. Imbalanced classes in your data splits could lead to different accuracy measures."
      ],
      "metadata": {
        "id": "IKqekTjeXSby"
      }
    },
    {
      "cell_type": "code",
      "source": [
        "def plot_graphs(history, metric):\n",
        "  plt.plot(history.history[metric])\n",
        "  plt.plot(history.history['val_'+metric], '')\n",
        "  plt.xlabel(\"Epochs\")\n",
        "  plt.ylabel(metric)\n",
        "  plt.legend([metric, 'val_'+metric])\n",
        "\n",
        "import matplotlib.pyplot as plt\n",
        "plt.figure(figsize=(16, 8))\n",
        "plt.subplot(1, 2, 1)\n",
        "plot_graphs(history, 'accuracy')\n",
        "plt.ylim(None, 1)\n",
        "plt.subplot(1, 2, 2)\n",
        "plot_graphs(history, 'loss')\n",
        "plt.ylim(0, None)"
      ],
      "metadata": {
        "colab": {
          "base_uri": "https://localhost:8080/",
          "height": 738
        },
        "id": "Y3dy2XI5f2fR",
        "outputId": "76314fc8-652f-4972-db33-7df896e8968e"
      },
      "execution_count": null,
      "outputs": [
        {
          "output_type": "execute_result",
          "data": {
            "text/plain": [
              "(0.0, 0.706585967540741)"
            ]
          },
          "metadata": {},
          "execution_count": 66
        },
        {
          "output_type": "display_data",
          "data": {
            "text/plain": [
              "<Figure size 1600x800 with 2 Axes>"
            ],
            "image/png": "[encoded data removed]"
          },
          "metadata": {}
        }
      ]
    },
    {
      "cell_type": "code",
      "execution_count": null,
      "metadata": {
        "id": "6In1g5eDNEeu",
        "colab": {
          "base_uri": "https://localhost:8080/"
        },
        "outputId": "fe5e4506-24f3-42da-e27b-2482a5267e68"
      },
      "outputs": [
        {
          "output_type": "execute_result",
          "data": {
            "text/plain": [
              "153"
            ]
          },
          "metadata": {},
          "execution_count": 67
        }
      ],
      "source": [
        "TEST_EVIDENCES_EX = [s[:VECTOR_MAX] for s in TEST_EVIDENCES_EX]\n",
        "len(TEST_EVIDENCES_EX)"
      ]
    },
    {
      "cell_type": "code",
      "execution_count": null,
      "metadata": {
        "id": "CdgjLkc3NJ4d",
        "colab": {
          "base_uri": "https://localhost:8080/"
        },
        "outputId": "3cc154e2-f01b-4547-842d-20d74c056ea9"
      },
      "outputs": [
        {
          "output_type": "execute_result",
          "data": {
            "text/plain": [
              "153"
            ]
          },
          "metadata": {},
          "execution_count": 68
        }
      ],
      "source": [
        "len(TEST_HYPOTESIS)"
      ]
    },
    {
      "cell_type": "code",
      "execution_count": null,
      "metadata": {
        "id": "QysAGVgr5fW1",
        "colab": {
          "base_uri": "https://localhost:8080/"
        },
        "outputId": "f74c6b7f-d82f-4ec2-f8cf-2da6fda40dd2"
      },
      "outputs": [
        {
          "output_type": "stream",
          "name": "stdout",
          "text": [
            "Dataset MAX (dim): \n",
            "189\n",
            "DEBUG test shapes: \n",
            "(153, 300)\n"
          ]
        }
      ],
      "source": [
        "test_input = encode_data_to_tensors(TEST_HYPOTESIS, TEST_EVIDENCES_EX, tokenizer, VECTOR_MAX)\n",
        "\n",
        "# check shape data \n",
        "print('DEBUG test shapes: ')\n",
        "print(test_input['input_word_ids'].shape)\n",
        "#print(test_input['input_mask'].shape)\n",
        "#print(test_input['input_type_ids'].shape)"
      ]
    },
    {
      "cell_type": "code",
      "execution_count": null,
      "metadata": {
        "id": "kvDscyM33JY6",
        "colab": {
          "base_uri": "https://localhost:8080/",
          "height": 224
        },
        "outputId": "99b64bed-f1f5-40af-d1d7-be5a2f08530b"
      },
      "outputs": [
        {
          "output_type": "stream",
          "name": "stdout",
          "text": [
            "5/5 [==============================] - 4s 207ms/step\n"
          ]
        },
        {
          "output_type": "execute_result",
          "data": {
            "text/plain": [
              "                                   UUID          label  prediction\n",
              "0  1adc970c-d433-44d0-aa09-d3834986f7a2  Contradiction           0\n",
              "1  6b9162d0-0816-46d4-81af-c60028dcc63b  Contradiction           0\n",
              "2  0b6cc8e3-69ee-4a91-b93d-2ad3fddce65f  Contradiction           0\n",
              "3  cc1f712a-2116-4e40-9810-f315e3fa5ff8     Entailment           0\n",
              "4  43ee7645-ce1e-42d5-9a74-3e379f6f367b  Contradiction           0"
            ],
            "text/html": [
              "\n",
              "  <div id=\"df-5ea042eb-9f47-4052-8cd2-8bd2d8cd00be\">\n",
              "    <div class=\"colab-df-container\">\n",
              "      <div>\n",
              "<style scoped>\n",
              "    .dataframe tbody tr th:only-of-type {\n",
              "        vertical-align: middle;\n",
              "    }\n",
              "\n",
              "    .dataframe tbody tr th {\n",
              "        vertical-align: top;\n",
              "    }\n",
              "\n",
              "    .dataframe thead th {\n",
              "        text-align: right;\n",
              "    }\n",
              "</style>\n",
              "<table border=\"1\" class=\"dataframe\">\n",
              "  <thead>\n",
              "    <tr style=\"text-align: right;\">\n",
              "      <th></th>\n",
              "      <th>UUID</th>\n",
              "      <th>label</th>\n",
              "      <th>prediction</th>\n",
              "    </tr>\n",
              "  </thead>\n",
              "  <tbody>\n",
              "    <tr>\n",
              "      <th>0</th>\n",
              "      <td>1adc970c-d433-44d0-aa09-d3834986f7a2</td>\n",
              "      <td>Contradiction</td>\n",
              "      <td>0</td>\n",
              "    </tr>\n",
              "    <tr>\n",
              "      <th>1</th>\n",
              "      <td>6b9162d0-0816-46d4-81af-c60028dcc63b</td>\n",
              "      <td>Contradiction</td>\n",
              "      <td>0</td>\n",
              "    </tr>\n",
              "    <tr>\n",
              "      <th>2</th>\n",
              "      <td>0b6cc8e3-69ee-4a91-b93d-2ad3fddce65f</td>\n",
              "      <td>Contradiction</td>\n",
              "      <td>0</td>\n",
              "    </tr>\n",
              "    <tr>\n",
              "      <th>3</th>\n",
              "      <td>cc1f712a-2116-4e40-9810-f315e3fa5ff8</td>\n",
              "      <td>Entailment</td>\n",
              "      <td>0</td>\n",
              "    </tr>\n",
              "    <tr>\n",
              "      <th>4</th>\n",
              "      <td>43ee7645-ce1e-42d5-9a74-3e379f6f367b</td>\n",
              "      <td>Contradiction</td>\n",
              "      <td>0</td>\n",
              "    </tr>\n",
              "  </tbody>\n",
              "</table>\n",
              "</div>\n",
              "      <button class=\"colab-df-convert\" onclick=\"convertToInteractive('df-5ea042eb-9f47-4052-8cd2-8bd2d8cd00be')\"\n",
              "              title=\"Convert this dataframe to an interactive table.\"\n",
              "              style=\"display:none;\">\n",
              "        \n",
              "  <svg xmlns=\"http://www.w3.org/2000/svg\" height=\"24px\"viewBox=\"0 0 24 24\"\n",
              "       width=\"24px\">\n",
              "    <path d=\"M0 0h24v24H0V0z\" fill=\"none\"/>\n",
              "    <path d=\"M18.56 5.44l.94 2.06.94-2.06 2.06-.94-2.06-.94-.94-2.06-.94 2.06-2.06.94zm-11 1L8.5 8.5l.94-2.06 2.06-.94-2.06-.94L8.5 2.5l-.94 2.06-2.06.94zm10 10l.94 2.06.94-2.06 2.06-.94-2.06-.94-.94-2.06-.94 2.06-2.06.94z\"/><path d=\"M17.41 7.96l-1.37-1.37c-.4-.4-.92-.59-1.43-.59-.52 0-1.04.2-1.43.59L10.3 9.45l-7.72 7.72c-.78.78-.78 2.05 0 2.83L4 21.41c.39.39.9.59 1.41.59.51 0 1.02-.2 1.41-.59l7.78-7.78 2.81-2.81c.8-.78.8-2.07 0-2.86zM5.41 20L4 18.59l7.72-7.72 1.47 1.35L5.41 20z\"/>\n",
              "  </svg>\n",
              "      </button>\n",
              "      \n",
              "  <style>\n",
              "    .colab-df-container {\n",
              "      display:flex;\n",
              "      flex-wrap:wrap;\n",
              "      gap: 12px;\n",
              "    }\n",
              "\n",
              "    .colab-df-convert {\n",
              "      background-color: #E8F0FE;\n",
              "      border: none;\n",
              "      border-radius: 50%;\n",
              "      cursor: pointer;\n",
              "      display: none;\n",
              "      fill: #1967D2;\n",
              "      height: 32px;\n",
              "      padding: 0 0 0 0;\n",
              "      width: 32px;\n",
              "    }\n",
              "\n",
              "    .colab-df-convert:hover {\n",
              "      background-color: #E2EBFA;\n",
              "      box-shadow: 0px 1px 2px rgba(60, 64, 67, 0.3), 0px 1px 3px 1px rgba(60, 64, 67, 0.15);\n",
              "      fill: #174EA6;\n",
              "    }\n",
              "\n",
              "    [theme=dark] .colab-df-convert {\n",
              "      background-color: #3B4455;\n",
              "      fill: #D2E3FC;\n",
              "    }\n",
              "\n",
              "    [theme=dark] .colab-df-convert:hover {\n",
              "      background-color: #434B5C;\n",
              "      box-shadow: 0px 1px 3px 1px rgba(0, 0, 0, 0.15);\n",
              "      filter: drop-shadow(0px 1px 2px rgba(0, 0, 0, 0.3));\n",
              "      fill: #FFFFFF;\n",
              "    }\n",
              "  </style>\n",
              "\n",
              "      <script>\n",
              "        const buttonEl =\n",
              "          document.querySelector('#df-5ea042eb-9f47-4052-8cd2-8bd2d8cd00be button.colab-df-convert');\n",
              "        buttonEl.style.display =\n",
              "          google.colab.kernel.accessAllowed ? 'block' : 'none';\n",
              "\n",
              "        async function convertToInteractive(key) {\n",
              "          const element = document.querySelector('#df-5ea042eb-9f47-4052-8cd2-8bd2d8cd00be');\n",
              "          const dataTable =\n",
              "            await google.colab.kernel.invokeFunction('convertToInteractive',\n",
              "                                                     [key], {});\n",
              "          if (!dataTable) return;\n",
              "\n",
              "          const docLinkHtml = 'Like what you see? Visit the ' +\n",
              "            '<a target=\"_blank\" href=https://colab.research.google.com/notebooks/data_table.ipynb>data table notebook</a>'\n",
              "            + ' to learn more about interactive tables.';\n",
              "          element.innerHTML = '';\n",
              "          dataTable['output_type'] = 'display_data';\n",
              "          await google.colab.output.renderOutput(dataTable, element);\n",
              "          const docLink = document.createElement('div');\n",
              "          docLink.innerHTML = docLinkHtml;\n",
              "          element.appendChild(docLink);\n",
              "        }\n",
              "      </script>\n",
              "    </div>\n",
              "  </div>\n",
              "  "
            ]
          },
          "metadata": {},
          "execution_count": 70
        }
      ],
      "source": [
        "\n",
        "c_counter = c_counter+1\n",
        "gc.collect()\n",
        "predictions = [np.argmax(i) for i in model.predict(test_input)]\n",
        "\n",
        "\n",
        "submission = pd.DataFrame()\n",
        "# print([i for i in model.predict(test_input)])\n",
        "\n",
        "submission['UUID'] = TEST_UUID\n",
        "submission['label'] = TEST_LABEL\n",
        "submission['prediction'] = predictions\n",
        "\n",
        "RESULTS_FILE = PREFIXG+\"submission_\" +str(c_counter)+\"_\"+stamp_time()+\".csv\"\n",
        "RESULTS_FILE_R = PREFIXG+\"results_\" +str(c_counter)+\"_\"+stamp_time()+\".json\"\n",
        "submission.to_csv(RESULTS_FILE, index = False)\n",
        "submission.head()"
      ]
    },
    {
      "cell_type": "markdown",
      "metadata": {
        "id": "sa4B4jsZ42WN"
      },
      "source": [
        "# Postprocessing"
      ]
    },
    {
      "cell_type": "markdown",
      "metadata": {
        "id": "v5b4LCmWjczl"
      },
      "source": [
        "Conversion from json to csv of training, test and dev files. "
      ]
    },
    {
      "cell_type": "code",
      "execution_count": null,
      "metadata": {
        "id": "kUDkwVv744y9"
      },
      "outputs": [],
      "source": [
        "import json\n",
        "import pandas as pd\n",
        "\n",
        "\n",
        "\"\"\"\n",
        "type = train | dev\n",
        "\"\"\"\n",
        "def preprocessing(JSONPATH, type, PREFIX):\n",
        "\n",
        "    with open(JSONPATH) as json_file:\n",
        "        data = json.load(json_file)\n",
        "\n",
        "    columns = ['Type', 'Section_id', 'Primary_id', 'Secondary_id', 'Statement', 'Label', ] #  'Primary_evidence_index', 'Secondary_evidence_index',\n",
        "\n",
        "    ids = []\n",
        "    types = []\n",
        "    sectionId = []\n",
        "    primaryId = []\n",
        "    secondaryId = []\n",
        "    statement = []\n",
        "    label = []\n",
        "    PEI = []\n",
        "    SEI = []\n",
        "    for entry in data:\n",
        "        ids.append(entry)\n",
        "        types.append(data[entry]['Type'])\n",
        "        sectionId.append(data[entry]['Section_id'])\n",
        "        primaryId.append(data[entry]['Primary_id'])\n",
        "        if not (data[entry].get('Secondary_id') is None):\n",
        "            secondaryId.append(data[entry]['Secondary_id'])\n",
        "        else:\n",
        "            secondaryId.append(None)\n",
        "        statement.append(data[entry]['Statement'])\n",
        "        label.append(data[entry]['Label'])\n",
        "        PEI.append(','.join(str(x) for x in data[entry]['Primary_evidence_index']))\n",
        "        if not (data[entry].get('Secondary_evidence_index') is None):\n",
        "            SEI.append(','.join(str(x) for x in data[entry]['Secondary_evidence_index']))\n",
        "        else:\n",
        "            SEI.append(','.join(str(x) for x in []))\n",
        "\n",
        "    df = pd.DataFrame()\n",
        "    df['Id'] = ids\n",
        "    df['Type'] = types\n",
        "    df['Section_id'] = sectionId\n",
        "    df['Primary_id'] = primaryId\n",
        "    df['Secondary_id'] = secondaryId\n",
        "    df['Statement'] = statement\n",
        "    df['Label'] = label\n",
        "    df['Primary_evidence_index'] = PEI\n",
        "    df['Secondary_evidence_index'] = SEI\n",
        "\n",
        "    #print(df.head(20))\n",
        "\n",
        "    compression_opts = dict(method='zip', archive_name='out.csv') \n",
        "    # df.to_csv('out.zip', index=False, compression=compression_opts) \n",
        "    df.to_csv(PREFIX+type+'.csv', index=False) \n",
        "\n",
        "\n",
        "\n",
        "def collectEvidenceData(evidenceSection, evidenceIndexes, clinicalTrialId, evidenceSectionId, DEBUG2):\n",
        "    evidences = []\n",
        "    for evIndex in evidenceIndexes:\n",
        "        try:\n",
        "            i = int(evIndex)\n",
        "            if DEBUG2:\n",
        "                print(evidenceSection[i])\n",
        "            evidences.append(evidenceSection[i].strip())\n",
        "        except:\n",
        "            print(evidenceIndexes)\n",
        "            print('\\n!!! Failed to collect evidence on index, trialId, section: ' + str(i) + clinicalTrialId, evidenceSectionId)\n",
        "    return evidences\n",
        "\n",
        "##\n",
        "# TODO redefined but not used\n",
        "##\n",
        "def parseEvidenceSingleValidation(clinicalTrialId, evidenceSectionId, primaryEvidenceIndexes, PREFIX, DEBUG1, DEBUG2):\n",
        "    if DEBUG1:\n",
        "        print(\"Parse evidence Single: \" + clinicalTrialId + \" \" + evidenceSectionId)\n",
        "    CT_PATH = PREFIX+'/CT_data/'+clinicalTrialId+'.json'\n",
        "    try:\n",
        "        with open(CT_PATH) as json_file:\n",
        "            dataCT = json.load(json_file)\n",
        "            if DEBUG2:\n",
        "                print(primaryEvidenceIndexes)\n",
        "        evidences = collectEvidenceData(dataCT[evidenceSectionId], primaryEvidenceIndexes, clinicalTrialId, evidenceSectionId)\n",
        "        if DEBUG2:\n",
        "            print(evidences)    \n",
        "    except:\n",
        "        print('\\n!!! Error for file: ' + clinicalTrialId)\n",
        "    if DEBUG2:\n",
        "        print(\"\\n\")\n",
        "    return evidences\n",
        "\n",
        "\n",
        "# preprocessing(\"/content/dev.json\", \"dev\", \"\")"
      ]
    },
    {
      "cell_type": "markdown",
      "metadata": {
        "id": "Ju1rgtB8jJq8"
      },
      "source": [
        "## Metrics (F1 score) script"
      ]
    },
    {
      "cell_type": "code",
      "execution_count": null,
      "metadata": {
        "id": "o-xbRn8lpgzl",
        "colab": {
          "base_uri": "https://localhost:8080/",
          "height": 35
        },
        "outputId": "bc460f81-d6e3-41d1-8c42-447cc81cedc8"
      },
      "outputs": [
        {
          "output_type": "execute_result",
          "data": {
            "text/plain": [
              "'/content/submission_2_20230605205319.csv'"
            ],
            "application/vnd.google.colaboratory.intrinsic+json": {
              "type": "string"
            }
          },
          "metadata": {},
          "execution_count": 72
        }
      ],
      "source": [
        "from sklearn.feature_extraction.text import TfidfVectorizer\n",
        "from sklearn.metrics.pairwise import cosine_distances\n",
        "import numpy\n",
        "from sklearn.metrics import f1_score,precision_score,recall_score\n",
        "RESULTS_FILE"
      ]
    },
    {
      "cell_type": "code",
      "execution_count": null,
      "metadata": {
        "id": "7NdJZPHXj9jh",
        "colab": {
          "base_uri": "https://localhost:8080/"
        },
        "outputId": "093d4d46-0636-4327-bddb-aa8541146109"
      },
      "outputs": [
        {
          "output_type": "stream",
          "name": "stdout",
          "text": [
            "0    0\n",
            "1    0\n",
            "2    0\n",
            "3    0\n",
            "4    0\n",
            "Name: prediction, dtype: int64\n",
            "[0, 0, 0, 1, 0, 0, 1, 1, 1, 0, 0, 1, 1, 0, 0, 0, 1, 0, 1, 1, 0, 0, 0, 0, 1, 1, 1, 0, 0, 1, 1, 1, 1, 1, 1, 0, 0, 1, 0, 0, 1, 1, 1, 0, 1, 0, 0, 1, 1, 1, 1, 1, 0, 0, 0, 1, 1, 0, 0, 1, 0, 0, 0, 1, 1, 1, 1, 0, 0, 1, 1, 1, 0, 0, 0, 0, 1, 1, 0, 1, 1, 1, 0, 0, 1, 0, 0, 1, 0, 0, 1, 1, 1, 0, 0, 1, 1, 1, 0, 1, 0, 0, 0, 1, 1, 1, 1, 1, 1, 0, 0, 0, 1, 0, 1, 0, 0, 1, 0, 0, 1, 1, 0, 1, 0, 1, 0, 0, 1, 0, 0, 1, 1, 1, 0, 0, 1, 0, 1, 0, 0, 1, 0, 1, 0, 1, 0, 0, 0, 0, 1, 1, 0]\n",
            "[0, 0, 0, 0, 0, 0, 0, 0, 0, 0, 0, 0, 0, 0, 0, 0, 0, 0, 0, 0, 0, 0, 0, 0, 0, 0, 0, 0, 0, 0, 0, 0, 0, 0, 0, 0, 0, 0, 0, 0, 0, 0, 0, 0, 0, 0, 0, 0, 0, 0, 0, 0, 0, 0, 0, 0, 0, 0, 0, 0, 0, 0, 0, 0, 0, 0, 0, 0, 0, 0, 0, 0, 0, 0, 0, 0, 0, 0, 0, 0, 0, 0, 0, 0, 0, 0, 0, 0, 0, 0, 0, 0, 0, 0, 0, 0, 0, 0, 0, 0, 0, 0, 0, 0, 0, 0, 0, 0, 0, 0, 0, 0, 0, 0, 0, 0, 0, 0, 0, 0, 0, 0, 0, 0, 0, 0, 0, 0, 0, 0, 0, 0, 0, 0, 0, 0, 0, 0, 0, 0, 0, 0, 0, 0, 0, 0, 0, 0, 0, 0, 0, 0, 0]\n",
            "F1:0.000000\n",
            "precision_score:0.000000\n",
            "recall_score:0.000000\n"
          ]
        },
        {
          "output_type": "stream",
          "name": "stderr",
          "text": [
            "/usr/local/lib/python3.10/dist-packages/sklearn/metrics/_classification.py:1344: UndefinedMetricWarning: Precision is ill-defined and being set to 0.0 due to no predicted samples. Use `zero_division` parameter to control this behavior.\n",
            "  _warn_prf(average, modifier, msg_start, len(result))\n"
          ]
        }
      ],
      "source": [
        "import json\n",
        "import pandas as pd\n",
        "from functools import reduce \n",
        "\n",
        "\n",
        "dev_path = PREFIXG+\"dev.json\"\n",
        "with open(dev_path) as json_file:\n",
        "    dev = json.load(json_file)\n",
        "\n",
        "def postProcessing(file):\n",
        "    results2 = {}\n",
        "    results = {}\n",
        "    CT_index = 0\n",
        "    try:\n",
        "        STM = pd.read_csv(file)\n",
        "        print(STM['prediction'].head(5))\n",
        "        for id in STM['UUID']:\n",
        "            prediction = STM['prediction'][CT_index]\n",
        "            # print(prediction)\n",
        "            CT_index = CT_index + 1\n",
        "            if id in results:\n",
        "              print(\"EROARE !!!!!\")\n",
        "              exit()\n",
        "            else:\n",
        "              results[id] = str(prediction)\n",
        "    except Exception as err:\n",
        "        print('\\n! Error for file')\n",
        "        print(err)\n",
        "    return results\n",
        "\n",
        "\n",
        "def run_score_script(Results):\n",
        "    gold = dev\n",
        "    results = Results\n",
        "    uuid_list = list(results.keys())\n",
        "    results_pred = []\n",
        "    gold_labels = []\n",
        "    for i in uuid_list:\n",
        "        if results[i] == \"1\":\n",
        "            results_pred.append(1)\n",
        "        else:\n",
        "            results_pred.append(0)\n",
        "        if gold[i][\"Label\"] == \"Entailment\":\n",
        "            gold_labels.append(1)\n",
        "        else:\n",
        "            gold_labels.append(0)\n",
        "\n",
        "    print(gold_labels)\n",
        "    print(results_pred)\n",
        "    \n",
        "\n",
        "    f_score = f1_score(gold_labels,results_pred)\n",
        "    p_score = precision_score(gold_labels,results_pred)\n",
        "    r_score = recall_score(gold_labels,results_pred)\n",
        "    SCORE = \"-\".join(str(f_score).split(\".\"))\n",
        "    SCORE = SCORE[:6]\n",
        "\n",
        "    print('F1:{:f}'.format(f_score))\n",
        "    print('precision_score:{:f}'.format(p_score))\n",
        "    print('recall_score:{:f}'.format(r_score))\n",
        "    return SCORE\n",
        "\n",
        "w = postProcessing(RESULTS_FILE)\n",
        "SCORE = run_score_script(w)"
      ]
    },
    {
      "cell_type": "markdown",
      "metadata": {
        "id": "Jt3CfgTjkQVJ"
      },
      "source": [
        "Run score script and write results in correct format"
      ]
    },
    {
      "cell_type": "code",
      "execution_count": null,
      "metadata": {
        "id": "lBoNN4eekQuw"
      },
      "outputs": [],
      "source": [
        "with open(RESULTS_FILE_R, 'w') as convert_file:\n",
        "  convert_file.write(json.dumps(w))"
      ]
    },
    {
      "cell_type": "markdown",
      "metadata": {
        "id": "AbD_Zuy9olsL"
      },
      "source": [
        "# Test.json Task 1"
      ]
    },
    {
      "cell_type": "code",
      "execution_count": null,
      "metadata": {
        "id": "vfyy-B4Fou4A"
      },
      "outputs": [],
      "source": [
        "# def parseEvSg(clinicalTrialId, evidenceSectionId, PREFIX, DEBUG1, DEBUG2):\n",
        "#     evidences = []\n",
        "#     if DEBUG1:\n",
        "#         print(\"Load premises: \" + clinicalTrialId + \" \" + evidenceSectionId)\n",
        "#     CT_PATH = PREFIX+'CT_data/'+clinicalTrialId+'.json'\n",
        "#     try:\n",
        "#         with open(CT_PATH) as json_file:\n",
        "#             dataCT = json.load(json_file)\n",
        "#         evidences = dataCT[evidenceSectionId]\n",
        "#         # if (len(premises) > 8):\n",
        "#         #   num = 0\n",
        "#         #   for prem in premises:\n",
        "#         #     if (num % 2) == 0:\n",
        "#         #       evidences.append(prem)\n",
        "#         #       num = num + 1\n",
        "#         #       print(\"PREMISE SELECTIE ----------------------------------\")\n",
        "#         # else:\n",
        "#         #   print(\"PREMISE PUTINE ----------------------------------\")\n",
        "#         #   evidences = premises\n",
        "#     except Exception as err:\n",
        "#         print('\\n!!! Error for file: ' + clinicalTrialId)\n",
        "#         print(err)\n",
        "#     if DEBUG2:\n",
        "#         print(\"\\n\")\n",
        "#     return evidences"
      ]
    },
    {
      "cell_type": "code",
      "execution_count": null,
      "metadata": {
        "id": "NL0CQU7Sok7E"
      },
      "outputs": [],
      "source": [
        "# TEST_STM_VALID = pd.read_csv(TEST_DATA2) #, nrows=40\n",
        "\n",
        "\n",
        "# # exit()\n",
        "# TEST_EVIDENCES_VALID=[]\n",
        "# TEST_HYPOTESIS_VALID=[]\n",
        "# TEST_UUID_VALID=[]\n",
        "# CT_index = -1\n",
        "# for id in TEST_STM_VALID['Id']:\n",
        "#     evidences = []\n",
        "#     CT_index = CT_index+1\n",
        "#     CTid = TEST_STM_VALID['Primary_id'][CT_index]\n",
        "#     hypotesis = normalizeDocument(TEST_STM_VALID['Statement'][CT_index], True)\n",
        "#     hypotesisLen = len(hypotesis.split(' '))\n",
        "#     if (TEST_STM_VALID['Type'][CT_index] == \"Single\"):\n",
        "#       evidences = parseEvSg(CTid, TEST_STM_VALID['Section_id'][CT_index], PREFIX, DEBUG1, DEBUG2)\n",
        "#       ax = splitEvidence([], \"\", \"[CLS] \"+hypotesis+\" [SEP] \", evidences, 0, DEBUG2)\n",
        "#       for evidenceFragment in ax:\n",
        "#         # parse only evidences those that have a minimum of words \n",
        "#         if(hypotesisLen+len(evidenceFragment) > hypotesisLen + 10):\n",
        "#           TEST_EVIDENCES_VALID.append(evidenceFragment)\n",
        "#           TEST_HYPOTESIS_VALID.append(hypotesis)\n",
        "#           TEST_UUID_VALID.append(id)\n",
        "#       if DEBUG1:\n",
        "#           print('Analyzed CT entry: ' + str(CT_index) + \"  -  \"+ CTid+\"\\n\")\n",
        "#     if (TEST_STM_VALID['Type'][CT_index] == \"Comparison\"):\n",
        "#       CTidSecondary = TEST_STM_VALID['Secondary_id'][CT_index]\n",
        "#       premisesPrimary = parseEvSg(CTid, TEST_STM_VALID['Section_id'][CT_index], PREFIX, DEBUG1, DEBUG2)\n",
        "#       premisesSecondary = parseEvSg(CTidSecondary, TEST_STM_VALID['Section_id'][CT_index], PREFIX, DEBUG1, DEBUG2)\n",
        "#       ax = splitEvidence([], \"\", hypotesis, premisesPrimary + premisesSecondary, 0, DEBUG2)\n",
        "#       if (CT_index < 17):\n",
        "#         print(hypotesis)\n",
        "#       for evidenceFragment in ax:\n",
        "#         # parse only evidences those that have a minimum of words \n",
        "#         if(hypotesisLen+len(evidenceFragment) > hypotesisLen + 10):\n",
        "#           TEST_EVIDENCES_VALID.append(evidenceFragment)\n",
        "#           TEST_HYPOTESIS_VALID.append(hypotesis)\n",
        "#           TEST_UUID_VALID.append(id)\n",
        "#         if (CT_index < 17):\n",
        "#           print(\"     - \"+ evidenceFragment)\n",
        "#       # print(\"-------2--------\")\n",
        "#       if DEBUG1:\n",
        "#           print('Analyzed CT entry: ' + str(CT_index) + \"  -  \"+ CTid+\"\\n\")\n"
      ]
    },
    {
      "cell_type": "code",
      "execution_count": null,
      "metadata": {
        "id": "m2xRAmApo32O"
      },
      "outputs": [],
      "source": [
        "# validation_input = encode_data_to_tensors(TEST_HYPOTESIS_VALID, TEST_EVIDENCES_VALID, tokenizer, VECTOR_MAX)\n",
        "\n",
        "# # check shape data \n",
        "# print('DEBUG test shapes: ')\n",
        "# print(validation_input['input_word_ids'].shape)\n",
        "# print(validation_input['input_mask'].shape)\n",
        "# print(validation_input['input_type_ids'].shape)"
      ]
    },
    {
      "cell_type": "code",
      "execution_count": null,
      "metadata": {
        "id": "OGrrBqMGo54Y"
      },
      "outputs": [],
      "source": [
        "# predictions = [np.argmax(i) for i in model.predict(validation_input)]\n",
        "# # print([i for i in model.predict(test_input)])\n",
        "\n",
        "# submission = pd.DataFrame()\n",
        "# submission['UUID'] = TEST_UUID_VALID\n",
        "# submission['prediction'] = predictions\n",
        "\n",
        "# RESULTS_TEST = PREFIXG+\"/test-submission_\" +str(c_counter)+\"_\"+SCORE  +\".csv\"\n",
        "# RESULTS_TEST_R = PREFIXG+\"/test-rez-\"+SCORE+\"__\"+stamp_time()+\".json\"\n",
        "# submission.to_csv(RESULTS_TEST, index = False)\n",
        "# submission.head()"
      ]
    },
    {
      "cell_type": "code",
      "execution_count": null,
      "metadata": {
        "id": "DvC5ebY6pPYm"
      },
      "outputs": [],
      "source": [
        "# submission.to_csv(RESULTS_TEST, index = False)\n",
        "# w = postProcessing(RESULTS_TEST)\n",
        "\n",
        "# with open(RESULTS_TEST_R, 'w') as convert_file:\n",
        "#   convert_file.write(json.dumps(w))"
      ]
    }
  ],
  "metadata": {
    "accelerator": "GPU",
    "colab": {
      "machine_shape": "hm",
      "provenance": [],
      "gpuType": "V100",
      "gpuClass": "premium"
    },
    "gpuClass": "premium",
    "kernelspec": {
      "display_name": "Python 3",
      "name": "python3"
    },
    "language_info": {
      "name": "python"
    }
  },
  "nbformat": 4,
  "nbformat_minor": 0
}
