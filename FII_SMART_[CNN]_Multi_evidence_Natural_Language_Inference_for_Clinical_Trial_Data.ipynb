{
  "nbformat": 4,
  "nbformat_minor": 0,
  "metadata": {
    "colab": {
      "provenance": [],
      "machine_shape": "hm"
    },
    "kernelspec": {
      "name": "python3",
      "display_name": "Python 3"
    },
    "language_info": {
      "name": "python"
    },
    "accelerator": "GPU",
    "gpuClass": "standard",
    "widgets": {
      "application/vnd.jupyter.widget-state+json": {
        "4b37aba5de6948479e7f20dd76f8e59f": {
          "model_module": "@jupyter-widgets/controls",
          "model_name": "HBoxModel",
          "model_module_version": "1.5.0",
          "state": {
            "_dom_classes": [],
            "_model_module": "@jupyter-widgets/controls",
            "_model_module_version": "1.5.0",
            "_model_name": "HBoxModel",
            "_view_count": null,
            "_view_module": "@jupyter-widgets/controls",
            "_view_module_version": "1.5.0",
            "_view_name": "HBoxView",
            "box_style": "",
            "children": [
              "IPY_MODEL_da316e8f108b45af9be4598489e8d84a",
              "IPY_MODEL_aeda61da985a4de88bfcc1b1bcf168b2",
              "IPY_MODEL_f735734056124c2eb224d4dcdaa836a6"
            ],
            "layout": "IPY_MODEL_db7c4b363e0047dab0ecd74640453748"
          }
        },
        "da316e8f108b45af9be4598489e8d84a": {
          "model_module": "@jupyter-widgets/controls",
          "model_name": "HTMLModel",
          "model_module_version": "1.5.0",
          "state": {
            "_dom_classes": [],
            "_model_module": "@jupyter-widgets/controls",
            "_model_module_version": "1.5.0",
            "_model_name": "HTMLModel",
            "_view_count": null,
            "_view_module": "@jupyter-widgets/controls",
            "_view_module_version": "1.5.0",
            "_view_name": "HTMLView",
            "description": "",
            "description_tooltip": null,
            "layout": "IPY_MODEL_eaa8ffcd2575427e98d5fbac66f254f1",
            "placeholder": "​",
            "style": "IPY_MODEL_cb7838a0077a4e96b1b870f7e281a50b",
            "value": "Downloading (…)solve/main/vocab.txt: 100%"
          }
        },
        "aeda61da985a4de88bfcc1b1bcf168b2": {
          "model_module": "@jupyter-widgets/controls",
          "model_name": "FloatProgressModel",
          "model_module_version": "1.5.0",
          "state": {
            "_dom_classes": [],
            "_model_module": "@jupyter-widgets/controls",
            "_model_module_version": "1.5.0",
            "_model_name": "FloatProgressModel",
            "_view_count": null,
            "_view_module": "@jupyter-widgets/controls",
            "_view_module_version": "1.5.0",
            "_view_name": "ProgressView",
            "bar_style": "success",
            "description": "",
            "description_tooltip": null,
            "layout": "IPY_MODEL_0da807d253e24d4c85b6ca3bbe305e8c",
            "max": 231508,
            "min": 0,
            "orientation": "horizontal",
            "style": "IPY_MODEL_696f1f89bfef4912a2232610b5e9c3b7",
            "value": 231508
          }
        },
        "f735734056124c2eb224d4dcdaa836a6": {
          "model_module": "@jupyter-widgets/controls",
          "model_name": "HTMLModel",
          "model_module_version": "1.5.0",
          "state": {
            "_dom_classes": [],
            "_model_module": "@jupyter-widgets/controls",
            "_model_module_version": "1.5.0",
            "_model_name": "HTMLModel",
            "_view_count": null,
            "_view_module": "@jupyter-widgets/controls",
            "_view_module_version": "1.5.0",
            "_view_name": "HTMLView",
            "description": "",
            "description_tooltip": null,
            "layout": "IPY_MODEL_d4a181de418845af9046f25b15c87fe3",
            "placeholder": "​",
            "style": "IPY_MODEL_43f791c3d3c04694963a023c64e0f2e9",
            "value": " 232k/232k [00:00&lt;00:00, 353kB/s]"
          }
        },
        "db7c4b363e0047dab0ecd74640453748": {
          "model_module": "@jupyter-widgets/base",
          "model_name": "LayoutModel",
          "model_module_version": "1.2.0",
          "state": {
            "_model_module": "@jupyter-widgets/base",
            "_model_module_version": "1.2.0",
            "_model_name": "LayoutModel",
            "_view_count": null,
            "_view_module": "@jupyter-widgets/base",
            "_view_module_version": "1.2.0",
            "_view_name": "LayoutView",
            "align_content": null,
            "align_items": null,
            "align_self": null,
            "border": null,
            "bottom": null,
            "display": null,
            "flex": null,
            "flex_flow": null,
            "grid_area": null,
            "grid_auto_columns": null,
            "grid_auto_flow": null,
            "grid_auto_rows": null,
            "grid_column": null,
            "grid_gap": null,
            "grid_row": null,
            "grid_template_areas": null,
            "grid_template_columns": null,
            "grid_template_rows": null,
            "height": null,
            "justify_content": null,
            "justify_items": null,
            "left": null,
            "margin": null,
            "max_height": null,
            "max_width": null,
            "min_height": null,
            "min_width": null,
            "object_fit": null,
            "object_position": null,
            "order": null,
            "overflow": null,
            "overflow_x": null,
            "overflow_y": null,
            "padding": null,
            "right": null,
            "top": null,
            "visibility": null,
            "width": null
          }
        },
        "eaa8ffcd2575427e98d5fbac66f254f1": {
          "model_module": "@jupyter-widgets/base",
          "model_name": "LayoutModel",
          "model_module_version": "1.2.0",
          "state": {
            "_model_module": "@jupyter-widgets/base",
            "_model_module_version": "1.2.0",
            "_model_name": "LayoutModel",
            "_view_count": null,
            "_view_module": "@jupyter-widgets/base",
            "_view_module_version": "1.2.0",
            "_view_name": "LayoutView",
            "align_content": null,
            "align_items": null,
            "align_self": null,
            "border": null,
            "bottom": null,
            "display": null,
            "flex": null,
            "flex_flow": null,
            "grid_area": null,
            "grid_auto_columns": null,
            "grid_auto_flow": null,
            "grid_auto_rows": null,
            "grid_column": null,
            "grid_gap": null,
            "grid_row": null,
            "grid_template_areas": null,
            "grid_template_columns": null,
            "grid_template_rows": null,
            "height": null,
            "justify_content": null,
            "justify_items": null,
            "left": null,
            "margin": null,
            "max_height": null,
            "max_width": null,
            "min_height": null,
            "min_width": null,
            "object_fit": null,
            "object_position": null,
            "order": null,
            "overflow": null,
            "overflow_x": null,
            "overflow_y": null,
            "padding": null,
            "right": null,
            "top": null,
            "visibility": null,
            "width": null
          }
        },
        "cb7838a0077a4e96b1b870f7e281a50b": {
          "model_module": "@jupyter-widgets/controls",
          "model_name": "DescriptionStyleModel",
          "model_module_version": "1.5.0",
          "state": {
            "_model_module": "@jupyter-widgets/controls",
            "_model_module_version": "1.5.0",
            "_model_name": "DescriptionStyleModel",
            "_view_count": null,
            "_view_module": "@jupyter-widgets/base",
            "_view_module_version": "1.2.0",
            "_view_name": "StyleView",
            "description_width": ""
          }
        },
        "0da807d253e24d4c85b6ca3bbe305e8c": {
          "model_module": "@jupyter-widgets/base",
          "model_name": "LayoutModel",
          "model_module_version": "1.2.0",
          "state": {
            "_model_module": "@jupyter-widgets/base",
            "_model_module_version": "1.2.0",
            "_model_name": "LayoutModel",
            "_view_count": null,
            "_view_module": "@jupyter-widgets/base",
            "_view_module_version": "1.2.0",
            "_view_name": "LayoutView",
            "align_content": null,
            "align_items": null,
            "align_self": null,
            "border": null,
            "bottom": null,
            "display": null,
            "flex": null,
            "flex_flow": null,
            "grid_area": null,
            "grid_auto_columns": null,
            "grid_auto_flow": null,
            "grid_auto_rows": null,
            "grid_column": null,
            "grid_gap": null,
            "grid_row": null,
            "grid_template_areas": null,
            "grid_template_columns": null,
            "grid_template_rows": null,
            "height": null,
            "justify_content": null,
            "justify_items": null,
            "left": null,
            "margin": null,
            "max_height": null,
            "max_width": null,
            "min_height": null,
            "min_width": null,
            "object_fit": null,
            "object_position": null,
            "order": null,
            "overflow": null,
            "overflow_x": null,
            "overflow_y": null,
            "padding": null,
            "right": null,
            "top": null,
            "visibility": null,
            "width": null
          }
        },
        "696f1f89bfef4912a2232610b5e9c3b7": {
          "model_module": "@jupyter-widgets/controls",
          "model_name": "ProgressStyleModel",
          "model_module_version": "1.5.0",
          "state": {
            "_model_module": "@jupyter-widgets/controls",
            "_model_module_version": "1.5.0",
            "_model_name": "ProgressStyleModel",
            "_view_count": null,
            "_view_module": "@jupyter-widgets/base",
            "_view_module_version": "1.2.0",
            "_view_name": "StyleView",
            "bar_color": null,
            "description_width": ""
          }
        },
        "d4a181de418845af9046f25b15c87fe3": {
          "model_module": "@jupyter-widgets/base",
          "model_name": "LayoutModel",
          "model_module_version": "1.2.0",
          "state": {
            "_model_module": "@jupyter-widgets/base",
            "_model_module_version": "1.2.0",
            "_model_name": "LayoutModel",
            "_view_count": null,
            "_view_module": "@jupyter-widgets/base",
            "_view_module_version": "1.2.0",
            "_view_name": "LayoutView",
            "align_content": null,
            "align_items": null,
            "align_self": null,
            "border": null,
            "bottom": null,
            "display": null,
            "flex": null,
            "flex_flow": null,
            "grid_area": null,
            "grid_auto_columns": null,
            "grid_auto_flow": null,
            "grid_auto_rows": null,
            "grid_column": null,
            "grid_gap": null,
            "grid_row": null,
            "grid_template_areas": null,
            "grid_template_columns": null,
            "grid_template_rows": null,
            "height": null,
            "justify_content": null,
            "justify_items": null,
            "left": null,
            "margin": null,
            "max_height": null,
            "max_width": null,
            "min_height": null,
            "min_width": null,
            "object_fit": null,
            "object_position": null,
            "order": null,
            "overflow": null,
            "overflow_x": null,
            "overflow_y": null,
            "padding": null,
            "right": null,
            "top": null,
            "visibility": null,
            "width": null
          }
        },
        "43f791c3d3c04694963a023c64e0f2e9": {
          "model_module": "@jupyter-widgets/controls",
          "model_name": "DescriptionStyleModel",
          "model_module_version": "1.5.0",
          "state": {
            "_model_module": "@jupyter-widgets/controls",
            "_model_module_version": "1.5.0",
            "_model_name": "DescriptionStyleModel",
            "_view_count": null,
            "_view_module": "@jupyter-widgets/base",
            "_view_module_version": "1.2.0",
            "_view_name": "StyleView",
            "description_width": ""
          }
        },
        "86f1a3341ebf41dea10380dd018a5851": {
          "model_module": "@jupyter-widgets/controls",
          "model_name": "HBoxModel",
          "model_module_version": "1.5.0",
          "state": {
            "_dom_classes": [],
            "_model_module": "@jupyter-widgets/controls",
            "_model_module_version": "1.5.0",
            "_model_name": "HBoxModel",
            "_view_count": null,
            "_view_module": "@jupyter-widgets/controls",
            "_view_module_version": "1.5.0",
            "_view_name": "HBoxView",
            "box_style": "",
            "children": [
              "IPY_MODEL_ffded826b02641d4832b541b85030c80",
              "IPY_MODEL_b0e2ac74214948c7878f5b6687cc4df6",
              "IPY_MODEL_46bd8f8804864a04868f4107357dc958"
            ],
            "layout": "IPY_MODEL_63f0baf8f0aa42d996c98d1411f1f18a"
          }
        },
        "ffded826b02641d4832b541b85030c80": {
          "model_module": "@jupyter-widgets/controls",
          "model_name": "HTMLModel",
          "model_module_version": "1.5.0",
          "state": {
            "_dom_classes": [],
            "_model_module": "@jupyter-widgets/controls",
            "_model_module_version": "1.5.0",
            "_model_name": "HTMLModel",
            "_view_count": null,
            "_view_module": "@jupyter-widgets/controls",
            "_view_module_version": "1.5.0",
            "_view_name": "HTMLView",
            "description": "",
            "description_tooltip": null,
            "layout": "IPY_MODEL_ae23381d9dd24c199debb8b2f14c1fc1",
            "placeholder": "​",
            "style": "IPY_MODEL_34b8f8a1258b4f4994ad9e39257a131f",
            "value": "Downloading (…)okenizer_config.json: 100%"
          }
        },
        "b0e2ac74214948c7878f5b6687cc4df6": {
          "model_module": "@jupyter-widgets/controls",
          "model_name": "FloatProgressModel",
          "model_module_version": "1.5.0",
          "state": {
            "_dom_classes": [],
            "_model_module": "@jupyter-widgets/controls",
            "_model_module_version": "1.5.0",
            "_model_name": "FloatProgressModel",
            "_view_count": null,
            "_view_module": "@jupyter-widgets/controls",
            "_view_module_version": "1.5.0",
            "_view_name": "ProgressView",
            "bar_style": "success",
            "description": "",
            "description_tooltip": null,
            "layout": "IPY_MODEL_ceb9f5a8ed364ecba480e8e74c200568",
            "max": 28,
            "min": 0,
            "orientation": "horizontal",
            "style": "IPY_MODEL_9c16cbd456774dc8bcc1fdd5eadd9b18",
            "value": 28
          }
        },
        "46bd8f8804864a04868f4107357dc958": {
          "model_module": "@jupyter-widgets/controls",
          "model_name": "HTMLModel",
          "model_module_version": "1.5.0",
          "state": {
            "_dom_classes": [],
            "_model_module": "@jupyter-widgets/controls",
            "_model_module_version": "1.5.0",
            "_model_name": "HTMLModel",
            "_view_count": null,
            "_view_module": "@jupyter-widgets/controls",
            "_view_module_version": "1.5.0",
            "_view_name": "HTMLView",
            "description": "",
            "description_tooltip": null,
            "layout": "IPY_MODEL_12270f329e5a45d1b128038704795dc2",
            "placeholder": "​",
            "style": "IPY_MODEL_b2869613ba54487ba2d82d545db2830f",
            "value": " 28.0/28.0 [00:00&lt;00:00, 814B/s]"
          }
        },
        "63f0baf8f0aa42d996c98d1411f1f18a": {
          "model_module": "@jupyter-widgets/base",
          "model_name": "LayoutModel",
          "model_module_version": "1.2.0",
          "state": {
            "_model_module": "@jupyter-widgets/base",
            "_model_module_version": "1.2.0",
            "_model_name": "LayoutModel",
            "_view_count": null,
            "_view_module": "@jupyter-widgets/base",
            "_view_module_version": "1.2.0",
            "_view_name": "LayoutView",
            "align_content": null,
            "align_items": null,
            "align_self": null,
            "border": null,
            "bottom": null,
            "display": null,
            "flex": null,
            "flex_flow": null,
            "grid_area": null,
            "grid_auto_columns": null,
            "grid_auto_flow": null,
            "grid_auto_rows": null,
            "grid_column": null,
            "grid_gap": null,
            "grid_row": null,
            "grid_template_areas": null,
            "grid_template_columns": null,
            "grid_template_rows": null,
            "height": null,
            "justify_content": null,
            "justify_items": null,
            "left": null,
            "margin": null,
            "max_height": null,
            "max_width": null,
            "min_height": null,
            "min_width": null,
            "object_fit": null,
            "object_position": null,
            "order": null,
            "overflow": null,
            "overflow_x": null,
            "overflow_y": null,
            "padding": null,
            "right": null,
            "top": null,
            "visibility": null,
            "width": null
          }
        },
        "ae23381d9dd24c199debb8b2f14c1fc1": {
          "model_module": "@jupyter-widgets/base",
          "model_name": "LayoutModel",
          "model_module_version": "1.2.0",
          "state": {
            "_model_module": "@jupyter-widgets/base",
            "_model_module_version": "1.2.0",
            "_model_name": "LayoutModel",
            "_view_count": null,
            "_view_module": "@jupyter-widgets/base",
            "_view_module_version": "1.2.0",
            "_view_name": "LayoutView",
            "align_content": null,
            "align_items": null,
            "align_self": null,
            "border": null,
            "bottom": null,
            "display": null,
            "flex": null,
            "flex_flow": null,
            "grid_area": null,
            "grid_auto_columns": null,
            "grid_auto_flow": null,
            "grid_auto_rows": null,
            "grid_column": null,
            "grid_gap": null,
            "grid_row": null,
            "grid_template_areas": null,
            "grid_template_columns": null,
            "grid_template_rows": null,
            "height": null,
            "justify_content": null,
            "justify_items": null,
            "left": null,
            "margin": null,
            "max_height": null,
            "max_width": null,
            "min_height": null,
            "min_width": null,
            "object_fit": null,
            "object_position": null,
            "order": null,
            "overflow": null,
            "overflow_x": null,
            "overflow_y": null,
            "padding": null,
            "right": null,
            "top": null,
            "visibility": null,
            "width": null
          }
        },
        "34b8f8a1258b4f4994ad9e39257a131f": {
          "model_module": "@jupyter-widgets/controls",
          "model_name": "DescriptionStyleModel",
          "model_module_version": "1.5.0",
          "state": {
            "_model_module": "@jupyter-widgets/controls",
            "_model_module_version": "1.5.0",
            "_model_name": "DescriptionStyleModel",
            "_view_count": null,
            "_view_module": "@jupyter-widgets/base",
            "_view_module_version": "1.2.0",
            "_view_name": "StyleView",
            "description_width": ""
          }
        },
        "ceb9f5a8ed364ecba480e8e74c200568": {
          "model_module": "@jupyter-widgets/base",
          "model_name": "LayoutModel",
          "model_module_version": "1.2.0",
          "state": {
            "_model_module": "@jupyter-widgets/base",
            "_model_module_version": "1.2.0",
            "_model_name": "LayoutModel",
            "_view_count": null,
            "_view_module": "@jupyter-widgets/base",
            "_view_module_version": "1.2.0",
            "_view_name": "LayoutView",
            "align_content": null,
            "align_items": null,
            "align_self": null,
            "border": null,
            "bottom": null,
            "display": null,
            "flex": null,
            "flex_flow": null,
            "grid_area": null,
            "grid_auto_columns": null,
            "grid_auto_flow": null,
            "grid_auto_rows": null,
            "grid_column": null,
            "grid_gap": null,
            "grid_row": null,
            "grid_template_areas": null,
            "grid_template_columns": null,
            "grid_template_rows": null,
            "height": null,
            "justify_content": null,
            "justify_items": null,
            "left": null,
            "margin": null,
            "max_height": null,
            "max_width": null,
            "min_height": null,
            "min_width": null,
            "object_fit": null,
            "object_position": null,
            "order": null,
            "overflow": null,
            "overflow_x": null,
            "overflow_y": null,
            "padding": null,
            "right": null,
            "top": null,
            "visibility": null,
            "width": null
          }
        },
        "9c16cbd456774dc8bcc1fdd5eadd9b18": {
          "model_module": "@jupyter-widgets/controls",
          "model_name": "ProgressStyleModel",
          "model_module_version": "1.5.0",
          "state": {
            "_model_module": "@jupyter-widgets/controls",
            "_model_module_version": "1.5.0",
            "_model_name": "ProgressStyleModel",
            "_view_count": null,
            "_view_module": "@jupyter-widgets/base",
            "_view_module_version": "1.2.0",
            "_view_name": "StyleView",
            "bar_color": null,
            "description_width": ""
          }
        },
        "12270f329e5a45d1b128038704795dc2": {
          "model_module": "@jupyter-widgets/base",
          "model_name": "LayoutModel",
          "model_module_version": "1.2.0",
          "state": {
            "_model_module": "@jupyter-widgets/base",
            "_model_module_version": "1.2.0",
            "_model_name": "LayoutModel",
            "_view_count": null,
            "_view_module": "@jupyter-widgets/base",
            "_view_module_version": "1.2.0",
            "_view_name": "LayoutView",
            "align_content": null,
            "align_items": null,
            "align_self": null,
            "border": null,
            "bottom": null,
            "display": null,
            "flex": null,
            "flex_flow": null,
            "grid_area": null,
            "grid_auto_columns": null,
            "grid_auto_flow": null,
            "grid_auto_rows": null,
            "grid_column": null,
            "grid_gap": null,
            "grid_row": null,
            "grid_template_areas": null,
            "grid_template_columns": null,
            "grid_template_rows": null,
            "height": null,
            "justify_content": null,
            "justify_items": null,
            "left": null,
            "margin": null,
            "max_height": null,
            "max_width": null,
            "min_height": null,
            "min_width": null,
            "object_fit": null,
            "object_position": null,
            "order": null,
            "overflow": null,
            "overflow_x": null,
            "overflow_y": null,
            "padding": null,
            "right": null,
            "top": null,
            "visibility": null,
            "width": null
          }
        },
        "b2869613ba54487ba2d82d545db2830f": {
          "model_module": "@jupyter-widgets/controls",
          "model_name": "DescriptionStyleModel",
          "model_module_version": "1.5.0",
          "state": {
            "_model_module": "@jupyter-widgets/controls",
            "_model_module_version": "1.5.0",
            "_model_name": "DescriptionStyleModel",
            "_view_count": null,
            "_view_module": "@jupyter-widgets/base",
            "_view_module_version": "1.2.0",
            "_view_name": "StyleView",
            "description_width": ""
          }
        },
        "e7d514ba894a4d0192bbacb6ca82e40e": {
          "model_module": "@jupyter-widgets/controls",
          "model_name": "HBoxModel",
          "model_module_version": "1.5.0",
          "state": {
            "_dom_classes": [],
            "_model_module": "@jupyter-widgets/controls",
            "_model_module_version": "1.5.0",
            "_model_name": "HBoxModel",
            "_view_count": null,
            "_view_module": "@jupyter-widgets/controls",
            "_view_module_version": "1.5.0",
            "_view_name": "HBoxView",
            "box_style": "",
            "children": [
              "IPY_MODEL_217f409a7f3d449a90b1e8903e9b8208",
              "IPY_MODEL_7174f74404e74439be228ecc91b2c695",
              "IPY_MODEL_e3882870803d47f3b9e5b58c300b878a"
            ],
            "layout": "IPY_MODEL_f720f3a3189c4ff5a2c8cbcf936f8ea0"
          }
        },
        "217f409a7f3d449a90b1e8903e9b8208": {
          "model_module": "@jupyter-widgets/controls",
          "model_name": "HTMLModel",
          "model_module_version": "1.5.0",
          "state": {
            "_dom_classes": [],
            "_model_module": "@jupyter-widgets/controls",
            "_model_module_version": "1.5.0",
            "_model_name": "HTMLModel",
            "_view_count": null,
            "_view_module": "@jupyter-widgets/controls",
            "_view_module_version": "1.5.0",
            "_view_name": "HTMLView",
            "description": "",
            "description_tooltip": null,
            "layout": "IPY_MODEL_23f75fd9bff04b5ca1e6da4a7175181b",
            "placeholder": "​",
            "style": "IPY_MODEL_d6e557abba7c4bbdb55e6052959b1910",
            "value": "Downloading (…)lve/main/config.json: 100%"
          }
        },
        "7174f74404e74439be228ecc91b2c695": {
          "model_module": "@jupyter-widgets/controls",
          "model_name": "FloatProgressModel",
          "model_module_version": "1.5.0",
          "state": {
            "_dom_classes": [],
            "_model_module": "@jupyter-widgets/controls",
            "_model_module_version": "1.5.0",
            "_model_name": "FloatProgressModel",
            "_view_count": null,
            "_view_module": "@jupyter-widgets/controls",
            "_view_module_version": "1.5.0",
            "_view_name": "ProgressView",
            "bar_style": "success",
            "description": "",
            "description_tooltip": null,
            "layout": "IPY_MODEL_b368cbfeed3d40d9afd820892294cbe7",
            "max": 571,
            "min": 0,
            "orientation": "horizontal",
            "style": "IPY_MODEL_02e2a8ae1d4841609ef6b6addca209d6",
            "value": 571
          }
        },
        "e3882870803d47f3b9e5b58c300b878a": {
          "model_module": "@jupyter-widgets/controls",
          "model_name": "HTMLModel",
          "model_module_version": "1.5.0",
          "state": {
            "_dom_classes": [],
            "_model_module": "@jupyter-widgets/controls",
            "_model_module_version": "1.5.0",
            "_model_name": "HTMLModel",
            "_view_count": null,
            "_view_module": "@jupyter-widgets/controls",
            "_view_module_version": "1.5.0",
            "_view_name": "HTMLView",
            "description": "",
            "description_tooltip": null,
            "layout": "IPY_MODEL_fae68e27e39648d38fb4439d965d2d18",
            "placeholder": "​",
            "style": "IPY_MODEL_725c73c7131147578920b10e18e8ff9b",
            "value": " 571/571 [00:00&lt;00:00, 25.4kB/s]"
          }
        },
        "f720f3a3189c4ff5a2c8cbcf936f8ea0": {
          "model_module": "@jupyter-widgets/base",
          "model_name": "LayoutModel",
          "model_module_version": "1.2.0",
          "state": {
            "_model_module": "@jupyter-widgets/base",
            "_model_module_version": "1.2.0",
            "_model_name": "LayoutModel",
            "_view_count": null,
            "_view_module": "@jupyter-widgets/base",
            "_view_module_version": "1.2.0",
            "_view_name": "LayoutView",
            "align_content": null,
            "align_items": null,
            "align_self": null,
            "border": null,
            "bottom": null,
            "display": null,
            "flex": null,
            "flex_flow": null,
            "grid_area": null,
            "grid_auto_columns": null,
            "grid_auto_flow": null,
            "grid_auto_rows": null,
            "grid_column": null,
            "grid_gap": null,
            "grid_row": null,
            "grid_template_areas": null,
            "grid_template_columns": null,
            "grid_template_rows": null,
            "height": null,
            "justify_content": null,
            "justify_items": null,
            "left": null,
            "margin": null,
            "max_height": null,
            "max_width": null,
            "min_height": null,
            "min_width": null,
            "object_fit": null,
            "object_position": null,
            "order": null,
            "overflow": null,
            "overflow_x": null,
            "overflow_y": null,
            "padding": null,
            "right": null,
            "top": null,
            "visibility": null,
            "width": null
          }
        },
        "23f75fd9bff04b5ca1e6da4a7175181b": {
          "model_module": "@jupyter-widgets/base",
          "model_name": "LayoutModel",
          "model_module_version": "1.2.0",
          "state": {
            "_model_module": "@jupyter-widgets/base",
            "_model_module_version": "1.2.0",
            "_model_name": "LayoutModel",
            "_view_count": null,
            "_view_module": "@jupyter-widgets/base",
            "_view_module_version": "1.2.0",
            "_view_name": "LayoutView",
            "align_content": null,
            "align_items": null,
            "align_self": null,
            "border": null,
            "bottom": null,
            "display": null,
            "flex": null,
            "flex_flow": null,
            "grid_area": null,
            "grid_auto_columns": null,
            "grid_auto_flow": null,
            "grid_auto_rows": null,
            "grid_column": null,
            "grid_gap": null,
            "grid_row": null,
            "grid_template_areas": null,
            "grid_template_columns": null,
            "grid_template_rows": null,
            "height": null,
            "justify_content": null,
            "justify_items": null,
            "left": null,
            "margin": null,
            "max_height": null,
            "max_width": null,
            "min_height": null,
            "min_width": null,
            "object_fit": null,
            "object_position": null,
            "order": null,
            "overflow": null,
            "overflow_x": null,
            "overflow_y": null,
            "padding": null,
            "right": null,
            "top": null,
            "visibility": null,
            "width": null
          }
        },
        "d6e557abba7c4bbdb55e6052959b1910": {
          "model_module": "@jupyter-widgets/controls",
          "model_name": "DescriptionStyleModel",
          "model_module_version": "1.5.0",
          "state": {
            "_model_module": "@jupyter-widgets/controls",
            "_model_module_version": "1.5.0",
            "_model_name": "DescriptionStyleModel",
            "_view_count": null,
            "_view_module": "@jupyter-widgets/base",
            "_view_module_version": "1.2.0",
            "_view_name": "StyleView",
            "description_width": ""
          }
        },
        "b368cbfeed3d40d9afd820892294cbe7": {
          "model_module": "@jupyter-widgets/base",
          "model_name": "LayoutModel",
          "model_module_version": "1.2.0",
          "state": {
            "_model_module": "@jupyter-widgets/base",
            "_model_module_version": "1.2.0",
            "_model_name": "LayoutModel",
            "_view_count": null,
            "_view_module": "@jupyter-widgets/base",
            "_view_module_version": "1.2.0",
            "_view_name": "LayoutView",
            "align_content": null,
            "align_items": null,
            "align_self": null,
            "border": null,
            "bottom": null,
            "display": null,
            "flex": null,
            "flex_flow": null,
            "grid_area": null,
            "grid_auto_columns": null,
            "grid_auto_flow": null,
            "grid_auto_rows": null,
            "grid_column": null,
            "grid_gap": null,
            "grid_row": null,
            "grid_template_areas": null,
            "grid_template_columns": null,
            "grid_template_rows": null,
            "height": null,
            "justify_content": null,
            "justify_items": null,
            "left": null,
            "margin": null,
            "max_height": null,
            "max_width": null,
            "min_height": null,
            "min_width": null,
            "object_fit": null,
            "object_position": null,
            "order": null,
            "overflow": null,
            "overflow_x": null,
            "overflow_y": null,
            "padding": null,
            "right": null,
            "top": null,
            "visibility": null,
            "width": null
          }
        },
        "02e2a8ae1d4841609ef6b6addca209d6": {
          "model_module": "@jupyter-widgets/controls",
          "model_name": "ProgressStyleModel",
          "model_module_version": "1.5.0",
          "state": {
            "_model_module": "@jupyter-widgets/controls",
            "_model_module_version": "1.5.0",
            "_model_name": "ProgressStyleModel",
            "_view_count": null,
            "_view_module": "@jupyter-widgets/base",
            "_view_module_version": "1.2.0",
            "_view_name": "StyleView",
            "bar_color": null,
            "description_width": ""
          }
        },
        "fae68e27e39648d38fb4439d965d2d18": {
          "model_module": "@jupyter-widgets/base",
          "model_name": "LayoutModel",
          "model_module_version": "1.2.0",
          "state": {
            "_model_module": "@jupyter-widgets/base",
            "_model_module_version": "1.2.0",
            "_model_name": "LayoutModel",
            "_view_count": null,
            "_view_module": "@jupyter-widgets/base",
            "_view_module_version": "1.2.0",
            "_view_name": "LayoutView",
            "align_content": null,
            "align_items": null,
            "align_self": null,
            "border": null,
            "bottom": null,
            "display": null,
            "flex": null,
            "flex_flow": null,
            "grid_area": null,
            "grid_auto_columns": null,
            "grid_auto_flow": null,
            "grid_auto_rows": null,
            "grid_column": null,
            "grid_gap": null,
            "grid_row": null,
            "grid_template_areas": null,
            "grid_template_columns": null,
            "grid_template_rows": null,
            "height": null,
            "justify_content": null,
            "justify_items": null,
            "left": null,
            "margin": null,
            "max_height": null,
            "max_width": null,
            "min_height": null,
            "min_width": null,
            "object_fit": null,
            "object_position": null,
            "order": null,
            "overflow": null,
            "overflow_x": null,
            "overflow_y": null,
            "padding": null,
            "right": null,
            "top": null,
            "visibility": null,
            "width": null
          }
        },
        "725c73c7131147578920b10e18e8ff9b": {
          "model_module": "@jupyter-widgets/controls",
          "model_name": "DescriptionStyleModel",
          "model_module_version": "1.5.0",
          "state": {
            "_model_module": "@jupyter-widgets/controls",
            "_model_module_version": "1.5.0",
            "_model_name": "DescriptionStyleModel",
            "_view_count": null,
            "_view_module": "@jupyter-widgets/base",
            "_view_module_version": "1.2.0",
            "_view_name": "StyleView",
            "description_width": ""
          }
        }
      }
    }
  },
  "cells": [
    {
      "cell_type": "markdown",
      "source": [
        "## FII_SMART Multi-evidence Natural Language Inference for Clinical Trial Data\n"
      ],
      "metadata": {
        "id": "GvkD3ffs3-PW"
      }
    },
    {
      "cell_type": "code",
      "source": [
        "from psutil import virtual_memory\n",
        "ram_gb = virtual_memory().total / 1e9\n",
        "print('Your runtime has {:.1f} gigabytes of available RAM\\n'.format(ram_gb))\n",
        "\n",
        "if ram_gb < 20:\n",
        "  print('Not using a high-RAM runtime')\n",
        "else:\n",
        "  print('You are using a high-RAM runtime!')"
      ],
      "metadata": {
        "colab": {
          "base_uri": "https://localhost:8080/"
        },
        "id": "hg7GZI26hqWN",
        "outputId": "1d38c06d-d6b4-4b35-c7a3-af18c0d7f802"
      },
      "execution_count": 1,
      "outputs": [
        {
          "output_type": "stream",
          "name": "stdout",
          "text": [
            "Your runtime has 27.3 gigabytes of available RAM\n",
            "\n",
            "You are using a high-RAM runtime!\n"
          ]
        }
      ]
    },
    {
      "cell_type": "code",
      "source": [
        "# from google.colab import drive\n",
        "# drive.mount('/content/drive')"
      ],
      "metadata": {
        "id": "5ZTb5KdjApD9"
      },
      "execution_count": 2,
      "outputs": []
    },
    {
      "cell_type": "code",
      "source": [
        "gpu_info = !nvidia-smi\n",
        "gpu_info = '\\n'.join(gpu_info)\n",
        "if gpu_info.find('failed') >= 0:\n",
        "  print('Not connected to a GPU')\n",
        "else:\n",
        "  print(gpu_info)"
      ],
      "metadata": {
        "colab": {
          "base_uri": "https://localhost:8080/"
        },
        "id": "jeql8aTspVrN",
        "outputId": "b8272798-cf1b-491d-e1f0-7c720196c8ef"
      },
      "execution_count": 2,
      "outputs": [
        {
          "output_type": "stream",
          "name": "stdout",
          "text": [
            "Sun Feb 12 14:07:40 2023       \n",
            "+-----------------------------------------------------------------------------+\n",
            "| NVIDIA-SMI 510.47.03    Driver Version: 510.47.03    CUDA Version: 11.6     |\n",
            "|-------------------------------+----------------------+----------------------+\n",
            "| GPU  Name        Persistence-M| Bus-Id        Disp.A | Volatile Uncorr. ECC |\n",
            "| Fan  Temp  Perf  Pwr:Usage/Cap|         Memory-Usage | GPU-Util  Compute M. |\n",
            "|                               |                      |               MIG M. |\n",
            "|===============================+======================+======================|\n",
            "|   0  Tesla T4            Off  | 00000000:00:04.0 Off |                    0 |\n",
            "| N/A   61C    P0    25W /  70W |      0MiB / 15360MiB |      0%      Default |\n",
            "|                               |                      |                  N/A |\n",
            "+-------------------------------+----------------------+----------------------+\n",
            "                                                                               \n",
            "+-----------------------------------------------------------------------------+\n",
            "| Processes:                                                                  |\n",
            "|  GPU   GI   CI        PID   Type   Process name                  GPU Memory |\n",
            "|        ID   ID                                                   Usage      |\n",
            "|=============================================================================|\n",
            "|  No running processes found                                                 |\n",
            "+-----------------------------------------------------------------------------+\n"
          ]
        }
      ]
    },
    {
      "cell_type": "code",
      "source": [
        "import sys\n",
        "import os\n",
        "\n",
        "DEBUG1=False\n",
        "DEBUG2=False\n",
        "\n",
        "PREFIXG=\"/content/\"\n",
        "PREFIX=\"/content/\"\n",
        "\n",
        "TRAIN_DATA=PREFIXG+\"train.csv\"\n",
        "TEST_DATA=PREFIXG+\"dev.csv\"\n",
        "TEST_DATA2=PREFIXG+\"test.csv\""
      ],
      "metadata": {
        "id": "tGM45GtI4AGM"
      },
      "execution_count": 3,
      "outputs": []
    },
    {
      "cell_type": "markdown",
      "source": [
        "Clean files for new run"
      ],
      "metadata": {
        "id": "gjunQSNn-NeC"
      }
    },
    {
      "cell_type": "code",
      "source": [
        "from google.colab import files\n",
        "\n",
        "!ls\n",
        "!rm test.*\n",
        "!rm train.*\n",
        "!rm dev.*\n",
        "!rm -rf CT_data\n",
        "!rm CT_data.zip\n",
        "!rm dataset.zip"
      ],
      "metadata": {
        "colab": {
          "base_uri": "https://localhost:8080/"
        },
        "id": "FgPgwZeR6aNa",
        "outputId": "04065a68-0c48-431e-9a4f-610efd55fd0a"
      },
      "execution_count": 16,
      "outputs": [
        {
          "output_type": "stream",
          "name": "stdout",
          "text": [
            "CT_data  sample_data\n",
            "rm: cannot remove 'test.*': No such file or directory\n",
            "rm: cannot remove 'train.*': No such file or directory\n",
            "rm: cannot remove 'dev.*': No such file or directory\n",
            "rm: cannot remove 'CT_data.zip': No such file or directory\n",
            "rm: cannot remove 'dataset.zip': No such file or directory\n"
          ]
        }
      ]
    },
    {
      "cell_type": "code",
      "source": [
        "!pip install transformers\n",
        "!wget https://github.com/volosincu/FII_Smart__Semeval2023/raw/main/dataset.zip\n",
        "!unzip /content/dataset.zip\n",
        "!unzip /content/CT_data.zip"
      ],
      "metadata": {
        "colab": {
          "base_uri": "https://localhost:8080/"
        },
        "id": "ZNHXVjVPbXau",
        "outputId": "f461db68-f2d8-4bfd-8b0b-787063ac06a9"
      },
      "execution_count": 13,
      "outputs": [
        {
          "output_type": "stream",
          "name": "stdout",
          "text": [
            "--2023-02-12 14:12:11--  https://github.com/volosincu/FII_Smart__Semeval2023/raw/main/dataset.zip\n",
            "Resolving github.com (github.com)... 140.82.121.4\n",
            "Connecting to github.com (github.com)|140.82.121.4|:443... connected.\n",
            "HTTP request sent, awaiting response... 302 Found\n",
            "Location: https://raw.githubusercontent.com/volosincu/FII_Smart__Semeval2023/main/dataset.zip [following]\n",
            "--2023-02-12 14:12:12--  https://raw.githubusercontent.com/volosincu/FII_Smart__Semeval2023/main/dataset.zip\n",
            "Resolving raw.githubusercontent.com (raw.githubusercontent.com)... 185.199.108.133, 185.199.109.133, 185.199.110.133, ...\n",
            "Connecting to raw.githubusercontent.com (raw.githubusercontent.com)|185.199.108.133|:443... connected.\n",
            "HTTP request sent, awaiting response... 200 OK\n",
            "Length: 2479891 (2.4M) [application/zip]\n",
            "Saving to: ‘dataset.zip’\n",
            "\n",
            "dataset.zip         100%[===================>]   2.36M  11.0MB/s    in 0.2s    \n",
            "\n",
            "2023-02-12 14:12:12 (11.0 MB/s) - ‘dataset.zip’ saved [2479891/2479891]\n",
            "\n",
            "Archive:  /content/dataset.zip\n",
            "  inflating: dev.csv                 \n",
            "  inflating: test.csv                \n",
            "  inflating: test.json               \n",
            "  inflating: train.csv               \n",
            "  inflating: train.json              \n",
            "  inflating: dev.json                \n",
            "  inflating: CT_data.zip             \n"
          ]
        }
      ]
    },
    {
      "cell_type": "code",
      "source": [
        "import nltk\n",
        "from nltk.corpus import stopwords\n",
        "nltk.download('stopwords')\n",
        "print(stopwords.words('english'))\n",
        "\n",
        "STOP_WORDS_RO = ['e.g.', '•','â•','mm¬', 'mm¬¨','trial','study','patient', 'patients', 'candidate', 'candidates', 'i', 'me', 'my', 'myself', 'we', 'our', 'ours', 'ourselves', 'you', \"you're\", \"you've\", \"you'll\", \"you'd\", 'your', 'yours', 'yourself', 'yourselves', 'he', 'him', 'his', 'himself', 'she', \"she's\", 'her', 'hers', 'herself', 'it', \"it's\", 'its', 'itself', 'they', 'them', 'their', 'theirs', 'themselves', 'what', 'which', 'who', 'whom', 'this', 'that', \"that'll\", 'these', 'those', 'am', 'a', 'an', 'the', 'here', 'there', 'why', 'how', 'so', 's', 't', 'can', 'will', 'now', 'd', 'll', 'm', 'o', 're', 've', 'y', 'ma', ]"
      ],
      "metadata": {
        "colab": {
          "base_uri": "https://localhost:8080/"
        },
        "id": "lm_BUE7xJO8l",
        "outputId": "4cb3164b-f5c2-4893-f9a0-b5b9dd807d5c"
      },
      "execution_count": 7,
      "outputs": [
        {
          "output_type": "stream",
          "name": "stdout",
          "text": [
            "['i', 'me', 'my', 'myself', 'we', 'our', 'ours', 'ourselves', 'you', \"you're\", \"you've\", \"you'll\", \"you'd\", 'your', 'yours', 'yourself', 'yourselves', 'he', 'him', 'his', 'himself', 'she', \"she's\", 'her', 'hers', 'herself', 'it', \"it's\", 'its', 'itself', 'they', 'them', 'their', 'theirs', 'themselves', 'what', 'which', 'who', 'whom', 'this', 'that', \"that'll\", 'these', 'those', 'am', 'is', 'are', 'was', 'were', 'be', 'been', 'being', 'have', 'has', 'had', 'having', 'do', 'does', 'did', 'doing', 'a', 'an', 'the', 'and', 'but', 'if', 'or', 'because', 'as', 'until', 'while', 'of', 'at', 'by', 'for', 'with', 'about', 'against', 'between', 'into', 'through', 'during', 'before', 'after', 'above', 'below', 'to', 'from', 'up', 'down', 'in', 'out', 'on', 'off', 'over', 'under', 'again', 'further', 'then', 'once', 'here', 'there', 'when', 'where', 'why', 'how', 'all', 'any', 'both', 'each', 'few', 'more', 'most', 'other', 'some', 'such', 'no', 'nor', 'not', 'only', 'own', 'same', 'so', 'than', 'too', 'very', 's', 't', 'can', 'will', 'just', 'don', \"don't\", 'should', \"should've\", 'now', 'd', 'll', 'm', 'o', 're', 've', 'y', 'ain', 'aren', \"aren't\", 'couldn', \"couldn't\", 'didn', \"didn't\", 'doesn', \"doesn't\", 'hadn', \"hadn't\", 'hasn', \"hasn't\", 'haven', \"haven't\", 'isn', \"isn't\", 'ma', 'mightn', \"mightn't\", 'mustn', \"mustn't\", 'needn', \"needn't\", 'shan', \"shan't\", 'shouldn', \"shouldn't\", 'wasn', \"wasn't\", 'weren', \"weren't\", 'won', \"won't\", 'wouldn', \"wouldn't\"]\n"
          ]
        },
        {
          "output_type": "stream",
          "name": "stderr",
          "text": [
            "[nltk_data] Downloading package stopwords to /root/nltk_data...\n",
            "[nltk_data]   Unzipping corpora/stopwords.zip.\n"
          ]
        }
      ]
    },
    {
      "cell_type": "code",
      "source": [
        "\n",
        "punctuation = ['„', '”', '(', ')', ';', '{', '}','[',']', '/', '\\\\',\"\\\"\", \"'\", ','] \n",
        "def normalizeChunk(chunk):\n",
        "  _word = chunk.lower()\n",
        "  word = None\n",
        "  withSeparator = False;\n",
        "  if _word.startswith('('):\n",
        "    word = _word[1:]\n",
        "  elif _word.endswith(')'):\n",
        "    word = _word[:len(_word)-1]\n",
        "  # elif _word.endswith(','):\n",
        "  #   word = _word[:len(_word)-1]\n",
        "  # elif _word.endswith('.'):\n",
        "  #   # withSeparator = True\n",
        "  #   word = _word[:len(_word)-1]\n",
        "  elif _word.endswith(':'):\n",
        "    word = _word[:len(_word)-1]\n",
        "  elif _word.endswith(';'):\n",
        "    word = _word[:len(_word)-1]\n",
        "  elif _word.startswith('„'):\n",
        "    word = _word[1:]\n",
        "  elif _word.endswith('”'):\n",
        "    word = _word[:len(_word)-1]\n",
        "  elif _word.startswith('{'):\n",
        "    word = _word[1:]\n",
        "  elif _word.startswith('['):\n",
        "    word = _word[1:]\n",
        "  elif _word.startswith(\"\\'\"):\n",
        "    word = _word[1:]\n",
        "  elif _word.endswith('\\''):\n",
        "    word = _word[:len(_word)-1]\n",
        "  elif _word.endswith('}'):\n",
        "    word = _word[:len(_word)-1]\n",
        "  elif _word.endswith(']'):\n",
        "    word = _word[:len(_word)-1]\n",
        "  else:\n",
        "    word = _word\n",
        "\n",
        "  concats=[]\n",
        "  for sign in punctuation:\n",
        "    if(word.__contains__(sign)):\n",
        "      c = word.split(sign)\n",
        "      for w in c:\n",
        "        sw = normalizeChunk(w)\n",
        "        for w1 in sw:\n",
        "          if(not concats.__contains__(sw)):\n",
        "            concats.append(w1)\n",
        "  if(len(concats) == 0):\n",
        "    concats.append(word)\n",
        "    if(withSeparator):\n",
        "      concats.append(\"<START>\")\n",
        "  return list(dict.fromkeys(concats))\n",
        "\n",
        "normalizeChunk(\"casa.„Toata\")"
      ],
      "metadata": {
        "id": "7eBkqmGSCrp9",
        "colab": {
          "base_uri": "https://localhost:8080/"
        },
        "outputId": "fe846e3c-9b56-454f-c26d-aa2c93d30e30"
      },
      "execution_count": 8,
      "outputs": [
        {
          "output_type": "execute_result",
          "data": {
            "text/plain": [
              "['casa.', 'toata']"
            ]
          },
          "metadata": {},
          "execution_count": 8
        }
      ]
    },
    {
      "cell_type": "code",
      "source": [
        "def normalizeDocument(text, removeStopWords):\n",
        "  NORMALIZED_CORPUS = []\n",
        "  for _word in text.split():\n",
        "    if(_word.__contains__('>=')):\n",
        "      _word = _word.replace(\">=\", \"greater than or equal \")\n",
        "      #print(_word)\n",
        "    if(_word.__contains__('=<')):\n",
        "      _word = _word.replace(\"=<\", \"smaller than or equal \")\n",
        "      #print(_word)\n",
        "    if(_word.__contains__('<')):\n",
        "      _word = _word.replace(\"<\", \"smaller than \")\n",
        "      #print(_word)\n",
        "    if(_word.__contains__('>')):\n",
        "      _word = _word.replace(\">\", \"greater than \")\n",
        "      #print(_word)\n",
        "    normalized = normalizeChunk(_word)\n",
        "    for word in normalized:\n",
        "      if(removeStopWords):\n",
        "        if(not STOP_WORDS_RO.__contains__(word)):\n",
        "          NORMALIZED_CORPUS.append(word)\n",
        "      else:\n",
        "        NORMALIZED_CORPUS.append(word)\n",
        "  return \" \".join(NORMALIZED_CORPUS)\n",
        "\n",
        "normalizat = normalizeDocument(\"Renal function: Creatinine =< 2.0 mg/dl or a creatinine clearance >= 50 mg/min\", True)\n",
        "normalizat"
      ],
      "metadata": {
        "colab": {
          "base_uri": "https://localhost:8080/",
          "height": 36
        },
        "id": "pNrSXOm6JdU2",
        "outputId": "09f158e4-aba7-412b-d3d3-168a938903d9"
      },
      "execution_count": 9,
      "outputs": [
        {
          "output_type": "execute_result",
          "data": {
            "text/plain": [
              "'renal function creatinine smaller than or equal  2.0 mg dl or creatinine clearance greater than or equal  50 mg min'"
            ],
            "application/vnd.google.colaboratory.intrinsic+json": {
              "type": "string"
            }
          },
          "metadata": {},
          "execution_count": 9
        }
      ]
    },
    {
      "cell_type": "code",
      "source": [
        "import uuid\n",
        "import json\n",
        "from transformers import BertTokenizer, TFBertModel\n",
        "import matplotlib.pyplot as plt\n",
        "import tensorflow as tf\n",
        "\n",
        "import numpy as np\n",
        "import pandas as pd\n",
        "\n",
        "\n",
        "from transformers import AutoTokenizer, AutoModel\n",
        "\n",
        "\n",
        "from datetime import datetime\n",
        "current_dateTime = datetime.now()"
      ],
      "metadata": {
        "id": "HulYrUTP43o3"
      },
      "execution_count": 10,
      "outputs": []
    },
    {
      "cell_type": "code",
      "source": [
        "def stamp_time():\n",
        "    return \"\".join(\"\".join(\"\".join(str(current_dateTime).split(\".\")[0].split(\":\")).split(\"-\")).split(\" \"))\n"
      ],
      "metadata": {
        "id": "3oZDAf436o1B"
      },
      "execution_count": 11,
      "outputs": []
    },
    {
      "cell_type": "code",
      "source": [
        "OVF=0\n",
        "OVF_V=[]"
      ],
      "metadata": {
        "id": "7xteHkh8KD2Q"
      },
      "execution_count": 12,
      "outputs": []
    },
    {
      "cell_type": "code",
      "source": [
        "VECTOR_MAX=130\n",
        "\n",
        "EPOCHS = 2\n",
        "LAYER_1_NODES=256\n",
        "LAYER_2_NODES=2\n",
        "LAYER_1_ACTIVATION='relu'\n",
        "LAYER_2_ACTIVATION='softmax'\n",
        "LOSS_FN='sparse_categorical_crossentropy'\n",
        "#LOSS_FN='binary_crossentropy'\n",
        "METRIC='accuracy'\n",
        "FIT_BATCH_SIZE=16"
      ],
      "metadata": {
        "id": "JpP6H_jN5ZRs"
      },
      "execution_count": 13,
      "outputs": []
    },
    {
      "cell_type": "code",
      "source": [
        "from transformers import BertTokenizer, BertModel, BertForMaskedLM\n",
        "\n",
        "model_name = 'bert-large-uncased'\n",
        "# model_name = 'giacomomiolo/biobert_reupload'\n",
        "# model_name = 'dmis-lab/biobert-base-cased-v1.1'\n",
        "# model_name = 'bert-base-multilingual-cased'\n",
        "# model_name = \"allenai/scibert_scivocab_uncased\"\n",
        "\n",
        "# tokenizer = AutoTokenizer.from_pretrained(model_name)\n",
        "tokenizer = BertTokenizer.from_pretrained(model_name)"
      ],
      "metadata": {
        "id": "tJz5Cxt_9VB7",
        "colab": {
          "base_uri": "https://localhost:8080/",
          "height": 113,
          "referenced_widgets": [
            "4b37aba5de6948479e7f20dd76f8e59f",
            "da316e8f108b45af9be4598489e8d84a",
            "aeda61da985a4de88bfcc1b1bcf168b2",
            "f735734056124c2eb224d4dcdaa836a6",
            "db7c4b363e0047dab0ecd74640453748",
            "eaa8ffcd2575427e98d5fbac66f254f1",
            "cb7838a0077a4e96b1b870f7e281a50b",
            "0da807d253e24d4c85b6ca3bbe305e8c",
            "696f1f89bfef4912a2232610b5e9c3b7",
            "d4a181de418845af9046f25b15c87fe3",
            "43f791c3d3c04694963a023c64e0f2e9",
            "86f1a3341ebf41dea10380dd018a5851",
            "ffded826b02641d4832b541b85030c80",
            "b0e2ac74214948c7878f5b6687cc4df6",
            "46bd8f8804864a04868f4107357dc958",
            "63f0baf8f0aa42d996c98d1411f1f18a",
            "ae23381d9dd24c199debb8b2f14c1fc1",
            "34b8f8a1258b4f4994ad9e39257a131f",
            "ceb9f5a8ed364ecba480e8e74c200568",
            "9c16cbd456774dc8bcc1fdd5eadd9b18",
            "12270f329e5a45d1b128038704795dc2",
            "b2869613ba54487ba2d82d545db2830f",
            "e7d514ba894a4d0192bbacb6ca82e40e",
            "217f409a7f3d449a90b1e8903e9b8208",
            "7174f74404e74439be228ecc91b2c695",
            "e3882870803d47f3b9e5b58c300b878a",
            "f720f3a3189c4ff5a2c8cbcf936f8ea0",
            "23f75fd9bff04b5ca1e6da4a7175181b",
            "d6e557abba7c4bbdb55e6052959b1910",
            "b368cbfeed3d40d9afd820892294cbe7",
            "02e2a8ae1d4841609ef6b6addca209d6",
            "fae68e27e39648d38fb4439d965d2d18",
            "725c73c7131147578920b10e18e8ff9b"
          ]
        },
        "outputId": "cfed2eea-d843-466d-e65d-5c8a8b9bb8c9"
      },
      "execution_count": 14,
      "outputs": [
        {
          "output_type": "display_data",
          "data": {
            "text/plain": [
              "Downloading (…)solve/main/vocab.txt:   0%|          | 0.00/232k [00:00<?, ?B/s]"
            ],
            "application/vnd.jupyter.widget-view+json": {
              "version_major": 2,
              "version_minor": 0,
              "model_id": "4b37aba5de6948479e7f20dd76f8e59f"
            }
          },
          "metadata": {}
        },
        {
          "output_type": "display_data",
          "data": {
            "text/plain": [
              "Downloading (…)okenizer_config.json:   0%|          | 0.00/28.0 [00:00<?, ?B/s]"
            ],
            "application/vnd.jupyter.widget-view+json": {
              "version_major": 2,
              "version_minor": 0,
              "model_id": "86f1a3341ebf41dea10380dd018a5851"
            }
          },
          "metadata": {}
        },
        {
          "output_type": "display_data",
          "data": {
            "text/plain": [
              "Downloading (…)lve/main/config.json:   0%|          | 0.00/571 [00:00<?, ?B/s]"
            ],
            "application/vnd.jupyter.widget-view+json": {
              "version_major": 2,
              "version_minor": 0,
              "model_id": "e7d514ba894a4d0192bbacb6ca82e40e"
            }
          },
          "metadata": {}
        }
      ]
    },
    {
      "cell_type": "markdown",
      "source": [],
      "metadata": {
        "id": "kN_oXg-XLOUd"
      }
    },
    {
      "cell_type": "markdown",
      "source": [
        "## Data collection utils\n"
      ],
      "metadata": {
        "id": "yTqPZjA7LRio"
      }
    },
    {
      "cell_type": "code",
      "source": [
        "def encode_sentence(s):\n",
        "   tokens = list(tokenizer.tokenize(s))\n",
        "   tokens.append('[SEP]')\n",
        "   return tokenizer.convert_tokens_to_ids(tokens)\n",
        "\n",
        "\n",
        "def collectEvidenceData(evidenceSection, evidenceIndexes, clinicalTrialId, evidenceSectionId, DEBUG2):\n",
        "    evidences = []\n",
        "    for evIndex in evidenceIndexes:\n",
        "        try:\n",
        "            i = int(evIndex)\n",
        "            if DEBUG2:\n",
        "                print(evidenceSection[i])\n",
        "            norm_evid = normalizeDocument(evidenceSection[i].strip(), True)\n",
        "            evidences.append(norm_evid)\n",
        "        except:\n",
        "            print(evidenceIndexes)\n",
        "            print('\\n!!! Failed to collect evidence on index, trialId, section: ' + str(i) +' '+ clinicalTrialId, evidenceSectionId)\n",
        "    return evidences\n",
        "\n",
        "\n",
        "def parseEvidenceSingle(hypotesis, clinicalTrialId, evidenceSectionId, primaryEvidenceIndexes, PREFIX, DEBUG1, DEBUG2):\n",
        "    evidences = []\n",
        "    if DEBUG1:\n",
        "        print(\"Parse evidence Single: \" + clinicalTrialId + \" \" + evidenceSectionId)\n",
        "    CT_PATH = PREFIX+'CT_data/'+clinicalTrialId+'.json'\n",
        "    try:\n",
        "        with open(CT_PATH) as json_file:\n",
        "            dataCT = json.load(json_file)\n",
        "            if DEBUG2:\n",
        "                print(primaryEvidenceIndexes)\n",
        "        evidences = collectEvidenceData(dataCT[evidenceSectionId], primaryEvidenceIndexes, clinicalTrialId, evidenceSectionId, False)\n",
        "        if DEBUG2:\n",
        "            print(evidences)\n",
        "        tok = encode_sentence(\"[CLS] \"+hypotesis+\" [SEP] \" + \" \".join(evidences))\n",
        "        # print(\"[CLS] \"+hypotesis+\" [SEP] \" + \" \".join(evidences))\n",
        "        # print(\"       aa          \")\n",
        "        # if (len(tok)>300):\n",
        "        #     # OVF=OVF+1\n",
        "        #     OVF_V.append(len(tok))\n",
        "        #     print(\"!!!!!!!!!!!!!!!!\")\n",
        "        #     print(hypotesis)\n",
        "        #     print(clinicalTrialId)\n",
        "\n",
        "    except Exception as err:\n",
        "        print('\\n!!! Error for file: ' + clinicalTrialId)\n",
        "        print(err)\n",
        "    if DEBUG2:\n",
        "        print(\"\\n\")\n",
        "    return evidences"
      ],
      "metadata": {
        "id": "bItM4IHa5nfD"
      },
      "execution_count": 15,
      "outputs": []
    },
    {
      "cell_type": "code",
      "source": [
        "def splitEvidence(acc, tmp, hypotesis, evidences, evIndex, DEBUG):\n",
        "  if (len(evidences)==0):\n",
        "    return acc\n",
        "  if (evIndex>len(evidences)-1):\n",
        "    acc.append(tmp)\n",
        "    # print(\"----------1-----------EXIT split evidenta ---------------------\")\n",
        "    return acc;\n",
        "  # print(evidences)\n",
        "  # print(evIndex)\n",
        "  hypTmpl = \"[CLS] \"+hypotesis+\" [SEP] \"\n",
        "  tok = encode_sentence(hypTmpl + tmp + evidences[evIndex]+\" \")\n",
        "  if(len(tok)<VECTOR_MAX):\n",
        "    tmp = tmp + evidences[evIndex]+\" \"\n",
        "    splitEvidence(acc, tmp, hypotesis, evidences, evIndex+1, DEBUG)\n",
        "  else:\n",
        "    acc.append(tmp)\n",
        "    tmp=\"\"\n",
        "    tok = encode_sentence(hypTmpl + tmp + evidences[evIndex]+\" \")\n",
        "    if(len(tok)<VECTOR_MAX):\n",
        "      if (evIndex<len(evidences)):\n",
        "        tmp = tmp + evidences[evIndex]\n",
        "        splitEvidence(acc, tmp, hypotesis, evidences, evIndex+1, DEBUG)\n",
        "      else:\n",
        "        # print(\"----------2-----------EXIT split evidenta ---------------------\")\n",
        "        acc.append(evidences[evIndex])\n",
        "        return acc\n",
        "    else:\n",
        "      if (DEBUG):\n",
        "        print(\"!!!!!!!! hypotesis + evidence > \" + str(VECTOR_MAX) + \"!!!!!!!!!!\")\n",
        "      return acc\n",
        "  return acc\n"
      ],
      "metadata": {
        "id": "rpEbdX_tNoJJ"
      },
      "execution_count": 16,
      "outputs": []
    },
    {
      "cell_type": "code",
      "source": [
        "STM = pd.read_csv(TRAIN_DATA) #, nrows=40\n",
        "print(STM.head(5))\n",
        "print(STM.shape)\n",
        "\n",
        "# exit()\n",
        "_EVIDENCES=[]\n",
        "_HYPOTESIS=[]\n",
        "Y_LABELS=np.array([], dtype=\"int32\")\n",
        "CT_index = -1\n",
        "for id in STM['Id']:\n",
        "    evidences = []\n",
        "    CT_index = CT_index+1\n",
        "    CTid = STM['Primary_id'][CT_index]\n",
        "    hypotesis = normalizeDocument(STM['Statement'][CT_index], True)\n",
        "    hypotesisLen = len(hypotesis.split(' '))\n",
        "    if(hypotesisLen > 90):\n",
        "      print('%%%% ')\n",
        "    if (STM['Type'][CT_index] == \"Single\"):\n",
        "      primaryEvidenceIndexes = STM['Primary_evidence_index'][CT_index].split(',')\n",
        "      evidences = parseEvidenceSingle(hypotesis, CTid, STM['Section_id'][CT_index], primaryEvidenceIndexes, PREFIX, DEBUG1, DEBUG2)\n",
        "      ax = splitEvidence([], \"\", hypotesis, evidences, 0, DEBUG2)\n",
        "      if (CT_index < 17):\n",
        "        print(hypotesis)\n",
        "      for evidenceFragment in ax:\n",
        "        # parse only evidences those that have a minimum of words \n",
        "        if(hypotesisLen+len(evidenceFragment) > hypotesisLen + 10):\n",
        "          _EVIDENCES.append(evidenceFragment)\n",
        "          _HYPOTESIS.append(hypotesis)\n",
        "          if(STM['Label'][CT_index] == 'Entailment'):\n",
        "            Y_LABELS = np.append(Y_LABELS, [1], axis=0)\n",
        "          else:\n",
        "            Y_LABELS = np.append(Y_LABELS, [0], axis=0)\n",
        "          if (CT_index < 17):\n",
        "            print(\"     - \"+ evidenceFragment)\n",
        "      \n",
        "      # if (CT_index == 3):\n",
        "      #     exit()\n",
        "      if DEBUG1:\n",
        "          print('Analyzed CT entry: ' + str(CT_index) + \"  -  \"+ CTid+\"\\n\")\n",
        "    if (STM['Type'][CT_index] == \"Comparison\"):\n",
        "      CTidSecondary = STM['Secondary_id'][CT_index]\n",
        "      primaryEvidenceIndexes = STM['Primary_evidence_index'][CT_index].split(',')\n",
        "      secondaryEvidenceIndexes = STM['Secondary_evidence_index'][CT_index].split(',')\n",
        "      premisesPrimary = parseEvidenceSingle(hypotesis, CTid, STM['Section_id'][CT_index], primaryEvidenceIndexes, PREFIX, DEBUG1, DEBUG2)\n",
        "      premisesSecondary = parseEvidenceSingle(hypotesis, CTidSecondary, STM['Section_id'][CT_index], secondaryEvidenceIndexes, PREFIX, DEBUG1, DEBUG2)\n",
        "      premisesIndexed = splitEvidence([], \"\", hypotesis, premisesPrimary + premisesSecondary, 0, DEBUG2)\n",
        "\n",
        "      if (CT_index < 17):\n",
        "        print(hypotesis)\n",
        "      for evidenceFragment in premisesIndexed:\n",
        "        # parse only evidences those that have a minimum of words \n",
        "        if(hypotesisLen+len(evidenceFragment) > hypotesisLen + 10):\n",
        "          _EVIDENCES.append(evidenceFragment)\n",
        "          _HYPOTESIS.append(hypotesis)\n",
        "          if(STM['Label'][CT_index] == 'Entailment'):\n",
        "            Y_LABELS = np.append(Y_LABELS, [1], axis=0)\n",
        "          else:\n",
        "            Y_LABELS = np.append(Y_LABELS, [0], axis=0)\n",
        "        if (CT_index < 17):\n",
        "          print(\"     - \"+ evidenceFragment)\n",
        "        \n",
        "      # if (CT_index == 3):\n",
        "      #     exit()\n",
        "      if DEBUG1:\n",
        "          print('Analyzed CT entry: ' + str(CT_index) + \"  -  \"+ CTid+\"\\n\")\n",
        "\n",
        "\n",
        "\n",
        "\n",
        "Y_LABELS"
      ],
      "metadata": {
        "id": "LN2zlc3n5cRA",
        "colab": {
          "base_uri": "https://localhost:8080/"
        },
        "outputId": "c01d13f3-48c7-4fb5-83f9-7b8cf796c0ed"
      },
      "execution_count": 17,
      "outputs": [
        {
          "output_type": "stream",
          "name": "stdout",
          "text": [
            "                                     Id        Type      Section_id  \\\n",
            "0  5bc844fc-e852-4270-bfaf-36ea9eface3d  Comparison    Intervention   \n",
            "1  86b7cb3d-6186-4a04-9aa6-b174ab764eed      Single     Eligibility   \n",
            "2  dbed5471-c2fc-45b5-b26f-430c9fa37a37  Comparison  Adverse Events   \n",
            "3  20c35c89-8d23-4be3-b603-ac0ee0f3b4de      Single     Eligibility   \n",
            "4  f17cb242-419d-4f5d-bfa4-41494ed5ac0e  Comparison    Intervention   \n",
            "\n",
            "    Primary_id Secondary_id  \\\n",
            "0  NCT01928186  NCT00684983   \n",
            "1  NCT00662129          NaN   \n",
            "2  NCT00093145  NCT00703326   \n",
            "3  NCT01097642          NaN   \n",
            "4  NCT00852930  NCT02308020   \n",
            "\n",
            "                                           Statement          Label  \\\n",
            "0  All the primary trial participants do not rece...  Contradiction   \n",
            "1  Patients with Platelet count over 100,000/mm¬¨...  Contradiction   \n",
            "2  Heart-related adverse events were recorded in ...     Entailment   \n",
            "3  Adult Patients with histologic confirmation of...  Contradiction   \n",
            "4  Laser Therapy is in each cohort of the primary...  Contradiction   \n",
            "\n",
            "  Primary_evidence_index Secondary_evidence_index  \n",
            "0            0,1,2,3,4,5              0,1,2,3,4,5  \n",
            "1            18,22,23,24                      NaN  \n",
            "2                    0,3               0,7,8,9,10  \n",
            "3              0,1,3,4,5                      NaN  \n",
            "4        0,1,2,3,4,5,6,7            0,1,2,3,4,5,6  \n",
            "(1700, 9)\n",
            "all primary participants do not receive any oral capecitabine  oral lapatinib ditosylate or cixutumumab iv  in conrast all secondary subjects receive these.\n",
            "     - intervention 1 diagnostic flt pet with early stage  er positive primary breast cancer undergo flt pet scan at baseline and 1-6 weeks after start of standard endocrine treatment. surgery follows 1-7 days after second flt pet scan. tracer used in flt pet positron emission tomography scanning procedure f18  fluorothymidine. positron emission tomography undergo flt pet \n",
            "     - laboratory biomarker analysis correlative studies - ki67 staining of tumor tissue in biopsy and surgical specimen.intervention 1 arm receive oral capecitabine twice daily on days 1-14 and oral lapatinib ditosylate once daily on days 1-21. courses repeat every 21 days in absence of disease progression or unacceptable toxicity. lapatinib ditosylate given po and capecitabine given po \n",
            "     - intervention 2arm b receive capecitabine and lapatinib ditosylate as in arm i. also receive cixutumumab iv over 1-1½ hours on days 1  8  and 15. courses repeat every 21 days in absence of disease progression or unacceptable toxicity. cixutumumab given iv  lapatinib ditosylate given po and capecitabine given po \n",
            "with platelet count over 100 000 mm¬¨‚â•  anc smaller than  1 700 mm¬¨‚â• and hemoglobin between 4 to 5 grams per deciliter are eligible for primary trial.\n",
            "     - characteristics anc 1 500 mm³ platelet count 100 000 mm³ hemoglobin 9.0 g dl \n",
            "heart-related adverse events were recorded in both primary and secondary trial.\n",
            "     - adverse events 1 supraventricular tachycardia 1 32 3.13%  adverse events 1 atrial fibrillation 1 752 0.13%  atrial flutter 0 752 0.00%  cardiac failure congestive 1 752 0.13%  left ventricular dysfunction 0 752 0.00%  \n",
            "adult with histologic confirmation of invasive bilateral breast carcinoma t1 n1 m1 are eligible for primary trial.\n",
            "     - inclusion criteria with histologic confirmation of invasive breast carcinoma. greater than or equal to 18 years. should have t1n1-3m0 or t2-4 n0-3m0. with bilateral breast cancer are eligible. \n",
            "laser therapy is in each cohort of primary and secondary  along with neoadjuvant chemotherapy.\n",
            "     - intervention 1 laser therapy alone therapist administered laser treatment laser therapist administered laser intervention 2 mld alone therapist administered manual lymphatic drainage manual lymphatic drainage therapist administered massage therapy intervention 1 part abemaciclib hr+  her2+ breast cancer \n",
            "     - abemaciclib 200 mg was administered orally once every 12 hours on days 1-21 of 21-day cycle when administered as single agent or in combination with endocrine therapy et . participants with hormone receptor positive hr+  her2+ breast cancer receiving concurrent trastuzumab  150 mg abemaciclib was given orally once every 12 hours on days 1-21 of 21-day cycle. participants may continue to receive treatment until discontinuation criteria are met.intervention 2 \n",
            "     - part b abemaciclib hr+  her2- breast cancerabemaciclib 200 mg was administered orally once every 12 hours on days 1-21 of 21-day cycle when administered as single agent or for in combination with endocrine therapy et . participants may continue to receive treatment until discontinuation criteria are met. \n",
            "must have already participated in specific clinical to participate in primary or secondary trial.\n",
            "     - inclusion criteria subjects were confirmed to have response after receiving at least two courses of weekly paclitaxel therapy and considered to need to continue therapy by investigator subinvestigator among with advanced or recurrent breast cancer had met selection criteria and participated in preceding phase ii clinical inclusion criteria must consent to be in and must have signed approved consent form conforming to institutional guidelines must be 18 years or older. core biopsy should definitively demonstrate invasive carcinoma. invasive carcinoma should be er-apha receptor positive \n",
            "     - tumor should be approximately at least 1 cm  to account for variability in imaging and imaging occult disease physical exam  mammography  ultrasound . recognize from time to time because of variation  might not be enough tissue available for analysis after surgical excision but allow greatest opportunity to capture as many eligible as possible.in surgical excision of tumor is part of standard of care management ecog score of 0 or 1 negative serum or urine beta-hcg pregnancy test at screening for of child-bearing potential is routinely done if is premenopausal and having surgery \n",
            "     - consent to participate in dbbr rpci onlyexclusion criteria male are not eligible for female with inoperable tumors or women with stage 4 disease diagnosed on ct  pet  pet ct or bone scan. with diagnosis by fna cytology only pregnant or lactating women prior therapy for breast cancer  including irradiation  chemo- immuno- and or hormonal therapy receiving any hormonal therapy  ovarian hormonal replacement therapy  infertility medications etc.  are not eligible \n",
            "     - nonmalignant systemic disease cardiovascular  renal  hepatic  etc. would preclude from being subjected to surgical excisionpsychiatric or addictive disorders would preclude obtaining informed consent known or suspected to have hypercoagulable syndrome or with history of venous or arterial thrombosis  stroke  tia  or pulmonary embolism women with non-invasive disease or microinvasion are not eligible. women undergoing neoadjuvant chemotherapy are not eligible women currently on tamoxifen and raloxifene for prevention are not eligible \n",
            "     - shall not receive any herbal alternative therapies such as flaxseed or soy products or black cohosh.with known mutation in p53 li fraumeni syndrome \n",
            "with clinical stage ii t2 n1 invasive mammary carcinoma are not eligible for primary trial.\n",
            "     - inclusion criteria clinical stage or ii t1 or t2  n0 or n1 invasive mammary carcinoma exclusion criteria fixed axillary lymph node metastases n2  \n",
            "primary and secondary have hypnotherapy based interventions  secondary also used pain medication in intervention.\n",
            "     - intervention 1 adjuvant radiotherapy adjuvant radiation was started within 12 weeks of local excision or breast re-excision. adjuvant radiotherapy adjuvant radiation therapy intervention 1 hypnotherapy randomized to hypnosis arm of undergo individually three one-hour sessions with certified hypnotherapist. sessions be one week apart. also be instructed on use of self-hypnosis techniques to use at home. intervention 2 gabapentin \n",
            "     - randomized to gabapentin arm be prescribed 900mg of drug daily 300 mg by mouth three times daily .\n",
            "adele is 85 year old woman with stage ii histologically confirmed er+ breast cancer with ecog of 0  is eligible for primary\n",
            "     - inclusion criteria must be female with histologically confirmed breast cancer stage ii-iv disease er and or pr positive ecog performance status 0-1 postmenopausal \n",
            "only in primary receive 40.5 gy of brachytherapy  in secondary receive no radiotherapy whatsoever.\n",
            "     - intervention 1 accelerated intensity modulated radiation therapy aimrt  all shall receive total of 40.5 gy to entire breast in 2.7 gy fraction x 15 fractions  monday to friday for 3 weeks delivered prone in uniform daily doses through imrt tangent fields. concurrent boost to original tumor bed of 0.50 gy be delivered. accelerated intensity modulated radiation therapy aimrt  intervention 1 aeroform tissue expander aeroform tissue expansion inflation with carbon dioxide by remote control \n",
            "     - aeroform tissue expander aeroform tissue expander is breast tissue expander implanted following mastectomy and activated by remote control to release small doses of carbon dioxide from internal reservoir to fill and inflate expander.\n",
            "certain drinks are banned for undertaking primary trial.\n",
            "     - inclusion criteria agrees not to consume grapefruit juice while on \n",
            "most of cases of chf in primary  were in cohort 1.\n",
            "     - adverse events 1 cardiac failure congestive 1 32 3.13%  adverse events 2 cardiac failure congestive 0 20 0.00%  \n",
            "for primary must have life expectancy over 6 months.\n",
            "     - life expectancy not specified \n",
            "eligible for primary must live in usa.\n",
            "     - inclusion criteria age 52-75 years old identification as latina hispanic chicana female residence in pilsen  little village  east side or south chicago \n",
            "in group 1 of secondary and primary do not receive same dosage of aimrt.\n",
            "     - intervention 1 placebo subjects be randomly selected to receive saline placebo  administered to breast area to cover intercostal nerves supplying breast tissue during surgery. saline if randomized to arm  subjects receive intraoperative injection of saline. 2.5 mg ml intervention 1 accelerated intensity modulated radiation therapy aimrt  \n",
            "     - all shall receive total of 40.5 gy to entire breast in 2.7 gy fraction x 15 fractions  monday to friday for 3 weeks delivered prone in uniform daily doses through imrt tangent fields. concurrent boost to original tumor bed of 0.50 gy be delivered.accelerated intensity modulated radiation therapy aimrt  \n",
            "primary administers letrozole for 28 days  whereas secondary administers is intervention over 4 cycles of 21 days.\n",
            "     - intervention 1 post-menopausal women using adjuvant letrozole part routine care letrozole part b double dose letrozole in overweight obese participants \n",
            "     - letrozole part monitor standard of care letrozole use for 28 days measure blood levels of estrogens and vitamin at start and end of period. part b in overweight obese participants completed part  provide double dose of letrozole and monitor use for 28 days measure blood levels of estrogens and vitamin at start and end of period.intervention 1 neratinib 40 mg neratinb 40 mg qd intervention 2 neratinib 80 mg \n",
            "     - neratinib 80 mg qd\n",
            "for primary must have adequate colon and liver function  and must not be currently receiving amiodarone or have received amiodarone in last 28 day. renal function is not relevant for inclusion.\n",
            "     - inclusion criteria following criteria are to be checked at time of entry. may only be included in if all of following statements are fullfilled male or female is at least 18 years old at time of signature of informed consent form. written informed consent has been obtained from prior to performance of any protocol-specific procedure. is diagnosed with confirmed invasive breast cancer with stage iv disease. \n",
            "     - note if metastatic disease is restricted to solitary lesion  neoplastic nature should be confirmed by cytology or histology.has documented disease progression or relapse following at least one prior standard therapy with trastuzumab alone or in combination with chemotherapy . with prior lapatinib use are eligible. furthermore  administration of chemotherapeutic agent should have been stopped for at least 28 days by time of first asci administration. \n",
            "     - administration of trastuzumab alone could be maintained after chemotherapy  but last dose of trastuzumab should not have been given less than three weeks before first asci administration.not be given trastuzumab during trial. for metastatic whose disease is er+ and or pr+ following criteria should be met with visceral disease requires chemotherapy eg.  with liver or lung metastases . \n",
            "     - rapidly progressing or life threatening disease  as determined by investigator.received hormonal therapy and are no longer benefiting from therapy. tumor lesion from biopsied before or during screening shows either overexpression of her2 protein  as determined by immunohistochemistry ihc  with result ihc 3+ or amplification of her2 gene as determined by fish at least 4 fold i.e. at least 8 copies . \n",
            "     - note overexpression amplification measurements must be performed on metastatic lesion in all cases where such lesion is sufficiently easily accessible. if however such biopsy is not possible  then measurements be performed on primary tumor. use of primary tumor is to be documented and justified.\n",
            "     - ten ffpe tissue sections of tumor on her2 overexpression amplification has been done -if available-may be requested. may be used to retrospectively carry out part of translational research i.e. analysis of egf receptor activity and of presence of immune effector cells  refer to section 7 .has at least one measurable lesion according to recist criteria. has ecog status of 0 or 1. \n",
            "     - has adequate bone marrow reserve as indicated bywhite blood cell count greater than  = 3 000 mm3. neutrophil count greater than  = 1 500 mm3. platelet count greater than  = 100 000 mm3. hemoglobin levels greater than  = 10.0 g dl. has adequate renal function as shown by creatinine levels i.e. within normal range . \n",
            "     - has adequate hepatic function as shown by serum bilirubin levels i.eserum bilirubin levels within normal limits. both ast and alt levels smaller than 1.5 times uln. note however  for with liver metastasis  serum bilirubin level smaller than 1.5 times uln and both ast and alt levels smaller than 3 times uln be accepted. \n",
            "     - has baseline left ventricular ejection fraction lvef  measured by muga scan equal to or greater than lln for radiology facility.\n",
            "     - if is female  must be of non-childbearing potential  i.e. have current tubal ligation  hysterectomy  ovariectomy or be post-menopausal  or if is of childbearing potential  must practice adequate contraception for 30 days prior to treatment  have negative pregnancy test and continue such precautions for two months after completion of treatment.\n"
          ]
        },
        {
          "output_type": "execute_result",
          "data": {
            "text/plain": [
              "array([0, 0, 0, ..., 1, 1, 0])"
            ]
          },
          "metadata": {},
          "execution_count": 17
        }
      ]
    },
    {
      "cell_type": "markdown",
      "source": [
        "## Encoding"
      ],
      "metadata": {
        "id": "8dS2FKNWLWQT"
      }
    },
    {
      "cell_type": "code",
      "source": [
        "def encode_data_to_tensors(statements, evidences, tokenizer, dim):\n",
        "    \n",
        "    tokStm = [encode_sentence(s)\n",
        "        for s in statements]\n",
        "\n",
        "    tokPrem = [encode_sentence(s)\n",
        "        for s in evidences]\n",
        "    tokZip = list(zip(tokStm, tokPrem))\n",
        "\n",
        "    # tokIntersect = [np.where(np.in1d(xt[0], np.intersect1d(xt[0], xt[1])), np.zeros_like(xt[0]), [1])\n",
        "    #     for xt in tokZip]\n",
        "    # type_s1 = tf.ragged.constant(tokIntersect);\n",
        "\n",
        "    tokIntersect = [np.where(np.in1d(xt[1], np.intersect1d(xt[0], xt[1])), np.zeros_like(xt[1]), [1])\n",
        "        for xt in tokZip]\n",
        "    type_s2 = tf.ragged.constant(tokIntersect);\n",
        "\n",
        "    statementsTokenizedTensor = tf.ragged.constant(tokStm)\n",
        "    evidencesTokenizedTensor = tf.ragged.constant(tokPrem)\n",
        "\n",
        "\n",
        "    cls = [tokenizer.convert_tokens_to_ids(['[CLS]'])]*statementsTokenizedTensor.shape[0]\n",
        "    _word_ids = tf.concat([cls, statementsTokenizedTensor, evidencesTokenizedTensor], axis=-1)\n",
        "    ii = 0\n",
        "    max = 0\n",
        "    for ip in _word_ids:\n",
        "        ii = ii + 1\n",
        "        if (ip.shape[0] >= max):\n",
        "            max = ip.shape[0]\n",
        "            # print(ii)\n",
        "            # print(max)\n",
        "    print(\"Dataset MAX (dim): \")\n",
        "    print(max)\n",
        "\n",
        "    # Padding - adaug 0 sau 1 la tensori pt a avea aceiasi dimensiune \n",
        "    # paggings [ top bottom ] [left right] - adaug doar la final\n",
        "    paddings = tf.constant([[0, 0,], [0, dim-max]])\n",
        "    input_word_ids = tf.pad(_word_ids.to_tensor(), paddings, \"CONSTANT\", constant_values=0)\n",
        "    input_mask = tf.ones_like(input_word_ids)\n",
        "\n",
        "    type_cls = tf.zeros_like(cls)\n",
        "    type_s1 = tf.zeros_like(statementsTokenizedTensor)\n",
        "    # type_s2 = tf.ones_like(evidencesTokenizedTensor)\n",
        "    input_type_ids = tf.pad(tf.concat(\n",
        "        [type_cls, type_s1, type_s2], axis=-1).to_tensor(), paddings, \"CONSTANT\", constant_values=0)\n",
        "\n",
        "    inputs = {\n",
        "        'input_word_ids': input_word_ids,\n",
        "        'input_mask': input_mask,\n",
        "        'input_type_ids': input_type_ids}\n",
        "\n",
        "    return inputs\n"
      ],
      "metadata": {
        "id": "YrhRmLyMH_fn"
      },
      "execution_count": 18,
      "outputs": []
    },
    {
      "cell_type": "markdown",
      "source": [
        "## Model declaration"
      ],
      "metadata": {
        "id": "vkEsGbjHLgwa"
      }
    },
    {
      "cell_type": "code",
      "source": [
        "train_input = encode_data_to_tensors(_HYPOTESIS, _EVIDENCES, tokenizer, VECTOR_MAX)\n",
        "# check shape data \n",
        "print('DEBUG train shapes: ')\n",
        "print(train_input['input_word_ids'].shape)\n",
        "print(train_input['input_mask'].shape)\n",
        "print(train_input['input_type_ids'].shape)"
      ],
      "metadata": {
        "id": "RLgRGfgH5g_M",
        "colab": {
          "base_uri": "https://localhost:8080/"
        },
        "outputId": "2c1b2303-7b00-4517-e4bf-e188506a0d28"
      },
      "execution_count": 19,
      "outputs": [
        {
          "output_type": "stream",
          "name": "stdout",
          "text": [
            "Dataset MAX (dim): \n",
            "129\n",
            "DEBUG train shapes: \n",
            "(3383, 130)\n",
            "(3383, 130)\n",
            "(3383, 130)\n"
          ]
        }
      ]
    },
    {
      "cell_type": "code",
      "source": [
        "def build_model():\n",
        "    # bert_encoder = TFBertModel.from_pretrained(model_name)\n",
        "    # bert_encoder = AutoModel.from_pretrained(model_name)\n",
        "    input_word_ids = tf.keras.Input(shape=(VECTOR_MAX,), dtype=tf.int32, name=\"input_word_ids\")\n",
        "    input_mask = tf.keras.Input(shape=(VECTOR_MAX,), dtype=tf.int32, name=\"input_mask\")\n",
        "    input_type_ids = tf.keras.Input(shape=(VECTOR_MAX,), dtype=tf.int32, name=\"input_type_ids\")\n",
        "    # print(input_word_ids)\n",
        "\n",
        "    #embedding = bert_encoder([input_word_ids, input_mask, input_type_ids])[0]\n",
        "\n",
        "    # lstm = tf.keras.layers.LSTM(40, return_sequences=True, return_state=True)(embedding[:,0,:])\n",
        "    # lstm = tf.keras.layers.Bidirectional(tf.keras.layers.LSTM(64))(input_word_ids)\n",
        "\n",
        "    # x = tf.keras.layers.Dense(LAYER_1_NODES, kernel_initializer = 'random_uniform', activation=LAYER_1_ACTIVATION)(embedding[:,0,:])\n",
        "    x = tf.keras.layers.Dense(512, activation=LAYER_1_ACTIVATION)(input_word_ids)\n",
        "    x = tf.keras.layers.LeakyReLU(0.9)(x)\n",
        "    x = tf.keras.layers.Dense(2048, activation=LAYER_1_ACTIVATION)(x)\n",
        "    x = tf.keras.layers.LeakyReLU(0.9)(x)\n",
        "    x = tf.keras.layers.Dense(4096, activation=LAYER_1_ACTIVATION)(x)\n",
        "    x = tf.keras.layers.LeakyReLU(0.9)(x)\n",
        "    x = tf.keras.layers.Dense(18048, activation=LAYER_1_ACTIVATION)(x)\n",
        "    x = tf.keras.layers.LeakyReLU(0.9)(x)\n",
        "    x = tf.keras.layers.Dense(9128, activation=LAYER_1_ACTIVATION)(x)\n",
        "    x = tf.keras.layers.LeakyReLU(0.9)(x)\n",
        "    x = tf.keras.layers.Dense(1024, activation=LAYER_1_ACTIVATION)(x)\n",
        "    x = tf.keras.layers.LeakyReLU(0.9)(x)\n",
        "    x = tf.keras.layers.Dense(64, activation=LAYER_1_ACTIVATION)(x)\n",
        "    x = tf.keras.layers.LeakyReLU(0.9)(x)\n",
        "    output = tf.keras.layers.Dense(2, activation=LAYER_2_ACTIVATION)(x)\n",
        "\n",
        "    learning_rate = 5e-5\n",
        "\n",
        "\n",
        "    model = tf.keras.Model(inputs=[input_word_ids], outputs=output)\n",
        "    model.compile(tf.keras.optimizers.Adam(learning_rate=learning_rate), loss=LOSS_FN, metrics=[METRIC])  # decay=learning_rate/(epochs*0.5)\n",
        "    # decay=learning_rate/(EPOCHS*0.15)\n",
        "    return model\n"
      ],
      "metadata": {
        "id": "Rr5cfnAG5kJo"
      },
      "execution_count": 20,
      "outputs": []
    },
    {
      "cell_type": "markdown",
      "source": [
        "# Fit and Run model"
      ],
      "metadata": {
        "id": "ZnJLS7f5LD5D"
      }
    },
    {
      "cell_type": "code",
      "source": [
        "model = build_model()\n",
        "df = pd.DataFrame()\n",
        "df['Y'] = Y_LABELS\n",
        "\n",
        "\n",
        "print(\"dim ipoteze:\")\n",
        "print(len(_HYPOTESIS))\n",
        "print(\"dim evidențe:\")\n",
        "print(len(_EVIDENCES))\n",
        "print(\"dim Y:\")\n",
        "print(len(Y_LABELS))\n",
        "\n",
        "model.fit(x=train_input['input_word_ids'], y=Y_LABELS, epochs = 17, verbose = 1, batch_size = FIT_BATCH_SIZE, validation_split = 0.3)"
      ],
      "metadata": {
        "id": "qwnkYMFBKeMp",
        "colab": {
          "base_uri": "https://localhost:8080/"
        },
        "outputId": "f47c2d90-7976-4106-8364-c3deb5617e94"
      },
      "execution_count": 21,
      "outputs": [
        {
          "output_type": "stream",
          "name": "stdout",
          "text": [
            "dim ipoteze:\n",
            "3383\n",
            "dim evidențe:\n",
            "3383\n",
            "dim Y:\n",
            "3383\n",
            "Epoch 1/17\n",
            "148/148 [==============================] - 15s 57ms/step - loss: 111.9804 - accuracy: 0.5004 - val_loss: 51.5037 - val_accuracy: 0.4926\n",
            "Epoch 2/17\n",
            "148/148 [==============================] - 8s 55ms/step - loss: 18.1378 - accuracy: 0.5988 - val_loss: 23.7161 - val_accuracy: 0.4768\n",
            "Epoch 3/17\n",
            "148/148 [==============================] - 8s 55ms/step - loss: 6.6907 - accuracy: 0.7352 - val_loss: 15.1616 - val_accuracy: 0.4877\n",
            "Epoch 4/17\n",
            "148/148 [==============================] - 8s 55ms/step - loss: 3.7258 - accuracy: 0.7990 - val_loss: 12.0182 - val_accuracy: 0.4562\n",
            "Epoch 5/17\n",
            "148/148 [==============================] - 8s 56ms/step - loss: 3.4806 - accuracy: 0.8281 - val_loss: 9.9819 - val_accuracy: 0.4640\n",
            "Epoch 6/17\n",
            "148/148 [==============================] - 8s 55ms/step - loss: 2.1272 - accuracy: 0.8830 - val_loss: 8.6751 - val_accuracy: 0.4453\n",
            "Epoch 7/17\n",
            "148/148 [==============================] - 8s 55ms/step - loss: 1.9350 - accuracy: 0.8889 - val_loss: 8.2722 - val_accuracy: 0.4562\n",
            "Epoch 8/17\n",
            "148/148 [==============================] - 8s 56ms/step - loss: 1.9520 - accuracy: 0.8940 - val_loss: 7.9416 - val_accuracy: 0.4552\n",
            "Epoch 9/17\n",
            "148/148 [==============================] - 8s 55ms/step - loss: 1.3786 - accuracy: 0.9151 - val_loss: 9.3125 - val_accuracy: 0.4562\n",
            "Epoch 10/17\n",
            "148/148 [==============================] - 8s 55ms/step - loss: 1.4136 - accuracy: 0.9012 - val_loss: 6.9888 - val_accuracy: 0.4404\n",
            "Epoch 11/17\n",
            "148/148 [==============================] - 8s 55ms/step - loss: 1.0267 - accuracy: 0.9185 - val_loss: 6.2600 - val_accuracy: 0.4650\n",
            "Epoch 12/17\n",
            "148/148 [==============================] - 8s 55ms/step - loss: 1.0430 - accuracy: 0.9139 - val_loss: 6.1849 - val_accuracy: 0.4404\n",
            "Epoch 13/17\n",
            "148/148 [==============================] - 8s 55ms/step - loss: 1.0792 - accuracy: 0.9227 - val_loss: 6.0374 - val_accuracy: 0.4670\n",
            "Epoch 14/17\n",
            "148/148 [==============================] - 8s 55ms/step - loss: 0.9623 - accuracy: 0.9113 - val_loss: 5.3748 - val_accuracy: 0.4345\n",
            "Epoch 15/17\n",
            "148/148 [==============================] - 8s 55ms/step - loss: 0.7138 - accuracy: 0.9371 - val_loss: 5.0037 - val_accuracy: 0.4414\n",
            "Epoch 16/17\n",
            "148/148 [==============================] - 8s 55ms/step - loss: 0.7729 - accuracy: 0.9396 - val_loss: 3.9432 - val_accuracy: 0.4384\n",
            "Epoch 17/17\n",
            "148/148 [==============================] - 8s 55ms/step - loss: 0.6274 - accuracy: 0.9278 - val_loss: 6.6298 - val_accuracy: 0.4522\n"
          ]
        },
        {
          "output_type": "execute_result",
          "data": {
            "text/plain": [
              "<keras.callbacks.History at 0x7ff6ba851400>"
            ]
          },
          "metadata": {},
          "execution_count": 21
        }
      ]
    },
    {
      "cell_type": "markdown",
      "source": [
        "## Evaluare, test data\n"
      ],
      "metadata": {
        "id": "efulGwmSuYhv"
      }
    },
    {
      "cell_type": "code",
      "source": [
        "TEST_STM = pd.read_csv(TEST_DATA) #, nrows=40\n",
        "print(TEST_STM.head(5))\n",
        "print(TEST_STM.shape)\n",
        "\n",
        "\n",
        "# exit()\n",
        "TEST_EVIDENCES=[]\n",
        "TEST_HYPOTESIS=[]\n",
        "TEST_UUID=[]\n",
        "TEST_LABEL=[]\n",
        "TEST_Y_LABELS=np.array([], dtype=\"int32\")\n",
        "CT_index = -1\n",
        "for id in TEST_STM['Id']:\n",
        "    evidences = []\n",
        "    CT_index = CT_index+1\n",
        "    CTid = TEST_STM['Primary_id'][CT_index]\n",
        "    hypotesis = normalizeDocument(TEST_STM['Statement'][CT_index], True)\n",
        "    hypotesisLen = len(hypotesis.split(' '))\n",
        "    if (TEST_STM['Type'][CT_index] == \"Single\"):\n",
        "      primaryEvidenceIndexes = TEST_STM['Primary_evidence_index'][CT_index].split(',')\n",
        "      evidences = parseEvidenceSingle(hypotesis, CTid, TEST_STM['Section_id'][CT_index], primaryEvidenceIndexes, PREFIX, DEBUG1, DEBUG2)\n",
        "      ax = splitEvidence([], \"\", \"[CLS] \"+hypotesis+\" [SEP] \", evidences, 0, DEBUG2)\n",
        "      for evidenceFragment in ax:\n",
        "        # parse only evidences those that have a minimum of words \n",
        "        if(hypotesisLen+len(evidenceFragment) > hypotesisLen + 10):\n",
        "          TEST_EVIDENCES.append(evidenceFragment)\n",
        "          TEST_HYPOTESIS.append(hypotesis)\n",
        "          TEST_UUID.append(id)\n",
        "          TEST_LABEL.append(TEST_STM['Label'][CT_index])\n",
        "          if(TEST_STM['Label'][CT_index] == 'Entailment'):\n",
        "            TEST_Y_LABELS = np.append(TEST_Y_LABELS, [1], axis=0)\n",
        "          else:\n",
        "            TEST_Y_LABELS = np.append(TEST_Y_LABELS, [0], axis=0)\n",
        "      if DEBUG1:\n",
        "          print('Analyzed CT entry: ' + str(CT_index) + \"  -  \"+ CTid+\"\\n\")\n",
        "    if (TEST_STM['Type'][CT_index] == \"Comparison\"):\n",
        "      CTidSecondary = TEST_STM['Secondary_id'][CT_index]\n",
        "      primaryEvidenceIndexes = TEST_STM['Primary_evidence_index'][CT_index].split(',')\n",
        "      secondaryEvidenceIndexes = TEST_STM['Secondary_evidence_index'][CT_index].split(',')\n",
        "      premisesPrimary = parseEvidenceSingle(hypotesis, CTid, TEST_STM['Section_id'][CT_index], primaryEvidenceIndexes, PREFIX, DEBUG1, DEBUG2)\n",
        "      premisesSecondary = parseEvidenceSingle(hypotesis, CTidSecondary, TEST_STM['Section_id'][CT_index], secondaryEvidenceIndexes, PREFIX, DEBUG1, DEBUG2)\n",
        "      premisesIndexed = splitEvidence([], \"\", hypotesis, premisesPrimary + premisesSecondary, 0, DEBUG2)\n",
        "      if (CT_index < 17):\n",
        "        print(hypotesis)\n",
        "      for evidenceFragment in premisesIndexed:\n",
        "        # parse only evidences those that have a minimum of words \n",
        "        if(hypotesisLen+len(evidenceFragment) > hypotesisLen + 10):\n",
        "          TEST_EVIDENCES.append(evidenceFragment)\n",
        "          TEST_HYPOTESIS.append(hypotesis)\n",
        "          TEST_UUID.append(id)\n",
        "          TEST_LABEL.append(TEST_STM['Label'][CT_index])\n",
        "          if(TEST_STM['Label'][CT_index] == 'Entailment'):\n",
        "            TEST_Y_LABELS = np.append(TEST_Y_LABELS, [1], axis=0)\n",
        "          else:\n",
        "            TEST_Y_LABELS = np.append(TEST_Y_LABELS, [0], axis=0)\n",
        "        if (CT_index < 17):\n",
        "          print(\"     - \"+ evidenceFragment)\n",
        "      # print(\"-------2--------\")\n",
        "      if DEBUG1:\n",
        "          print('Analyzed CT entry: ' + str(CT_index) + \"  -  \"+ CTid+\"\\n\")\n",
        "\n",
        "\n",
        "print(\"dim ipoteze:\")\n",
        "print(len(TEST_EVIDENCES))\n",
        "print(\"dim evidențe:\")\n",
        "print(len(TEST_EVIDENCES))\n",
        "print(\"dim Y:\")\n",
        "print(len(TEST_Y_LABELS))"
      ],
      "metadata": {
        "id": "ekYVxUf_HRB0",
        "colab": {
          "base_uri": "https://localhost:8080/"
        },
        "outputId": "967de896-eec2-4b15-9b5d-bba13feb6777"
      },
      "execution_count": 44,
      "outputs": [
        {
          "output_type": "stream",
          "name": "stdout",
          "text": [
            "                                     Id        Type      Section_id  \\\n",
            "0  1adc970c-d433-44d0-aa09-d3834986f7a2      Single         Results   \n",
            "1  6b9162d0-0816-46d4-81af-c60028dcc63b  Comparison     Eligibility   \n",
            "2  0b6cc8e3-69ee-4a91-b93d-2ad3fddce65f  Comparison  Adverse Events   \n",
            "3  cc1f712a-2116-4e40-9810-f315e3fa5ff8      Single         Results   \n",
            "4  904061c0-14fa-4f13-9118-9a41e24fa8eb      Single     Eligibility   \n",
            "\n",
            "    Primary_id Secondary_id  \\\n",
            "0  NCT00066573          NaN   \n",
            "1  NCT00425854  NCT01224678   \n",
            "2  NCT02273973  NCT00281697   \n",
            "3  NCT00593346          NaN   \n",
            "4  NCT02340221          NaN   \n",
            "\n",
            "                                           Statement          Label  \\\n",
            "0  there is a 13.2% difference between the result...  Contradiction   \n",
            "1  Patients with significantly elevated ejection ...  Contradiction   \n",
            "2  a significant number of the participants in th...  Contradiction   \n",
            "3  the primary trial does not report the PFS or o...     Entailment   \n",
            "4  Prior treatment with fulvestrant or with a pho...  Contradiction   \n",
            "\n",
            "                        Primary_evidence_index  \\\n",
            "0  0,1,2,3,4,5,6,7,8,9,10,11,12,13,14,15,16,17   \n",
            "1                                           15   \n",
            "2                                         5,18   \n",
            "3                                      0,1,2,3   \n",
            "4                                           13   \n",
            "\n",
            "                            Secondary_evidence_index  \n",
            "0                                                NaN  \n",
            "1           0,1,2,3,4,5,6,7,8,9,10,11,12,13,14,15,16  \n",
            "2  0,1,2,3,4,5,6,7,8,9,10,11,12,13,14,15,16,17,18...  \n",
            "3                                                NaN  \n",
            "4                                                NaN  \n",
            "(200, 9)\n",
            "with significantly elevated ejection fraction are excluded from primary  but still be eligible for secondary if are 55 years of age or over\n",
            "     - cardiac left ventricular function with resting ejection fraction smaller than  50% below upper limit of normal premenopausal women 55 years of age or younger with regular menstrual cycles at least four cycles in last six months . women with fewer than 4 menses in last 6 months or have had hysterectomy with ovaries intact be considered premenopausal if fsh level smaller than  20. \n",
            "     - women with breast density 25% scattered fibroglandular densities or greater are eligible.prior treatment are currently receiving hormone replacement therapy estrogen or progesterone  or are taking tamoxifen or raloxifene are not eligible. women have taken medications must have stopped for at least 4 months prior to entry. topical estrogen eg  transdermal patches and vaginal estrogens is allowed. \n",
            "     - are currently using hormonal contraception  should be taking for at least 4 months prior to entry.vitamin use are taking regular vitamin supplementation above 400 ius daily and refuse or are unable to stop use are not eligible. women agree to stop need to do for at least 6 months prior to registration. \n",
            "     - may not start vitamin supplementation after registration regardless of results of vitamin testing but may continue vitamin if are already taking 400 ius daily or less and have been taking vitamin for at least 6 months prior to baseline mammogram.with history of breast cancer including dcis or ovarian cancer are not eligible. with history of breast implants or breast reduction are not eligible. with two or more bone fractures in past five years are not eligible. \n",
            "     - with diagnosis of osteoporosis with physician recommendation for treatment of low bone mass are not eligible.known to have hyperparathyroid disease or other serious disturbances of calcium metabolism requiring intervention in past 5 years are not eligible. with history of kidney stones unless documented not to have been calcium stone are not eligible. participating in concurrent breast cancer chemoprevention are not eligible. required initial laboratory values - calcium smaller than  10.5 mg dl \n",
            "significant number of participants in secondary and primary suffered from enterocolitis\n",
            "     - enterocolitis 1 167 0.60%  enterocolitis 0 167 0.00%  adverse events 1 total 112 458 24.45%  febrile neutropenia 8 458 1.75%  neutropenia 6 458 1.31%  anaemia 3 458 0.66%  thrombocytopenia 3 458 0.66%  pancytopenia 2 458 0.44%  myocardial infarction 0 458 0.00%  \n",
            "     - pericardial effusion 0 458 0.00% tachycardia 0 458 0.00%  acute myocardial infarction 1 458 0.22%  atrial fibrillation 0 458 0.00%  adverse events 2 total 39 221 17.65%  febrile neutropenia 5 221 2.26%  neutropenia 1 221 0.45%  anaemia 2 221 0.90%  thrombocytopenia 0 221 0.00%  \n",
            "     - pancytopenia 0 221 0.00% myocardial infarction 2 221 0.90%  pericardial effusion 2 221 0.90%  tachycardia 2 221 0.90%  acute myocardial infarction 0 221 0.00%  atrial fibrillation 1 221 0.45%  \n",
            "dim ipoteze:\n",
            "369\n",
            "dim evidențe:\n",
            "369\n",
            "dim Y:\n",
            "369\n"
          ]
        }
      ]
    },
    {
      "cell_type": "code",
      "source": [
        "test_input = encode_data_to_tensors(TEST_HYPOTESIS, TEST_EVIDENCES, tokenizer, VECTOR_MAX)\n",
        "\n",
        "# check shape data \n",
        "print('DEBUG test shapes: ')\n",
        "print(test_input['input_word_ids'].shape)\n",
        "print(test_input['input_mask'].shape)\n",
        "print(test_input['input_type_ids'].shape)"
      ],
      "metadata": {
        "id": "QysAGVgr5fW1",
        "colab": {
          "base_uri": "https://localhost:8080/"
        },
        "outputId": "4a643c83-a480-4f0a-b084-78caa57e5977"
      },
      "execution_count": 45,
      "outputs": [
        {
          "output_type": "stream",
          "name": "stdout",
          "text": [
            "Dataset MAX (dim): \n",
            "129\n",
            "DEBUG test shapes: \n",
            "(369, 130)\n",
            "(369, 130)\n",
            "(369, 130)\n"
          ]
        }
      ]
    },
    {
      "cell_type": "code",
      "source": [
        "predictions = [np.argmax(i) for i in model.predict(test_input)]\n",
        "# print([i for i in model.predict(test_input)])\n",
        "\n",
        "submission = pd.DataFrame()\n",
        "submission['UUID'] = TEST_UUID\n",
        "submission['label'] = TEST_LABEL\n",
        "submission['prediction'] = predictions\n",
        "\n",
        "\n",
        "RESULTS_FILE_R = PREFIXG+\"/results-\"+stamp_time()+\".json\"\n",
        "RESULTS_FILE = PREFIXG+\"/submission-\"+stamp_time()+\".csv\"\n",
        "submission.to_csv(RESULTS_FILE, index = False)\n",
        "submission.head()"
      ],
      "metadata": {
        "id": "kvDscyM33JY6",
        "colab": {
          "base_uri": "https://localhost:8080/",
          "height": 223
        },
        "outputId": "693b2fdb-58e8-455a-b917-ec1fd5409a8f"
      },
      "execution_count": 46,
      "outputs": [
        {
          "output_type": "stream",
          "name": "stdout",
          "text": [
            "12/12 [==============================] - 0s 8ms/step\n"
          ]
        },
        {
          "output_type": "execute_result",
          "data": {
            "text/plain": [
              "                                   UUID          label  prediction\n",
              "0  1adc970c-d433-44d0-aa09-d3834986f7a2  Contradiction           1\n",
              "1  1adc970c-d433-44d0-aa09-d3834986f7a2  Contradiction           1\n",
              "2  6b9162d0-0816-46d4-81af-c60028dcc63b  Contradiction           1\n",
              "3  6b9162d0-0816-46d4-81af-c60028dcc63b  Contradiction           1\n",
              "4  6b9162d0-0816-46d4-81af-c60028dcc63b  Contradiction           1"
            ],
            "text/html": [
              "\n",
              "  <div id=\"df-8b25f043-eee3-4f81-9d13-a778587abc78\">\n",
              "    <div class=\"colab-df-container\">\n",
              "      <div>\n",
              "<style scoped>\n",
              "    .dataframe tbody tr th:only-of-type {\n",
              "        vertical-align: middle;\n",
              "    }\n",
              "\n",
              "    .dataframe tbody tr th {\n",
              "        vertical-align: top;\n",
              "    }\n",
              "\n",
              "    .dataframe thead th {\n",
              "        text-align: right;\n",
              "    }\n",
              "</style>\n",
              "<table border=\"1\" class=\"dataframe\">\n",
              "  <thead>\n",
              "    <tr style=\"text-align: right;\">\n",
              "      <th></th>\n",
              "      <th>UUID</th>\n",
              "      <th>label</th>\n",
              "      <th>prediction</th>\n",
              "    </tr>\n",
              "  </thead>\n",
              "  <tbody>\n",
              "    <tr>\n",
              "      <th>0</th>\n",
              "      <td>1adc970c-d433-44d0-aa09-d3834986f7a2</td>\n",
              "      <td>Contradiction</td>\n",
              "      <td>1</td>\n",
              "    </tr>\n",
              "    <tr>\n",
              "      <th>1</th>\n",
              "      <td>1adc970c-d433-44d0-aa09-d3834986f7a2</td>\n",
              "      <td>Contradiction</td>\n",
              "      <td>1</td>\n",
              "    </tr>\n",
              "    <tr>\n",
              "      <th>2</th>\n",
              "      <td>6b9162d0-0816-46d4-81af-c60028dcc63b</td>\n",
              "      <td>Contradiction</td>\n",
              "      <td>1</td>\n",
              "    </tr>\n",
              "    <tr>\n",
              "      <th>3</th>\n",
              "      <td>6b9162d0-0816-46d4-81af-c60028dcc63b</td>\n",
              "      <td>Contradiction</td>\n",
              "      <td>1</td>\n",
              "    </tr>\n",
              "    <tr>\n",
              "      <th>4</th>\n",
              "      <td>6b9162d0-0816-46d4-81af-c60028dcc63b</td>\n",
              "      <td>Contradiction</td>\n",
              "      <td>1</td>\n",
              "    </tr>\n",
              "  </tbody>\n",
              "</table>\n",
              "</div>\n",
              "      <button class=\"colab-df-convert\" onclick=\"convertToInteractive('df-8b25f043-eee3-4f81-9d13-a778587abc78')\"\n",
              "              title=\"Convert this dataframe to an interactive table.\"\n",
              "              style=\"display:none;\">\n",
              "        \n",
              "  <svg xmlns=\"http://www.w3.org/2000/svg\" height=\"24px\"viewBox=\"0 0 24 24\"\n",
              "       width=\"24px\">\n",
              "    <path d=\"M0 0h24v24H0V0z\" fill=\"none\"/>\n",
              "    <path d=\"M18.56 5.44l.94 2.06.94-2.06 2.06-.94-2.06-.94-.94-2.06-.94 2.06-2.06.94zm-11 1L8.5 8.5l.94-2.06 2.06-.94-2.06-.94L8.5 2.5l-.94 2.06-2.06.94zm10 10l.94 2.06.94-2.06 2.06-.94-2.06-.94-.94-2.06-.94 2.06-2.06.94z\"/><path d=\"M17.41 7.96l-1.37-1.37c-.4-.4-.92-.59-1.43-.59-.52 0-1.04.2-1.43.59L10.3 9.45l-7.72 7.72c-.78.78-.78 2.05 0 2.83L4 21.41c.39.39.9.59 1.41.59.51 0 1.02-.2 1.41-.59l7.78-7.78 2.81-2.81c.8-.78.8-2.07 0-2.86zM5.41 20L4 18.59l7.72-7.72 1.47 1.35L5.41 20z\"/>\n",
              "  </svg>\n",
              "      </button>\n",
              "      \n",
              "  <style>\n",
              "    .colab-df-container {\n",
              "      display:flex;\n",
              "      flex-wrap:wrap;\n",
              "      gap: 12px;\n",
              "    }\n",
              "\n",
              "    .colab-df-convert {\n",
              "      background-color: #E8F0FE;\n",
              "      border: none;\n",
              "      border-radius: 50%;\n",
              "      cursor: pointer;\n",
              "      display: none;\n",
              "      fill: #1967D2;\n",
              "      height: 32px;\n",
              "      padding: 0 0 0 0;\n",
              "      width: 32px;\n",
              "    }\n",
              "\n",
              "    .colab-df-convert:hover {\n",
              "      background-color: #E2EBFA;\n",
              "      box-shadow: 0px 1px 2px rgba(60, 64, 67, 0.3), 0px 1px 3px 1px rgba(60, 64, 67, 0.15);\n",
              "      fill: #174EA6;\n",
              "    }\n",
              "\n",
              "    [theme=dark] .colab-df-convert {\n",
              "      background-color: #3B4455;\n",
              "      fill: #D2E3FC;\n",
              "    }\n",
              "\n",
              "    [theme=dark] .colab-df-convert:hover {\n",
              "      background-color: #434B5C;\n",
              "      box-shadow: 0px 1px 3px 1px rgba(0, 0, 0, 0.15);\n",
              "      filter: drop-shadow(0px 1px 2px rgba(0, 0, 0, 0.3));\n",
              "      fill: #FFFFFF;\n",
              "    }\n",
              "  </style>\n",
              "\n",
              "      <script>\n",
              "        const buttonEl =\n",
              "          document.querySelector('#df-8b25f043-eee3-4f81-9d13-a778587abc78 button.colab-df-convert');\n",
              "        buttonEl.style.display =\n",
              "          google.colab.kernel.accessAllowed ? 'block' : 'none';\n",
              "\n",
              "        async function convertToInteractive(key) {\n",
              "          const element = document.querySelector('#df-8b25f043-eee3-4f81-9d13-a778587abc78');\n",
              "          const dataTable =\n",
              "            await google.colab.kernel.invokeFunction('convertToInteractive',\n",
              "                                                     [key], {});\n",
              "          if (!dataTable) return;\n",
              "\n",
              "          const docLinkHtml = 'Like what you see? Visit the ' +\n",
              "            '<a target=\"_blank\" href=https://colab.research.google.com/notebooks/data_table.ipynb>data table notebook</a>'\n",
              "            + ' to learn more about interactive tables.';\n",
              "          element.innerHTML = '';\n",
              "          dataTable['output_type'] = 'display_data';\n",
              "          await google.colab.output.renderOutput(dataTable, element);\n",
              "          const docLink = document.createElement('div');\n",
              "          docLink.innerHTML = docLinkHtml;\n",
              "          element.appendChild(docLink);\n",
              "        }\n",
              "      </script>\n",
              "    </div>\n",
              "  </div>\n",
              "  "
            ]
          },
          "metadata": {},
          "execution_count": 46
        }
      ]
    },
    {
      "cell_type": "code",
      "source": [
        "# def postProcessing(file):\n",
        "#     results = {}\n",
        "#     CT_index = 0\n",
        "#     try:\n",
        "#         STM = pd.read_csv(file)\n",
        "#         # print(STM.head(5))\n",
        "#         for id in STM['UUID']:\n",
        "#             prediction = STM['prediction'][CT_index]\n",
        "#             # print(prediction)\n",
        "#             CT_index = CT_index + 1\n",
        "#             if id in results:\n",
        "#               results[id] = results[id] + \", \" +str(prediction)\n",
        "#             else:\n",
        "#               results[id] = str(prediction)\n",
        "#     except Exception as err:\n",
        "#         print('\\n! Error for file')\n",
        "#         print(err)\n",
        "#     return results\n",
        "\n",
        "# rw = postProcessing(RESULTS_FILE)"
      ],
      "metadata": {
        "id": "Q5c1-4PrexB7"
      },
      "execution_count": 47,
      "outputs": []
    },
    {
      "cell_type": "markdown",
      "source": [
        "## Test Task 1 - test.json\n"
      ],
      "metadata": {
        "id": "XXbyHsvd04O4"
      }
    },
    {
      "cell_type": "code",
      "source": [
        "def parseEvSg(clinicalTrialId, evidenceSectionId, PREFIX, DEBUG1, DEBUG2):\n",
        "    evidences = []\n",
        "    if DEBUG1:\n",
        "        print(\"Load premises: \" + clinicalTrialId + \" \" + evidenceSectionId)\n",
        "    CT_PATH = PREFIX+'CT_data/'+clinicalTrialId+'.json'\n",
        "    try:\n",
        "        with open(CT_PATH) as json_file:\n",
        "            dataCT = json.load(json_file)\n",
        "        evidences = dataCT[evidenceSectionId]\n",
        "    except Exception as err:\n",
        "        print('\\n!!! Error for file: ' + clinicalTrialId)\n",
        "        print(err)\n",
        "    if DEBUG2:\n",
        "        print(\"\\n\")\n",
        "    return evidences"
      ],
      "metadata": {
        "id": "3peo6cWw07Vb"
      },
      "execution_count": 48,
      "outputs": []
    },
    {
      "cell_type": "code",
      "source": [
        "TEST_STM = pd.read_csv(TEST_DATA) #, nrows=40\n",
        "\n",
        "\n",
        "# exit()\n",
        "TEST_EVIDENCES=[]\n",
        "TEST_HYPOTESIS=[]\n",
        "TEST_UUID=[]\n",
        "CT_index = -1\n",
        "for id in TEST_STM['Id']:\n",
        "    evidences = []\n",
        "    CT_index = CT_index+1\n",
        "    CTid = TEST_STM['Primary_id'][CT_index]\n",
        "    hypotesis = normalizeDocument(TEST_STM['Statement'][CT_index], True)\n",
        "    hypotesisLen = len(hypotesis.split(' '))\n",
        "    if (TEST_STM['Type'][CT_index] == \"Single\"):\n",
        "      evidences = parseEvSg(CTid, TEST_STM['Section_id'][CT_index], PREFIX, DEBUG1, DEBUG2)\n",
        "      ax = splitEvidence([], \"\", \"[CLS] \"+hypotesis+\" [SEP] \", evidences, 0, DEBUG2)\n",
        "      for evidenceFragment in ax:\n",
        "        # parse only evidences those that have a minimum of words \n",
        "        if(hypotesisLen+len(evidenceFragment) > hypotesisLen + 10):\n",
        "          TEST_EVIDENCES.append(evidenceFragment)\n",
        "          TEST_HYPOTESIS.append(hypotesis)\n",
        "          TEST_UUID.append(id)\n",
        "      if DEBUG1:\n",
        "          print('Analyzed CT entry: ' + str(CT_index) + \"  -  \"+ CTid+\"\\n\")\n",
        "    if (TEST_STM['Type'][CT_index] == \"Comparison\"):\n",
        "      CTidSecondary = TEST_STM['Secondary_id'][CT_index]\n",
        "      premisesPrimary = parseEvSg(CTid, TEST_STM['Section_id'][CT_index], PREFIX, DEBUG1, DEBUG2)\n",
        "      premisesSecondary = parseEvSg(CTidSecondary, TEST_STM['Section_id'][CT_index], PREFIX, DEBUG1, DEBUG2)\n",
        "      premisesIndexed = splitEvidence([], \"\", hypotesis, premisesPrimary + premisesSecondary, 0, DEBUG2)\n",
        "      if (CT_index < 17):\n",
        "        print(hypotesis)\n",
        "      for evidenceFragment in premisesIndexed:\n",
        "        # parse only evidences those that have a minimum of words \n",
        "        if(hypotesisLen+len(evidenceFragment) > hypotesisLen + 10):\n",
        "          TEST_EVIDENCES.append(evidenceFragment)\n",
        "          TEST_HYPOTESIS.append(hypotesis)\n",
        "          TEST_UUID.append(id)\n",
        "        if (CT_index < 17):\n",
        "          print(\"     - \"+ evidenceFragment)\n",
        "      # print(\"-------2--------\")\n",
        "      if DEBUG1:\n",
        "          print('Analyzed CT entry: ' + str(CT_index) + \"  -  \"+ CTid+\"\\n\")\n"
      ],
      "metadata": {
        "id": "8mtRQCQszxIW",
        "colab": {
          "base_uri": "https://localhost:8080/"
        },
        "outputId": "a9b09a52-7c8c-407a-dfeb-b4ebd2ff04c9"
      },
      "execution_count": 49,
      "outputs": [
        {
          "output_type": "stream",
          "name": "stdout",
          "text": [
            "with significantly elevated ejection fraction are excluded from primary  but still be eligible for secondary if are 55 years of age or over\n",
            "     - Inclusion criteria: Inclusion Criteria:   Female patients age 18 years or older   Histologically proven breast cancer after failure or relapse of no more than three lines of chemotherapy including adjuvant, irrespective of prior hormone therapy metastatic disease (stage IV);   HER2-negative patients (HER2 1+ or negative, or HER2 2+ and FISH negative)   At least one measurable tumour lesion (RECIST);   Availability of tumour samples \n",
            "     -   Written informed consent that is consistent with ICH-GCP guidelines and local law  Eastern Cooperative Oncology Group (ECOG, R01-0787) performance score 0 - 2. Exclusion criteria: Exclusion Criteria:   Active infectious disease   Gastrointestinal disorders that may interfere with the absorption of the study drug or chronic diarrhoea   Serious illness, concomitant non-oncological disease or mental problems considered by the investigator to be incompatible with the protocol \n",
            "     -   Active/symptomatic brain metastases  Cardiac left ventricular function with resting ejection fraction < 50% (below upper limit of normal)   ANC less than 1500/mm3 platelet count less than 100 000/mm3   Bilirubin greater than 1.5 mg /dl (>26 and#61549 mol /L, SI unit equivalent) \n",
            "     -   AST and ALT greater than 2.5 times the upper limit of normal or greater 5 times the upper limit of normal in case of known liver metastases  Serum creatinine greater than 1.5 mg/dl (>132 and#61549 mol/L, SI unit equivalent)   Patients who are sexually active and unwilling to use a medically acceptable method of contraception   Pregnancy or breast-feeding \n",
            "     -   Concomitant treatment with other investigational drugs or other anti-cancer-therapy during this study and/or during the past two/four weeks, prior to the first treatment with the trial drug. Concurrent treatment with biphosphonates is allowed  Previous treatment with trastuzumab, EGFR-, or EGFR/HER2-inhibitors patients unable to comply with the protocol   Active alcohol or drug abuse   Other malignancy within the past 5 years \n",
            "     - Premenopausal women 55 years of age or younger with regular menstrual cycles (at least four cycles in the last six months). Women with fewer than 4 menses in the last 6 months or who have had a hysterectomy with ovaries intact will be considered premenopausal if FSH level < 20.  Women with breast density  25% (scattered fibroglandular densities or greater) are eligible.   Prior Treatment \n",
            "     -   Patients who are currently receiving hormone replacement therapy (estrogen or progesterone); or are taking tamoxifen or raloxifene are not eligible. Women who have taken these medications must have stopped for at least 4 months prior to study entry.  Topical estrogen (eg, transdermal patches and vaginal estrogens) is allowed.   Patients who are currently using hormonal contraception, should be taking it for at least 4 months prior to study entry. \n",
            "     -   Vitamin D Use  Patients who are taking regular vitamin D supplementation (above 400 IUs daily) and refuse or are unable to stop use are not eligible. Women who agree to stop will need to do so for at least 6 months prior to registration. \n",
            "     -   Patients may not start vitamin D supplementation after registration (regardless of results of vitamin D testing) but they may continue vitamin D if they are already taking 400 IUs daily or less and have been taking vitamin D for at least 6 months prior to baseline mammogram.  Patients with a history of breast cancer (including DCIS) or ovarian cancer are not eligible.   Patients with a history of breast implants or breast reduction are not eligible. \n",
            "     -   Patients with two or more bone fractures in the past five years are not eligible.  Patients with a diagnosis of osteoporosis with physician recommendation for treatment of low bone mass are not eligible.   Patients known to have hyperparathyroid disease or other serious disturbances of calcium metabolism requiring intervention in the past 5 years are not eligible.   Patients with a history of kidney stones (unless documented not to have been a calcium stone) are not eligible. \n",
            "     -   Patients participating in a concurrent breast cancer chemoprevention trial are not eligible.  Required initial laboratory values - Calcium < 10.5 mg/dL \n",
            "significant number of participants in secondary and primary suffered from enterocolitis\n",
            "     - Adverse Events 1:   Total: 20/167 (11.98%)   Cardiac failure acute 0/167 (0.00%)   Diarrhoea 5/167 (2.99%)   Colitis 2/167 (1.20%)   Enterocolitis 1/167 (0.60%)   Enterocolitis haemorrhagic 1/167 (0.60%)   Stomatitis 1/167 (0.60%)   Impaired healing 1/167 (0.60%) \n",
            "     -   Sudden death 1/167 (0.60%)  Postoperative wound infection 2/167 (1.20%)   Erysipelas 2/167 (1.20%)   Bacterial diarrhoea 1/167 (0.60%) Adverse Events 2:   Total: 4/167 (2.40%)   Cardiac failure acute 1/167 (0.60%)   Diarrhoea 0/167 (0.00%)   Colitis 0/167 (0.00%) \n",
            "     -   Enterocolitis 0/167 (0.00%)  Enterocolitis haemorrhagic 0/167 (0.00%)   Stomatitis 0/167 (0.00%)   Impaired healing 0/167 (0.00%)   Sudden death 0/167 (0.00%)   Postoperative wound infection 1/167 (0.60%)   Erysipelas 0/167 (0.00%)   Bacterial diarrhoea 0/167 (0.00%) Adverse Events 1: \n",
            "     -   Total: 112/458 (24.45%)  Febrile neutropenia 8/458 (1.75%)   Neutropenia 6/458 (1.31%)   Anaemia 3/458 (0.66%)   Thrombocytopenia 3/458 (0.66%)   Pancytopenia 2/458 (0.44%)   Myocardial infarction 0/458 (0.00%) \n",
            "     -   Pericardial effusion 0/458 (0.00%)  Tachycardia 0/458 (0.00%)   Acute myocardial infarction 1/458 (0.22%)   Atrial fibrillation 0/458 (0.00%) Adverse Events 2:   Total: 39/221 (17.65%)   Febrile neutropenia 5/221 (2.26%)   Neutropenia 1/221 (0.45%) \n",
            "     -   Anaemia 2/221 (0.90%)  Thrombocytopenia 0/221 (0.00%)   Pancytopenia 0/221 (0.00%)   Myocardial infarction 2/221 (0.90%)   Pericardial effusion 2/221 (0.90%)   Tachycardia 2/221 (0.90%)   Acute myocardial infarction 0/221 (0.00%)   Atrial fibrillation 1/221 (0.45%) \n"
          ]
        }
      ]
    },
    {
      "cell_type": "code",
      "source": [
        "validation_input = encode_data_to_tensors(TEST_HYPOTESIS, TEST_EVIDENCES, tokenizer, VECTOR_MAX)\n",
        "\n",
        "# check shape data \n",
        "print('DEBUG test shapes: ')\n",
        "print(validation_input['input_word_ids'].shape)\n",
        "print(validation_input['input_mask'].shape)\n",
        "print(validation_input['input_type_ids'].shape)"
      ],
      "metadata": {
        "id": "Ce3jGoSCeNut",
        "colab": {
          "base_uri": "https://localhost:8080/"
        },
        "outputId": "74477f09-66ec-44c0-e115-132dd90e7ced"
      },
      "execution_count": 50,
      "outputs": [
        {
          "output_type": "stream",
          "name": "stdout",
          "text": [
            "Dataset MAX (dim): \n",
            "129\n",
            "DEBUG test shapes: \n",
            "(733, 130)\n",
            "(733, 130)\n",
            "(733, 130)\n"
          ]
        }
      ]
    },
    {
      "cell_type": "code",
      "source": [
        "predictions = [np.argmax(i) for i in model.predict(validation_input)]\n",
        "# print([i for i in model.predict(test_input)])\n",
        "\n",
        "submission = pd.DataFrame()\n",
        "submission['UUID'] = TEST_UUID\n",
        "submission['prediction'] = predictions\n",
        "\n",
        "\n",
        "RESULTS_FILE_R = PREFIXG+\"/test-results-\"+stamp_time()+\".json\"\n",
        "RESULTS_FILE = PREFIXG+\"/test-submission-\"+stamp_time()+\".csv\"\n",
        "submission.to_csv(RESULTS_FILE, index = False)\n",
        "submission.head()"
      ],
      "metadata": {
        "id": "fmrLAyC_eaJ9",
        "colab": {
          "base_uri": "https://localhost:8080/",
          "height": 223
        },
        "outputId": "4f49d519-1add-4070-bcb0-dab4cc4d2405"
      },
      "execution_count": 51,
      "outputs": [
        {
          "output_type": "stream",
          "name": "stdout",
          "text": [
            "23/23 [==============================] - 0s 8ms/step\n"
          ]
        },
        {
          "output_type": "execute_result",
          "data": {
            "text/plain": [
              "                                   UUID  prediction\n",
              "0  1adc970c-d433-44d0-aa09-d3834986f7a2           1\n",
              "1  1adc970c-d433-44d0-aa09-d3834986f7a2           1\n",
              "2  6b9162d0-0816-46d4-81af-c60028dcc63b           1\n",
              "3  6b9162d0-0816-46d4-81af-c60028dcc63b           1\n",
              "4  6b9162d0-0816-46d4-81af-c60028dcc63b           1"
            ],
            "text/html": [
              "\n",
              "  <div id=\"df-74e675dd-eab3-4146-81d9-41e92ed40572\">\n",
              "    <div class=\"colab-df-container\">\n",
              "      <div>\n",
              "<style scoped>\n",
              "    .dataframe tbody tr th:only-of-type {\n",
              "        vertical-align: middle;\n",
              "    }\n",
              "\n",
              "    .dataframe tbody tr th {\n",
              "        vertical-align: top;\n",
              "    }\n",
              "\n",
              "    .dataframe thead th {\n",
              "        text-align: right;\n",
              "    }\n",
              "</style>\n",
              "<table border=\"1\" class=\"dataframe\">\n",
              "  <thead>\n",
              "    <tr style=\"text-align: right;\">\n",
              "      <th></th>\n",
              "      <th>UUID</th>\n",
              "      <th>prediction</th>\n",
              "    </tr>\n",
              "  </thead>\n",
              "  <tbody>\n",
              "    <tr>\n",
              "      <th>0</th>\n",
              "      <td>1adc970c-d433-44d0-aa09-d3834986f7a2</td>\n",
              "      <td>1</td>\n",
              "    </tr>\n",
              "    <tr>\n",
              "      <th>1</th>\n",
              "      <td>1adc970c-d433-44d0-aa09-d3834986f7a2</td>\n",
              "      <td>1</td>\n",
              "    </tr>\n",
              "    <tr>\n",
              "      <th>2</th>\n",
              "      <td>6b9162d0-0816-46d4-81af-c60028dcc63b</td>\n",
              "      <td>1</td>\n",
              "    </tr>\n",
              "    <tr>\n",
              "      <th>3</th>\n",
              "      <td>6b9162d0-0816-46d4-81af-c60028dcc63b</td>\n",
              "      <td>1</td>\n",
              "    </tr>\n",
              "    <tr>\n",
              "      <th>4</th>\n",
              "      <td>6b9162d0-0816-46d4-81af-c60028dcc63b</td>\n",
              "      <td>1</td>\n",
              "    </tr>\n",
              "  </tbody>\n",
              "</table>\n",
              "</div>\n",
              "      <button class=\"colab-df-convert\" onclick=\"convertToInteractive('df-74e675dd-eab3-4146-81d9-41e92ed40572')\"\n",
              "              title=\"Convert this dataframe to an interactive table.\"\n",
              "              style=\"display:none;\">\n",
              "        \n",
              "  <svg xmlns=\"http://www.w3.org/2000/svg\" height=\"24px\"viewBox=\"0 0 24 24\"\n",
              "       width=\"24px\">\n",
              "    <path d=\"M0 0h24v24H0V0z\" fill=\"none\"/>\n",
              "    <path d=\"M18.56 5.44l.94 2.06.94-2.06 2.06-.94-2.06-.94-.94-2.06-.94 2.06-2.06.94zm-11 1L8.5 8.5l.94-2.06 2.06-.94-2.06-.94L8.5 2.5l-.94 2.06-2.06.94zm10 10l.94 2.06.94-2.06 2.06-.94-2.06-.94-.94-2.06-.94 2.06-2.06.94z\"/><path d=\"M17.41 7.96l-1.37-1.37c-.4-.4-.92-.59-1.43-.59-.52 0-1.04.2-1.43.59L10.3 9.45l-7.72 7.72c-.78.78-.78 2.05 0 2.83L4 21.41c.39.39.9.59 1.41.59.51 0 1.02-.2 1.41-.59l7.78-7.78 2.81-2.81c.8-.78.8-2.07 0-2.86zM5.41 20L4 18.59l7.72-7.72 1.47 1.35L5.41 20z\"/>\n",
              "  </svg>\n",
              "      </button>\n",
              "      \n",
              "  <style>\n",
              "    .colab-df-container {\n",
              "      display:flex;\n",
              "      flex-wrap:wrap;\n",
              "      gap: 12px;\n",
              "    }\n",
              "\n",
              "    .colab-df-convert {\n",
              "      background-color: #E8F0FE;\n",
              "      border: none;\n",
              "      border-radius: 50%;\n",
              "      cursor: pointer;\n",
              "      display: none;\n",
              "      fill: #1967D2;\n",
              "      height: 32px;\n",
              "      padding: 0 0 0 0;\n",
              "      width: 32px;\n",
              "    }\n",
              "\n",
              "    .colab-df-convert:hover {\n",
              "      background-color: #E2EBFA;\n",
              "      box-shadow: 0px 1px 2px rgba(60, 64, 67, 0.3), 0px 1px 3px 1px rgba(60, 64, 67, 0.15);\n",
              "      fill: #174EA6;\n",
              "    }\n",
              "\n",
              "    [theme=dark] .colab-df-convert {\n",
              "      background-color: #3B4455;\n",
              "      fill: #D2E3FC;\n",
              "    }\n",
              "\n",
              "    [theme=dark] .colab-df-convert:hover {\n",
              "      background-color: #434B5C;\n",
              "      box-shadow: 0px 1px 3px 1px rgba(0, 0, 0, 0.15);\n",
              "      filter: drop-shadow(0px 1px 2px rgba(0, 0, 0, 0.3));\n",
              "      fill: #FFFFFF;\n",
              "    }\n",
              "  </style>\n",
              "\n",
              "      <script>\n",
              "        const buttonEl =\n",
              "          document.querySelector('#df-74e675dd-eab3-4146-81d9-41e92ed40572 button.colab-df-convert');\n",
              "        buttonEl.style.display =\n",
              "          google.colab.kernel.accessAllowed ? 'block' : 'none';\n",
              "\n",
              "        async function convertToInteractive(key) {\n",
              "          const element = document.querySelector('#df-74e675dd-eab3-4146-81d9-41e92ed40572');\n",
              "          const dataTable =\n",
              "            await google.colab.kernel.invokeFunction('convertToInteractive',\n",
              "                                                     [key], {});\n",
              "          if (!dataTable) return;\n",
              "\n",
              "          const docLinkHtml = 'Like what you see? Visit the ' +\n",
              "            '<a target=\"_blank\" href=https://colab.research.google.com/notebooks/data_table.ipynb>data table notebook</a>'\n",
              "            + ' to learn more about interactive tables.';\n",
              "          element.innerHTML = '';\n",
              "          dataTable['output_type'] = 'display_data';\n",
              "          await google.colab.output.renderOutput(dataTable, element);\n",
              "          const docLink = document.createElement('div');\n",
              "          docLink.innerHTML = docLinkHtml;\n",
              "          element.appendChild(docLink);\n",
              "        }\n",
              "      </script>\n",
              "    </div>\n",
              "  </div>\n",
              "  "
            ]
          },
          "metadata": {},
          "execution_count": 51
        }
      ]
    },
    {
      "cell_type": "markdown",
      "source": [
        "# Postprocessing"
      ],
      "metadata": {
        "id": "sa4B4jsZ42WN"
      }
    },
    {
      "cell_type": "markdown",
      "source": [
        "Conversion from json to csv of training, test and dev files. "
      ],
      "metadata": {
        "id": "v5b4LCmWjczl"
      }
    },
    {
      "cell_type": "code",
      "source": [
        "import json\n",
        "import pandas as pd\n",
        "\n",
        "\n",
        "\"\"\"\n",
        "type = train | dev\n",
        "\"\"\"\n",
        "def preprocessing(JSONPATH, type, PREFIX):\n",
        "\n",
        "    with open(JSONPATH) as json_file:\n",
        "        data = json.load(json_file)\n",
        "\n",
        "    columns = ['Type', 'Section_id', 'Primary_id', 'Secondary_id', 'Statement', 'Label', ] #  'Primary_evidence_index', 'Secondary_evidence_index',\n",
        "\n",
        "    ids = []\n",
        "    types = []\n",
        "    sectionId = []\n",
        "    primaryId = []\n",
        "    secondaryId = []\n",
        "    statement = []\n",
        "    label = []\n",
        "    PEI = []\n",
        "    SEI = []\n",
        "    for entry in data:\n",
        "        ids.append(entry)\n",
        "        types.append(data[entry]['Type'])\n",
        "        sectionId.append(data[entry]['Section_id'])\n",
        "        primaryId.append(data[entry]['Primary_id'])\n",
        "        if not (data[entry].get('Secondary_id') is None):\n",
        "            secondaryId.append(data[entry]['Secondary_id'])\n",
        "        else:\n",
        "            secondaryId.append(None)\n",
        "        statement.append(data[entry]['Statement'])\n",
        "        label.append(data[entry]['Label'])\n",
        "        PEI.append(','.join(str(x) for x in data[entry]['Primary_evidence_index']))\n",
        "        if not (data[entry].get('Secondary_evidence_index') is None):\n",
        "            SEI.append(','.join(str(x) for x in data[entry]['Secondary_evidence_index']))\n",
        "        else:\n",
        "            SEI.append(','.join(str(x) for x in []))\n",
        "\n",
        "    df = pd.DataFrame()\n",
        "    df['Id'] = ids\n",
        "    df['Type'] = types\n",
        "    df['Section_id'] = sectionId\n",
        "    df['Primary_id'] = primaryId\n",
        "    df['Secondary_id'] = secondaryId\n",
        "    df['Statement'] = statement\n",
        "    df['Label'] = label\n",
        "    df['Primary_evidence_index'] = PEI\n",
        "    df['Secondary_evidence_index'] = SEI\n",
        "\n",
        "    #print(df.head(20))\n",
        "\n",
        "    compression_opts = dict(method='zip', archive_name='out.csv') \n",
        "    # df.to_csv('out.zip', index=False, compression=compression_opts) \n",
        "    df.to_csv(PREFIX+type+'.csv', index=False) \n",
        "\n",
        "\n",
        "\n",
        "\n",
        "# preprocessing(\"/content/dev.json\", \"dev\", \"\")"
      ],
      "metadata": {
        "id": "kUDkwVv744y9"
      },
      "execution_count": 52,
      "outputs": []
    },
    {
      "cell_type": "markdown",
      "source": [
        "## Metrics (F1 score) script"
      ],
      "metadata": {
        "id": "Ju1rgtB8jJq8"
      }
    },
    {
      "cell_type": "code",
      "source": [
        "!pip install sklearn\n",
        "from sklearn.feature_extraction.text import TfidfVectorizer\n",
        "from sklearn.metrics.pairwise import cosine_distances\n",
        "import numpy\n",
        "from sklearn.metrics import f1_score,precision_score,recall_score"
      ],
      "metadata": {
        "id": "o-xbRn8lpgzl",
        "colab": {
          "base_uri": "https://localhost:8080/"
        },
        "outputId": "2ce1f69f-e94d-47a7-8e08-0ae338d69cf0"
      },
      "execution_count": 40,
      "outputs": [
        {
          "output_type": "stream",
          "name": "stdout",
          "text": [
            "Looking in indexes: https://pypi.org/simple, https://us-python.pkg.dev/colab-wheels/public/simple/\n",
            "Requirement already satisfied: sklearn in /usr/local/lib/python3.8/dist-packages (0.0.post1)\n"
          ]
        }
      ]
    },
    {
      "cell_type": "code",
      "source": [
        "import json\n",
        "import pandas as pd\n",
        "from functools import reduce \n",
        "\n",
        "\n",
        "dev_path = PREFIXG+\"dev.json\"\n",
        "with open(dev_path) as json_file:\n",
        "    dev = json.load(json_file)\n",
        "\n",
        "\n",
        "def postProcessing(file):\n",
        "    results2 = {}\n",
        "    results = {}\n",
        "    CT_index = 0\n",
        "    try:\n",
        "        STM = pd.read_csv(file)\n",
        "        # print(STM.head(5))\n",
        "        for id in STM['UUID']:\n",
        "            prediction = STM['prediction'][CT_index]\n",
        "            # print(prediction)\n",
        "            CT_index = CT_index + 1\n",
        "            if id in results:\n",
        "              results[id] = results[id] + \",\" +str(prediction)\n",
        "            else:\n",
        "              results[id] = str(prediction)\n",
        "    except Exception as err:\n",
        "        print('\\n! Error for file')\n",
        "        print(err)\n",
        "\n",
        "    for o in results:\n",
        "        # print(len(results[o]))\n",
        "        value = {}\n",
        "        if(len(results[o])>1):\n",
        "          nums = results[o].split(',')\n",
        "          preds = list(map(lambda n: int(n), nums))\n",
        "          # print(preds)\n",
        "          lst_len= len(preds)\n",
        "          lst_avg = reduce(lambda x, y: x + y, preds)/lst_len\n",
        "          if (lst_avg >= 0.5):\n",
        "            value['Prediction'] = 'Entailment'\n",
        "          else:\n",
        "            value['Prediction'] = 'Contradiction'\n",
        "        else:\n",
        "          value['Prediction'] = 'Entailment' if int(results[o]) == 1 else 'Contradiction'\n",
        "        results2[o] = value\n",
        "    return results2\n",
        "\n",
        "\n",
        "w = postProcessing(RESULTS_FILE)\n",
        "\n",
        "\n",
        "def run_score_script(Results):\n",
        "    gold = dev\n",
        "    results = Results  \n",
        "    uuid_list = list(results.keys())\n",
        "\n",
        "    results_pred = []\n",
        "    gold_labels = []\n",
        "    for i in range(len(uuid_list)):\n",
        "        if results[uuid_list[i]][\"Prediction\"] == \"Entailment\":\n",
        "            results_pred.append(1)\n",
        "        else:\n",
        "            results_pred.append(0)\n",
        "        if gold[uuid_list[i]][\"Label\"] == \"Entailment\":\n",
        "            gold_labels.append(1)\n",
        "        else:\n",
        "            gold_labels.append(0)\n",
        "\n",
        "    f_score = f1_score(gold_labels,results_pred)\n",
        "    p_score = precision_score(gold_labels,results_pred)\n",
        "    r_score = recall_score(gold_labels,results_pred)\n",
        "\n",
        "    print('F1:{:f}'.format(f_score))\n",
        "    print('precision_score:{:f}'.format(p_score))\n",
        "    print('recall_score:{:f}'.format(r_score))\n"
      ],
      "metadata": {
        "id": "7NdJZPHXj9jh"
      },
      "execution_count": 41,
      "outputs": []
    },
    {
      "cell_type": "code",
      "source": [
        "print(w)"
      ],
      "metadata": {
        "colab": {
          "base_uri": "https://localhost:8080/"
        },
        "id": "YmKAG7f4Eqmk",
        "outputId": "dbeb7d88-43da-4fb7-fed2-10a5a766782f"
      },
      "execution_count": 42,
      "outputs": [
        {
          "output_type": "stream",
          "name": "stdout",
          "text": [
            "{'1adc970c-d433-44d0-aa09-d3834986f7a2': {'Prediction': 'Entailment'}, '6b9162d0-0816-46d4-81af-c60028dcc63b': {'Prediction': 'Entailment'}, '0b6cc8e3-69ee-4a91-b93d-2ad3fddce65f': {'Prediction': 'Entailment'}, 'cc1f712a-2116-4e40-9810-f315e3fa5ff8': {'Prediction': 'Entailment'}, '904061c0-14fa-4f13-9118-9a41e24fa8eb': {'Prediction': 'Entailment'}, '43ee7645-ce1e-42d5-9a74-3e379f6f367b': {'Prediction': 'Entailment'}, '0cef8c8e-7986-46c7-a597-c5733a9899c0': {'Prediction': 'Entailment'}, '43ce26e5-03fa-4e9d-b0eb-6ea356295753': {'Prediction': 'Entailment'}, '3facad41-0221-42f8-834d-470e65c4aad5': {'Prediction': 'Entailment'}, '9cbc00e9-3a2d-4471-a93e-72c95132fb6a': {'Prediction': 'Entailment'}, '8b91cab9-d858-45f3-bf8d-3d6fc55b4818': {'Prediction': 'Entailment'}, '4a75574c-fa86-4e62-a210-81c7b98a3807': {'Prediction': 'Entailment'}, 'd0b50aeb-aad8-4a8d-aae6-5c58a7d382c7': {'Prediction': 'Entailment'}, 'b0b61978-57db-4a1c-812c-509e8b05f2dc': {'Prediction': 'Entailment'}, '24b85b44-b9e6-4c28-b3aa-1bd97102b7f1': {'Prediction': 'Entailment'}, 'fbb62216-2cf2-4813-ad41-12a86940610f': {'Prediction': 'Entailment'}, '961a956e-fece-4baa-a2ad-d3a5320bd9d2': {'Prediction': 'Entailment'}, '97fd111c-6969-43ab-93af-b3dff09960e5': {'Prediction': 'Entailment'}, 'eb1bfb08-eba0-4130-b328-00f56c0f84a6': {'Prediction': 'Entailment'}, 'b1219e71-fbf5-4bba-8a93-a27ae444e3e1': {'Prediction': 'Entailment'}, 'f10f3b84-e039-4a02-a98b-86d149d9a16f': {'Prediction': 'Entailment'}, '0ddb07ae-6e70-436d-8723-f609e59c57da': {'Prediction': 'Entailment'}, 'c10eea1a-5768-442d-ae07-20b4f8f4b583': {'Prediction': 'Entailment'}, '2ef186d0-b4ab-44de-b785-a63e9e95851a': {'Prediction': 'Entailment'}, 'fef5aedb-21c0-4130-b8a3-cb1df5017c7a': {'Prediction': 'Entailment'}, '2655c892-216e-4b96-a8f2-6f64403215c5': {'Prediction': 'Entailment'}, '2825d63b-8f22-4fb8-829f-9567845251c6': {'Prediction': 'Entailment'}, '6b35bc10-f591-4b84-abac-40a74be949fa': {'Prediction': 'Entailment'}, 'a5baab2c-9c32-4301-a574-4ba5a0c2eb00': {'Prediction': 'Entailment'}, '70677d5f-7022-404c-8410-d1f89366d92f': {'Prediction': 'Entailment'}, 'f46a7d27-a94f-4389-a1a0-4a8f5177b354': {'Prediction': 'Entailment'}, 'fe876bb0-7ce3-4197-81ad-920f1f77938e': {'Prediction': 'Entailment'}, 'f45ff82d-e0f5-456a-9d78-ddc2dc6ab929': {'Prediction': 'Entailment'}, '4f705481-5dd0-414c-b375-c56e8c235b42': {'Prediction': 'Entailment'}, '614d7ade-0fa7-4d77-bc19-1d3a2f2f48c2': {'Prediction': 'Entailment'}, 'c09fa61c-967a-40ae-96b0-c87b7cde237b': {'Prediction': 'Entailment'}, '4309860d-042d-45a4-8a0a-a9fdd075247a': {'Prediction': 'Entailment'}, 'f2275929-7cfe-4bb1-a9f6-6bd0c4d5bf85': {'Prediction': 'Entailment'}, '59cd7909-00c3-4c23-9a08-a42dbc8eabdd': {'Prediction': 'Entailment'}, 'e6a4e9a6-56b8-4a30-9743-eb02688c090f': {'Prediction': 'Entailment'}, '82a3e542-f784-44d7-90f6-34d7e969283c': {'Prediction': 'Entailment'}, 'fb360514-14be-45ab-8b74-ea5a7eb181d7': {'Prediction': 'Entailment'}, '7137dec6-5c98-4156-8035-7bbaaf0b649d': {'Prediction': 'Entailment'}, '015dd869-db90-45a9-a951-9dc7dc2b2e01': {'Prediction': 'Entailment'}, '3a4003f6-ff1c-43d8-be48-f767266b2cf5': {'Prediction': 'Entailment'}, '47ba01d6-edc7-4acb-ab49-b0e86f4eeaf7': {'Prediction': 'Entailment'}, 'f3cb9150-32c6-4877-9a87-4fac45a24948': {'Prediction': 'Entailment'}, '9d8b26d6-d574-4717-88b6-77458bc683f3': {'Prediction': 'Entailment'}, '51be7c95-8da4-419c-950c-91ebdd2c3fe5': {'Prediction': 'Entailment'}, '07042b0f-d422-49c3-8d53-81319927a4b3': {'Prediction': 'Entailment'}, '32361e21-ee57-4c34-9390-833ba5048a10': {'Prediction': 'Entailment'}, '88668508-dfd4-4a39-91cd-cf1654a6dfc4': {'Prediction': 'Entailment'}, 'dca4c9f7-bb2a-4f73-b390-93b7ced87c73': {'Prediction': 'Entailment'}, 'e7604382-09cd-43b4-998f-a51b33f25c5a': {'Prediction': 'Entailment'}, '75affd49-4905-4d43-9a5c-ef795281bac4': {'Prediction': 'Entailment'}, '2e76c74a-b6dd-47d8-a674-c1e80b0a3a65': {'Prediction': 'Entailment'}, '8c6314f7-34f5-42a7-ba66-b95d050a6315': {'Prediction': 'Entailment'}, 'f114846e-79d8-4712-add0-bb34b65d418f': {'Prediction': 'Entailment'}, '812bd63c-4bfb-49cb-8fa9-baa3f8f6dabe': {'Prediction': 'Entailment'}, 'b1d28450-fc7d-496a-9c7c-bf711b28f8e4': {'Prediction': 'Entailment'}, 'c7dc582a-4a58-4cb5-b980-b2d2b6a128c3': {'Prediction': 'Entailment'}, 'a805f174-2707-4302-a195-05153ea8523e': {'Prediction': 'Entailment'}, 'e4aeb013-7713-4b73-acbd-f8379cc6a494': {'Prediction': 'Entailment'}, 'b8eaa8fd-61cf-4ca9-aaec-267d61c1fae3': {'Prediction': 'Entailment'}, '2729a321-709b-4392-9604-dd7237bedb17': {'Prediction': 'Entailment'}, '8e9611fc-89f8-44cb-af09-8d71a13ca082': {'Prediction': 'Entailment'}, 'b9491012-49ba-4eb1-8230-1966f54ea012': {'Prediction': 'Entailment'}, '62e449ad-16b3-479d-94a5-ffc435b5e99c': {'Prediction': 'Entailment'}, '565d7982-aa9a-4c01-987c-1d67bc9c212d': {'Prediction': 'Entailment'}, '7271e0db-bb82-423f-ad95-5ffa84fab97e': {'Prediction': 'Entailment'}, '6402e13a-7cfb-4774-b7f9-80ecb79fda2a': {'Prediction': 'Entailment'}, '734423d5-4b47-4448-ab98-811015d626f0': {'Prediction': 'Entailment'}, 'e9fd065c-342c-4dfb-9c1c-a4c0c44d0acd': {'Prediction': 'Entailment'}, '32ed503c-1cfd-44f6-b8bb-23d9d175d73d': {'Prediction': 'Entailment'}, '175044aa-72b1-405d-8506-30002f5098e4': {'Prediction': 'Entailment'}, '045ad91e-44fa-42cc-ac22-a7aab26a9009': {'Prediction': 'Entailment'}, '00822101-fa21-4a26-bf45-3b1f535da005': {'Prediction': 'Entailment'}, '06f798d1-2956-4903-83e9-58a41fa425f7': {'Prediction': 'Entailment'}, '8648c7df-582a-42a9-9330-414b2430ac56': {'Prediction': 'Entailment'}, '89f610a7-9e81-43a4-8c1e-5503233b2be1': {'Prediction': 'Entailment'}, 'b0046821-ba27-4a90-8869-cb708b843aa4': {'Prediction': 'Entailment'}, 'd1b217ae-76f3-4ba6-958e-5b2558703ba4': {'Prediction': 'Entailment'}, '8ddf8b88-6e06-4c71-9e28-45f73a637af0': {'Prediction': 'Entailment'}, '0ea29bd5-20be-40ea-8ad7-705d283d1d48': {'Prediction': 'Entailment'}, 'e147796d-2edd-42d1-ac53-300fb8bd5eb6': {'Prediction': 'Entailment'}, '6b33b4ae-36f2-4a53-a954-6f246f6e023d': {'Prediction': 'Entailment'}, '06fad978-1dc3-46f5-b45f-5ac6577f28b9': {'Prediction': 'Entailment'}, '878c09e7-3fd9-404e-921e-5b549e9578fb': {'Prediction': 'Entailment'}, '3a0c517d-9b9a-4497-9675-50ff12cd02b7': {'Prediction': 'Entailment'}, '9abb10d7-496e-44fd-915d-d86aedf6c9b6': {'Prediction': 'Entailment'}, '8460a212-8054-4bd2-b4e6-af1d137a2f79': {'Prediction': 'Entailment'}, 'a3390ae6-d41d-4dc7-899e-de9534adfd6b': {'Prediction': 'Entailment'}, '17bbea92-8f92-41f3-9b9d-cf6e62cf6798': {'Prediction': 'Entailment'}, '794269ca-e7ec-4a65-ace5-b0f24a8cdc15': {'Prediction': 'Entailment'}, '4dfff980-6a2b-4f01-9194-6ec831d6fed7': {'Prediction': 'Entailment'}, 'dc4c57b0-8c75-494e-81b0-3528df85ebff': {'Prediction': 'Entailment'}, '8d9f94e3-871b-4fb4-a522-0a73d9d0ec3c': {'Prediction': 'Entailment'}, '251a20d8-2555-4929-9d01-c02311bdc93f': {'Prediction': 'Entailment'}, 'dd2f3c3d-fa95-4fca-a3f0-795fd4f3abf1': {'Prediction': 'Entailment'}, 'f0273b8c-460d-46fe-9c52-8ff4b08e439b': {'Prediction': 'Entailment'}, 'bc2024fc-5b39-4fa6-badf-f034d6fe8bb8': {'Prediction': 'Entailment'}, 'c2217d42-e90c-4ffe-b084-e653b9ace4d5': {'Prediction': 'Entailment'}, '080da381-b5dd-46d3-99c4-18112da153c1': {'Prediction': 'Entailment'}, 'c100a7cd-e3a2-4901-a3e0-12336f769c7b': {'Prediction': 'Entailment'}, 'ec1e269e-470d-43d9-8f23-8a19a5c96fcc': {'Prediction': 'Entailment'}, '21611c2a-e6eb-4012-a209-9b6781e1f260': {'Prediction': 'Entailment'}, 'd1b7105d-0b7d-4b10-92a7-d63243ff0629': {'Prediction': 'Entailment'}, '7f3fe97e-68ee-470f-b06e-21cdddb67aa8': {'Prediction': 'Entailment'}, 'ce8464bd-951e-44aa-97d9-10b917b055ce': {'Prediction': 'Entailment'}, '0131ebe3-746b-45a5-ba60-fdd326974fec': {'Prediction': 'Entailment'}, 'b1dd7632-ed92-40a9-9293-bce68619c658': {'Prediction': 'Entailment'}, '45ccd2c8-6e02-4f0f-a370-eed18d26e6dc': {'Prediction': 'Entailment'}, '4a15ec5e-4904-4f01-a0a2-c51e83c8c070': {'Prediction': 'Entailment'}, 'b9e29ea8-6847-40d4-b5c3-81c496101695': {'Prediction': 'Contradiction'}, '2a2c16a7-f427-4fdb-8153-94aac304e4b8': {'Prediction': 'Entailment'}, '618a3ae1-b22c-4c35-86a6-190c1b5b5d21': {'Prediction': 'Entailment'}, 'e62f5a3f-0091-4980-9822-db8f4dc2502a': {'Prediction': 'Entailment'}, '4a41ac73-538a-43e5-b7ce-8c8e2d56286e': {'Prediction': 'Entailment'}, '75a65913-5655-4377-b441-ecdd4dd75175': {'Prediction': 'Entailment'}, '1329dec6-fb2c-4219-9db6-3fef9d94b316': {'Prediction': 'Entailment'}, '29b2fa29-5a76-4877-95bb-1a8de7973d33': {'Prediction': 'Entailment'}, '7edba90d-076d-4f55-b9d6-a1765ceb48bd': {'Prediction': 'Entailment'}, 'ba9daeb9-796d-49ab-a30c-4d8acbdf4d37': {'Prediction': 'Entailment'}, '1314146f-2869-4525-8034-7f732d238385': {'Prediction': 'Entailment'}, '7c7418d2-32d7-4517-874b-eb3db24ea16a': {'Prediction': 'Entailment'}, '1f6a14ae-e22b-4b40-b389-217570dbf38e': {'Prediction': 'Entailment'}, '5c1e360c-fd93-4dd4-b855-71ba416d34cb': {'Prediction': 'Entailment'}, 'c7a953b0-ac96-4e0a-9c1d-98cf8af2861d': {'Prediction': 'Entailment'}, '48f516ff-abb4-4312-9b00-02f53fb16218': {'Prediction': 'Entailment'}, '978d19fc-e7f6-485e-b8bd-cfcde06441ab': {'Prediction': 'Entailment'}, '0a6d1b4c-244e-44e2-a229-62e4cbdfa979': {'Prediction': 'Entailment'}, '9bcc31df-c1f6-4785-9235-f673213acf3a': {'Prediction': 'Entailment'}, '63a0a9fc-80b9-450f-b2c6-7aee37ce26a9': {'Prediction': 'Entailment'}, '75cf4ec2-9f2b-4d5b-8772-af247eaca07b': {'Prediction': 'Entailment'}, '553f00ea-5197-4233-b1e0-e5727856b599': {'Prediction': 'Entailment'}, '57b2ae97-0d1d-4d5d-bc4b-109e8e5acb32': {'Prediction': 'Entailment'}, '215a5c4a-d90c-4500-8284-0679ce311734': {'Prediction': 'Entailment'}, 'e9a4bd91-f58b-4234-9037-75e0699d1bbd': {'Prediction': 'Entailment'}, '7d52734c-0801-413d-9ae2-d190b972cde5': {'Prediction': 'Entailment'}, '5de9caeb-9dd5-4535-8fe3-289450d9c626': {'Prediction': 'Entailment'}, 'bebfc78e-b35f-4677-8342-9567a7e795a1': {'Prediction': 'Entailment'}, 'faa65e54-aa04-4595-8dae-05cf00b4c887': {'Prediction': 'Entailment'}, '751fd763-89fa-4d52-8bda-f09b490a5e78': {'Prediction': 'Entailment'}, 'c40fdf91-9f81-454a-bba9-ec5c950cef6e': {'Prediction': 'Entailment'}, '31105b43-832b-48bc-a78d-ee90c155ca44': {'Prediction': 'Entailment'}, '49ba06b2-576d-4db2-80b6-51673416f2ba': {'Prediction': 'Entailment'}, '3cb71095-8e01-40dc-bbf5-eeffed55f354': {'Prediction': 'Entailment'}, '09fc4356-6154-427e-b710-ed5df6470aff': {'Prediction': 'Contradiction'}, '446f3c69-0de5-475c-a8e2-ff40ece90672': {'Prediction': 'Entailment'}, 'cdadcb0a-20c5-47f7-a63a-39f5c6f26ae2': {'Prediction': 'Entailment'}, 'f0e845f9-8991-45b5-a520-51e934756f7a': {'Prediction': 'Entailment'}, 'a0065d58-e03b-4dd0-9c81-cbbf651a6d45': {'Prediction': 'Entailment'}, 'b2cdbcb8-de26-4a44-8a94-dd68c13f7e41': {'Prediction': 'Entailment'}, '973f090a-8967-4d75-bb8e-6166c868337c': {'Prediction': 'Entailment'}, '79ca2ee8-6c9c-40e6-a87c-925b50d3d3d2': {'Prediction': 'Entailment'}, '1d1f57f8-85f7-448c-a4bb-15957da568fd': {'Prediction': 'Entailment'}, '9f7d476e-9db3-4c00-abe6-4c2f0160470a': {'Prediction': 'Entailment'}, 'a5e388b9-da3c-437e-a6af-7ba76ad8bf1d': {'Prediction': 'Entailment'}, '3adcc8fc-b76b-407a-a006-729a13f571fb': {'Prediction': 'Entailment'}, '68379456-775b-463b-bfdb-d8aa42c9124b': {'Prediction': 'Entailment'}, '5d0ccb93-71ec-4079-92c6-d7cbf951a7bb': {'Prediction': 'Entailment'}, 'f04d9695-81b8-4d70-877b-59caddf901bd': {'Prediction': 'Entailment'}, 'f42e1874-343a-43ed-bb0c-884509c4793c': {'Prediction': 'Entailment'}, '30483d7e-7703-459c-bd10-e2bd259c2a4f': {'Prediction': 'Entailment'}, '7cde9a22-a91f-4feb-892d-7cbd35f96a27': {'Prediction': 'Entailment'}, '16c29502-4683-4087-9410-ff1b786556f5': {'Prediction': 'Entailment'}, '5c975af8-6b7f-4a5d-b4a6-257c76763ce9': {'Prediction': 'Entailment'}, '1c4e3fe3-b5fe-4ea3-8d9e-0ce1502080e7': {'Prediction': 'Entailment'}, '8e91e404-086e-4063-8d54-83d1b8ebd969': {'Prediction': 'Entailment'}, 'b8322b23-a4f6-4cba-9761-be826b509de7': {'Prediction': 'Entailment'}, '4519d1cf-7f78-4aa8-85d6-ac94f7eb75a3': {'Prediction': 'Entailment'}, '4b97a844-8d52-48bb-8eda-ca205268f016': {'Prediction': 'Entailment'}, '2a03c17f-3afe-40f1-a0db-4b876ee8c700': {'Prediction': 'Entailment'}, '3ba42f68-a643-4d10-afd0-cbb358d05a6f': {'Prediction': 'Entailment'}, '0a079cca-abde-42cf-9cec-a76e7a380e14': {'Prediction': 'Contradiction'}, '9c033072-5f94-4d79-af47-126d531f0d6e': {'Prediction': 'Entailment'}, 'a52b2d4f-0b06-4960-a9c3-88cb92df0980': {'Prediction': 'Entailment'}, 'a792bbac-0e8a-4bf7-9cc5-56fad481e2fb': {'Prediction': 'Entailment'}, '1842904b-5371-49ee-b6f4-8831b879098b': {'Prediction': 'Entailment'}, '324562e6-2b61-4a07-b937-86f99689f2d5': {'Prediction': 'Entailment'}, '74e376d7-5713-43f3-93f1-9608059c9547': {'Prediction': 'Entailment'}, '0e609fad-9a28-4fb6-90b6-32a731e3b02c': {'Prediction': 'Entailment'}, '236780db-9e59-4dc9-8da0-e786287011cf': {'Prediction': 'Entailment'}, '6d621974-c719-46df-8a50-d94e49583e33': {'Prediction': 'Entailment'}, 'a9907a2e-254a-45ca-af50-3e44fd2f7af3': {'Prediction': 'Entailment'}, '40f699a1-fbc6-40de-8e80-85b28f71632f': {'Prediction': 'Entailment'}, '6499b181-7a23-4073-8459-ad46ff02b20f': {'Prediction': 'Entailment'}, '2da13cd4-7189-4f85-be4d-5c1e213ae293': {'Prediction': 'Entailment'}, 'a9bb6de9-c6f8-4c99-81cd-f101cbaab387': {'Prediction': 'Entailment'}, '7e5fd062-6ec3-480f-ab0e-e117eba2ffe7': {'Prediction': 'Entailment'}, '016943fa-57ea-4293-8131-03292ea1836c': {'Prediction': 'Entailment'}, '402f0dbf-cf67-4425-b300-a0a3df4d59d3': {'Prediction': 'Entailment'}, '62be4676-099f-4c42-8029-773af8fde6f7': {'Prediction': 'Entailment'}, '1180dd58-61b8-4c48-ab00-7d458e68c85b': {'Prediction': 'Entailment'}, '566bdc2d-7c4a-4547-87da-ac81447ecca8': {'Prediction': 'Contradiction'}, 'd310ec4e-993e-4827-8dc5-9aca053972db': {'Prediction': 'Entailment'}, 'a5617ae4-05a3-42d0-9e14-141de5f8c010': {'Prediction': 'Entailment'}, '42d1fcd3-8faa-4065-bbba-42cc90ab67fb': {'Prediction': 'Entailment'}, 'd01fda83-5dc8-4ad5-92b8-7553dabd7046': {'Prediction': 'Entailment'}, '985bc5a0-bc21-447f-92f1-150e23ede3f5': {'Prediction': 'Entailment'}}\n"
          ]
        }
      ]
    },
    {
      "cell_type": "markdown",
      "source": [
        "Run score script and write results in correct format"
      ],
      "metadata": {
        "id": "Jt3CfgTjkQVJ"
      }
    },
    {
      "cell_type": "code",
      "source": [
        "run_score_script(w)\n",
        "\n",
        "with open(RESULTS_FILE_R, 'w') as convert_file:\n",
        "  convert_file.write(json.dumps(w))"
      ],
      "metadata": {
        "id": "lBoNN4eekQuw",
        "colab": {
          "base_uri": "https://localhost:8080/"
        },
        "outputId": "8c19f038-9c6b-4327-c5d5-2d14c708774d"
      },
      "execution_count": 43,
      "outputs": [
        {
          "output_type": "stream",
          "name": "stdout",
          "text": [
            "F1:0.668919\n",
            "precision_score:0.505102\n",
            "recall_score:0.990000\n"
          ]
        }
      ]
    }
  ]
}